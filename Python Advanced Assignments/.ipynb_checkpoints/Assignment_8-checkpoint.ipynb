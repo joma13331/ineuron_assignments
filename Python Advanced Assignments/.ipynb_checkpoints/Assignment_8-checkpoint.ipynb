{
 "cells": [
  {
   "cell_type": "markdown",
   "id": "2792efef",
   "metadata": {},
   "source": [
    "**Q1. What are the two latest user-defined exception constraints in Python 3.X?**\n",
    "\n",
    "SOLUTION:\n",
    "\n",
    "* In 3.X, exceptions must be defined by classes (that is, a class instance object is raised and caught). \n",
    "* In addition, exception classes must be derived from the builtin class BaseException; most programs inherit from its Exception subclass, to support catchall handlers for normal kinds of exceptions."
   ]
  },
  {
   "cell_type": "markdown",
   "id": "31e923c0",
   "metadata": {},
   "source": [
    "**Q2. How are class-based exceptions that have been raised matched to handlers?**\n",
    "\n",
    "SOLUTION:\n",
    "\n",
    "* Class-based exceptions match by superclass relationships: naming a superclass in an exception handler will catch instances of that class, as well as instances of any of its subclasses lower in the class tree. \n",
    "* Because of this, you can think of superclasses as general exception categories and subclasses as more specific types of exceptions within those categories."
   ]
  },
  {
   "cell_type": "markdown",
   "id": "2892918a",
   "metadata": {},
   "source": [
    "**Q3. Describe two methods for attaching context information to exception artefacts.**\n",
    "\n",
    "SOLUTION:\n",
    "\n",
    "* You can attach context information to class-based exceptions by filling out instance attributes in the instance object raised, usually in a custom class constructor. \n",
    "* For simpler needs, built-in exception superclasses provide a constructor that stores its arguments on the instance automatically (as a tuple in the attribute args). \n",
    "* In exception handlers, you list a variable to be assigned to the raised instance, then go through this name to access attached state information and call any methods defined in the class."
   ]
  },
  {
   "cell_type": "markdown",
   "id": "2cfb3274",
   "metadata": {},
   "source": [
    "**Q4. Describe two methods for specifying the text of an exception object's error message.**\n",
    "\n",
    "SOLUTION:\n",
    "\n",
    "* The error message text in class-based exceptions can be specified with a custom \\__str__ operator overloading method. \n",
    "* For simpler needs, built-in exception superclasses automatically display anything you pass to the class constructor. \n",
    "    * Operations like print and str automatically fetch the display string of an exception object when it is printed either explicitly or as part of an error message."
   ]
  },
  {
   "cell_type": "markdown",
   "id": "679319b2",
   "metadata": {},
   "source": [
    "**Q5. Why do you no longer use string-based exceptions?**\n",
    "\n",
    "SOLUTION:\n",
    "\n",
    "* String-based exceptions did not support categories, state information, or behavior inheritance in the way class-based exceptions do. \n",
    "* In practice, this made string-based exceptions easier to use at first when programs were small, but more complex to use as programs grew larger."
   ]
  }
 ],
 "metadata": {
  "kernelspec": {
   "display_name": "Python 3 (ipykernel)",
   "language": "python",
   "name": "python3"
  },
  "language_info": {
   "codemirror_mode": {
    "name": "ipython",
    "version": 3
   },
   "file_extension": ".py",
   "mimetype": "text/x-python",
   "name": "python",
   "nbconvert_exporter": "python",
   "pygments_lexer": "ipython3",
   "version": "3.9.0"
  }
 },
 "nbformat": 4,
 "nbformat_minor": 5
}
