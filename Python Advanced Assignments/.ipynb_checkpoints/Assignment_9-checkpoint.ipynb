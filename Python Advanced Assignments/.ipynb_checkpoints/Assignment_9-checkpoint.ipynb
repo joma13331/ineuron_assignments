{
 "cells": [
  {
   "cell_type": "markdown",
   "id": "9b562e9c",
   "metadata": {},
   "source": [
    "**Q1. In Python 3.X, what are the names and functions of string object types?**\n",
    "\n",
    "SOLUTION:\n",
    "\n",
    "* Python 3.X has three string types: \n",
    "    1. str (for Unicode text, including ASCII), \n",
    "    2. bytes (for binary data with absolute byte values), and \n",
    "    3. bytearray (a mutable flavor of bytes). \n",
    "\n",
    "\n",
    "* The str type usually represents content stored on a text file, and the other two types generally represent content stored on binary files."
   ]
  },
  {
   "cell_type": "markdown",
   "id": "1014132d",
   "metadata": {},
   "source": [
    "**Q2. How do the string forms in Python 3.X vary in terms of operations?**\n",
    "\n",
    "SOLUTION:\n",
    "\n",
    "* Python 3.X’s string types share almost all the same operations: method calls, sequence operations, and even larger tools like pattern matching work the same way.\n",
    "\n",
    "\n",
    "* On the other hand, only str supports string formatting operations, and bytear ray has an additional set of operations that perform in-place changes. \n",
    "* The str and bytes types also have methods for encoding and decoding text, respectively"
   ]
  },
  {
   "cell_type": "markdown",
   "id": "5d799533",
   "metadata": {},
   "source": [
    "**Q3. In 3.X, how do you put non-ASCII Unicode characters in a string?**\n",
    "\n",
    "SOLUTION:\n",
    "\n",
    "* Non-ASCII Unicode characters can be coded in a string with both hex (\\xNN) and Unicode (\\uNNNN, \\UNNNNNNNN) escapes.\n",
    "* On some machines, some non-ASCII characters— certain Latin-1 characters, for example—can also be typed or pasted directly into code, and are interpreted per the UTF-8 default or a source code encoding directive comment."
   ]
  },
  {
   "cell_type": "markdown",
   "id": "7e3a9b4c",
   "metadata": {},
   "source": [
    "**Q4. In Python 3.X, what are the key differences between text-mode and binary-mode files?**\n",
    "\n",
    "SOLUTION:\n",
    "\n",
    "* In 3.X, text-mode files assume their file content is Unicode text (even if it’s all ASCII) and automatically decode when reading and encode when writing.\n",
    "* With binary-mode files, bytes are transferred to and from the file unchanged. The contents of text-mode files are usually represented as str objects in your script, and the contents of binary files are represented as bytes (or bytearray) objects.\n",
    "* Textmode files also handle the BOM for certain encoding types and automatically translate end-of-line sequences to and from the single \\n character on input and output unless this is explicitly disabled;\n",
    "* binary-mode files do not perform either of these steps. "
   ]
  },
  {
   "cell_type": "markdown",
   "id": "87b78e8a",
   "metadata": {},
   "source": [
    "**Q5. How can you interpret a Unicode text file containing text encoded in a different encoding than your platform's default?**\n",
    "\n",
    "SOLUTION:\n",
    "\n",
    "* To read files encoded in a different encoding than the default for your platform, simply pass the name of the file’s encoding to the open built-in in 3.X. Data will be decoded per the specified encoding when it is read from the file. "
   ]
  },
  {
   "cell_type": "markdown",
   "id": "6fb335f9",
   "metadata": {},
   "source": [
    "**Q6. What is the best way to make a Unicode text file in a particular encoding format?**\n",
    "\n",
    "SOLUTION:\n",
    "\n",
    "* To create a Unicode text file in a specific encoding format, pass the desired encoding name to open in 3.X. Strings will be encoded per the desired encoding when they are written to the file."
   ]
  },
  {
   "cell_type": "markdown",
   "id": "e1ac3e65",
   "metadata": {},
   "source": [
    "**Q7. What qualifies ASCII text as a form of Unicode text?**\n",
    "\n",
    "SOLUTION:\n",
    "\n",
    "* ASCII text is considered to be a kind of Unicode text, because its 7-bit range of values is a subset of most Unicode encodings."
   ]
  },
  {
   "cell_type": "markdown",
   "id": "3fc06a10",
   "metadata": {},
   "source": [
    "**Q8. How much of an effect does the change in string types in Python 3.X have on your code?**\n",
    "\n",
    "SOLUTION:\n",
    "\n",
    "* The impact of Python 3.X’s string types change depends upon the types of strings you use. \n",
    "\n",
    "1. For scripts that use simple ASCII text on platforms with ASCII-compatible default encodings, the impact is probably minor.\n",
    "2. If you deal with binary data files, you’ll need to deal with content as bytes objects;"
   ]
  },
  {
   "cell_type": "code",
   "execution_count": null,
   "id": "cea7a5b5",
   "metadata": {},
   "outputs": [],
   "source": []
  }
 ],
 "metadata": {
  "kernelspec": {
   "display_name": "Python 3 (ipykernel)",
   "language": "python",
   "name": "python3"
  },
  "language_info": {
   "codemirror_mode": {
    "name": "ipython",
    "version": 3
   },
   "file_extension": ".py",
   "mimetype": "text/x-python",
   "name": "python",
   "nbconvert_exporter": "python",
   "pygments_lexer": "ipython3",
   "version": "3.9.0"
  }
 },
 "nbformat": 4,
 "nbformat_minor": 5
}
