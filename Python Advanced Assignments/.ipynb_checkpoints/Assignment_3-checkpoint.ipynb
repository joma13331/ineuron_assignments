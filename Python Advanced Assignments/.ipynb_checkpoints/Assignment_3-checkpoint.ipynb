{
 "cells": [
  {
   "cell_type": "markdown",
   "id": "6acbc5a5",
   "metadata": {},
   "source": [
    "**Q1. What is the concept of an abstract superclass?**\n",
    "\n",
    "SOLUTION:\n",
    "\n",
    "* An abstract class/superclass can be considered as a blueprint for other classes. \n",
    "* It allows you to create a set of methods that must be created within any child classes built from the abstract class. \n",
    "* A class which contains one or more abstract methods is called an abstract class.\n",
    "\n",
    "* An abstract method can be created by using @abstractmethod annotation\n",
    "\n",
    "eg. ```class ClassName:```\n",
    "        \n",
    "        @abstractmethod\n",
    "        def abs_met(self):\n",
    "            pass\n",
    "            \n"
   ]
  },
  {
   "cell_type": "markdown",
   "id": "ecc69650",
   "metadata": {},
   "source": [
    "**Q2. What happens when a class statement's top level contains a basic assignment statement?**\n",
    "\n",
    "SOLUTION:\n",
    "\n",
    "* When a Class statement's top level contains a basic assignment statement, its usually treated as a class attribute or class level variable.\n",
    "\n",
    "* When an instance of a class is created a single copy of class attributes is maintained and shared to all instances of clas"
   ]
  },
  {
   "cell_type": "markdown",
   "id": "fbe20e36",
   "metadata": {},
   "source": [
    "**Q3. Why does a class need to manually call a superclass's \\__init__ method?**\n",
    "\n",
    "SOLUTION:\n",
    "\n",
    "* If a child class has \\__init__ method, then it will not inherit the \\__init__ method of the parent class. \n",
    "* In other words the \\__init__ method of the child class overrides the \\__init__ method of the parent class. \n",
    "* So we have to manually call a parent superclass's \\__init__ using super() method i.e.\n",
    "\n",
    " ``` super().__init__(arguments)```"
   ]
  },
  {
   "cell_type": "markdown",
   "id": "1db01c69",
   "metadata": {},
   "source": [
    "**Q4. How can you augment, instead of completely replacing, an inherited method?**\n",
    "\n",
    "SOLUTION:\n",
    "\n",
    "* super() method can be used to augment, instead of completely replacing, an inherited method.\n"
   ]
  },
  {
   "cell_type": "markdown",
   "id": "04aa4152",
   "metadata": {},
   "source": [
    "**Q5. How is the local scope of a class different from that of a function?**\n",
    "\n",
    "SOLUTION:\n",
    "\n",
    "* A Variable which is defined inside a function is local to that function. It is accesible from the point at which it is defined until the end of the function, and exists for as long as the function is existing.\n",
    "\n",
    "* Variables which are defined in the class body are called as class level variables or class attributes. They can be referenced by there bare names within the same scope, but they can also be accessed from outside this scope if we use the attribute access operator (.) on a class or an instance of the class."
   ]
  },
  {
   "cell_type": "code",
   "execution_count": null,
   "id": "22514030",
   "metadata": {},
   "outputs": [],
   "source": []
  }
 ],
 "metadata": {
  "kernelspec": {
   "display_name": "Python 3 (ipykernel)",
   "language": "python",
   "name": "python3"
  },
  "language_info": {
   "codemirror_mode": {
    "name": "ipython",
    "version": 3
   },
   "file_extension": ".py",
   "mimetype": "text/x-python",
   "name": "python",
   "nbconvert_exporter": "python",
   "pygments_lexer": "ipython3",
   "version": "3.9.0"
  }
 },
 "nbformat": 4,
 "nbformat_minor": 5
}
