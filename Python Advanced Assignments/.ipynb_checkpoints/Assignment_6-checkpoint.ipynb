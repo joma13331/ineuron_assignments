{
 "cells": [
  {
   "cell_type": "markdown",
   "id": "3c8d3a56",
   "metadata": {},
   "source": [
    "**Q1. Describe three applications for exception processing.**\n",
    "\n",
    "SOLUTION:\n",
    "\n",
    "* Exception processing is useful for :\n",
    "    * error handling,\n",
    "    * termination actions, and \n",
    "    * event notification. \n",
    "    \n",
    "* It can also simplify the handling of special cases and can be used to implement alternative control flows as a sort of structured “go to” operation. \n",
    "* In general, exception processing also cuts down on the amount of error-checking code your program may require—because all errors filter up to handlers, you may not need to test the outcome of every operation."
   ]
  },
  {
   "cell_type": "markdown",
   "id": "1fb511bd",
   "metadata": {},
   "source": [
    "**Q2. What happens if you don't do something extra to treat an exception?**\n",
    "\n",
    "SOLUTION:\n",
    "\n",
    "* Any uncaught exception eventually filters up to the default exception handler Python provides at the top of your program.\n",
    "* This handler prints the familiar error message and shuts down your program."
   ]
  },
  {
   "cell_type": "markdown",
   "id": "3da1d8a8",
   "metadata": {},
   "source": [
    "**Q3. What are your options for recovering from an exception in your script?**\n",
    "\n",
    "SOLUTION:\n",
    "\n",
    "* You can code try/except statements to catch and recover from exceptions that are raised within its nested code block.\n",
    "\n",
    "* Once an exception is caught, the exception is terminated and your program continues after the try."
   ]
  },
  {
   "cell_type": "markdown",
   "id": "31a3cab7",
   "metadata": {},
   "source": [
    "**Q4. Describe two methods for triggering exceptions in your script.**\n",
    "\n",
    "SOLUTION:\n",
    "\n",
    "* The raise and assert statements can be used to trigger an exception, exactly as if it had been raised by Python itself."
   ]
  },
  {
   "cell_type": "markdown",
   "id": "6046472d",
   "metadata": {},
   "source": [
    "**Q5. Identify two methods for specifying actions to be executed at termination time, regardless of whether or not an exception exists.**\n",
    "\n",
    "SOLUTION:\n",
    "\n",
    "* The try/finally statement can be used to ensure actions are run after a block of code exits, regardless of whether the block raises an exception or not.\n",
    "* The with/ as statement can also be used to ensure termination actions are run, but only when processing object types that support it."
   ]
  }
 ],
 "metadata": {
  "kernelspec": {
   "display_name": "Python 3 (ipykernel)",
   "language": "python",
   "name": "python3"
  },
  "language_info": {
   "codemirror_mode": {
    "name": "ipython",
    "version": 3
   },
   "file_extension": ".py",
   "mimetype": "text/x-python",
   "name": "python",
   "nbconvert_exporter": "python",
   "pygments_lexer": "ipython3",
   "version": "3.9.0"
  }
 },
 "nbformat": 4,
 "nbformat_minor": 5
}
