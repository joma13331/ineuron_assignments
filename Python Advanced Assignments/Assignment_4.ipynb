{
 "cells": [
  {
   "cell_type": "markdown",
   "id": "a715ac3c",
   "metadata": {},
   "source": [
    "**Q1. Which two operator overloading methods can you use in your classes to support iteration?**\n",
    "\n",
    "SOLUTION:\n",
    "\n",
    "* Classes can support iteration by defining (or inheriting) \\__getitem__ or \\__iter__.\n",
    "\n",
    "* In all iteration contexts, Python tries to use \\__iter__ first, which returns an object that supports the iteration protocol with a \\__next__ method: if no \\__iter__ is found by inheritance search, Python falls back on the \\__getitem__ indexing method.\n"
   ]
  },
  {
   "cell_type": "markdown",
   "id": "53ec2441",
   "metadata": {},
   "source": [
    "**Q2. In what contexts do the two operator overloading methods manage printing?**\n",
    "\n",
    "SOLUTION:\n",
    "\n",
    "* The \\__str__ and \\__repr__ methods implement object print displays. \n",
    "* The former is called by the print and str built-in functions; the latter is called by print and str if there is no \\__str__, and always by the repr built-in, interactive echoes, and nested appearances. \n",
    "* That is, \\__repr__ is used everywhere, except by print and str when a \\__str__ is defined. A \\__str__ is usually used for user-friendly displays; \\__repr__ gives extra details or the object’s as-code form."
   ]
  },
  {
   "cell_type": "markdown",
   "id": "9b72d706",
   "metadata": {},
   "source": [
    "**Q3. In a class, how do you intercept slice operations?**\n",
    "\n",
    "SOLUTION:\n",
    "\n",
    "Slicing is caught by the \\__getitem__ indexing method: it is called with a slice object, instead of a simple integer index, and slice objects may be passed on or inspected as needed."
   ]
  },
  {
   "cell_type": "markdown",
   "id": "0e115fab",
   "metadata": {},
   "source": [
    "**Q4. In a class, how do you capture in-place addition?**\n",
    "\n",
    "SOLUTION:\n",
    "\n",
    "In-place addition tries \\__iadd__ first, and \\__add__ with an assignment second. The same pattern holds true for all binary operators. The \\__radd__ method is also available for right-side addition."
   ]
  },
  {
   "cell_type": "markdown",
   "id": "31c06b66",
   "metadata": {},
   "source": [
    "**Q5. When is it appropriate to use operator overloading?**\n",
    "\n",
    "SOLUTION:\n",
    "\n",
    "1. When a class naturally matches, or needs to emulate, a built-in type’s interfaces.\n",
    "* You generally shouldn’t implement expression operators if they don’t naturally map to your objects naturally and logically, though—use normally named methods instead."
   ]
  }
 ],
 "metadata": {
  "kernelspec": {
   "display_name": "Python 3 (ipykernel)",
   "language": "python",
   "name": "python3"
  },
  "language_info": {
   "codemirror_mode": {
    "name": "ipython",
    "version": 3
   },
   "file_extension": ".py",
   "mimetype": "text/x-python",
   "name": "python",
   "nbconvert_exporter": "python",
   "pygments_lexer": "ipython3",
   "version": "3.9.0"
  }
 },
 "nbformat": 4,
 "nbformat_minor": 5
}
