{
 "cells": [
  {
   "cell_type": "markdown",
   "id": "4f4a54e1",
   "metadata": {},
   "source": [
    "**Q1. What is the purpose of the try statement?**\n",
    "\n",
    "SOLUTION:\n",
    "\n",
    "* The try statement catches and recovers from exceptions.\n",
    "* It specifies a block of code to run, and one or more handlers for exceptions that may be raised during the block’s execution."
   ]
  },
  {
   "cell_type": "markdown",
   "id": "bbcca154",
   "metadata": {},
   "source": [
    "**Q2. What are the two most popular try statement variations?**\n",
    "\n",
    "SOLUTION:\n",
    "\n",
    "* The two common variations on the try statement are:\n",
    "    1. try/except/else (for catching exceptions) \n",
    "    2. try/finally (for specifying cleanup actions that must occur whether an exception is raised or not)."
   ]
  },
  {
   "cell_type": "markdown",
   "id": "6050bff5",
   "metadata": {},
   "source": [
    "**Q3. What is the purpose of the raise statement?**\n",
    "\n",
    "SOLUTION:\n",
    "\n",
    "* The raise statement triggers an exception. \n",
    "* Python raises built-in exceptions on errors internally, but your scripts can trigger built-in or user-defined exceptions with raise, too"
   ]
  },
  {
   "cell_type": "markdown",
   "id": "6ac59088",
   "metadata": {},
   "source": [
    "**Q4. What does the assert statement do, and what other statement is it like?**\n",
    "\n",
    "SOLUTION:\n",
    "\n",
    "* The assert statement raises an AssertionError exception if a condition is false.\n",
    "* It works like a conditional raise statement wrapped up in an if statement."
   ]
  },
  {
   "cell_type": "markdown",
   "id": "0e5b176f",
   "metadata": {},
   "source": [
    "**Q5. What is the purpose of the with/as argument, and what other statement is it like?**\n",
    "\n",
    "SOLUTION:\n",
    "\n",
    "* The with/as statement is designed to automate startup and termination activities that must occur around a block of code\n",
    "* It is roughly like a try/finally statement in that its exit actions run whether an exception occurred or not.\n",
    "* But it allows a richer object-based protocol for specifying entry and exit actions, and may reduce code size. \n",
    "* Still, it’s not quite as general, as it applies only to objects that support its protocol; try handles many more use cases."
   ]
  }
 ],
 "metadata": {
  "kernelspec": {
   "display_name": "Python 3 (ipykernel)",
   "language": "python",
   "name": "python3"
  },
  "language_info": {
   "codemirror_mode": {
    "name": "ipython",
    "version": 3
   },
   "file_extension": ".py",
   "mimetype": "text/x-python",
   "name": "python",
   "nbconvert_exporter": "python",
   "pygments_lexer": "ipython3",
   "version": "3.9.0"
  }
 },
 "nbformat": 4,
 "nbformat_minor": 5
}
