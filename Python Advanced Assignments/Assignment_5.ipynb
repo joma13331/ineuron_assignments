{
 "cells": [
  {
   "cell_type": "markdown",
   "id": "5c522bf0",
   "metadata": {},
   "source": [
    "**Q1. What is the meaning of multiple inheritance?**\n",
    "\n",
    "SOLUTION:\n",
    "\n",
    "* Multiple inheritance occurs when a class inherits from more than one superclass.\n",
    "* It’s useful for mixing together multiple packages of class-based code. The left-toright order in class statement headers determines the general order of attribute searches."
   ]
  },
  {
   "cell_type": "markdown",
   "id": "f3af542a",
   "metadata": {},
   "source": [
    "**Q2. What is the concept of delegation?**\n",
    "\n",
    "SOLUTION:\n",
    "\n",
    "* Delegation involves wrapping an object in a proxy class, which adds extra behavior and passes other operations to the wrapped object. \n",
    "* The proxy retains the interface of the wrapped object."
   ]
  },
  {
   "cell_type": "markdown",
   "id": "af88fbd5",
   "metadata": {},
   "source": [
    "**Q3. What is the concept of composition?**\n",
    "\n",
    "SOLUTION:\n",
    "\n",
    "* Composition is a technique whereby a controller class embeds and directs a number of objects, and provides an interface all its own.\n",
    "* It’s a way to build up larger structures with classes."
   ]
  },
  {
   "cell_type": "markdown",
   "id": "a518be75",
   "metadata": {},
   "source": [
    "**Q4. What are bound methods and how do we use them?**\n",
    "\n",
    "SOLUTION:\n",
    "\n",
    "* Bound methods combine an instance and a method function. \n",
    "* you can call them without passing in an instance object explicitly because the original instance is still available."
   ]
  },
  {
   "cell_type": "markdown",
   "id": "821ce58f",
   "metadata": {},
   "source": [
    "**Q5. What is the purpose of pseudoprivate attributes?**\n",
    "\n",
    "SOLUTION:\n",
    "\n",
    "* Pseudoprivate attributes (whose names begin but do not end with two leading underscores: \\__X) are used to localize names to the enclosing class. \n",
    "* This includes both class attributes like methods defined inside the class, and self instance attributes assigned inside the class’s methods.\n",
    "* Such names are expanded to include the class name on the right side, which makes them generally unique."
   ]
  }
 ],
 "metadata": {
  "kernelspec": {
   "display_name": "Python 3 (ipykernel)",
   "language": "python",
   "name": "python3"
  },
  "language_info": {
   "codemirror_mode": {
    "name": "ipython",
    "version": 3
   },
   "file_extension": ".py",
   "mimetype": "text/x-python",
   "name": "python",
   "nbconvert_exporter": "python",
   "pygments_lexer": "ipython3",
   "version": "3.9.0"
  }
 },
 "nbformat": 4,
 "nbformat_minor": 5
}
