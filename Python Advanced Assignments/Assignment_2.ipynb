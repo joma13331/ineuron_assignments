{
 "cells": [
  {
   "cell_type": "markdown",
   "id": "b631ebad",
   "metadata": {},
   "source": [
    "**Q1. What is the relationship between classes and modules?**\n",
    "\n",
    "SOLUTION:\n",
    "\n",
    "* A Python class is like an outline for creating a new object where an  object is anything that you wish to manipulate or change while working through the code.\n",
    "\n",
    "* The module is a simple Python file that contains collections of functions and global variables and with having a .py extension file.\n",
    "\n",
    "* The difference between a class and a module in python is that a class is used to define a blueprint for a given object, whereas a module is used to reuse a given piece of code inside another program.\n",
    "\n",
    "* We can consider a module to be the same as a code library or a file that contains a set of functions/Classes that you want to include in your application."
   ]
  },
  {
   "cell_type": "markdown",
   "id": "740efa40",
   "metadata": {},
   "source": [
    "**Q2. How do you make instances and classes?**\n",
    "\n",
    "SOLUTION:\n",
    "\n",
    "* for creating a class, we use the Class keyword. Class keyword is followed by classname.\n",
    "    * If required \n",
    "        * we can add class attributes which are variable declared inside the class scopebut outside the \\__init__ method\n",
    "        * we can add instance attributes which are variable decalred inside the \\__init__ method.\n",
    "        * Methods which act on the object or classes to modify their behaviour\n",
    "        \n",
    "* For creating a class instance. we call a class by its name and pass the arguments which its __init__ method accepts.\n",
    "\n",
    "eg. ``` class ClassName:\n",
    "            declaring class variables```\n",
    "            \n",
    "            def \\__init__(self, arguments):\n",
    "                declaring instance variables\n",
    "                \n",
    "            defining methods\n",
    "            \n",
    "        obj1 = ClassName(parameters)"
   ]
  },
  {
   "cell_type": "markdown",
   "id": "cce459fb",
   "metadata": {},
   "source": [
    "**Q3. Where and how should be class attributes created?**\n",
    "\n",
    "SOLUTION: \n",
    "\n",
    "* The class attributes should be declare inside the scope of the class but outside the \\__init__() method.\n",
    "* The can be declared simply by initializing them with some values\n",
    "\n",
    "eg. ```class ClassName:\n",
    "        class_var = 28```"
   ]
  },
  {
   "cell_type": "markdown",
   "id": "3aaf5aa2",
   "metadata": {},
   "source": [
    "**Q4. Where and how are instance attributes created?**\n",
    "\n",
    "SOLUTION:\n",
    "\n",
    "* The instance attributes are created inside the \\__init__() method.\n",
    "* they are created by pre-pending the variable name with \"self.\" which ensures that the attributes are associated with the instance.\n",
    "\n",
    "eg. ```class ClassName:```\n",
    "        \n",
    "        def \\__init__(self, attr1,attr2):\n",
    "            self.attr3 = attr1\n",
    "            self.attr4 = attr2\n",
    "            \n",
    "* attr3 and attr4 are the instance attributes            "
   ]
  },
  {
   "cell_type": "markdown",
   "id": "d850bd2d",
   "metadata": {},
   "source": [
    "**Q5. What does the term \"self\" in a Python class mean?**\n",
    "\n",
    "SOLUTION\n",
    "\n",
    "* The \"self\" is a term that is used to refer to the object itself which is accessing a method or attribute.\n",
    "\n",
    "* It is not necessary that only \"self\" can be used to refer to the object. Any generic word can be used but that has to be the first argument in the method definition."
   ]
  },
  {
   "cell_type": "markdown",
   "id": "8d45e74e",
   "metadata": {},
   "source": [
    "**Q6. How does a Python class handle operator overloading?**\n",
    "\n",
    "SOLUTION:\n",
    "\n",
    "* Python Classes handle operator overloading by using special methods called Magic methods. \n",
    "* These special methods usually begin and end with __ (double underscore)\n",
    "\n",
    "eg. + is refered by  __add__()\n"
   ]
  },
  {
   "cell_type": "markdown",
   "id": "ef50f2d7",
   "metadata": {},
   "source": [
    "**Q7. When do you consider allowing operator overloading of your classes?**\n",
    "\n",
    "SOLUTION:\n",
    "\n",
    "* When we want to have different meaning for the same operator according to the context we are using the operator. \n",
    "* eg. \"+\" operator for str and int"
   ]
  },
  {
   "cell_type": "markdown",
   "id": "460613dc",
   "metadata": {},
   "source": [
    "**Q8. What is the most popular form of operator overloading?**\n",
    "\n",
    "SOLUTION:\n",
    "\n",
    "* The most popular form of operator overloading in python is by special methods called Magic methods. \n",
    "* They  usually beign and end with double underscore \\__\\<method name>__."
   ]
  },
  {
   "cell_type": "markdown",
   "id": "432b9a2e",
   "metadata": {},
   "source": [
    "**Q9. What are the two most important concepts to grasp in order to comprehend Python OOP code**\n",
    "\n",
    "SOLUTION:\n",
    "\n",
    "* Classes and objects are the two concepts to comprehend python OOP code\n",
    "* objects are entities that represent instances of general abstract concept called class"
   ]
  }
 ],
 "metadata": {
  "kernelspec": {
   "display_name": "Python 3 (ipykernel)",
   "language": "python",
   "name": "python3"
  },
  "language_info": {
   "codemirror_mode": {
    "name": "ipython",
    "version": 3
   },
   "file_extension": ".py",
   "mimetype": "text/x-python",
   "name": "python",
   "nbconvert_exporter": "python",
   "pygments_lexer": "ipython3",
   "version": "3.9.0"
  }
 },
 "nbformat": 4,
 "nbformat_minor": 5
}
