{
 "cells": [
  {
   "cell_type": "markdown",
   "id": "4aca5756",
   "metadata": {},
   "source": [
    "**Q1. What is the purpose of Python's OOP?**\n",
    "\n",
    "SOLUTION:\n",
    "\n",
    "* It implements real-world entities like inheritance, polymorphisms, encapsulation, etc. in the programming.\n",
    "* The main concept of OOPs is to bind the data and the functions that work on that together as a single unit so that no other part of the code can access this data.\n",
    "* Python was designed with OOP approach and it offers the following advantages:\n",
    "    * Provides a clear program structure and a clean code\n",
    "    * Facilitates easy maintenance and modification of existing code\n",
    "    * Since the class is sharable, the code can be reused\n",
    "    * Since the class is sharable, the code can be reused and many other such Advantages.\n"
   ]
  },
  {
   "cell_type": "markdown",
   "id": "8a2a0112",
   "metadata": {},
   "source": [
    "**Q2. Where does an inheritance search look for an attribute?**\n",
    "\n",
    "SOLUTION:\n",
    "\n",
    "* Every time you use an expression of the form ```object.attr``` where object is an instance or class object, Python searches the namespace tree at and above object, for the first attr it can find. \n",
    "* Lower definitions in the tree override higher ones, inheritance forms the basis of specialization.\n",
    "\n",
    "![Image](https://www.oreilly.com/library/view/learning-python/1565924649/tagoreillycom20070222oreillyimages95460.png)"
   ]
  },
  {
   "cell_type": "markdown",
   "id": "e9baac2c",
   "metadata": {},
   "source": [
    "**Q3. How do you distinguish between a class object and an instance object?**\n",
    "\n",
    "SOLUTION:\n",
    "\n",
    "* Class variables are declared inside a class but outside of any function. * Instance variables are declared inside the constructor which is the \\__init__ method."
   ]
  },
  {
   "cell_type": "markdown",
   "id": "6b2cde84",
   "metadata": {},
   "source": [
    "**Q4. What makes the first argument in a class’s method function special?**\n",
    "\n",
    "SOLUTION:\n",
    "\n",
    "* The first argument of any method defined inside class's instance methods must refer to the object itself which is calling the method. \n",
    "* We usually denote this varilable by **self**. \n",
    "\n",
    "* When calling the method this object parameter is implicit in the function call.\n",
    "* However when defining themethod we have to explicitly state an object parameter as the first argument"
   ]
  },
  {
   "cell_type": "markdown",
   "id": "8c1b3212",
   "metadata": {},
   "source": [
    "**Q5. What is the purpose of the __init__ method?**\n",
    "\n",
    "SOLUTION:\n",
    "\n",
    "\"\\__init__\" is a reseved method in python classes. \n",
    "* It is called as a constructor in object oriented terminology. \n",
    "* This method is called when an object is created from a class and it allows the class to initialize the attributes of the class."
   ]
  },
  {
   "cell_type": "markdown",
   "id": "eeb0e35f",
   "metadata": {},
   "source": [
    "**Q6. What is the process for creating a class instance?**\n",
    "\n",
    "SOLUTION:\n",
    "\n",
    "* Call 'ClassName'() to create a new instance of the class ClassName.\n",
    "* If the \\__init__ function is defined with argument then the 'ClassName'() must have the relevant parameter passed in the brackets"
   ]
  },
  {
   "cell_type": "markdown",
   "id": "6c03fd35",
   "metadata": {},
   "source": [
    "**Q7. What is the process for creating a class?**\n",
    "\n",
    "SOLUTION:\n",
    "\n",
    "* To create a clss we use the keyword **class**. and follow the following syntax\n",
    "\n",
    "class ClassName:\n",
    "\n",
    "\n",
    "    declare class attributes\n",
    "    \n",
    "    define constructor\n",
    "    def __init__(self):\n",
    "        declare object attributes\n",
    "    \n",
    "    define methods\n",
    "    def methods(self, arguments)"
   ]
  },
  {
   "cell_type": "markdown",
   "id": "83b0a9d7",
   "metadata": {},
   "source": [
    "**Q8. How would you define the superclasses of a class?**\n",
    "\n",
    "SOLUTION:\n",
    "\n",
    "**EXAMPLE**\n",
    "\n",
    "```class Robot:\n",
    "    def \\__init__(self, name):\n",
    "        self.name = name\n",
    "    def say_hi(self):\n",
    "        print(\"Hi, I am \" + self.name)```\n",
    "        \n",
    "```class PhysicianRobot(Robot):\n",
    "    pass```\n",
    "    \n",
    "    \n",
    "```x = Robot(\"Marvin\")\n",
    "y = PhysicianRobot(\"James\")\n",
    "print(x, type(x))\n",
    "print(y, type(y))\n",
    "y.say_hi()```\n",
    "\n",
    "\n",
    "* In the given example we have two classes Robot and PhysicianRobot\n",
    "* To make the Robot class a superclass we just pass it to PhysicainRobot as an argument."
   ]
  },
  {
   "cell_type": "code",
   "execution_count": null,
   "id": "11aef6e2",
   "metadata": {},
   "outputs": [],
   "source": []
  }
 ],
 "metadata": {
  "kernelspec": {
   "display_name": "Python 3 (ipykernel)",
   "language": "python",
   "name": "python3"
  },
  "language_info": {
   "codemirror_mode": {
    "name": "ipython",
    "version": 3
   },
   "file_extension": ".py",
   "mimetype": "text/x-python",
   "name": "python",
   "nbconvert_exporter": "python",
   "pygments_lexer": "ipython3",
   "version": "3.9.0"
  }
 },
 "nbformat": 4,
 "nbformat_minor": 5
}
