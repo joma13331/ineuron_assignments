{
 "cells": [
  {
   "cell_type": "markdown",
   "id": "63d04474",
   "metadata": {},
   "source": [
    "**Q1. Write a Python Program to Find LCM?**\n",
    "\n",
    "SOLUTION IN NEXT CELL:"
   ]
  },
  {
   "cell_type": "code",
   "execution_count": null,
   "id": "2e08f52d",
   "metadata": {},
   "outputs": [],
   "source": [
    "import pyinputplus as pyip\n",
    "\n",
    "def GCD(num1, num2):\n",
    "    while(num2):\n",
    "        num1, num2 = num2, num1%num2\n",
    "    return num1\n",
    "\n",
    "def LCM(num1, num2):\n",
    "    gcd = GCD(num1, num2)\n",
    "    return (num1*num2)//gcd\n",
    "\n",
    "inp1 = pyip.inputNum(prompt=\"Enter the First number\")\n",
    "inp2 = pyip.inputNum(prompt=\"Enter the Second number\")\n",
    "\n",
    "try:\n",
    "    print(\"The LCM of {} and  {} is {}\".format(inp1, inp2, LCM(inp1, inp2)))\n",
    "except Exception as e:\n",
    "    print(\"ERROR: {}\".format(e))"
   ]
  },
  {
   "cell_type": "markdown",
   "id": "36b6c3bc",
   "metadata": {},
   "source": [
    "**Q2. Write a Python Program to Find HCF?**\n",
    "\n",
    "SOLUTION IN NEXT CELL:"
   ]
  },
  {
   "cell_type": "code",
   "execution_count": null,
   "id": "673afca3",
   "metadata": {},
   "outputs": [],
   "source": [
    "import pyinputplus as pyip\n",
    "\n",
    "def HCF(num1, num2):\n",
    "    while(num2):\n",
    "        num1, num2 = num2, num1%num2\n",
    "    return num1\n",
    "\n",
    "inp1 = pyip.inputNum(prompt=\"Enter the First number\")\n",
    "inp2 = pyip.inputNum(prompt=\"Enter the Second number\")\n",
    "\n",
    "try:\n",
    "    print(\"The HCF of {} and  {} is {}\".format(inp1, inp2, HCF(inp1, inp2)))\n",
    "except Exception as e:\n",
    "    print(\"ERROR: {}\".format(e))"
   ]
  },
  {
   "cell_type": "markdown",
   "id": "8c2f2d3a",
   "metadata": {},
   "source": [
    "**Q3. Write a Python Program to Convert Decimal to Binary, Octal and Hexadecimal?**\n",
    "\n",
    "SOLUTION IN NEXT CELL:"
   ]
  },
  {
   "cell_type": "code",
   "execution_count": null,
   "id": "1a39566f",
   "metadata": {},
   "outputs": [],
   "source": [
    "import pyinputplus as pyip\n",
    "\n",
    "def convert(num1, rad):\n",
    "    if rad == \"Binary\":\n",
    "        return bin(num1)\n",
    "    elif rad == \"Octal\":\n",
    "        return oct(num1)\n",
    "    else:\n",
    "        return hex(num1)\n",
    "\n",
    "inp = pyip.inputNum(prompt=\"Enter the Decimal number\")\n",
    "radix = pyip.inputMenu([\"Binary\", \"Octal\", \"Hexadecimal\"],\n",
    "                       prompt=\"Enter the Decimal number\",\n",
    "                      numbered=True)\n",
    "\n",
    "result = convert(inp, radix)\n",
    "\n",
    "print(\"{} in decimal is equal to {} in {}\".format(inp, result, radix))    "
   ]
  },
  {
   "cell_type": "markdown",
   "id": "706b4c1c",
   "metadata": {},
   "source": [
    "**Q4. Write a Python Program To Find ASCII value of a character?**\n",
    "\n",
    "SOLUTION IN NEXT CELL:"
   ]
  },
  {
   "cell_type": "code",
   "execution_count": null,
   "id": "449423d3",
   "metadata": {},
   "outputs": [],
   "source": [
    "import pyinputplus as pyip\n",
    "\n",
    "y=True\n",
    "while y:\n",
    "    inp = pyip.inputStr(prompt=\"Enter only one character\")\n",
    "    if len(inp)==1:\n",
    "        y=False\n",
    "\n",
    "print(\"{}  is equal to {} in ASCII\".format(inp, ord(inp)))  "
   ]
  },
  {
   "cell_type": "markdown",
   "id": "5eafbb81",
   "metadata": {},
   "source": [
    "**Q5. Write a Python Program to Make a Simple Calculator with 4 basic mathematical operations?**\n",
    "\n",
    "SOLUTION IN NEXT CELL:"
   ]
  },
  {
   "cell_type": "code",
   "execution_count": null,
   "id": "808b0831",
   "metadata": {},
   "outputs": [],
   "source": [
    "import pyinputplus as pyip\n",
    "\n",
    "def calculator(operation, num1, num2):\n",
    "    if operation == \"Addition\":\n",
    "        return num1 + num2\n",
    "    elif operation == \"Subtraction\":\n",
    "        return num1 - num2\n",
    "    elif operation == \"Multiplication\":\n",
    "        return num1 * num2\n",
    "    else:\n",
    "        return num1/num2\n",
    "    \n",
    "inp1 = pyip.inputNum(prompt=\"Enter the First number\")\n",
    "inp2 = pyip.inputNum(prompt=\"Enter the Second number\")\n",
    "op = pyip.inputMenu([\"Addition\", \"Subtraction\", \"Multiplication\", \"Division\"],\n",
    "                   prompt=\"Enter The operation to perform\",\n",
    "                   numbered=True)\n",
    "\n",
    "try:\n",
    "    print(\"The result of {} between {} and {} is {}\".format(op, inp1, inp2, calculator(op, inp1, inp2)))\n",
    "except Exception as e:\n",
    "    print(\"ERROR:\" + str(e))    "
   ]
  },
  {
   "cell_type": "code",
   "execution_count": null,
   "id": "9e0adc4d",
   "metadata": {},
   "outputs": [],
   "source": []
  }
 ],
 "metadata": {
  "kernelspec": {
   "display_name": "Python 3 (ipykernel)",
   "language": "python",
   "name": "python3"
  },
  "language_info": {
   "codemirror_mode": {
    "name": "ipython",
    "version": 3
   },
   "file_extension": ".py",
   "mimetype": "text/x-python",
   "name": "python",
   "nbconvert_exporter": "python",
   "pygments_lexer": "ipython3",
   "version": "3.9.0"
  }
 },
 "nbformat": 4,
 "nbformat_minor": 5
}
