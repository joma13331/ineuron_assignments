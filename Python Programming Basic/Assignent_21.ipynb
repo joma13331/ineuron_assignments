{
 "cells": [
  {
   "cell_type": "markdown",
   "id": "0e82663b",
   "metadata": {},
   "source": [
    "**Q1. Write a function that takes a list and a number as arguments. Add the number to the end of the list, then remove the first element of the list. The function should then return the updated list.**\n",
    "\n",
    "SOLUTION IN NEXT CELL:"
   ]
  },
  {
   "cell_type": "code",
   "execution_count": null,
   "id": "c9952597",
   "metadata": {},
   "outputs": [],
   "source": [
    "import pyinputplus as pyip\n",
    "\n",
    "def next_in_line(l1, num):\n",
    "    l1 = l1[1:]\n",
    "    l1.append(num)\n",
    "    return l1\n",
    "\n",
    "length = pyip.inputNum(\"enter the length of list\")\n",
    "\n",
    "l1 = []\n",
    "for i in range(length):\n",
    "    l1.append(pyip.inputNum(\"Enter a number \"))\n",
    "\n",
    "num = pyip.inputNum(\"enter the numer to replace with\")\n",
    "print(\"The resultant list is {}\".format(next_in_line(l1, num)))"
   ]
  },
  {
   "cell_type": "markdown",
   "id": "929d50f5",
   "metadata": {},
   "source": [
    "**Q2. Create the function that takes a list of dictionaries and returns the sum of people's budgets.**\n",
    "\n",
    "SOLUTION IN NEXT CELL:"
   ]
  },
  {
   "cell_type": "code",
   "execution_count": null,
   "id": "117ac94d",
   "metadata": {},
   "outputs": [],
   "source": [
    "import pyinputplus as pyip\n",
    "\n",
    "def get_budgets(list1):\n",
    "    budget = 0\n",
    "    for i in list1:\n",
    "        budget += i[\"budget\"]\n",
    "        \n",
    "    return budget\n",
    "\n",
    "length = pyip.inputNum(\"Enter the number of items in the list\")\n",
    "\n",
    "l1=[]\n",
    "for i in range(length):\n",
    "    dic = {}\n",
    "    dic[\"name\"] = pyip.inputStr(\"Enter Name\")\n",
    "    dic[\"age\"] = pyip.inputNum(\"Enter Age\")\n",
    "    dic[\"budget\"] = pyip.inputNum(\"Enter Budget\")\n",
    "    l1.append(dic)\n",
    "    \n",
    "print(\"The total budget is {}\".format(get_budgets(l1)))"
   ]
  },
  {
   "cell_type": "markdown",
   "id": "7c322ab4",
   "metadata": {},
   "source": [
    "**Q3. Create a function that takes a string and returns a string with its letters in alphabetical order.**\n",
    "\n",
    "SOLUTION IN NEXT CELL:"
   ]
  },
  {
   "cell_type": "code",
   "execution_count": null,
   "id": "89f4a2b3",
   "metadata": {},
   "outputs": [],
   "source": [
    "import pyinputplus as pyip\n",
    "\n",
    "def alphabet_soup(str1):\n",
    "    res = ''.join(sorted(str1))\n",
    "    return res\n",
    "    \n",
    "str1 = pyip.inputStr(\"Enter a string\")\n",
    "\n",
    "print(\"sorted string: {}\".format(alphabet_soup(str1)))"
   ]
  },
  {
   "cell_type": "markdown",
   "id": "26eacc6e",
   "metadata": {},
   "source": [
    "**Q4. Create a function that accepts the principal p, the term in years t, the interest rate r, and the number of compounding periods per year n. The function returns the value at the end of term rounded to the nearest cent.**\n",
    "\n",
    "SOLUTION IN NEXT CELL:"
   ]
  },
  {
   "cell_type": "code",
   "execution_count": null,
   "id": "9f26fb13",
   "metadata": {},
   "outputs": [],
   "source": [
    "import pyinputplus as pyip\n",
    "\n",
    "def compound_interest(principal,years,roi,cp):\n",
    "    ci = principal*(1+(roi/cp))**(cp*years)\n",
    "    return ci\n",
    "\n",
    "principal = pyip.inputNum(\"Enter principal\")\n",
    "years = pyip.inputNum(\"Enter years\")\n",
    "roi = pyip.inputNum(\"Enter rate of interest\")\n",
    "cp = pyip.inputNum(\"Enter compounding period\")\n",
    "\n",
    "print(\"The compound interest is {}\".format(format(compound_interest(principal, years, roi, cp), \".2f\")))"
   ]
  },
  {
   "cell_type": "markdown",
   "id": "2f75dd2c",
   "metadata": {},
   "source": [
    "**Q5. Write a function that takes a list of elements and returns only the integers.**\n",
    "\n",
    "SOLUTION IN NEXT CELL:"
   ]
  },
  {
   "cell_type": "code",
   "execution_count": null,
   "id": "b1c079ba",
   "metadata": {},
   "outputs": [],
   "source": [
    "import pyinputplus as pyip\n",
    "\n",
    "def return_only_integers(l1):\n",
    "    new_list = []\n",
    "    for i in l1:\n",
    "        if type(i) == int:\n",
    "            new_list.append(i)\n",
    "    return new_list\n",
    "\n",
    "choice = pyip.inputNum(\"Enter the number of items in the list\")\n",
    "l1 = []\n",
    "for i in range(choice):\n",
    "    val = input(\"Enter a number or string \")\n",
    "    try:\n",
    "        l1.append(int(val))\n",
    "    except Exception:\n",
    "        pass\n",
    "    \n",
    "print(\"The new list is {}\".format(return_only_integers(l1)))"
   ]
  }
 ],
 "metadata": {
  "kernelspec": {
   "display_name": "Python 3 (ipykernel)",
   "language": "python",
   "name": "python3"
  },
  "language_info": {
   "codemirror_mode": {
    "name": "ipython",
    "version": 3
   },
   "file_extension": ".py",
   "mimetype": "text/x-python",
   "name": "python",
   "nbconvert_exporter": "python",
   "pygments_lexer": "ipython3",
   "version": "3.9.0"
  }
 },
 "nbformat": 4,
 "nbformat_minor": 5
}
