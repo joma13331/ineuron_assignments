{
 "cells": [
  {
   "cell_type": "markdown",
   "id": "fba3efa0",
   "metadata": {},
   "source": [
    "Q1. Write a Python Program to find sum of array?\n",
    "\n",
    "SOLUTION IN NEXT CELL:"
   ]
  },
  {
   "cell_type": "code",
   "execution_count": null,
   "id": "9397ad24",
   "metadata": {},
   "outputs": [],
   "source": [
    "import pyinputplus as pyip\n",
    "\n",
    "def sum_array(arr):\n",
    "    sum_a = 0\n",
    "    for i in arr:\n",
    "        sum_a += i\n",
    "    return sum_a\n",
    "\n",
    "ans = \"Yes\"\n",
    "array = []\n",
    "while ans == \"Yes\":\n",
    "    \n",
    "    val = pyip.inputNum(prompt = \"Enter a Number\")\n",
    "    \n",
    "    array.append(val)\n",
    "    ans = pyip. inputMenu([\"Yes\", \"No\"],\n",
    "                         prompt=\"Add another Number\",\n",
    "                         numbered=True)\n",
    "\n",
    "\n",
    "print(\"The sum of the array entered is {}\".format(sum_array(array)))"
   ]
  },
  {
   "cell_type": "markdown",
   "id": "930524f3",
   "metadata": {},
   "source": [
    "Q2. Write a Python Program to find largest element in an array?\n",
    "\n",
    "SOLUTION IN NEXT CELL:"
   ]
  },
  {
   "cell_type": "code",
   "execution_count": null,
   "id": "370e4d3f",
   "metadata": {},
   "outputs": [],
   "source": [
    "import pyinputplus as pyip\n",
    "\n",
    "def max_array(arr):\n",
    "    \n",
    "    max_val = arr[0]\n",
    "    \n",
    "    for i in arr:\n",
    "        if i>max_val:\n",
    "            max_val = i\n",
    "            \n",
    "    return max_val\n",
    "\n",
    "ans = \"Yes\"\n",
    "array = []\n",
    "while ans == \"Yes\":\n",
    "    \n",
    "    val = pyip.inputNum(prompt = \"Enter a Number\")\n",
    "    \n",
    "    array.append(val)\n",
    "    ans = pyip. inputMenu([\"Yes\", \"No\"],\n",
    "                         prompt=\"Add another Number\",\n",
    "                         numbered=True)\n",
    "\n",
    "\n",
    "print(\"The maximum value in the array entered is {}\".format(max_array(array)))"
   ]
  },
  {
   "cell_type": "markdown",
   "id": "a24ea29d",
   "metadata": {},
   "source": [
    "Q3. Write a Python Program for array rotation?\n",
    "\n",
    "SOLUTION IN NEXT CELL:"
   ]
  },
  {
   "cell_type": "code",
   "execution_count": null,
   "id": "80fa4794",
   "metadata": {},
   "outputs": [],
   "source": [
    "import pyinputplus as pyip\n",
    "\n",
    "def array_rot(arr, rot_amt, rot_dir):\n",
    "    \n",
    "    arr2 = [None]*len(arr)\n",
    "    \n",
    "    if rot_dir ==\"Left\":\n",
    "        for i in range(len(arr)):\n",
    "            arr2[i-rot_amt] = arr[i]\n",
    "    else:\n",
    "        for i in range(len(arr)):\n",
    "            arr2[i] = arr[i-rot_amt]\n",
    "    \n",
    "    return arr2\n",
    "\n",
    "ans = \"Yes\"\n",
    "array = []\n",
    "while ans == \"Yes\":\n",
    "    \n",
    "    val = pyip.inputNum(prompt = \"Enter a Number\")\n",
    "    \n",
    "    array.append(val)\n",
    "    ans = pyip. inputMenu([\"Yes\", \"No\"],\n",
    "                         prompt=\"Add another Number\",\n",
    "                         numbered=True)\n",
    "    \n",
    "direction = pyip. inputMenu([\"Left\", \"Right\"],\n",
    "                         prompt=\"In which direction to rotate\",\n",
    "                         numbered=True) \n",
    "\n",
    "amt = pyip.inputNum(prompt = \"how much to rotate\")\n",
    "\n",
    "array2 = array_rot(array, amt, direction)\n",
    "\n",
    "print(\"Array before rotation\")\n",
    "for i in array:\n",
    "    print(i, end=\"  \")\n",
    "    \n",
    "print(\"Array After rotation\")\n",
    "for i in array2:\n",
    "    print(i, end=\"  \")"
   ]
  },
  {
   "cell_type": "markdown",
   "id": "dac1d049",
   "metadata": {},
   "source": [
    "Q4. Write a Python Program to Split the array and add the first part to the \n",
    "end?\n",
    "\n",
    "SOLUTION IN NEXT CELL:"
   ]
  },
  {
   "cell_type": "code",
   "execution_count": null,
   "id": "ed02270d",
   "metadata": {},
   "outputs": [],
   "source": [
    "import pyinputplus as pyip\n",
    "\n",
    "def split_add(arr, index):\n",
    "    arr2 = arr[index:]\n",
    "    arr2.extend(arr[:index])\n",
    "    return arr2\n",
    "\n",
    "\n",
    "ans = \"Yes\"\n",
    "array = []\n",
    "while ans == \"Yes\":\n",
    "    \n",
    "    val = pyip.inputNum(prompt = \"Enter a Number\")\n",
    "    \n",
    "    array.append(val)\n",
    "    ans = pyip. inputMenu([\"Yes\", \"No\"],\n",
    "                         prompt=\"Add another Number\",\n",
    "                         numbered=True)\n",
    "    \n",
    "ind = pyip.inputNum(prompt = \"At what index to split [1-{}]\".format(len(array)-2),\n",
    "                   lessThan=len(array)-1, greaterThan=0)\n",
    "\n",
    "\n",
    "array2 = split_add(array, ind)\n",
    "\n",
    "print(\"Array before split\")\n",
    "for i in array:\n",
    "    print(i, end=\"  \")\n",
    "    \n",
    "print(\"Array After split\")\n",
    "for i in array2:\n",
    "    print(i, end=\"  \")"
   ]
  },
  {
   "cell_type": "markdown",
   "id": "eff0923c",
   "metadata": {},
   "source": [
    "Q5. Write a Python Program to check if given array is Monotonic?\n",
    "\n",
    "SOLUTION IN NEXT CELL:"
   ]
  },
  {
   "cell_type": "code",
   "execution_count": null,
   "id": "21d0c2d4",
   "metadata": {},
   "outputs": [],
   "source": [
    "import pyinputplus as pyip\n",
    "\n",
    "def monotonic(arr):\n",
    "    \n",
    "    check_1 = 0\n",
    "    check_2 = 0\n",
    "    \n",
    "    for i in range(len(arr)-1):\n",
    "        if arr[i]<arr[i+1]:\n",
    "            check_1 += 1\n",
    "        elif arr[i]>arr[i+1]:   \n",
    "            check_2 += 1\n",
    "    if check_1 != 0 and check_2 != 0:\n",
    "        print(\"Array is Not monotonic\")\n",
    "    else:\n",
    "        print(\"Array is monotonic\")\n",
    "\n",
    "ans = \"Yes\"\n",
    "array = []\n",
    "while ans == \"Yes\":\n",
    "    \n",
    "    val = pyip.inputNum(prompt = \"Enter a Number\")\n",
    "    \n",
    "    array.append(val)\n",
    "    ans = pyip. inputMenu([\"Yes\", \"No\"],\n",
    "                         prompt=\"Add another Number\",\n",
    "                         numbered=True)\n",
    "    \n",
    "monotonic(array)"
   ]
  }
 ],
 "metadata": {
  "kernelspec": {
   "display_name": "Python 3 (ipykernel)",
   "language": "python",
   "name": "python3"
  },
  "language_info": {
   "codemirror_mode": {
    "name": "ipython",
    "version": 3
   },
   "file_extension": ".py",
   "mimetype": "text/x-python",
   "name": "python",
   "nbconvert_exporter": "python",
   "pygments_lexer": "ipython3",
   "version": "3.9.0"
  }
 },
 "nbformat": 4,
 "nbformat_minor": 5
}
