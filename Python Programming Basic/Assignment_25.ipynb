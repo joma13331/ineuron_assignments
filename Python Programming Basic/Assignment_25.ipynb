{
 "cells": [
  {
   "cell_type": "markdown",
   "id": "289448ad",
   "metadata": {},
   "source": [
    "**Q1. Create a function that takes three integer arguments (a, b, c) and returns the amount of integers which are of equal value.**\n",
    "\n",
    "SOLUTION IN NEXT CELL:"
   ]
  },
  {
   "cell_type": "code",
   "execution_count": null,
   "id": "363cb014",
   "metadata": {},
   "outputs": [],
   "source": [
    "import pyinputplus as pyip\n",
    "\n",
    "def equal(a, b, c):\n",
    "    count = 0\n",
    "    if a==b:\n",
    "        count = 2\n",
    "        if a==c:\n",
    "            count=3\n",
    "    elif a==c:\n",
    "        count = 2\n",
    "    elif b==c:\n",
    "        count = 2\n",
    "    \n",
    "    return count\n",
    "        \n",
    "a = pyip.inputNum(\"Enter first Number\")  \n",
    "b = pyip.inputNum(\"Enter second Number\")  \n",
    "c = pyip.inputNum(\"Enter third Number\")\n",
    "\n",
    "print(f'from the given number {equal(a, b, c)} are equal')"
   ]
  },
  {
   "cell_type": "markdown",
   "id": "f3870e92",
   "metadata": {},
   "source": [
    "**Q2. Write a function that converts a dictionary into a list of keys-values tuples.**\n",
    "\n",
    "SOLUTION IN NEXT CELL:"
   ]
  },
  {
   "cell_type": "code",
   "execution_count": null,
   "id": "673f2a1c",
   "metadata": {},
   "outputs": [],
   "source": [
    "import pyinputplus as pyip\n",
    "\n",
    "def dict_to_list(d):\n",
    "    keys = list(d.keys())\n",
    "    keys.sort()\n",
    "    l = []\n",
    "    for key in keys:\n",
    "        l.append((key, d[key]))\n",
    "    \n",
    "    return l\n",
    "\n",
    "length = pyip.inputNum(\"Enter the length of dictionary\")\n",
    "d = {}\n",
    "for i in range(length):\n",
    "    key = pyip.inputStr(\"Enter the key\")\n",
    "    d[key] = pyip.inputNum(\"Enter the value\")\n",
    "    \n",
    "print(f\"The required list is {dict_to_list(d)}\")"
   ]
  },
  {
   "cell_type": "markdown",
   "id": "7116114a",
   "metadata": {},
   "source": [
    "**Q3. Write a function that creates a dictionary with each (key, value) pair being the (lower case, upper case) versions of a letter, respectively.**\n",
    "\n",
    "SOLUTION IN NEXT CELL:"
   ]
  },
  {
   "cell_type": "code",
   "execution_count": null,
   "id": "f18cef10",
   "metadata": {},
   "outputs": [],
   "source": [
    "import pyinputplus as pyip\n",
    "\n",
    "def mapping(l):\n",
    "    d ={}\n",
    "    for i in l:\n",
    "        d[i.lower()] = i.upper()\n",
    "    return d\n",
    "\n",
    "length = pyip.inputNum(\"Enter the length of list\")\n",
    "\n",
    "l = []\n",
    "for i in range(length):\n",
    "    l.append(pyip.inputStr(\"Enter a character\"))\n",
    "    \n",
    "print(f\"the required dictionary is {mapping(l)}\")"
   ]
  },
  {
   "cell_type": "markdown",
   "id": "a22d35dd",
   "metadata": {},
   "source": [
    "**Q4. Write a function, that replaces all vowels in a string with a specified vowel.**\n",
    "\n",
    "SOLUTION IN NEXT CELL:"
   ]
  },
  {
   "cell_type": "code",
   "execution_count": null,
   "id": "e95b2f12",
   "metadata": {},
   "outputs": [],
   "source": [
    "import pyinputplus as pyip\n",
    "\n",
    "def vow_replace(string, char):\n",
    "    vowel = {'a', 'e', 'i', 'o', 'u'}\n",
    "    new_str = \"\"\n",
    "    for i in string:\n",
    "        if i in vowel:\n",
    "            new_str += char\n",
    "        else:\n",
    "            new_str += i\n",
    "            \n",
    "    return new_str\n",
    "\n",
    "string = pyip.inputStr(\"Enter the string\")\n",
    "char = pyip.inputStr(\"Enter the vowel to replace by\")\n",
    "\n",
    "print(f\"old string: {string}\")\n",
    "print(f\"new string: {vow_replace(string, char)}\")"
   ]
  },
  {
   "cell_type": "markdown",
   "id": "cbe34a4c",
   "metadata": {},
   "source": [
    "**Q5. Create a function that takes a string as input and capitalizes a letter if its ASCII code is even and returns its lower case version if its ASCII code is odd.**\n",
    "\n",
    "SOLUTION IN NEXT CELL:"
   ]
  },
  {
   "cell_type": "code",
   "execution_count": null,
   "id": "34670b97",
   "metadata": {},
   "outputs": [],
   "source": [
    "import pyinputplus as pyip\n",
    "\n",
    "def ascii_capitalize(string):\n",
    "    new_str = \"\"\n",
    "    for i in string:\n",
    "        if ord(i)%2 == 0:\n",
    "            new_str += i.upper()\n",
    "        else:\n",
    "            new_str += i.lower()\n",
    "            \n",
    "    return new_str\n",
    "\n",
    "string = pyip.inputStr(\"Enter the string\")\n",
    "print(f\"old string: {string}\")\n",
    "print(f\"new string: {ascii_capitalize(string)}\")\n"
   ]
  }
 ],
 "metadata": {
  "kernelspec": {
   "display_name": "Python 3 (ipykernel)",
   "language": "python",
   "name": "python3"
  },
  "language_info": {
   "codemirror_mode": {
    "name": "ipython",
    "version": 3
   },
   "file_extension": ".py",
   "mimetype": "text/x-python",
   "name": "python",
   "nbconvert_exporter": "python",
   "pygments_lexer": "ipython3",
   "version": "3.9.0"
  }
 },
 "nbformat": 4,
 "nbformat_minor": 5
}
