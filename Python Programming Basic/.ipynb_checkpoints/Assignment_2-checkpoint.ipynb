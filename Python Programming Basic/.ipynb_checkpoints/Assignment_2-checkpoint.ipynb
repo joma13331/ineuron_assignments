{
 "cells": [
  {
   "cell_type": "markdown",
   "id": "5eb4a1ed",
   "metadata": {},
   "source": [
    "Q1. Write a Python program to convert kilometers to miles?\n",
    "\n",
    "SOLUTION IN NEXT CELL:"
   ]
  },
  {
   "cell_type": "code",
   "execution_count": null,
   "id": "66126f1f",
   "metadata": {},
   "outputs": [],
   "source": [
    "import pyinputplus as pyip \n",
    "def kil_to_mil(kil):\n",
    "    mil = kil*0.621371\n",
    "    return mil\n",
    "\n",
    "km = pyip.inputNum(prompt=\"Enter the Kilometers to convert\")\n",
    "\n",
    "result = kil_to_mil(km)\n",
    "\n",
    "print(\"{}km is equal to  {}miles\".format(km,result))"
   ]
  },
  {
   "cell_type": "markdown",
   "id": "52878674",
   "metadata": {},
   "source": [
    "Q2. Write a Python program to convert Celsius to Fahrenheit?\n",
    "\n",
    "SOLUTION IN NEXT CELL:"
   ]
  },
  {
   "cell_type": "code",
   "execution_count": null,
   "id": "cdd61385",
   "metadata": {},
   "outputs": [],
   "source": [
    "import pyinputplus as pyip \n",
    "\n",
    "def cel_to_fahr(cel):\n",
    "    fahr = cel*9/5 + 32\n",
    "    return fahr\n",
    "\n",
    "celsius = pyip.inputNum(prompt=\"Enter the celcius to convert\")\n",
    "\n",
    "result = cel_to_fahr(celsius)\n",
    "\n",
    "print(\"{}C is equal to  {}F\".format(celsius,result))"
   ]
  },
  {
   "cell_type": "markdown",
   "id": "3c6857cb",
   "metadata": {},
   "source": [
    "Q3. Write a Python program to display calendar?\n",
    "\n",
    "SOLUTION IN NEXT CELL:"
   ]
  },
  {
   "cell_type": "code",
   "execution_count": null,
   "id": "60cacc8a",
   "metadata": {},
   "outputs": [],
   "source": [
    "import pyinputplus as pyip \n",
    "import calendar\n",
    "\n",
    "choice = pyip.inputMenu([\"Specific Month\", \"Whole Year\"],\n",
    "                       prompt=\"Enter the choice for calender you want to see[Enter 1/2]\",\n",
    "                       numbered=True)\n",
    "\n",
    "if choice == \"Specific Month\":\n",
    "    month = pyip.inputInt(prompt=\"Enter the Month[Enter 1-12]\",\n",
    "                          )\n",
    "    year = pyip.inputInt(prompt=\"Enter the year\")\n",
    "    \n",
    "    print(calendar.month(year, month))\n",
    "else:\n",
    "    year = pyip.inputInt(prompt=\"Enter the year\")\n",
    "    print(calendar.calendar(year))"
   ]
  },
  {
   "cell_type": "markdown",
   "id": "820d04f2",
   "metadata": {},
   "source": [
    "Q4. Write a Python program to solve quadratic equation?\n",
    "\n",
    "SOLUTION IN NEXT CELL:"
   ]
  },
  {
   "cell_type": "code",
   "execution_count": null,
   "id": "2a1cb5be",
   "metadata": {},
   "outputs": [],
   "source": [
    "import pyinputplus as pyip\n",
    "import math\n",
    "\n",
    "def quad(a,b,c):\n",
    "    d = b**2 - 4*a*c\n",
    "    if d>=0:\n",
    "        x1 = (-b + math.sqrt(d))/(2*a)\n",
    "        x2 = (-b - math.sqrt(d))/(2*a)\n",
    "    else:\n",
    "        x1 = complex(-b/(2*a), math.sqrt(-d)/(2*a))\n",
    "        x2 = complex(-b/(2*a), -math.sqrt(-d)/(2*a))\n",
    "    \n",
    "    return x1, x2\n",
    "\n",
    "print(\"For a Quatdratic equation of the Form \\\"ax^2 + bx +c\\\", Enter \")\n",
    "a = pyip.inputNum(prompt=\"a?\")\n",
    "b = pyip.inputNum(prompt=\"b?\")\n",
    "c = pyip.inputNum(prompt=\"c?\")\n",
    "\n",
    "r1, r2 = quad(a,b,c)\n",
    "\n",
    "print(\"the quadraticequation: {}x^2 + {}x + {} has roots\\n{} and {}\".format(a,b,c,r1,r2))"
   ]
  },
  {
   "cell_type": "markdown",
   "id": "9ec77782",
   "metadata": {},
   "source": [
    "Q5. Write a Python program to swap two variables without temp variable?\n",
    "\n",
    "SOLUTION IN NEXT CELL:"
   ]
  },
  {
   "cell_type": "code",
   "execution_count": null,
   "id": "58298255",
   "metadata": {},
   "outputs": [],
   "source": [
    "import pyinputplus as pyip\n",
    "\n",
    "def swap(a,b):\n",
    "    a = a+b\n",
    "    b = a-b\n",
    "    a = a-b\n",
    "    return a, b\n",
    "\n",
    "inp1 = pyip.inputNum(prompt=\"Enter the first number\")\n",
    "inp2 = pyip.inputNum(prompt=\"Enter the second number\")\n",
    "\n",
    "print(\"Before Swapping \\n inp1 = {} and inp2 = {}\".format(inp1, inp2))\n",
    "\n",
    "inp1, inp2 = swap(inp1, inp2)\n",
    "\n",
    "print(\"After Swapping \\n inp1 = {} and inp2 = {}\".format(inp1, inp2))"
   ]
  }
 ],
 "metadata": {
  "kernelspec": {
   "display_name": "Python 3 (ipykernel)",
   "language": "python",
   "name": "python3"
  },
  "language_info": {
   "codemirror_mode": {
    "name": "ipython",
    "version": 3
   },
   "file_extension": ".py",
   "mimetype": "text/x-python",
   "name": "python",
   "nbconvert_exporter": "python",
   "pygments_lexer": "ipython3",
   "version": "3.9.0"
  }
 },
 "nbformat": 4,
 "nbformat_minor": 5
}
