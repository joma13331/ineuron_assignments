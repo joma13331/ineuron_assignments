{
 "cells": [
  {
   "cell_type": "markdown",
   "id": "fff4b4ce",
   "metadata": {},
   "source": [
    "**Q1. Create a function that takes three arguments a, b, c and returns the sum of the numbers that are evenly divided by c from the range a, b inclusive.**\n",
    "\n",
    "SOLUTION IN NEXT CELL"
   ]
  },
  {
   "cell_type": "code",
   "execution_count": null,
   "id": "ff559097",
   "metadata": {},
   "outputs": [],
   "source": [
    "import pyinputplus as pyip\n",
    "\n",
    "def evenly_divisible(start, end, diff):\n",
    "    res = 0\n",
    "    for i in range(start, end+1,1):\n",
    "        if i%diff==0:\n",
    "            res += i\n",
    "    return res\n",
    "\n",
    "start = pyip.inputNum(\"Enter the start of range\")\n",
    "end = pyip.inputNum(\"Enter the end of range\")\n",
    "diff = pyip.inputNum(\"Enter the difference within the range\")\n",
    "\n",
    "print(\"The result for start={}, end={} and difference={} is {}\".format(start, end, diff, evenly_divisible(start, end, diff)))"
   ]
  },
  {
   "cell_type": "markdown",
   "id": "fbe1d34f",
   "metadata": {},
   "source": [
    "**Q2. Create a function that returns True if a given inequality expression is correct and False otherwise.**\n",
    "\n",
    "SOLUTION IN NEXT CELL"
   ]
  },
  {
   "cell_type": "code",
   "execution_count": null,
   "id": "b8b29c6c",
   "metadata": {},
   "outputs": [],
   "source": [
    "import pyinputplus as pyip\n",
    "\n",
    "def correct_signs(expression):\n",
    "    return eval(expression)\n",
    "\n",
    "exp = pyip.inputStr(\"Enter the expression\")\n",
    "\n",
    "print(\"the expression is {}\".format(correct_signs(exp)))"
   ]
  },
  {
   "cell_type": "markdown",
   "id": "d8b9f8c4",
   "metadata": {},
   "source": [
    "**Q3. Create a function that replaces all the vowels in a string with a specified character.**\n",
    "\n",
    "SOLUTION IN NEXT CELL"
   ]
  },
  {
   "cell_type": "code",
   "execution_count": null,
   "id": "e4a5fc08",
   "metadata": {},
   "outputs": [],
   "source": [
    "import pyinputplus as pyip\n",
    "\n",
    "def replace_vowels(string, spec_char):\n",
    "    new_string = \"\"\n",
    "    vowels = list(\"aeiou\")\n",
    "    \n",
    "    for i in string:\n",
    "        if i in vowels:\n",
    "            new_string += spec_char\n",
    "        else:\n",
    "            new_string += i\n",
    "    return new_string\n",
    "\n",
    "exp = pyip.inputStr(\"Enter the string\")\n",
    "spe_char = pyip.inputStr(\"Enter the special character\")\n",
    "\n",
    "print(\"the new string is {}\".format(replace_vowels(exp, spe_char)))"
   ]
  },
  {
   "cell_type": "markdown",
   "id": "57f294fc",
   "metadata": {},
   "source": [
    "**Q4. Write a function that calculates the factorial of a number recursively.**\n",
    "\n",
    "SOLUTION IN NEXT CELL"
   ]
  },
  {
   "cell_type": "code",
   "execution_count": null,
   "id": "3b8f9002",
   "metadata": {},
   "outputs": [],
   "source": [
    "import pyinputplus as pyip\n",
    "\n",
    "def factorial(num):\n",
    "    if num==0 or num==1:\n",
    "        return 1\n",
    "    result = num*factorial(num-1)\n",
    "    \n",
    "    return result\n",
    "num = pyip.inputNum(\"Enter the number to calculate factorial\")\n",
    "\n",
    "print(\"The factorial of  {} is {}\".format(num, factorial(num)))"
   ]
  },
  {
   "cell_type": "markdown",
   "id": "f7100783",
   "metadata": {},
   "source": [
    "**Q5. Create a function that computes the hamming distance between two strings.**\n",
    "\n",
    "SOLUTION IN NEXT CELL"
   ]
  },
  {
   "cell_type": "code",
   "execution_count": null,
   "id": "1f1f6eb2",
   "metadata": {},
   "outputs": [],
   "source": [
    "import pyinputplus as pyip\n",
    "\n",
    "def hamming_distance(str1, str2):\n",
    "    distance = 0\n",
    "    for i in range(len(str1)):\n",
    "        if str1[i] != str2[i]:\n",
    "            distance +=1\n",
    "    return distance\n",
    "\n",
    "try:\n",
    "    str1 = pyip.inputStr(\"Enter the first string \")\n",
    "    str2 = pyip.inputStr(\"Enter the second string \")\n",
    "    if len(str1) != len(str2):\n",
    "        raise Exception(\"String of Different Length\")\n",
    "    print(\"the hamming distance between the two strings is {}\".format(hamming_distance(str1, str2)))\n",
    "    \n",
    "except Exception as e:\n",
    "    print(\"ERROR: \" + str(e))"
   ]
  }
 ],
 "metadata": {
  "kernelspec": {
   "display_name": "Python 3 (ipykernel)",
   "language": "python",
   "name": "python3"
  },
  "language_info": {
   "codemirror_mode": {
    "name": "ipython",
    "version": 3
   },
   "file_extension": ".py",
   "mimetype": "text/x-python",
   "name": "python",
   "nbconvert_exporter": "python",
   "pygments_lexer": "ipython3",
   "version": "3.9.0"
  }
 },
 "nbformat": 4,
 "nbformat_minor": 5
}
