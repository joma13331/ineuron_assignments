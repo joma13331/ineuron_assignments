{
 "cells": [
  {
   "cell_type": "markdown",
   "id": "33b6b59a",
   "metadata": {},
   "source": [
    "Q1. Write a Python program to check if the given number is a Disarium Number?\n",
    "\n",
    "SOLUTION IN NEXT CELL:"
   ]
  },
  {
   "cell_type": "code",
   "execution_count": null,
   "id": "0f678bac",
   "metadata": {},
   "outputs": [],
   "source": [
    "import pyinputplus as pyip\n",
    "\n",
    "def disarium(num):\n",
    "    n = len(str(num))\n",
    "    \n",
    "    sum_n = 0\n",
    "    \n",
    "    count = 1\n",
    "    for i in str(num):\n",
    "        sum_n += int(i)**(count)\n",
    "        count += 1\n",
    "    \n",
    "    if sum_n==num:\n",
    "        print(\"{} is an Disarium Number\".format(num))\n",
    "    else:\n",
    "        print(\"{} is Not an Disarium Number\".format(num))\n",
    "        \n",
    "inp = pyip.inputNum(prompt=\"Enter The Number to check for Disarium\")\n",
    "disarium(inp)"
   ]
  },
  {
   "cell_type": "markdown",
   "id": "5d7cd798",
   "metadata": {},
   "source": [
    "Q2. Write a Python program to print all disarium numbers between 1 to 100?\n",
    "\n",
    "SOLUTION IN NEXT CELL:"
   ]
  },
  {
   "cell_type": "code",
   "execution_count": null,
   "id": "b7575fe7",
   "metadata": {},
   "outputs": [],
   "source": [
    "import pyinputplus as pyip\n",
    "\n",
    "start = pyip.inputNum(prompt=\"Enter First number of Interval (ENTER 1)\")\n",
    "end = pyip.inputNum(prompt=\"Enter Last number of Interval (ENTER 100)\")\n",
    "\n",
    "def calc(num):\n",
    "    n = len(str(num))\n",
    "    sum_n = 0\n",
    "    \n",
    "    count = 1\n",
    "    for i in str(num):\n",
    "        sum_n += int(i)**count\n",
    "        count +=1\n",
    "        \n",
    "    return sum_n\n",
    "\n",
    "print(\"The Diasarium number between {} and {} are displayed below\".format(start, end))\n",
    "for i in range(start, end+1):\n",
    "    res = calc(i)\n",
    "    if res == i:\n",
    "        print(\"{}\".format(i), end=\" \")"
   ]
  },
  {
   "cell_type": "markdown",
   "id": "ef3d83c4",
   "metadata": {},
   "source": [
    "Q3. Write a Python program to check if the given number is Happy Number?\n",
    "\n",
    "SOLUTION IN NEXT CELL:"
   ]
  },
  {
   "cell_type": "code",
   "execution_count": null,
   "id": "54c1ca2e",
   "metadata": {},
   "outputs": [],
   "source": [
    "import pyinputplus as pyip\n",
    "\n",
    "def happy(number):\n",
    "    \n",
    "    num = number    \n",
    "    previous = set()\n",
    "       \n",
    "    while num>=1 and num not in previous:\n",
    "        \n",
    "        previous.add(num)\n",
    "        sum1 = 0\n",
    "        for i in str(num):\n",
    "            sum1 += int(i)**2\n",
    "        \n",
    "        num = sum1\n",
    "        if num == 1:\n",
    "            print(\"{} is a Happy Number\".format(number))\n",
    "            return None\n",
    "            \n",
    "    print(\"{} is Not a Happy Number\".format(number))\n",
    "        \n",
    "inp = pyip.inputNum(prompt=\"Enter The Number to check for Disarium\")\n",
    "happy(inp)"
   ]
  },
  {
   "cell_type": "markdown",
   "id": "3e259e21",
   "metadata": {},
   "source": [
    "Q4. Write a Python program to print all happy numbers between 1 and 100?\n",
    "\n",
    "SOLUTION IN NEXT CELL:"
   ]
  },
  {
   "cell_type": "code",
   "execution_count": null,
   "id": "99652725",
   "metadata": {},
   "outputs": [],
   "source": [
    "import pyinputplus as pyip\n",
    "\n",
    "start = pyip.inputNum(prompt=\"Enter First number of Interval (ENTER 1)\")\n",
    "end = pyip.inputNum(prompt=\"Enter Last number of Interval (ENTER 100)\")\n",
    "\n",
    "def calc(number):\n",
    "    num = number    \n",
    "    previous = set()\n",
    "       \n",
    "    while num>=1 and num not in previous:\n",
    "        \n",
    "        previous.add(num)\n",
    "        sum1 = 0\n",
    "        for i in str(num):\n",
    "            sum1 += int(i)**2\n",
    "        \n",
    "        num = sum1\n",
    "        if num == 1:\n",
    "            return number\n",
    "\n",
    "print(\"The Diasarium number between {} and {} are displayed below\".format(start, end))\n",
    "for i in range(start, end+1):\n",
    "    res = calc(i)\n",
    "    if res == i:\n",
    "        print(\"{}\".format(i), end=\" \")"
   ]
  },
  {
   "cell_type": "markdown",
   "id": "116ff1e2",
   "metadata": {},
   "source": [
    "Q5. Write a Python program to determine whether the given number is a Harshad Number?\n",
    "\n",
    "SOLUTION IN NEXT CELL:"
   ]
  },
  {
   "cell_type": "code",
   "execution_count": null,
   "id": "aeb6e3b8",
   "metadata": {},
   "outputs": [],
   "source": [
    "import pyinputplus as pyip\n",
    "\n",
    "def harshad(number):\n",
    "    sum_n = 0\n",
    "    \n",
    "    count = 1\n",
    "    for i in str(number):\n",
    "        sum_n += int(i)\n",
    "        \n",
    "    \n",
    "    if number%sum_n == 0:\n",
    "        print(\"{} is an Harshad Number\".format(number))\n",
    "    else:\n",
    "        print(\"{} is Not an Harshad Number\".format(number))\n",
    "        \n",
    "inp = pyip.inputNum(prompt=\"Enter The Number to check for Disarium\")\n",
    "harshad(inp)"
   ]
  },
  {
   "cell_type": "markdown",
   "id": "112b3c79",
   "metadata": {},
   "source": [
    "Q6. Write a Python program to print all pronic numbers between 1 and 100?\n",
    "\n",
    "SOLUTION IN NEXT CELL:"
   ]
  },
  {
   "cell_type": "code",
   "execution_count": null,
   "id": "c7954e7a",
   "metadata": {},
   "outputs": [],
   "source": [
    "import pyinputplus as pyip\n",
    "\n",
    "start = pyip.inputNum(prompt=\"Enter First number of Interval (ENTER 1)\")\n",
    "end = pyip.inputNum(prompt=\"Enter Last number of Interval (ENTER 100)\")\n",
    "\n",
    "def calc(start, end):\n",
    "    \n",
    "    res = start\n",
    "    while res < end:\n",
    "        start += 1\n",
    "        res = start*(start+1)\n",
    "        yield res\n",
    "    \n",
    "\n",
    "print(\"The Diasarium number between {} and {} are displayed below\".format(start, end))\n",
    "for i in calc(start-1, end):\n",
    "    print(\"{}\".format(i), end=\" \")"
   ]
  }
 ],
 "metadata": {
  "kernelspec": {
   "display_name": "Python 3 (ipykernel)",
   "language": "python",
   "name": "python3"
  },
  "language_info": {
   "codemirror_mode": {
    "name": "ipython",
    "version": 3
   },
   "file_extension": ".py",
   "mimetype": "text/x-python",
   "name": "python",
   "nbconvert_exporter": "python",
   "pygments_lexer": "ipython3",
   "version": "3.9.0"
  }
 },
 "nbformat": 4,
 "nbformat_minor": 5
}
