{
 "cells": [
  {
   "cell_type": "markdown",
   "id": "50f1d569",
   "metadata": {},
   "source": [
    "**Q1. Create a function that takes a list of strings and integers, and filters out the list so that it returns a list of integers only.**\n",
    "\n",
    "SOLUTION IN NEXT CELL:"
   ]
  },
  {
   "cell_type": "code",
   "execution_count": null,
   "id": "3a89fe95",
   "metadata": {},
   "outputs": [],
   "source": [
    "import pyinputplus as pyip\n",
    "\n",
    "def filter_list(l1):\n",
    "    new_list = []\n",
    "    for i in l1:\n",
    "        if type(i) == int:\n",
    "            new_list.append(i)\n",
    "    return new_list\n",
    "\n",
    "choice = pyip.inputNum(\"Enter the number of items in the list\")\n",
    "l1 = []\n",
    "for i in range(choice):\n",
    "    val = input(\"Enter a number or string \")\n",
    "    try:\n",
    "        l1.append(int(val))\n",
    "    except Exception:\n",
    "        pass\n",
    "    \n",
    "print(\"The new list is {}\".format(filter_list(l1)))"
   ]
  },
  {
   "cell_type": "markdown",
   "id": "89298482",
   "metadata": {},
   "source": [
    "**Q2. Given a list of numbers, create a function which returns the list but with each element's index in the list added to itself.**"
   ]
  },
  {
   "cell_type": "code",
   "execution_count": null,
   "id": "4f2e4ff0",
   "metadata": {},
   "outputs": [],
   "source": [
    "import pyinputplus as pyip\n",
    "\n",
    "def add_indexes(list1):\n",
    "    new_list =[]\n",
    "    for i in range(len(list1)):\n",
    "        new_list.append(i+list1[i])\n",
    "    return new_list\n",
    "\n",
    "choice = pyip.inputNum(\"Enter the number of items in the list\")\n",
    "l1 = []\n",
    "for i in range(choice):\n",
    "    l1.append(pyip.inputNum(\"Enter a number \"))\n",
    "    \n",
    "print(\"The resultant list is {}\".format(add_indexes(l1)))"
   ]
  },
  {
   "cell_type": "markdown",
   "id": "4b0a4bdf",
   "metadata": {},
   "source": [
    "**Q3. Create a function that takes the height and radius of a cone as arguments and returns the volume of the cone rounded to the nearest hundredth.**"
   ]
  },
  {
   "cell_type": "code",
   "execution_count": null,
   "id": "e2154b30",
   "metadata": {},
   "outputs": [],
   "source": [
    "import pyinputplus as pyip\n",
    "from math import pi\n",
    "\n",
    "def cone_volume(h, r):\n",
    "    return (r**2)*h*pi/3\n",
    "\n",
    "h = pyip.inputNum(\"enter the height of the cone\")\n",
    "r = pyip.inputNum(\"Enter the radiusof the cone\")\n",
    "\n",
    "print(\"the volume of the given cone is {}\".format(format(cone_volume(h,r),\".2f\")))"
   ]
  },
  {
   "cell_type": "markdown",
   "id": "01be755c",
   "metadata": {},
   "source": [
    "**Q4. Write a function that gives the number of dots with its corresponding triangle number of the sequence.**"
   ]
  },
  {
   "cell_type": "code",
   "execution_count": null,
   "id": "d8da6912",
   "metadata": {},
   "outputs": [],
   "source": [
    "import pyinputplus as pyip\n",
    "\n",
    "def triangle(num):\n",
    "    diff = 1\n",
    "    res = 0\n",
    "    for i in range(num):\n",
    "        res += diff\n",
    "        diff += 1\n",
    "    return res\n",
    "\n",
    "num = pyip.inputNum(\"Enter the triangle number\")\n",
    "\n",
    "print(\"The number of dots for the {} triangle number is {}.\".format(num, triangle(num)))"
   ]
  },
  {
   "cell_type": "markdown",
   "id": "14e3473c",
   "metadata": {},
   "source": [
    "**Q5. Create a function that takes a list of numbers between 1 and 10 (excluding one number) and returns the missing number.**"
   ]
  },
  {
   "cell_type": "code",
   "execution_count": null,
   "id": "80d9be22",
   "metadata": {},
   "outputs": [],
   "source": [
    "import pyinputplus as pyip\n",
    "\n",
    "def missing_num(list1):\n",
    "    for i in range(1, 11,1):\n",
    "        if i not in list1:\n",
    "            return i\n",
    "\n",
    "l1 = []\n",
    "\n",
    "for i in range(9):\n",
    "    l1.append(pyip.inputInt(\"Enter a number between 1 and 10\", max=10, min=1))\n",
    "    \n",
    "print(\"The missing number from the list is {}\".format(missing_num(l1)))"
   ]
  }
 ],
 "metadata": {
  "kernelspec": {
   "display_name": "Python 3 (ipykernel)",
   "language": "python",
   "name": "python3"
  },
  "language_info": {
   "codemirror_mode": {
    "name": "ipython",
    "version": 3
   },
   "file_extension": ".py",
   "mimetype": "text/x-python",
   "name": "python",
   "nbconvert_exporter": "python",
   "pygments_lexer": "ipython3",
   "version": "3.9.0"
  }
 },
 "nbformat": 4,
 "nbformat_minor": 5
}
