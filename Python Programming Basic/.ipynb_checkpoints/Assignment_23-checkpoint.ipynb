{
 "cells": [
  {
   "cell_type": "markdown",
   "id": "97c6db60",
   "metadata": {},
   "source": [
    "**Q1. Create a function that takes a number as an argument and returns True or False depending on whether the number is symmetrical or not.**\n",
    "\n",
    "SOLUTION IN NEXT CELL:"
   ]
  },
  {
   "cell_type": "code",
   "execution_count": null,
   "id": "1dca7f70",
   "metadata": {},
   "outputs": [],
   "source": [
    "import pyinputplus as pyip\n",
    "\n",
    "def is_symmetrical(num):\n",
    "    string = str(num)\n",
    "    if string == string[::-1]:\n",
    "        return True\n",
    "    return False\n",
    "\n",
    "num = pyip.inputNum(\"Enter a number\")\n",
    "\n",
    "print(\"{} is a symmetrical number is a {} statement\".format(num, is_symmetrical(num)))\n"
   ]
  },
  {
   "cell_type": "markdown",
   "id": "f871dc02",
   "metadata": {},
   "source": [
    "**Q2. Given a string of numbers separated by a comma and space, return the product of the numbers.**\n",
    "\n",
    "SOLUTION IN NEXT CELL:"
   ]
  },
  {
   "cell_type": "code",
   "execution_count": null,
   "id": "24b10891",
   "metadata": {},
   "outputs": [],
   "source": [
    "import pyinputplus as pyip\n",
    "\n",
    "def multiply_nums(string):\n",
    "    list_num = string.split(\", \")\n",
    "    prod = 1\n",
    "    for i in list_num:\n",
    "        prod *= int(i)\n",
    "        \n",
    "    return prod\n",
    "\n",
    "string = pyip.inputStr(\"Enter numbers deparate by comma and space\")\n",
    "\n",
    "print(\"The product of following numbers {} is {}\".format(string, multiply_nums(string)))"
   ]
  },
  {
   "cell_type": "markdown",
   "id": "3adf027e",
   "metadata": {},
   "source": [
    "**Q3. Create a function that squares every digit of a number.**\n",
    "\n",
    "SOLUTION IN NEXT CELL:"
   ]
  },
  {
   "cell_type": "code",
   "execution_count": null,
   "id": "aa245895",
   "metadata": {},
   "outputs": [],
   "source": [
    "import pyinputplus as pyip\n",
    "\n",
    "def square_digits(num):\n",
    "    string = str(num)\n",
    "    res = \"\"\n",
    "    for i in string:\n",
    "        res+=str(int(i)**2)\n",
    "    \n",
    "    return int(res)\n",
    "\n",
    "num = pyip.inputNum(\"Enter a number\")\n",
    "\n",
    "print(\"The square of digits of {} is {}\".format(num, square_digits(num)))"
   ]
  },
  {
   "cell_type": "markdown",
   "id": "855cba3c",
   "metadata": {},
   "source": [
    "**Q4. Create a function that sorts a list and removes all duplicate items from it.**\n",
    "\n",
    "SOLUTION IN NEXT CELL:"
   ]
  },
  {
   "cell_type": "code",
   "execution_count": null,
   "id": "3c9bec75",
   "metadata": {},
   "outputs": [],
   "source": [
    "import pyinputplus as pyip\n",
    "\n",
    "def setify(l):\n",
    "    s = set(l)\n",
    "    res = list(s)\n",
    "    res.sort()\n",
    "    \n",
    "    return res\n",
    "\n",
    "length = pyip.inputNum(\"Enter the length of lists\")\n",
    "\n",
    "l1 = []\n",
    "for i in range(length):\n",
    "    l1.append(pyip.inputNum(\"Enter a number\"))\n",
    "    \n",
    "print(\"The result for list {} is {}\".format(l1, setify(l1)))"
   ]
  },
  {
   "cell_type": "markdown",
   "id": "747fae4d",
   "metadata": {},
   "source": [
    "**Q5. Create a function that returns the mean of all digits.**\n",
    "\n",
    "SOLUTION IN NEXT CELL:"
   ]
  },
  {
   "cell_type": "code",
   "execution_count": null,
   "id": "9ce6de9f",
   "metadata": {},
   "outputs": [],
   "source": [
    "import pyinputplus as pyip\n",
    "\n",
    "def mean(num):\n",
    "    sum1 = 0\n",
    "    string = str(num)\n",
    "    for i in string:\n",
    "        sum1 += int(i)\n",
    "        \n",
    "    return int(sum1/len(string))\n",
    "\n",
    "num = pyip.inputNum(\"Enter a number\")\n",
    "\n",
    "print(\"The mean of digits of {} is {}\".format(num, mean(num)))"
   ]
  }
 ],
 "metadata": {
  "kernelspec": {
   "display_name": "Python 3 (ipykernel)",
   "language": "python",
   "name": "python3"
  },
  "language_info": {
   "codemirror_mode": {
    "name": "ipython",
    "version": 3
   },
   "file_extension": ".py",
   "mimetype": "text/x-python",
   "name": "python",
   "nbconvert_exporter": "python",
   "pygments_lexer": "ipython3",
   "version": "3.9.0"
  }
 },
 "nbformat": 4,
 "nbformat_minor": 5
}
