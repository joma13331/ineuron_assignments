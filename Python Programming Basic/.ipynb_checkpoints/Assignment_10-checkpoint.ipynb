{
 "cells": [
  {
   "cell_type": "markdown",
   "id": "d8303275",
   "metadata": {},
   "source": [
    "Q1. Write a Python program to find sum of elements in list?\n",
    "\n",
    "SOLUTION IN NEXT CELL:"
   ]
  },
  {
   "cell_type": "code",
   "execution_count": null,
   "id": "a941d756",
   "metadata": {},
   "outputs": [],
   "source": [
    "import pyinputplus as pyip\n",
    "\n",
    "def sum_list(arr):\n",
    "    sum_a = 0\n",
    "    for i in arr:\n",
    "        sum_a += i\n",
    "    return sum_a\n",
    "\n",
    "ans = \"Yes\"\n",
    "array = []\n",
    "while ans == \"Yes\":\n",
    "    \n",
    "    val = pyip.inputNum(prompt = \"Enter a Number\")\n",
    "    \n",
    "    array.append(val)\n",
    "    ans = pyip. inputMenu([\"Yes\", \"No\"],\n",
    "                         prompt=\"Add another Number\",\n",
    "                         numbered=True)\n",
    "\n",
    "\n",
    "print(\"The sum of the list elements entered is {}\".format(sum_list(array)))"
   ]
  },
  {
   "cell_type": "markdown",
   "id": "ddd6a677",
   "metadata": {},
   "source": [
    "Q2. Write a Python program to Multiply all numbers in the list?\n",
    "\n",
    "SOLUTION IN NEXT CELL:"
   ]
  },
  {
   "cell_type": "code",
   "execution_count": null,
   "id": "0e69b9cd",
   "metadata": {},
   "outputs": [],
   "source": [
    "import pyinputplus as pyip\n",
    "\n",
    "def mul_list(arr):\n",
    "    prod_a = 1\n",
    "    for i in arr:\n",
    "        prod_a *= i\n",
    "    return prod_a\n",
    "\n",
    "ans = \"Yes\"\n",
    "array = []\n",
    "while ans == \"Yes\":\n",
    "    \n",
    "    val = pyip.inputNum(prompt = \"Enter a Number\")\n",
    "    \n",
    "    array.append(val)\n",
    "    ans = pyip. inputMenu([\"Yes\", \"No\"],\n",
    "                         prompt=\"Add another Number\",\n",
    "                         numbered=True)\n",
    "\n",
    "\n",
    "print(\"The product of the list elements entered is {}\".format(mul_list(array)))"
   ]
  },
  {
   "cell_type": "markdown",
   "id": "1daed919",
   "metadata": {},
   "source": [
    "Q3. Write a Python program to find smallest number in a list?\n",
    "\n",
    "SOLUTION IN NEXT CELL:"
   ]
  },
  {
   "cell_type": "code",
   "execution_count": null,
   "id": "e40dbb4b",
   "metadata": {},
   "outputs": [],
   "source": [
    "import pyinputplus as pyip\n",
    "\n",
    "def min_list(arr):\n",
    "    arr.sort(reverse=True)\n",
    "    return arr[-1]\n",
    "\n",
    "ans = \"Yes\"\n",
    "array = []\n",
    "while ans == \"Yes\":\n",
    "    \n",
    "    val = pyip.inputNum(prompt = \"Enter a Number\")\n",
    "    \n",
    "    array.append(val)\n",
    "    ans = pyip. inputMenu([\"Yes\", \"No\"],\n",
    "                         prompt=\"Add another Number\",\n",
    "                         numbered=True)\n",
    "\n",
    "\n",
    "print(\"The minimum element in the list elements is {}\".format(min_list(array)))"
   ]
  },
  {
   "cell_type": "markdown",
   "id": "011fee5c",
   "metadata": {},
   "source": [
    "Q4. Write a Python program to find largest number in a list?\n",
    "\n",
    "SOLUTION IN NEXT CELL:"
   ]
  },
  {
   "cell_type": "code",
   "execution_count": null,
   "id": "0411f399",
   "metadata": {},
   "outputs": [],
   "source": [
    "import pyinputplus as pyip\n",
    "\n",
    "def max_list(arr):\n",
    "    arr.sort(reverse=True)\n",
    "    return arr[0]\n",
    "\n",
    "ans = \"Yes\"\n",
    "array = []\n",
    "while ans == \"Yes\":\n",
    "    \n",
    "    val = pyip.inputNum(prompt = \"Enter a Number\")\n",
    "    \n",
    "    array.append(val)\n",
    "    ans = pyip. inputMenu([\"Yes\", \"No\"],\n",
    "                         prompt=\"Add another Number\",\n",
    "                         numbered=True)\n",
    "\n",
    "\n",
    "print(\"The largest element in the list elements is {}\".format(max_list(array)))"
   ]
  },
  {
   "cell_type": "markdown",
   "id": "bc507e6e",
   "metadata": {},
   "source": [
    "Q5. Write a Python program to find second largest number in a list?\n",
    "\n",
    "SOLUTION IN NEXT CELL:"
   ]
  },
  {
   "cell_type": "code",
   "execution_count": null,
   "id": "c6bb34bd",
   "metadata": {},
   "outputs": [],
   "source": [
    "import pyinputplus as pyip\n",
    "\n",
    "def max_2nd_list(arr):\n",
    "    arr.sort(reverse=True)\n",
    "    return arr[1]\n",
    "\n",
    "ans = \"Yes\"\n",
    "array = []\n",
    "while ans == \"Yes\":\n",
    "    \n",
    "    val = pyip.inputNum(prompt = \"Enter a Number\")\n",
    "    \n",
    "    array.append(val)\n",
    "    ans = pyip. inputMenu([\"Yes\", \"No\"],\n",
    "                         prompt=\"Add another Number\",\n",
    "                         numbered=True)\n",
    "\n",
    "\n",
    "print(\"The second largest element in the list elements is {}\".format(max_2nd_list(array)))"
   ]
  },
  {
   "cell_type": "markdown",
   "id": "e27f647b",
   "metadata": {},
   "source": [
    "Q6. Write a Python program to find N largest elements from a list?\n",
    "\n",
    "SOLUTION IN NEXT CELL:"
   ]
  },
  {
   "cell_type": "code",
   "execution_count": null,
   "id": "bda0da00",
   "metadata": {},
   "outputs": [],
   "source": [
    "import pyinputplus as pyip\n",
    "\n",
    "def max_n_list(arr, n):\n",
    "    arr.sort(reverse=True)\n",
    "    return arr[:n]\n",
    "\n",
    "ans = \"Yes\"\n",
    "array = []\n",
    "while ans == \"Yes\":\n",
    "    \n",
    "    val = pyip.inputNum(prompt = \"Enter a Number\")\n",
    "    \n",
    "    array.append(val)\n",
    "    ans = pyip. inputMenu([\"Yes\", \"No\"],\n",
    "                         prompt=\"Add another Number\",\n",
    "                         numbered=True)\n",
    "\n",
    "num = pyip.inputNum(prompt = \"How may largest numbers required\")\n",
    "print(\"The {} largest element in the list elements is {}\".format(num, max_n_list(array, num)))"
   ]
  },
  {
   "cell_type": "markdown",
   "id": "cd753b33",
   "metadata": {},
   "source": [
    "Q7. Write a Python program to print even numbers in a list?\n",
    "\n",
    "SOLUTION IN NEXT CELL:"
   ]
  },
  {
   "cell_type": "code",
   "execution_count": null,
   "id": "a4dc19fb",
   "metadata": {},
   "outputs": [],
   "source": [
    "import pyinputplus as pyip\n",
    "\n",
    "def even_list(arr):\n",
    "    for i in arr:\n",
    "        if i%2 == 0:\n",
    "            yield i\n",
    "    \n",
    "\n",
    "ans = \"Yes\"\n",
    "array = []\n",
    "while ans == \"Yes\":\n",
    "    \n",
    "    val = pyip.inputNum(prompt = \"Enter a Number\")\n",
    "    \n",
    "    array.append(val)\n",
    "    ans = pyip. inputMenu([\"Yes\", \"No\"],\n",
    "                         prompt=\"Add another Number\",\n",
    "                         numbered=True)\n",
    "\n",
    "print(\"Even number in the given list:\")\n",
    "for i in even_list(array):\n",
    "    print(\"{}\".format(i), end=\" \")"
   ]
  },
  {
   "cell_type": "markdown",
   "id": "65a920c5",
   "metadata": {},
   "source": [
    "Q8. Write a Python program to print odd numbers in a List?\n",
    "\n",
    "SOLUTION IN NEXT CELL:"
   ]
  },
  {
   "cell_type": "code",
   "execution_count": null,
   "id": "0fbe27ac",
   "metadata": {},
   "outputs": [],
   "source": [
    "import pyinputplus as pyip\n",
    "\n",
    "def odd_list(arr):\n",
    "    for i in arr:\n",
    "        if i%2 == 1:\n",
    "            yield i\n",
    "    \n",
    "\n",
    "ans = \"Yes\"\n",
    "array = []\n",
    "while ans == \"Yes\":\n",
    "    \n",
    "    val = pyip.inputNum(prompt = \"Enter a Number\")\n",
    "    \n",
    "    array.append(val)\n",
    "    ans = pyip.inputMenu([\"Yes\", \"No\"],\n",
    "                         prompt=\"Add another Number\",\n",
    "                         numbered=True)\n",
    "\n",
    "print(\"Even number in the given list:\")\n",
    "for i in odd_list(array):\n",
    "    print(\"{}\".format(i), end=\" \")"
   ]
  },
  {
   "cell_type": "markdown",
   "id": "4a217a92",
   "metadata": {},
   "source": [
    "Q9. Write a Python program to Remove empty List from List?\n",
    "\n",
    "SOLUTION IN NEXT CELL:"
   ]
  },
  {
   "cell_type": "code",
   "execution_count": null,
   "id": "ba762133",
   "metadata": {},
   "outputs": [],
   "source": [
    "list_orig = [1,2,3,4,5, [6,7,8], [], {}]\n",
    "\n",
    "def remove_empty(list1):\n",
    "    \n",
    "    count = 0\n",
    "    \n",
    "    for i in list1:\n",
    "        \n",
    "        print(i)\n",
    "        if type(i) == list:\n",
    "            print(len(i))\n",
    "            if len(i)==0:\n",
    "                print(\"***\")\n",
    "                del(list1[count])\n",
    "        count += 1        \n",
    "    \n",
    "\n",
    "print(\"The original list {}\".format(list_orig))\n",
    "remove_empty(list_orig)\n",
    "print(\"The new list {}\".format(list_orig))"
   ]
  },
  {
   "cell_type": "markdown",
   "id": "262a1d9d",
   "metadata": {},
   "source": [
    "Q10. Write a Python program to Cloning or Copying a list?\n",
    "\n",
    "SOLUTION IN NEXT CELL:"
   ]
  },
  {
   "cell_type": "code",
   "execution_count": null,
   "id": "12a7e927",
   "metadata": {},
   "outputs": [],
   "source": [
    "import copy\n",
    "\n",
    "list_orig = [1,2,3,4,5, [6,7,8], [], {}]\n",
    "list_copy = copy.deepcopy(list_orig)\n",
    "\n",
    "print(\"The original list {}\".format(list_orig))\n",
    "print(\"The copied list {}\".format(list_copy))"
   ]
  },
  {
   "cell_type": "markdown",
   "id": "f8098819",
   "metadata": {},
   "source": [
    "Q11. Write a Python program to Count occurrences of an element in a list?\n",
    "\n",
    "SOLUTION IN NEXT CELL:"
   ]
  },
  {
   "cell_type": "code",
   "execution_count": null,
   "id": "317c51a5",
   "metadata": {},
   "outputs": [],
   "source": [
    "import pyinputplus as pyip\n",
    "\n",
    "list_orig = [1,2,3,4,5, [6,7,8], [], {}]\n",
    "\n",
    "val =3\n",
    "\n",
    "print(\"The value {} occurs in the list {} time\".format(val, list_orig.count(val)))"
   ]
  }
 ],
 "metadata": {
  "kernelspec": {
   "display_name": "Python 3 (ipykernel)",
   "language": "python",
   "name": "python3"
  },
  "language_info": {
   "codemirror_mode": {
    "name": "ipython",
    "version": 3
   },
   "file_extension": ".py",
   "mimetype": "text/x-python",
   "name": "python",
   "nbconvert_exporter": "python",
   "pygments_lexer": "ipython3",
   "version": "3.9.0"
  }
 },
 "nbformat": 4,
 "nbformat_minor": 5
}
