{
 "cells": [
  {
   "cell_type": "markdown",
   "id": "ca5026ae",
   "metadata": {},
   "source": [
    "**Q1. Write a function that stutters a word as if someone is struggling to read it. The first two letters are repeated twice with an ellipsis ... and space after each, and then the word is pronounced with a question mark ?.**\n",
    "\n",
    "SOLUTION IN NEXT CELL:"
   ]
  },
  {
   "cell_type": "code",
   "execution_count": 3,
   "id": "b8e0b42e",
   "metadata": {},
   "outputs": [
    {
     "name": "stdout",
     "output_type": "stream",
     "text": [
      "Enter a string greater than 2 letterincredible\n",
      "old string: incredible \n",
      "new string: in...in...incredible?\n"
     ]
    }
   ],
   "source": [
    "import pyinputplus as pyip\n",
    "\n",
    "def stutter(string):\n",
    "    new_string = \"\"\n",
    "    for i in range(len(string)):\n",
    "        if i==2:\n",
    "            new_string = new_string + \"...\" + new_string + \"...\" + new_string\n",
    "            \n",
    "        new_string+=string[i]\n",
    "    new_string += \"?\"\n",
    "    return new_string\n",
    "\n",
    "string = pyip.inputStr(\"Enter a string greater than 2 letter\")\n",
    "\n",
    "new_string = stutter(string)\n",
    "print(\"old string: {} \\nnew string: {}\".format(string, new_string))"
   ]
  },
  {
   "cell_type": "markdown",
   "id": "3b54cac9",
   "metadata": {},
   "source": [
    "**Q2.Create a function that takes an angle in radians and returns the corresponding angle in degrees rounded to one decimal place.**\n",
    "\n",
    "SOLUTION IN NEXT CELL:"
   ]
  },
  {
   "cell_type": "code",
   "execution_count": 13,
   "id": "570dec4c",
   "metadata": {},
   "outputs": [
    {
     "name": "stdout",
     "output_type": "stream",
     "text": [
      "Enter the radian20\n",
      "The 20.0 radian is equal to 1145.9 degree\n"
     ]
    }
   ],
   "source": [
    "import pyinputplus as pyip\n",
    "from math import pi\n",
    "\n",
    "def radian_to_degrees(radian):\n",
    "    return (radian*180/pi)\n",
    "\n",
    "radian = pyip.inputFloat(\"Enter the radian\")\n",
    "print(\"The {} radian is equal to {} degree\".format(radian, format(radian_to_degrees(radian), '.1f')))"
   ]
  },
  {
   "cell_type": "markdown",
   "id": "f56f469e",
   "metadata": {},
   "source": [
    "**Q3. In this challenge, establish if a given integer num is a Curzon number. If 1 plus 2 elevated to num is exactly divisible by 1 plus 2 multiplied by num, then num is a Curzon number.**\n",
    "\n",
    "SOLUTION IN NEXT CELL:"
   ]
  },
  {
   "cell_type": "code",
   "execution_count": 16,
   "id": "b5497867",
   "metadata": {},
   "outputs": [
    {
     "name": "stdout",
     "output_type": "stream",
     "text": [
      "Enter the number for curzon check3\n",
      "3 is Not Curzon\n"
     ]
    }
   ],
   "source": [
    "import pyinputplus as pyip\n",
    "\n",
    "def is_curzon_number(num):\n",
    "    top = 2**num + 1\n",
    "    bot = 2*num + 1\n",
    "    if top%bot == 0:\n",
    "        return \"Curzon\"\n",
    "    return \"Not Curzon\"\n",
    "\n",
    "num = pyip.inputNum(\"Enter the number for curzon check\")\n",
    "\n",
    "print(\"{} is {}\".format(num, is_curzon_number(num)))"
   ]
  },
  {
   "cell_type": "markdown",
   "id": "ab3d7429",
   "metadata": {},
   "source": [
    "**Q4. Given the side length x find the area of a hexagon.**\n",
    "\n",
    "SOLUTION IN NEXT CELL:"
   ]
  },
  {
   "cell_type": "code",
   "execution_count": 18,
   "id": "864548cc",
   "metadata": {},
   "outputs": [
    {
     "name": "stdout",
     "output_type": "stream",
     "text": [
      "Enter the length of hexagon1\n",
      "2.6 is the area of hexagon with length 1\n"
     ]
    }
   ],
   "source": [
    "import pyinputplus as pyip\n",
    "import math\n",
    "\n",
    "def area_of_hexagon(length):\n",
    "    return 3*math.sqrt(3)*(length**2)/2\n",
    "\n",
    "num = pyip.inputNum(\"Enter the length of hexagon\")\n",
    "\n",
    "print(\"{} is the area of hexagon with length {}\".format(format(area_of_hexagon(num), \".1f\"), num))"
   ]
  },
  {
   "cell_type": "markdown",
   "id": "8707b55d",
   "metadata": {},
   "source": [
    "**Q5. Create a function that returns a base-2 (binary) representation of a base-10 (decimal) string number.**\n",
    "\n",
    "SOLUTION IN NEXT CELL:"
   ]
  },
  {
   "cell_type": "code",
   "execution_count": 36,
   "id": "396b082c",
   "metadata": {},
   "outputs": [
    {
     "name": "stdout",
     "output_type": "stream",
     "text": [
      "Enter the decimal number to convert to binary15\n",
      "1111 is the binary equivalent of decimal number 15\n"
     ]
    }
   ],
   "source": [
    "import pyinputplus as pyip\n",
    "\n",
    "def binary(decimal):\n",
    "    \n",
    "    binary_val = \"\"\n",
    "    while True:\n",
    "        quot = decimal/2\n",
    "        rem = decimal%2\n",
    "        decimal = int(quot)\n",
    "                \n",
    "        if quot==0:\n",
    "            break\n",
    "            \n",
    "        binary_val += str(rem)\n",
    "    binary_val_true = binary_val[::-1]\n",
    "    return binary_val_true\n",
    "    \n",
    "num = pyip.inputNum(\"Enter the decimal number to convert to binary\")\n",
    "\n",
    "print(\"{} is the binary equivalent of decimal number {}\".format(binary(num), num))"
   ]
  }
 ],
 "metadata": {
  "kernelspec": {
   "display_name": "Python 3 (ipykernel)",
   "language": "python",
   "name": "python3"
  },
  "language_info": {
   "codemirror_mode": {
    "name": "ipython",
    "version": 3
   },
   "file_extension": ".py",
   "mimetype": "text/x-python",
   "name": "python",
   "nbconvert_exporter": "python",
   "pygments_lexer": "ipython3",
   "version": "3.9.0"
  }
 },
 "nbformat": 4,
 "nbformat_minor": 5
}
