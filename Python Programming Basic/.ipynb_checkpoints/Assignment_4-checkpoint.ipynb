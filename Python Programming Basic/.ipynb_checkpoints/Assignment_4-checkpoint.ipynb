{
 "cells": [
  {
   "cell_type": "markdown",
   "id": "71445c65",
   "metadata": {},
   "source": [
    "Q1. Write a Python Program to Find the Factorial of a Number?\n",
    "\n",
    "SOLUTION IN NEXT CELL:"
   ]
  },
  {
   "cell_type": "code",
   "execution_count": null,
   "id": "35a74f61",
   "metadata": {},
   "outputs": [],
   "source": [
    "import pyinputplus as pyip\n",
    "\n",
    "def fact(n):\n",
    "    result = 1\n",
    "    for i in range(1, n+1):\n",
    "        result *= i\n",
    "    return result\n",
    "\n",
    "\n",
    "num = pyip.inputNum(prompt=\"Enter The Number to calculate factorial of\")\n",
    "res = fact(num)\n",
    "\n",
    "print(\"The factorial of {} is {}\". format(num, res))"
   ]
  },
  {
   "cell_type": "markdown",
   "id": "88ae18f0",
   "metadata": {},
   "source": [
    "Q2. Write a Python Program to Display the multiplication Table?\n",
    "\n",
    "SOLUTION IN NEXT CELL:"
   ]
  },
  {
   "cell_type": "code",
   "execution_count": null,
   "id": "bc665b68",
   "metadata": {},
   "outputs": [],
   "source": [
    "import pyinputplus as pyip\n",
    "\n",
    "def mult_table(num, terms):\n",
    "    for i in range(1, num+1):\n",
    "        for j in range(1, terms+1):\n",
    "            print(\"{}\".format(i*j), end=\"  \")\n",
    "        print(\"\\n\")\n",
    "        \n",
    "inp1 = pyip.inputNum(prompt=\"Enter the number for which multiplliaction tablle has to be generated\")\n",
    "inp2 = pyip.inputNum(prompt=\"Enter how many terms shoul be there in the table\")\n",
    "\n",
    "mult_table(inp1, inp2)"
   ]
  },
  {
   "cell_type": "markdown",
   "id": "b6737e5a",
   "metadata": {},
   "source": [
    "Q3. Write a Python Program to Print the Fibonacci sequence?\n",
    "\n",
    "SOLUTION IN NEXT CELL:"
   ]
  },
  {
   "cell_type": "code",
   "execution_count": null,
   "id": "f7d4ef7b",
   "metadata": {},
   "outputs": [],
   "source": [
    "import pyinputplus as pyip\n",
    "\n",
    "def fibonacci(terms):\n",
    "    a = 0\n",
    "    b = 1\n",
    "    for i in range(terms):\n",
    "        yield a\n",
    "        c = a + b\n",
    "        a = b\n",
    "        b = c\n",
    "\n",
    "inp = pyip.inputNum(prompt=\"Enter how many terms are needed in fibonacci series\")   \n",
    "\n",
    "print(\"the fibonacci series is given by\")\n",
    "\n",
    "for i in fibonacci(inp):\n",
    "    print(\"{}\".format(i), end=\"  \")"
   ]
  },
  {
   "cell_type": "markdown",
   "id": "ba2a2d02",
   "metadata": {},
   "source": [
    "Q4. Write a Python Program to Check Armstrong Number?\n",
    "\n",
    "SOLUTION IN NEXT CELL:"
   ]
  },
  {
   "cell_type": "code",
   "execution_count": null,
   "id": "86fa270f",
   "metadata": {},
   "outputs": [],
   "source": [
    "import pyinputplus as pyip\n",
    "\n",
    "def armstrong(num):\n",
    "    n = len(str(num))\n",
    "    \n",
    "    sum_n = 0\n",
    "    \n",
    "    for i in str(num):\n",
    "        sum_n += int(i)**n\n",
    "    \n",
    "    if sum_n==num:\n",
    "        print(\"{} is an Armstrong Number\".format(num))\n",
    "    else:\n",
    "        print(\"{} is Not an Armstrong Number\".format(num))\n",
    "        \n",
    "inp = pyip.inputNum(prompt=\"Enter The Number to calculate factorial of\")\n",
    "armstrong(inp)"
   ]
  },
  {
   "cell_type": "markdown",
   "id": "c4ee1334",
   "metadata": {},
   "source": [
    "Q5. Write a Python Program to Find Armstrong Number in an Interval?\n",
    "\n",
    "SOLUTION IN NEXT CELL:"
   ]
  },
  {
   "cell_type": "code",
   "execution_count": null,
   "id": "3e4fbf82",
   "metadata": {},
   "outputs": [],
   "source": [
    "import pyinputplus as pyip\n",
    "\n",
    "start = pyip.inputNum(prompt=\"Enter First number of Interval\")\n",
    "end = pyip.inputNum(prompt=\"Enter Last number of Interval\")\n",
    "\n",
    "def calc(num):\n",
    "    n = len(str(num))\n",
    "    sum_n = 0\n",
    "    \n",
    "    for i in str(num):\n",
    "        sum_n += int(i)**n\n",
    "        \n",
    "    return sum_n\n",
    "\n",
    "print(\"The Armstrong number between {} and {} are displayed below\".format(start, end))\n",
    "for i in range(start, end+1):\n",
    "    res = calc(i)\n",
    "    if res == i:\n",
    "        print(\"{}\".format(i), end=\" \")\n",
    "        "
   ]
  },
  {
   "cell_type": "markdown",
   "id": "8fd03985",
   "metadata": {},
   "source": [
    "Q6. Write a Python Program to Find the Sum of Natural Numbers?\n",
    "\n",
    "SOLUTION IN NEXT CELL:"
   ]
  },
  {
   "cell_type": "code",
   "execution_count": null,
   "id": "fd0ffb86",
   "metadata": {},
   "outputs": [],
   "source": [
    "import pyinputplus as pyip\n",
    "\n",
    "inp = pyip.inputNum(prompt=\"Enter Number upto which Sum has to be determined\")\n",
    "\n",
    "def sum_n(num):\n",
    "    sum1 = 0\n",
    "    for i in range(num+1):\n",
    "        sum1 += i\n",
    "        \n",
    "    return sum1\n",
    "\n",
    "\n",
    "print(\"The Sum of allnumbers upto {} is {}\".format(inp, sum_n(inp)))"
   ]
  }
 ],
 "metadata": {
  "kernelspec": {
   "display_name": "Python 3 (ipykernel)",
   "language": "python",
   "name": "python3"
  },
  "language_info": {
   "codemirror_mode": {
    "name": "ipython",
    "version": 3
   },
   "file_extension": ".py",
   "mimetype": "text/x-python",
   "name": "python",
   "nbconvert_exporter": "python",
   "pygments_lexer": "ipython3",
   "version": "3.9.0"
  }
 },
 "nbformat": 4,
 "nbformat_minor": 5
}
