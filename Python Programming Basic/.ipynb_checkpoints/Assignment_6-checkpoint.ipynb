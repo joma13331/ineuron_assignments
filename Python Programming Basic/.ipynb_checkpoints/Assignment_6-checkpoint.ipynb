{
 "cells": [
  {
   "cell_type": "markdown",
   "id": "015c383e",
   "metadata": {},
   "source": [
    "**Q1. Write a Python Program to Display Fibonacci Sequence Using Recursion?**\n",
    "\n",
    "SOLUTION IN NEXT CELL:"
   ]
  },
  {
   "cell_type": "code",
   "execution_count": null,
   "id": "f2d39ce3",
   "metadata": {},
   "outputs": [],
   "source": [
    "def fibbonacii(terms, num1=0, num2=1):\n",
    "    if terms==0:\n",
    "        return None\n",
    "    print(num1, end=\" \")\n",
    "    fibbonacii(terms-1, num2, num1 + num2)\n",
    "    \n",
    "fibbonacii(20)"
   ]
  },
  {
   "cell_type": "markdown",
   "id": "a91f5083",
   "metadata": {},
   "source": [
    "**Q2. Write a Python Program to Find Factorial of Number Using Recursion?**\n",
    "\n",
    "SOLUTION IN NEXT CELL:"
   ]
  },
  {
   "cell_type": "code",
   "execution_count": null,
   "id": "eca04f29",
   "metadata": {},
   "outputs": [],
   "source": [
    "import pyinputplus as pyip\n",
    "\n",
    "def fact(num):\n",
    "    if num==1:\n",
    "        return 1\n",
    "    elif num<1:\n",
    "        return 0\n",
    "    else:\n",
    "        product = num * fact(num-1)\n",
    "        return product\n",
    "    \n",
    "inp1 = pyip.inputNum(prompt=\"Enter the number to calculate factorial\")\n",
    "    \n",
    "print(\"The factorial of {} is {}\".format(inp1, fact(inp1)))"
   ]
  },
  {
   "cell_type": "markdown",
   "id": "0fcb42df",
   "metadata": {},
   "source": [
    "**Q3. Write a Python Program to calculate your Body Mass Index?**\n",
    "\n",
    "SOLUTION IN NEXT CELL:"
   ]
  },
  {
   "cell_type": "code",
   "execution_count": null,
   "id": "933fe115",
   "metadata": {},
   "outputs": [],
   "source": [
    "import pyinputplus as pyip\n",
    "\n",
    "mass = pyip.inputNum(prompt=\"Enter the mass in kg\")\n",
    "height = pyip.inputNum(prompt=\"Enter the height in m\")\n",
    "\n",
    "print(\"The BMI for mass {} and height {} is {}\".format(mass, height, mass/height**2))"
   ]
  },
  {
   "cell_type": "markdown",
   "id": "b70f317a",
   "metadata": {},
   "source": [
    "**Q4. Write a Python Program to calculate the natural logarithm of any number?**\n",
    "\n",
    "SOLUTION IN NEXT CELL:"
   ]
  },
  {
   "cell_type": "code",
   "execution_count": null,
   "id": "abf54749",
   "metadata": {},
   "outputs": [],
   "source": [
    "import math\n",
    "import pyinputplus as pyip\n",
    "\n",
    "inp1 = pyip.inputNum(prompt=\"Enter the number to calculate natural logarithm\")\n",
    "\n",
    "try:\n",
    "    print(\"{} has a natural log of {}\".format(inp1, math.log(inp1)))\n",
    "except Exception as e:\n",
    "    print(\"ERROR:\" + str(e))"
   ]
  },
  {
   "cell_type": "markdown",
   "id": "6960cfaf",
   "metadata": {},
   "source": [
    "**Q5. Write a Python Program for cube sum of first n natural numbers?**\n",
    "\n",
    "SOLUTION IN NEXT CELL:"
   ]
  },
  {
   "cell_type": "code",
   "execution_count": null,
   "id": "e5d8f192",
   "metadata": {},
   "outputs": [],
   "source": [
    "import pyinputplus as pyip\n",
    "\n",
    "def cube_sum(num):\n",
    "    sum_c = 0\n",
    "    for i in range(1, num+1):\n",
    "        sum_c += i**3\n",
    "        \n",
    "    return sum_c\n",
    "\n",
    "inp1 = pyip.inputNum(prompt=\"Enter the last number of the series\")\n",
    "cube_sum(inp1)\n",
    "\n",
    "print(\"the cube sum of first {} numbers is {}\".format(inp1, cube_sum(inp1)))"
   ]
  }
 ],
 "metadata": {
  "kernelspec": {
   "display_name": "Python 3 (ipykernel)",
   "language": "python",
   "name": "python3"
  },
  "language_info": {
   "codemirror_mode": {
    "name": "ipython",
    "version": 3
   },
   "file_extension": ".py",
   "mimetype": "text/x-python",
   "name": "python",
   "nbconvert_exporter": "python",
   "pygments_lexer": "ipython3",
   "version": "3.9.0"
  }
 },
 "nbformat": 4,
 "nbformat_minor": 5
}
