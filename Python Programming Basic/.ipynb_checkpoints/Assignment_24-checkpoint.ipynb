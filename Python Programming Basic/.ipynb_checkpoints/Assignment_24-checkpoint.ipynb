{
 "cells": [
  {
   "cell_type": "markdown",
   "id": "f6369e72",
   "metadata": {},
   "source": [
    "**Q1. Create a function that takes an integer and returns a list from 1 to the given number, where:**\n",
    "1. **If the number can be divided evenly by 4, amplify it by 10 (i.e. return 10 times the number).**\n",
    "2. **If the number cannot be divided evenly by 4, simply return the number.**\n",
    "\n",
    "SOLUTION IN NEXT CELL:"
   ]
  },
  {
   "cell_type": "code",
   "execution_count": null,
   "id": "6ea9e7cb",
   "metadata": {},
   "outputs": [],
   "source": [
    "import pyinputplus as pyip\n",
    "\n",
    "def amplify(num):\n",
    "    l = []\n",
    "    for i in range(1, num+1):\n",
    "        if i % 4 == 0:\n",
    "            l.append(i*10)\n",
    "        else:\n",
    "            l.append(i)\n",
    "            \n",
    "    return l\n",
    "\n",
    "num = pyip.inputNum(\"Enter the number\")\n",
    "print(f\"The resultant list: {amplify(num)}\")"
   ]
  },
  {
   "cell_type": "markdown",
   "id": "f692d991",
   "metadata": {},
   "source": [
    "**Q2. Create a function that takes a list of numbers and return the number that's unique.**"
   ]
  },
  {
   "cell_type": "code",
   "execution_count": null,
   "id": "e0b2d189",
   "metadata": {},
   "outputs": [],
   "source": [
    "import pyinputplus as pyip\n",
    "\n",
    "def unique(l):\n",
    "    for i in l:\n",
    "        if l.count(i)==1:\n",
    "            return i\n",
    "        \n",
    "length = pyip.inputNum(\"Enter the length of the list\")\n",
    "\n",
    "l = []\n",
    "for i in range(length):\n",
    "    l.append(pyip.inputNum(\"Enter a number\"))\n",
    "    \n",
    "print(f\"The unique number is {unique(l)}\")"
   ]
  },
  {
   "cell_type": "markdown",
   "id": "b05fcecf",
   "metadata": {},
   "source": [
    "**Q3. Your task is to create a Circle constructor that creates a circle with a radius provided by an argument. The circles constructed must have two getters getArea() (PIr^2) and getPerimeter() (2PI*r) which give both respective areas and perimeter (circumference).**"
   ]
  },
  {
   "cell_type": "code",
   "execution_count": null,
   "id": "7cc52946",
   "metadata": {},
   "outputs": [],
   "source": [
    "import pyinputplus as pyip\n",
    "from math import pi\n",
    "\n",
    "class Circle:\n",
    "    \n",
    "    def __init__(self, rad):\n",
    "        self.rad = rad\n",
    "        \n",
    "    def getArea(self):\n",
    "        return pi*self.rad**2\n",
    "    \n",
    "    def getPerimeter(self):\n",
    "        return 2*pi*self.rad\n",
    "    \n",
    "r = pyip.inputNum(\"Enter the radius of the circle\")\n",
    "\n",
    "circy = Circle(r)\n",
    "\n",
    "print(f\"The perimeter of the circle with radius {r} is {circy.getPerimeter()}\")\n",
    "print(f\"The area of the circle with radius {r} is {circy.getArea()}\")"
   ]
  },
  {
   "cell_type": "markdown",
   "id": "25383738",
   "metadata": {},
   "source": [
    "**Q4. Create a function that takes a list of strings and return a list, sorted from shortest to longest.**"
   ]
  },
  {
   "cell_type": "code",
   "execution_count": null,
   "id": "c8320c31",
   "metadata": {},
   "outputs": [],
   "source": [
    "import pyinputplus as pyip\n",
    "\n",
    "def sort_by_length(l):\n",
    "    l.sort(key=len)\n",
    "    return l\n",
    "\n",
    "length = pyip.inputNum(\"Enter the length of the list\")\n",
    "\n",
    "l = []\n",
    "for i in range(length):\n",
    "    l.append(pyip.inputStr(\"Enter a string\"))\n",
    "    \n",
    "print(f'the original list {l}')\n",
    "print(f'the sorted list: {sort_by_length(l)}')"
   ]
  },
  {
   "cell_type": "markdown",
   "id": "885445f6",
   "metadata": {},
   "source": [
    "**Q5. Create a function that validates whether three given integers form a Pythagorean triplet.**"
   ]
  },
  {
   "cell_type": "code",
   "execution_count": null,
   "id": "ebbc31df",
   "metadata": {},
   "outputs": [],
   "source": [
    "import pyinputplus as pyip\n",
    "\n",
    "def is_triplet(l):\n",
    "    l.sort()\n",
    "    if (l[0]**2 + l[1]**2) == l[2]**2:\n",
    "        return True\n",
    "    return False\n",
    "\n",
    "l = []\n",
    "for i in range(3):\n",
    "    l.append(pyip.inputNum(\"Enter a number\"))\n",
    "    \n",
    "print(f'The statement {l} represent a pythagoran triplet is {is_triplet(l)}')"
   ]
  }
 ],
 "metadata": {
  "kernelspec": {
   "display_name": "Python 3 (ipykernel)",
   "language": "python",
   "name": "python3"
  },
  "language_info": {
   "codemirror_mode": {
    "name": "ipython",
    "version": 3
   },
   "file_extension": ".py",
   "mimetype": "text/x-python",
   "name": "python",
   "nbconvert_exporter": "python",
   "pygments_lexer": "ipython3",
   "version": "3.9.0"
  }
 },
 "nbformat": 4,
 "nbformat_minor": 5
}
