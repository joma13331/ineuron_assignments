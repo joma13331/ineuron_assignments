{
 "cells": [
  {
   "cell_type": "markdown",
   "id": "53494dcd",
   "metadata": {},
   "source": [
    "**Q1. Please write a program using generator to print the numbers which can be divisible by 5 and 7 between 0 and n in comma separated form while n is input by console.**\n",
    "\n",
    "SOLUTION IN NEXT CELL:"
   ]
  },
  {
   "cell_type": "code",
   "execution_count": null,
   "id": "25361d18",
   "metadata": {},
   "outputs": [],
   "source": [
    "import pyinputplus as pyip\n",
    "\n",
    "def divisible(n):\n",
    "    for i in range(n):\n",
    "        if i%7==0 and i%5==0:\n",
    "            yield i\n",
    "            \n",
    "last_val = pyip.inputNum(prompt=\"Enter the last value to check \")\n",
    "\n",
    "for i in divisible(last_val):\n",
    "    print(i, end=\",\")"
   ]
  },
  {
   "cell_type": "markdown",
   "id": "12e5dd4d",
   "metadata": {},
   "source": [
    "**Q2. Please write a program using generator to print the even numbers between 0 and n in comma separated form while n is input by console.**\n",
    "\n",
    "SOLUTION IN NEXT CELL:"
   ]
  },
  {
   "cell_type": "code",
   "execution_count": null,
   "id": "b3193846",
   "metadata": {},
   "outputs": [],
   "source": [
    "import pyinputplus as pyip\n",
    "\n",
    "def even_gen(n):\n",
    "    for i in range(n+1):\n",
    "        if i%2==0:\n",
    "            yield i\n",
    "            \n",
    "last_val = pyip.inputNum(prompt=\"Enter the last value to check \")\n",
    "\n",
    "for i in even_gen(last_val):\n",
    "    print(i, end=\",\")"
   ]
  },
  {
   "cell_type": "markdown",
   "id": "2bb2a7f1",
   "metadata": {},
   "source": [
    "**Q3. Please write a program using list comprehension to print the Fibonacci Sequence in comma separated form with a given n input by console.**\n",
    "\n",
    "SOLUTION IN NEXT CELL:"
   ]
  },
  {
   "cell_type": "code",
   "execution_count": null,
   "id": "6729ed99",
   "metadata": {},
   "outputs": [],
   "source": [
    "import pyinputplus as pyip\n",
    "\n",
    "def fibonacci_gen(n):\n",
    "    \n",
    "    a = 0\n",
    "    b = 1\n",
    "    for i in range(n+1):\n",
    "        yield a\n",
    "        c = a+b\n",
    "        a = b\n",
    "        b = c\n",
    "        \n",
    "num = pyip.inputNum(prompt=\"Enter the number of values in fibonacci series to be displayed \")\n",
    "\n",
    "x = [print(x, end=\",\") for x in fibonacci_gen(num)]"
   ]
  },
  {
   "cell_type": "markdown",
   "id": "8b740eef",
   "metadata": {},
   "source": [
    "**Q4. Assuming that we have some email addresses in the \"username@companyname.com\" format, please write program to print the user name of a given email address. Both user names and company names are composed of letters only.**\n",
    "\n",
    "SOLUTION IN NEXT CELL:"
   ]
  },
  {
   "cell_type": "code",
   "execution_count": null,
   "id": "71ebfdd3",
   "metadata": {},
   "outputs": [],
   "source": [
    "import pyinputplus as pyip\n",
    "\n",
    "email = pyip.inputEmail(\"Enter the email address \")\n",
    "\n",
    "user_name = email.split(\"@\")[0]\n",
    "print(\"The user name: {}\".format(user_name))"
   ]
  },
  {
   "cell_type": "markdown",
   "id": "98003a97",
   "metadata": {},
   "source": [
    "**Q5. Define a class named Shape and its subclass Square. The Square class has an init function which takes a length as argument. Both classes have a area function which can print the area of the shape where Shape's area is 0 by default.**\n",
    "\n",
    "SOLUTION IN NEXT CELL:"
   ]
  },
  {
   "cell_type": "code",
   "execution_count": null,
   "id": "fd280669",
   "metadata": {},
   "outputs": [],
   "source": [
    "class Shape:\n",
    "    \n",
    "    def print_area(self):\n",
    "        print(\"The area is 0\")\n",
    "\n",
    "class Square:\n",
    "    \n",
    "    def __init__(self, length):\n",
    "        self.length = length\n",
    "        \n",
    "    def print_area(self):\n",
    "        print(\"the are of square of length  {} is {}\".format(self.length, self.length**2))\n",
    "        \n",
    "obj1 = Shape()\n",
    "obj2 = Square(10)\n",
    "obj1.print_area()\n",
    "obj2.print_area()"
   ]
  }
 ],
 "metadata": {
  "kernelspec": {
   "display_name": "Python 3 (ipykernel)",
   "language": "python",
   "name": "python3"
  },
  "language_info": {
   "codemirror_mode": {
    "name": "ipython",
    "version": 3
   },
   "file_extension": ".py",
   "mimetype": "text/x-python",
   "name": "python",
   "nbconvert_exporter": "python",
   "pygments_lexer": "ipython3",
   "version": "3.9.0"
  }
 },
 "nbformat": 4,
 "nbformat_minor": 5
}
