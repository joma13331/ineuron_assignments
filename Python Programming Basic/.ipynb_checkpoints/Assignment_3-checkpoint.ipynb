{
 "cells": [
  {
   "cell_type": "markdown",
   "id": "914a565d",
   "metadata": {},
   "source": [
    "**Q1. Write a Python Program to Check if a Number is Positive, Negative or Zero?**\n",
    "\n",
    "SOLUTION IN NEXT CELL:"
   ]
  },
  {
   "cell_type": "code",
   "execution_count": null,
   "id": "b9f7ccf1",
   "metadata": {},
   "outputs": [],
   "source": [
    "import pyinputplus as pyip\n",
    "\n",
    "num = pyip.inputNum(prompt=\"Enter The Number to perform check\")\n",
    "\n",
    "if num>0:\n",
    "    print(\"{} is a positive number\".format(num))\n",
    "elif num==0:\n",
    "    print(\"{} is Zero\".format(num))\n",
    "else:\n",
    "    print(\"{} is a negative number\".format(num))"
   ]
  },
  {
   "cell_type": "markdown",
   "id": "ce365a83",
   "metadata": {},
   "source": [
    "**Q2. Write a Python Program to Check if a Number is Odd or Even?**\n",
    "\n",
    "SOLUTION IN NEXT CELL:"
   ]
  },
  {
   "cell_type": "code",
   "execution_count": null,
   "id": "8cd0347e",
   "metadata": {},
   "outputs": [],
   "source": [
    "import pyinputplus as pyip\n",
    "\n",
    "num = pyip.inputNum(prompt=\"Enter The Number to perform check\")\n",
    "\n",
    "if num%2 == 0:\n",
    "    print(\"{} is an even number\".format(num))\n",
    "else:\n",
    "    print(\"{} is an odd number\".format(num))"
   ]
  },
  {
   "cell_type": "markdown",
   "id": "c5db9590",
   "metadata": {},
   "source": [
    "**Q3. Write a Python Program to Check Leap Year?**\n",
    "\n",
    "SOLUTION IN NEXT CELL:"
   ]
  },
  {
   "cell_type": "code",
   "execution_count": null,
   "id": "6921c8de",
   "metadata": {},
   "outputs": [],
   "source": [
    "import pyinputplus as pyip\n",
    "\n",
    "year = pyip.inputNum(prompt=\"Enter The Year to perform check\")\n",
    "\n",
    "if year%4 == 0:\n",
    "    if year%100 == 0:\n",
    "        if year%400 == 0:\n",
    "            print(\"The Year {} is a Leap Year\".format(year))\n",
    "        else:\n",
    "            print(\"The Year {} is a Not a Leap Year\".format(year))\n",
    "    else:\n",
    "        print(\"The Year {} is a Leap Year\".format(year))\n",
    "else:\n",
    "    print(\"The Year {} is a Not a Leap Year\".format(year))"
   ]
  },
  {
   "cell_type": "markdown",
   "id": "c6c27a53",
   "metadata": {},
   "source": [
    "**Q4. Write a Python Program to Check Prime Number?**\n",
    "\n",
    "SOLUTION IN NEXT CELL:"
   ]
  },
  {
   "cell_type": "code",
   "execution_count": null,
   "id": "df8d17bb",
   "metadata": {},
   "outputs": [],
   "source": [
    "import pyinputplus as pyip\n",
    "\n",
    "num = pyip.inputNum(prompt=\"Enter The Number to perform check\")\n",
    "\n",
    "check = 0\n",
    "for i in range(2, int(num/2)+1):\n",
    "    if num%i==0:\n",
    "        check=1\n",
    "        break\n",
    "        \n",
    "if num==1:\n",
    "    print(\"{} is a special number\".format(num))\n",
    "elif check == 0:\n",
    "    print(\"{} is a prime number\".format(num))\n",
    "else:\n",
    "    print(\"{} is Not a prime number\".format(num))"
   ]
  },
  {
   "cell_type": "markdown",
   "id": "ebd63d90",
   "metadata": {},
   "source": [
    "**Q5. Write a Python Program to Print all Prime Numbers in an Interval of 1-10000?**\n",
    "\n",
    "SOLUTION IN NEXT CELL:"
   ]
  },
  {
   "cell_type": "code",
   "execution_count": null,
   "id": "3b6ecc67",
   "metadata": {},
   "outputs": [],
   "source": [
    "print(\"Displaying all Prime number between 1 and 10000\")\n",
    "\n",
    "def prime_num():\n",
    "    for i in range (2, 10000):\n",
    "        check = 0\n",
    "        for j in range(2,int(i/2)):\n",
    "            if i%j == 0:\n",
    "                check=1\n",
    "                break\n",
    "        \n",
    "        if check == 0:\n",
    "            yield i\n",
    "\n",
    "for i in prime_num():\n",
    "    print(\"{}\".format(i), end=\"  \")"
   ]
  }
 ],
 "metadata": {
  "kernelspec": {
   "display_name": "Python 3 (ipykernel)",
   "language": "python",
   "name": "python3"
  },
  "language_info": {
   "codemirror_mode": {
    "name": "ipython",
    "version": 3
   },
   "file_extension": ".py",
   "mimetype": "text/x-python",
   "name": "python",
   "nbconvert_exporter": "python",
   "pygments_lexer": "ipython3",
   "version": "3.9.0"
  }
 },
 "nbformat": 4,
 "nbformat_minor": 5
}
