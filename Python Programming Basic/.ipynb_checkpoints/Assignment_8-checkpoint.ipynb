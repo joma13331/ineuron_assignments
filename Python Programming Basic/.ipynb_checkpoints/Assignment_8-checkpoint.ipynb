{
 "cells": [
  {
   "cell_type": "markdown",
   "id": "bbd6e292",
   "metadata": {},
   "source": [
    "Q1. Write a Python Program to Add Two Matrices?\n",
    "\n",
    "SOLUTION IN NEXT CELL:"
   ]
  },
  {
   "cell_type": "code",
   "execution_count": null,
   "id": "ffd9cffb",
   "metadata": {},
   "outputs": [],
   "source": [
    "import numpy as np\n",
    "import pyinputplus as pyip\n",
    "\n",
    "def add_mat(mat1, mat2):\n",
    "    mat3 = np.add(mat1, mat2)\n",
    "    return mat3\n",
    "\n",
    "row = pyip.inputInt(\"Enter the Number of Rows\")\n",
    "col = pyip.inputInt(\"Enter the Number of Columns\")\n",
    "\n",
    "matrix1 = np.random.randint(0, high =100, size = (row, col))\n",
    "matrix2 = np.random.randint(0, high =100,size = (row, col))\n",
    "\n",
    "matrix3 = add_mat(matrix1, matrix2)\n",
    "\n",
    "print(\"The first matrix is \\n{}\".format(matrix1))\n",
    "print(\"The second matrix is \\n{}\".format(matrix2))\n",
    "print(\"The resultant matrix is \\n{}\".format(matrix3))\n",
    "\n"
   ]
  },
  {
   "cell_type": "markdown",
   "id": "b844e6c3",
   "metadata": {},
   "source": [
    "Q2. Write a Python Program to Multiply Two Matrices?\n",
    "\n",
    "SOLUTION IN NEXT CELL:"
   ]
  },
  {
   "cell_type": "code",
   "execution_count": null,
   "id": "ac82e0c6",
   "metadata": {},
   "outputs": [],
   "source": [
    "import numpy as np\n",
    "import pyinputplus as pyip\n",
    "\n",
    "def mult_mat(mat1, mat2):\n",
    "    mat3 = np.matmul(mat1, mat2)\n",
    "    return mat3\n",
    "\n",
    "row1 = pyip.inputInt(\"Enter the Number of Rows of first matrix\")\n",
    "col1 = pyip.inputInt(\"Enter the Number of Columns of first matrix\")\n",
    "\n",
    "row2 = pyip.inputInt(\"Enter the Number of Rows of second matrix\")\n",
    "col2 = pyip.inputInt(\"Enter the Number of Columns of second matrix\")\n",
    "\n",
    "if col1 == row2:\n",
    "    matrix1 = np.random.randint(0, high =100, size = (row1, col1))\n",
    "    matrix2 = np.random.randint(0, high =100,size = (row2, col2))\n",
    "\n",
    "    matrix3 = mult_mat(matrix1, matrix2)\n",
    "\n",
    "    print(\"The first matrix is \\n{}\".format(matrix1))\n",
    "    print(\"The second matrix is \\n{}\".format(matrix2))\n",
    "    print(\"The resultant matrix is \\n{}\".format(matrix3))\n",
    "else:\n",
    "    print(\"The number of rows of 2nd matrix should be equal to number of columns of first matrix\")"
   ]
  },
  {
   "cell_type": "markdown",
   "id": "ebed7aab",
   "metadata": {},
   "source": [
    "Q3. Write a Python Program to Transpose a Matrix?\n",
    "\n",
    "SOLUTION IN NEXT CELL:"
   ]
  },
  {
   "cell_type": "code",
   "execution_count": null,
   "id": "8125be8a",
   "metadata": {},
   "outputs": [],
   "source": [
    "import numpy as np\n",
    "import pyinputplus as pyip\n",
    "\n",
    "def transpose_mat(mat1):\n",
    "    mat3 = np.transpose(mat1)\n",
    "    return mat3\n",
    "\n",
    "row1 = pyip.inputInt(\"Enter the Number of Rows of first matrix\")\n",
    "col1 = pyip.inputInt(\"Enter the Number of Columns of first matrix\")\n",
    "\n",
    "matrix1 = np.random.randint(0, high =100, size = (row1, col1))\n",
    "matrix2 = transpose_mat(matrix1)\n",
    "\n",
    "print(\"The first matrix is \\n{}\".format(matrix1))\n",
    "print(\"The transpose of first matrix is \\n{}\".format(matrix2))"
   ]
  },
  {
   "cell_type": "markdown",
   "id": "29851f56",
   "metadata": {},
   "source": [
    "Q4. Write a Python Program to Sort Words in Alphabetic Order?\n",
    "\n",
    "SOLUTION IN NEXT CELL:"
   ]
  },
  {
   "cell_type": "code",
   "execution_count": null,
   "id": "93ac94ff",
   "metadata": {},
   "outputs": [],
   "source": [
    "import pyinputplus as pyip\n",
    "\n",
    "ans = \"Yes\"\n",
    "array = []\n",
    "while ans == \"Yes\":\n",
    "    \n",
    "    val = pyip.inputStr(prompt = \"Enter a word\")\n",
    "    \n",
    "    array.append(val)\n",
    "    ans = pyip. inputMenu([\"Yes\", \"No\"],\n",
    "                         prompt=\"Add another Number\",\n",
    "                         numbered=True)\n",
    "\n",
    "print(\"The list before sorting :\\n{}\".format(array))\n",
    "array.sort()\n",
    "print(\"The list after sorting :\\n{}\".format(array))"
   ]
  },
  {
   "cell_type": "markdown",
   "id": "8a0314b0",
   "metadata": {},
   "source": [
    "Q5. Write a Python Program to Remove Punctuation From a String?\n",
    "\n",
    "SOLUTION IN NEXT CELL:"
   ]
  },
  {
   "cell_type": "code",
   "execution_count": null,
   "id": "776a044b",
   "metadata": {},
   "outputs": [],
   "source": [
    "import pyinputplus as pyip\n",
    "import re \n",
    "\n",
    "val = pyip.inputStr(prompt = \"Enter a word\")\n",
    "no_punct = re.compile(r'[.!,?\\\\-]')\n",
    "\n",
    "result = re.sub(no_punct, \"\", val)\n",
    "\n",
    "print(\"With Punctuation: {}\".format(val))\n",
    "print(\"Without Punctuation: {}\".format(result))"
   ]
  }
 ],
 "metadata": {
  "kernelspec": {
   "display_name": "Python 3 (ipykernel)",
   "language": "python",
   "name": "python3"
  },
  "language_info": {
   "codemirror_mode": {
    "name": "ipython",
    "version": 3
   },
   "file_extension": ".py",
   "mimetype": "text/x-python",
   "name": "python",
   "nbconvert_exporter": "python",
   "pygments_lexer": "ipython3",
   "version": "3.9.0"
  }
 },
 "nbformat": 4,
 "nbformat_minor": 5
}
