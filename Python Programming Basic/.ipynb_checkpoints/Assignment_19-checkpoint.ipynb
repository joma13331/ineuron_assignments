{
 "cells": [
  {
   "cell_type": "markdown",
   "id": "82183fa3",
   "metadata": {},
   "source": [
    "**Q1. Create a function that takes a string and returns a string in which each character is repeated once.**\n",
    "\n",
    "SOLUTION IN NEXT CELL:"
   ]
  },
  {
   "cell_type": "code",
   "execution_count": null,
   "id": "acc61578",
   "metadata": {},
   "outputs": [],
   "source": [
    "import pyinputplus as pyip\n",
    "\n",
    "def double_char(str1):\n",
    "    new_str = \"\"\n",
    "    for i in str1:\n",
    "        new_str += 2*i\n",
    "        \n",
    "    return new_str\n",
    "\n",
    "str1 = pyip.inputStr(\"Enter the string to double\")\n",
    "\n",
    "print(\"The doubled string is {}\".format(double_char(str1)))"
   ]
  },
  {
   "cell_type": "markdown",
   "id": "ad27d55a",
   "metadata": {},
   "source": [
    "**Q2. Create a function that reverses a boolean value and returns the string \"boolean expected\" if another variable type is given.**\n",
    "\n",
    "SOLUTION IN NEXT CELL:"
   ]
  },
  {
   "cell_type": "code",
   "execution_count": null,
   "id": "2a15c34c",
   "metadata": {},
   "outputs": [],
   "source": [
    "import pyinputplus as pyip\n",
    "\n",
    "def reverse(boolean):\n",
    "    if type(boolean)==bool:\n",
    "        return not boolean\n",
    "    else:\n",
    "        return \"Boolean expected\"\n",
    "        \n",
    "val = pyip.inputBool(\"Enter a boolean\")\n",
    "\n",
    "print(\"The result is {}\".format(reverse(val)))"
   ]
  },
  {
   "cell_type": "markdown",
   "id": "d445ca6a",
   "metadata": {},
   "source": [
    "**Q3. Create a function that returns the thickness (in meters) of a piece of paper after folding it n number of times. The paper starts off with a thickness of 0.5mm.**\n",
    "\n",
    "SOLUTION IN NEXT CELL:"
   ]
  },
  {
   "cell_type": "code",
   "execution_count": null,
   "id": "435f1348",
   "metadata": {},
   "outputs": [],
   "source": [
    "import pyinputplus as pyip\n",
    "\n",
    "def num_layers(folds):\n",
    "    return 0.5*2**(folds-1)/1000\n",
    "\n",
    "folds = pyip.inputNum(\"Enter the no. of folds\")\n",
    "\n",
    "print(\"The thickness is {}m\".format(num_layers(folds)))"
   ]
  },
  {
   "cell_type": "markdown",
   "id": "cfa67bd1",
   "metadata": {},
   "source": [
    "**Q4. Create a function that takes a single string as argument and returns an ordered list containing the indices of all capital letters in the string.**\n",
    "\n",
    "SOLUTION IN NEXT CELL:"
   ]
  },
  {
   "cell_type": "code",
   "execution_count": null,
   "id": "f7f800e7",
   "metadata": {},
   "outputs": [],
   "source": [
    "import pyinputplus as pyip\n",
    "\n",
    "def index_of_caps(str1):\n",
    "    list_indices = []\n",
    "    for i in range(len(str1)):\n",
    "        if str1[i].isupper():\n",
    "            list_indices.append(i)\n",
    "    return list_indices\n",
    "\n",
    "str1 = pyip.inputStr(\"Enter the string\")\n",
    "\n",
    "print(\"The indices of Capital letters are : {}\".format(index_of_caps(str1)))"
   ]
  },
  {
   "cell_type": "markdown",
   "id": "e6418a94",
   "metadata": {},
   "source": [
    "**Q5. Using list comprehensions, create a function that finds all even numbers from 1 to the given number.**\n",
    "\n",
    "SOLUTION IN NEXT CELL:"
   ]
  },
  {
   "cell_type": "code",
   "execution_count": null,
   "id": "8b2650b9",
   "metadata": {},
   "outputs": [],
   "source": [
    "import pyinputplus as pyip\n",
    "\n",
    "def find_even_nums(num):\n",
    "    res = [i for i in range(1, num+1) if i%2==0]\n",
    "    return res\n",
    "\n",
    "num = pyip.inputNum(\"Enter the no. till which even nos. are to be found\")\n",
    "print(\"the relevant even numbers are {}\".format(find_even_nums(num)))"
   ]
  },
  {
   "cell_type": "code",
   "execution_count": null,
   "id": "79808318",
   "metadata": {},
   "outputs": [],
   "source": []
  }
 ],
 "metadata": {
  "kernelspec": {
   "display_name": "Python 3 (ipykernel)",
   "language": "python",
   "name": "python3"
  },
  "language_info": {
   "codemirror_mode": {
    "name": "ipython",
    "version": 3
   },
   "file_extension": ".py",
   "mimetype": "text/x-python",
   "name": "python",
   "nbconvert_exporter": "python",
   "pygments_lexer": "ipython3",
   "version": "3.9.0"
  }
 },
 "nbformat": 4,
 "nbformat_minor": 5
}
