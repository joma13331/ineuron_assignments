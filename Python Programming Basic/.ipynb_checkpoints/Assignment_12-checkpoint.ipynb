{
 "cells": [
  {
   "cell_type": "markdown",
   "id": "8a953ebe",
   "metadata": {},
   "source": [
    "Q1. Write a Python program to Extract Unique values dictionary values? \n",
    "\n",
    "SOLUTION IN NEXT CELL:"
   ]
  },
  {
   "cell_type": "code",
   "execution_count": null,
   "id": "3b057a7b",
   "metadata": {},
   "outputs": [],
   "source": [
    "sample_dict = {\"one\":1, \"two\":2, \"Three\":3, \"four\":3}\n",
    "\n",
    "values = sample_dict.values()\n",
    "unique = list(set(values))\n",
    "\n",
    "print(\"The unique values in the dictionary are: {}\".format(unique))"
   ]
  },
  {
   "cell_type": "markdown",
   "id": "351670c4",
   "metadata": {},
   "source": [
    "Q2. Write a Python program to find the sum of all items in a dictionary?\n",
    "\n",
    "SOLUTION IN NEXT CELL:"
   ]
  },
  {
   "cell_type": "code",
   "execution_count": null,
   "id": "d27793e8",
   "metadata": {},
   "outputs": [],
   "source": [
    "sample_dict = {8:1, \"two\":2, \"Three\":3, \"four\":3}\n",
    "\n",
    "sum1 = 0\n",
    "for key, value in sample_dict.items():\n",
    "    if type(key)==int:\n",
    "        sum1 += key\n",
    "    if type(value)==int:\n",
    "        sum1 += value\n",
    "        \n",
    "print(\"the sum of all items in a dictionary: {}\". format(sum1))"
   ]
  },
  {
   "cell_type": "markdown",
   "id": "bd7dc5c4",
   "metadata": {},
   "source": [
    "Q3. Write a Python program to Merging two Dictionaries?\n",
    "\n",
    "SOLUTION IN NEXT CELL:"
   ]
  },
  {
   "cell_type": "code",
   "execution_count": null,
   "id": "fbddbd10",
   "metadata": {},
   "outputs": [],
   "source": [
    "sample_dict1 = {8:1, \"two\":2, \"Three\":3, \"four\":3}\n",
    "sample_dict2 = {\"fifty\":50, \"sixty\":60, \"seventy\":70, \"eighty\":80}\n",
    "\n",
    "print(\"the first dictionary:\\n{}\". format(sample_dict1))\n",
    "print(\"the second dictionary:\\n{}\". format(sample_dict2))\n",
    "for key, value in sample_dict2.items():\n",
    "    sample_dict1[key] = value\n",
    "    \n",
    "print(\"the merged dictionary:\\n{}\". format(sample_dict1))"
   ]
  },
  {
   "cell_type": "markdown",
   "id": "21124583",
   "metadata": {},
   "source": [
    "Q4. Write a Python program to convert key-values list to flat dictionary?\n",
    "\n",
    "SOLUTION IN NEXT CELL:"
   ]
  },
  {
   "cell_type": "code",
   "execution_count": null,
   "id": "d2f7a974",
   "metadata": {},
   "outputs": [],
   "source": [
    "key_list = [\"one\", \"two\", \"three\", \"four\", \"five\", \"six\"]\n",
    "value_list = [1, 2, 3, 4, 5, 6]\n",
    "\n",
    "flat_dict = dict(zip(key_list, value_list))\n",
    "\n",
    "print(\"the flat dictionary:\\n{}\". format(flat_dict))"
   ]
  },
  {
   "cell_type": "markdown",
   "id": "cffea461",
   "metadata": {},
   "source": [
    "Q5. Write a Python program to insertion at the beginning in OrderedDict?\n",
    "\n",
    "SOLUTION IN NEXT CELL:"
   ]
  },
  {
   "cell_type": "code",
   "execution_count": null,
   "id": "67f396fe",
   "metadata": {},
   "outputs": [],
   "source": [
    "from collections import OrderedDict\n",
    "\n",
    "init_Ord_dict = OrderedDict([(\"one\",1), (\"two\",2), (\"Three\",3), (\"four\",4)])\n",
    "\n",
    "print (\"original Dictionary : \"+str(init_Ord_dict))\n",
    "\n",
    "init_Ord_dict.update({'five': 5})\n",
    "init_Ord_dict.move_to_end(\"five\", last=False)\n",
    "\n",
    "print (\"Updated Dictionary : \"+str(init_Ord_dict))"
   ]
  },
  {
   "cell_type": "markdown",
   "id": "c6438da9",
   "metadata": {},
   "source": [
    "Q6. Write a Python program to check order of character in string using OrderedDict()?\n",
    "\n",
    "SOLUTION IN NEXT CELL:"
   ]
  },
  {
   "cell_type": "code",
   "execution_count": null,
   "id": "61f921bb",
   "metadata": {},
   "outputs": [],
   "source": [
    "from collections import OrderedDict\n",
    "import pyinputplus as pyip\n",
    "\n",
    "ord_dict = OrderedDict()\n",
    "\n",
    "string = pyip.inputStr(prompt=\"Enter a String\")\n",
    "\n",
    "for index, char in enumerate(string):\n",
    "    ord_dict.update({index:char})\n",
    "    \n",
    "print(\"order of characters in string:\\n{}\".format(str(dict(ord_dict))))"
   ]
  },
  {
   "cell_type": "markdown",
   "id": "3dbb2ada",
   "metadata": {},
   "source": [
    "Q7. Write a Python program to sort Python Dictionaries by Key or Value?\n",
    "\n",
    "SOLUTION IN NEXT CELL:"
   ]
  },
  {
   "cell_type": "code",
   "execution_count": null,
   "id": "bc2f04f5",
   "metadata": {},
   "outputs": [],
   "source": [
    "import pyinputplus as pyip\n",
    "\n",
    "unord_dict = {'one': 1, 'two': 2, 'three': 3, 'four': 4, 'five': 5, 'six': 6}\n",
    "\n",
    "rev_dict = { value: key for key, value in unord_dict.items()}\n",
    "\n",
    "list_keys = list(unord_dict.keys())\n",
    "list_values = list(unord_dict.values())\n",
    "\n",
    "choice = pyip.inputMenu([\"Key\", \"Value\"],\n",
    "                       prompt=\"Enter by which to sort\",\n",
    "                       numbered=True)\n",
    "sorted_dict = {}\n",
    "if choice==\"Key\":\n",
    "    list_keys.sort()\n",
    "    for i in list_keys:\n",
    "        sorted_dict[i] = unord_dict[i]\n",
    "else:\n",
    "    list_values.sort()\n",
    "    for i in list_values:\n",
    "        sorted_dict[rev_dict[i]] = i\n",
    "        \n",
    "print(\"the sorted dict: {}\".format(str(sorted_dict)))"
   ]
  }
 ],
 "metadata": {
  "kernelspec": {
   "display_name": "Python 3 (ipykernel)",
   "language": "python",
   "name": "python3"
  },
  "language_info": {
   "codemirror_mode": {
    "name": "ipython",
    "version": 3
   },
   "file_extension": ".py",
   "mimetype": "text/x-python",
   "name": "python",
   "nbconvert_exporter": "python",
   "pygments_lexer": "ipython3",
   "version": "3.9.0"
  }
 },
 "nbformat": 4,
 "nbformat_minor": 5
}
