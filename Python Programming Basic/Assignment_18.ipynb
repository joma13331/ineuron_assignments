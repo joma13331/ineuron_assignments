{
 "cells": [
  {
   "cell_type": "markdown",
   "id": "495aea60",
   "metadata": {},
   "source": [
    "**Q1. Create a function that takes a list of non-negative integers and strings and return a new list without the strings.**\n",
    "\n",
    "SOLUTION IN NEXT CELL:"
   ]
  },
  {
   "cell_type": "code",
   "execution_count": null,
   "id": "2aba68a6",
   "metadata": {},
   "outputs": [],
   "source": [
    "import pyinputplus as pyip\n",
    "\n",
    "def filter_list(l1):\n",
    "    new_list = []\n",
    "    for i in l1:\n",
    "        if type(i) == int:\n",
    "            new_list.append(i)\n",
    "    return new_list\n",
    "\n",
    "choice = pyip.inputNum(\"Enter the number of items in the list\")\n",
    "l1 = []\n",
    "for i in range(choice):\n",
    "    val = input(\"Enter a number or string \")\n",
    "    try:\n",
    "        l1.append(int(val))\n",
    "    except Exception:\n",
    "        pass\n",
    "    \n",
    "print(\"The new list is {}\".format(filter_list(l1)))"
   ]
  },
  {
   "cell_type": "markdown",
   "id": "5dee3a00",
   "metadata": {},
   "source": [
    "**Q2. The \"Reverser\" takes a string as input and returns that string in reverse order, with the opposite case.**\n",
    "\n",
    "SOLUTION IN NEXT CELL:"
   ]
  },
  {
   "cell_type": "code",
   "execution_count": null,
   "id": "67bf60ed",
   "metadata": {},
   "outputs": [],
   "source": [
    "import pyinputplus as pyip\n",
    "\n",
    "def reverse(str1):\n",
    "    return str1.swapcase()[::-1]\n",
    "\n",
    "str1 = pyip.inputStr(\"Enter the string to be reversed and case swapped\")\n",
    "\n",
    "print(\"The reversed string is {}\".format(reverse(str1)))"
   ]
  },
  {
   "cell_type": "markdown",
   "id": "9115ffd8",
   "metadata": {},
   "source": [
    "**Q3. Unpack a list into three variables, being first, middle, and last, with middle being everything in between the first and last element. Then print all three variables.**\n",
    "\n",
    "SOLUTION IN NEXT CELL:"
   ]
  },
  {
   "cell_type": "code",
   "execution_count": null,
   "id": "f2637389",
   "metadata": {},
   "outputs": [],
   "source": [
    "import pyinputplus as pyip\n",
    "\n",
    "def destructure(l1):\n",
    "    start, *middle, end = l1\n",
    "    return start, middle, end\n",
    "\n",
    "choice = pyip.inputNum(\"Enter the number of items in the list\")\n",
    "l1 = []\n",
    "for i in range(choice):\n",
    "    val = input(\"Enter a number or string \")\n",
    "        try:\n",
    "            l1.append(int(val))\n",
    "        except Exception:\n",
    "            pass\n",
    "    \n",
    "start, middle, end = (destructure(l1))\n",
    "print(\"first element = {}\\nmiddle elements ={}\\nlast element = {}\".format(start, middle, end))"
   ]
  },
  {
   "cell_type": "markdown",
   "id": "e1fe9c1c",
   "metadata": {},
   "source": [
    "**Q4. Write a function that calculates the factorial of a number recursively.**\n",
    "\n",
    "SOLUTION IN NEXT CELL:"
   ]
  },
  {
   "cell_type": "code",
   "execution_count": null,
   "id": "e93f7a8e",
   "metadata": {},
   "outputs": [],
   "source": [
    "import pyinputplus as pyip\n",
    "\n",
    "def factorial(num):\n",
    "    if num==0 or num==1:\n",
    "        return 1\n",
    "    result = num*factorial(num-1)\n",
    "    \n",
    "    return result\n",
    "num = pyip.inputNum(\"Enter the number to calculate factorial\")\n",
    "\n",
    "print(\"The factorial of  {} is {}\".format(num, factorial(num)))"
   ]
  },
  {
   "cell_type": "markdown",
   "id": "d906fd59",
   "metadata": {},
   "source": [
    "**Q5. Write a function that moves all elements of one type to the end of the list.**\n",
    "\n",
    "SOLUTION IN NEXT CELL:"
   ]
  },
  {
   "cell_type": "code",
   "execution_count": null,
   "id": "c8376020",
   "metadata": {},
   "outputs": [],
   "source": [
    "import pyinputplus as pyip\n",
    "\n",
    "def move_to_end(list1,num):\n",
    "    first_end = []\n",
    "    second_end = []\n",
    "    for ele in list1:\n",
    "        if ele == num:\n",
    "            second_end.append(ele)\n",
    "        else:\n",
    "            first_end.append(ele)\n",
    "    first_end.extend(second_end)\n",
    "    return first_end\n",
    "\n",
    "choice = pyip.inputNum(\"Enter the number of items in the list\")\n",
    "l1 = []\n",
    "for i in range(choice):\n",
    "    l1.append(input(\"Enter a number or string \"))\n",
    "    \n",
    "find = input(\"Enter a value to senfd to end\")\n",
    "\n",
    "print(\"The new list is {}\".format(move_to_end(l1, find)))"
   ]
  },
  {
   "cell_type": "code",
   "execution_count": null,
   "id": "83386c5f",
   "metadata": {},
   "outputs": [],
   "source": []
  }
 ],
 "metadata": {
  "kernelspec": {
   "display_name": "Python 3 (ipykernel)",
   "language": "python",
   "name": "python3"
  },
  "language_info": {
   "codemirror_mode": {
    "name": "ipython",
    "version": 3
   },
   "file_extension": ".py",
   "mimetype": "text/x-python",
   "name": "python",
   "nbconvert_exporter": "python",
   "pygments_lexer": "ipython3",
   "version": "3.9.0"
  }
 },
 "nbformat": 4,
 "nbformat_minor": 5
}
