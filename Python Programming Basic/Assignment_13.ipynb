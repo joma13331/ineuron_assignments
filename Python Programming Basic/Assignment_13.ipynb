{
 "cells": [
  {
   "cell_type": "markdown",
   "id": "e334c6a9",
   "metadata": {},
   "source": [
    "Q1. Write a program that calculates and prints the value according to the given formula:\n",
    "    \n",
    "    Q = Square root of [(2 * C * D)/H]\n",
    "    \n",
    "    Following are the fixed values of C and H:\n",
    "    \n",
    "        C is 50. H is 30.\n",
    "        D is the variable whose values should be input to your program in a comma-separated sequence.\n",
    "        \n",
    "SOLUTION IN NEXT CELL:"
   ]
  },
  {
   "cell_type": "code",
   "execution_count": null,
   "id": "ab697ea7",
   "metadata": {},
   "outputs": [],
   "source": [
    "import math\n",
    "C = 50\n",
    "H = 30\n",
    "\n",
    "D = input(\"Enter relevant numbers separated by a comma\")\n",
    "D_list = D.split(\",\")\n",
    "\n",
    "for i in range(len(D_list)):\n",
    "    D_list[i] = D_list[i].strip()\n",
    "\n",
    "result = []\n",
    "\n",
    "try: \n",
    "    for i in D_list:\n",
    "        res = math.sqrt(2*C*float(i)/H)\n",
    "        result.append(str(res))\n",
    "        \n",
    "    string = \",\".join(result)\n",
    "    print(\"result: {}\".format(string))\n",
    "except Exception as e:\n",
    "    print(\"ERROR: \" + str(e))\n",
    "\n",
    "\n",
    "          \n"
   ]
  },
  {
   "cell_type": "markdown",
   "id": "ea422428",
   "metadata": {},
   "source": [
    "Q2. Write a program which takes 2 digits, X,Y as input and generates a 2-dimensional array. \n",
    "The element value in the i-th row and j-th column of the array should be i*j.\n",
    "        \n",
    "SOLUTION IN NEXT CELL:"
   ]
  },
  {
   "cell_type": "code",
   "execution_count": null,
   "id": "848c20f4",
   "metadata": {},
   "outputs": [],
   "source": [
    "import pyinputplus as pyip\n",
    "import numpy as np\n",
    "\n",
    "rows = pyip.inputInt(prompt=\"Enter the number of rows\")\n",
    "columns = pyip.inputInt(prompt=\"Enter the number of columns\")\n",
    "\n",
    "array = np.zeros((rows, columns), dtype=int)\n",
    "\n",
    "for i in range(rows):\n",
    "    for j in range(columns):\n",
    "        array[i][j] = i*j\n",
    "        \n",
    "arr = array.tolist()\n",
    "\n",
    "print(\"the desired result is {}\".format(str(arr)))"
   ]
  },
  {
   "cell_type": "markdown",
   "id": "d83d4fc0",
   "metadata": {},
   "source": [
    "Q3. Write a program that accepts a comma separated sequence of words as input and prints the words in a comma-separated sequence after sorting them alphabetically.\n",
    "        \n",
    "SOLUTION IN NEXT CELL:"
   ]
  },
  {
   "cell_type": "code",
   "execution_count": null,
   "id": "99a0b1f6",
   "metadata": {},
   "outputs": [],
   "source": [
    "D = input(\"Enter relevant words separated by a comma\")\n",
    "D_list = D.split(\",\")\n",
    "\n",
    "for i in range(len(D_list)):\n",
    "    D_list[i] = D_list[i].strip()\n",
    "\n",
    "\n",
    "D_list.sort()\n",
    "\n",
    "string = \",\".join(D_list)\n",
    "print(\"result: {}\".format(string))\n"
   ]
  },
  {
   "cell_type": "markdown",
   "id": "8faac016",
   "metadata": {},
   "source": [
    "Q4. Write a program that accepts a sequence of whitespace separated words as input and prints the words after removing all duplicate words and sorting them alphanumerically.\n",
    "        \n",
    "SOLUTION IN NEXT CELL:"
   ]
  },
  {
   "cell_type": "code",
   "execution_count": null,
   "id": "574323fc",
   "metadata": {},
   "outputs": [],
   "source": [
    "D = input(\"Enter relevant words separated by space\")\n",
    "D_list = D.split()\n",
    "\n",
    "for i in range(len(D_list)):\n",
    "    D_list[i] = D_list[i].strip()\n",
    "\n",
    "list_set = set(D_list)\n",
    "D_list = list(list_set)\n",
    "D_list.sort()\n",
    "\n",
    "list_set\n",
    "string = \" \".join(D_list)\n",
    "print(\"result: {}\".format(string))"
   ]
  },
  {
   "cell_type": "markdown",
   "id": "7df759bd",
   "metadata": {},
   "source": [
    "Q5. Write a program that accepts a sentence and calculate the number of letters and digits.\n",
    "        \n",
    "SOLUTION IN NEXT CELL:"
   ]
  },
  {
   "cell_type": "code",
   "execution_count": null,
   "id": "60c247e6",
   "metadata": {},
   "outputs": [],
   "source": [
    "import pyinputplus as pyip\n",
    "\n",
    "string = pyip.inputStr(prompt=\"Enter a string\")\n",
    "\n",
    "let_count = 0\n",
    "dig_count = 0\n",
    "for i in string:\n",
    "    if i.isnumeric():\n",
    "        dig_count +=1\n",
    "    elif i.isalpha():\n",
    "        let_count +=1\n",
    "        \n",
    "print(\"LETTERS {}\\nDIGITS {}\".format(let_count, dig_count))"
   ]
  },
  {
   "cell_type": "markdown",
   "id": "3f27280b",
   "metadata": {},
   "source": [
    "Q6 . A website requires the users to input username and password to register. Write a program to check the validity of password input by users.\n",
    "Following are the criteria for checking the password:\n",
    "\n",
    "\n",
    "    1. At least 1 letter between [a-z]\n",
    "    2. At least 1 number between [0-9]\n",
    "    1. At least 1 letter between [A-Z]\n",
    "    3. At least 1 character from [$#@]\n",
    "    4. Minimum length of transaction password: 6\n",
    "    5. Maximum length of transaction password: 12\n",
    "        \n",
    "SOLUTION IN NEXT CELL:"
   ]
  },
  {
   "cell_type": "code",
   "execution_count": null,
   "id": "29388141",
   "metadata": {},
   "outputs": [],
   "source": [
    "import re\n",
    "\n",
    "passwords = input(\"Enter password: \")\n",
    "passwords = passwords.split(\",\")\n",
    "\n",
    "for i in range(len(passwords)):\n",
    "    passwords[i] = passwords[i].strip()\n",
    "    \n",
    "accepted_pass = []\n",
    "\n",
    "for i in passwords:\n",
    "    \n",
    "    if len(i) < 6  len(i) > 12:\n",
    "        continue\n",
    "    elif len(i) > 12:\n",
    "        continue\n",
    "    elif not re.search(\"([a-z])+\", i):\n",
    "        continue\n",
    "    elif not re.search(\"([A-Z])+\", i):\n",
    "        continue\n",
    "    elif not re.search(\"([0-9])+\", i):\n",
    "        continue\n",
    "    elif not re.search(\"([!@$%^&])+\", i):\n",
    "        continue\n",
    "\n",
    "    else:\n",
    "        accepted_pass.append(i)\n",
    "\n",
    "print((\" \").join(accepted_pass))\n"
   ]
  },
  {
   "cell_type": "code",
   "execution_count": null,
   "id": "a369bf23",
   "metadata": {},
   "outputs": [],
   "source": []
  }
 ],
 "metadata": {
  "kernelspec": {
   "display_name": "Python 3 (ipykernel)",
   "language": "python",
   "name": "python3"
  },
  "language_info": {
   "codemirror_mode": {
    "name": "ipython",
    "version": 3
   },
   "file_extension": ".py",
   "mimetype": "text/x-python",
   "name": "python",
   "nbconvert_exporter": "python",
   "pygments_lexer": "ipython3",
   "version": "3.9.0"
  }
 },
 "nbformat": 4,
 "nbformat_minor": 5
}
