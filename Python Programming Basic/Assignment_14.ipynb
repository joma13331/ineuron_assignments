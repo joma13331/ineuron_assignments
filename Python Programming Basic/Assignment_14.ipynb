{
 "cells": [
  {
   "cell_type": "markdown",
   "id": "cb824633",
   "metadata": {},
   "source": [
    "Q1. Define a class with a generator which can iterate the numbers, which are divisible by 7, between a given range 0 and n.\n",
    "\n",
    "SOLUTION IN NEXT CELL:"
   ]
  },
  {
   "cell_type": "code",
   "execution_count": null,
   "id": "2d7a7180",
   "metadata": {},
   "outputs": [],
   "source": [
    "class Multiple_7:\n",
    "    \n",
    "    def __init__(self, start = 1, end = 100):\n",
    "        self.end = end\n",
    "        self.val = start - 1\n",
    "        \n",
    "    def __iter__(self):\n",
    "        if self.val % 7 == 0:\n",
    "            return self\n",
    "    \n",
    "    def __next__(self):\n",
    "        while True:\n",
    "            if self.val == self.end:\n",
    "                raise StopIteration\n",
    "            self.val += 1\n",
    "            if self.val % 7 == 0:\n",
    "                return self.val\n",
    "        \n",
    "for i in Multiple_7():\n",
    "    print(i, end =\" \")\n",
    "                "
   ]
  },
  {
   "cell_type": "markdown",
   "id": "27ae58c4",
   "metadata": {},
   "source": [
    "Q2. Write a program to compute the frequency of the words from the input. The output should output after sorting the key alphanumerically.\n",
    "\n",
    "SOLUTION IN NEXT CELL:"
   ]
  },
  {
   "cell_type": "code",
   "execution_count": null,
   "id": "f1d87bff",
   "metadata": {},
   "outputs": [],
   "source": [
    "import pyinputplus as pyip\n",
    "\n",
    "string = pyip.inputStr(prompt=\"Enter a String\")\n",
    "\n",
    "words = string.split()\n",
    "\n",
    "word_dict = {}\n",
    "\n",
    "for i in words:\n",
    "    word_dict[i] = string.count(i)\n",
    "\n",
    "keys = list(word_dict.keys())\n",
    "keys.sort()\n",
    "for key in keys:\n",
    "    print(\"{}:{}\".format(key, word_dict[key]))"
   ]
  },
  {
   "cell_type": "markdown",
   "id": "226a26f3",
   "metadata": {},
   "source": [
    "Q3. Define a class Person and its two child classes: Male and Female. All classes have a method \"getGender\" which can print \"Male\" for Male class and \"Female\" for Female class.\n",
    "\n",
    "SOLUTION IN NEXT CELL:"
   ]
  },
  {
   "cell_type": "code",
   "execution_count": null,
   "id": "ad69bc25",
   "metadata": {},
   "outputs": [],
   "source": [
    "class Person:\n",
    "    pass\n",
    "\n",
    "class Male(Person):\n",
    "    \n",
    "    def getGender(self):\n",
    "        print(\"Male\")\n",
    "        \n",
    "class Female(Person):\n",
    "    \n",
    "    def getGender(self):\n",
    "        print(\"Female\")\n",
    "        \n",
    "obj1 = Male()\n",
    "obj2 = Female()\n",
    "\n",
    "obj1.getGender()\n",
    "obj2.getGender()"
   ]
  },
  {
   "cell_type": "markdown",
   "id": "b3b86e6c",
   "metadata": {},
   "source": [
    "Q4. Please write a program to generate all sentences where subject is in [\"I\", \"You\"] and\n",
    "verb is in [\"Play\", \"Love\"] and the object is in [\"Hockey\",\"Football\"].\n",
    "\n",
    "SOLUTION IN NEXT CELL:"
   ]
  },
  {
   "cell_type": "code",
   "execution_count": null,
   "id": "38356b58",
   "metadata": {},
   "outputs": [],
   "source": [
    "first = [\"I\", \"You\"]\n",
    "second = [\"Play\", \"Love\"]\n",
    "third = [\"Hockey\",\"Football\"]\n",
    "\n",
    "for one in first:\n",
    "    for two in second:\n",
    "        for three in third:\n",
    "            print(\"{} {} {}\".format(one, two, three))"
   ]
  },
  {
   "cell_type": "markdown",
   "id": "f6466966",
   "metadata": {},
   "source": [
    "Q5. Please write a program to compress and decompress the string \"hello world!helloworld!hello world!hello world!\"."
   ]
  },
  {
   "cell_type": "code",
   "execution_count": null,
   "id": "7125337a",
   "metadata": {},
   "outputs": [],
   "source": []
  },
  {
   "cell_type": "markdown",
   "id": "1fd1ff89",
   "metadata": {},
   "source": [
    "Q6. Please write a binary search function which searches an item in a sorted list. The function should return the index of element to be searched in the list.\n",
    "\n",
    "SOLUTION IN NEXT CELL:"
   ]
  },
  {
   "cell_type": "code",
   "execution_count": null,
   "id": "80bbe0b6",
   "metadata": {},
   "outputs": [],
   "source": [
    "import pyinputplus as pyip\n",
    "\n",
    "def BinarySearch(array, ele):\n",
    "    low = 0\n",
    "    high = len(array) - 1\n",
    "    mid = (high-low)/2\n",
    "    while low<=high:\n",
    "        mid = int((high-low)/2)\n",
    "        if array[mid]>ele:\n",
    "            high = mid-1\n",
    "        elif array[mid]>ele:\n",
    "            low = mid+1\n",
    "        else:\n",
    "            return \"Element found at {}\".format(mid)\n",
    "    \n",
    "    return \"Element not found\"\n",
    "again = \"Yes\"\n",
    "unsorted_list = []\n",
    "\n",
    "while again==\"Yes\":\n",
    "    ele = pyip.inputNum(\"Enter a number\")\n",
    "    unsorted_list.append(ele)\n",
    "    \n",
    "    again = pyip.inputMenu([\"Yes\", \"No\"],\n",
    "                          prompt = \"Enter another Number\",\n",
    "                          numbered=True)\n",
    "    \n",
    "unsorted_list.sort()\n",
    "\n",
    "search = pyip.inputNum(\"Enter Number to search\")\n",
    "\n",
    "BinarySearch(unsorted_list, search)"
   ]
  }
 ],
 "metadata": {
  "kernelspec": {
   "display_name": "Python 3 (ipykernel)",
   "language": "python",
   "name": "python3"
  },
  "language_info": {
   "codemirror_mode": {
    "name": "ipython",
    "version": 3
   },
   "file_extension": ".py",
   "mimetype": "text/x-python",
   "name": "python",
   "nbconvert_exporter": "python",
   "pygments_lexer": "ipython3",
   "version": "3.9.0"
  }
 },
 "nbformat": 4,
 "nbformat_minor": 5
}
