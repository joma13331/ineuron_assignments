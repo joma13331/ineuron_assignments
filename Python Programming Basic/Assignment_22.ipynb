{
 "cells": [
  {
   "cell_type": "markdown",
   "id": "cff7be57",
   "metadata": {},
   "source": [
    "**Q1. Return an ordered list with numbers in the range that are divisible by the third parameter n. Return an empty list if there are no numbers that are divisible by n.**\n",
    "\n",
    "SOLUTION IN NEXT CELL:"
   ]
  },
  {
   "cell_type": "code",
   "execution_count": null,
   "id": "dcd4416e",
   "metadata": {},
   "outputs": [],
   "source": [
    "import pyinputplus as pyip\n",
    "\n",
    "def list_operation(start, end, div):\n",
    "    res = []\n",
    "    for i in range(start, end+1,1):\n",
    "        if i%diff==0:\n",
    "            res.append(i)\n",
    "    return res\n",
    "\n",
    "start = pyip.inputNum(\"Enter the start of range\")\n",
    "end = pyip.inputNum(\"Enter the end of range\")\n",
    "div = pyip.inputNum(\"Enter the divisor\")\n",
    "\n",
    "print(\"The result for start={}, end={} and difference={} is {}\".format(start, end, div, list_operation(start, end, div)))"
   ]
  },
  {
   "cell_type": "markdown",
   "id": "ab47ae01",
   "metadata": {},
   "source": [
    "**Q2. Create a function that takes in two lists and returns True if the second list follows the first list by one element, and False otherwise.**\n",
    "\n",
    "SOLUTION IN NEXT CELL:"
   ]
  },
  {
   "cell_type": "code",
   "execution_count": null,
   "id": "60537d99",
   "metadata": {},
   "outputs": [],
   "source": [
    "import pyinputplus as pyip\n",
    "\n",
    "def simon_says(l1, l2):\n",
    "    check = True\n",
    "    if len(l1)==1:\n",
    "        return False\n",
    "    for i in range(1, len(l2)):\n",
    "        if l1[i-1]!=l2[i]:\n",
    "            check = False\n",
    "            break\n",
    "            \n",
    "    return check\n",
    "\n",
    "length = pyip.inputNum(\"Enter the length of lists\")\n",
    "\n",
    "l1 = []\n",
    "for i in range(length):\n",
    "    l1.append(pyip.inputNum(\"Enter a value for list 1\"))\n",
    "    \n",
    "l2 = []\n",
    "for i in range(length):\n",
    "    l2.append(pyip.inputNum(\"Enter a value for list 2\"))\n",
    "    \n",
    "print(\"Does the second list follow the first list? {}\".format(simon_says(l1, l2)))"
   ]
  },
  {
   "cell_type": "markdown",
   "id": "aa7891cc",
   "metadata": {},
   "source": [
    "**Q3. Create a function that takes in a list of names and returns the name of the secret society. The name will be the first letter of each of their names, sorted in alphabetical order.**\n",
    "\n",
    "SOLUTION IN NEXT CELL:"
   ]
  },
  {
   "cell_type": "code",
   "execution_count": null,
   "id": "c8491b2a",
   "metadata": {},
   "outputs": [],
   "source": [
    "import pyinputplus as pyip\n",
    "\n",
    "def society_name(l):\n",
    "    name = \"\"\n",
    "    l.sort()\n",
    "    for i in l:\n",
    "        name += i[0]\n",
    "        \n",
    "    return name.upper()\n",
    "\n",
    "length = pyip.inputNum(\"Enter the length of lists\")\n",
    "\n",
    "l1 = []\n",
    "for i in range(length):\n",
    "    l1.append(pyip.inputStr(\"Enter a name\"))\n",
    "    \n",
    "print(\"The society name is {}\".format(society_name(l1)))"
   ]
  },
  {
   "cell_type": "markdown",
   "id": "4daff86a",
   "metadata": {},
   "source": [
    "**Q4. Create a function that takes a string and returns either True or False depending on whether or not it's an \"isogram\".**\n",
    "\n",
    "SOLUTION IN NEXT CELL:"
   ]
  },
  {
   "cell_type": "code",
   "execution_count": null,
   "id": "707eaf5b",
   "metadata": {},
   "outputs": [],
   "source": [
    "import pyinputplus as pyip\n",
    "\n",
    "def is_isogram(string):\n",
    "    string = string.lower()\n",
    "    for i in string:\n",
    "        num = string.count(i)\n",
    "        if num>1:\n",
    "            return False\n",
    "    return True\n",
    "\n",
    "string = pyip.inputStr(\"Enter the a String\")\n",
    "\n",
    "print(\"the string {} is isobaris is a {} statement\".format(string, is_isogram(string)))"
   ]
  },
  {
   "cell_type": "markdown",
   "id": "e32e0967",
   "metadata": {},
   "source": [
    "**Create a function that takes a string and returns True or False, depending on whether the characters are in order or not.**\n",
    "\n",
    "SOLUTION IN NEXT CELL:"
   ]
  },
  {
   "cell_type": "code",
   "execution_count": null,
   "id": "1ee1caec",
   "metadata": {},
   "outputs": [],
   "source": [
    "import pyinputplus as pyip\n",
    "\n",
    "def is_in_order(string):\n",
    "    l_str = list(string)\n",
    "    l_str.sort()\n",
    "    new_str = \"\".join(l_str)\n",
    "    if string==new_str:\n",
    "        return True\n",
    "    return False\n",
    "\n",
    "string = pyip.inputStr(\"Enter the a String\")\n",
    "\n",
    "print(\"the string {} is in order is a {} statement\".format(string, is_in_order(string)))\n"
   ]
  }
 ],
 "metadata": {
  "kernelspec": {
   "display_name": "Python 3 (ipykernel)",
   "language": "python",
   "name": "python3"
  },
  "language_info": {
   "codemirror_mode": {
    "name": "ipython",
    "version": 3
   },
   "file_extension": ".py",
   "mimetype": "text/x-python",
   "name": "python",
   "nbconvert_exporter": "python",
   "pygments_lexer": "ipython3",
   "version": "3.9.0"
  }
 },
 "nbformat": 4,
 "nbformat_minor": 5
}
