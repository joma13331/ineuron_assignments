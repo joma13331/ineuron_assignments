{
 "cells": [
  {
   "cell_type": "markdown",
   "id": "c28b94e0",
   "metadata": {},
   "source": [
    "**Q1. Write a Python program to print Hello Python?**\n",
    "\n",
    "SOLUTION IN NEXT CELL:"
   ]
  },
  {
   "cell_type": "code",
   "execution_count": null,
   "id": "a35e11fd",
   "metadata": {},
   "outputs": [],
   "source": [
    "print(\"Hello Python\")"
   ]
  },
  {
   "cell_type": "markdown",
   "id": "73aae5b0",
   "metadata": {},
   "source": [
    "**Q2. Write a Python program to do arithmetical operations addition and division.?**\n",
    "\n",
    "SOLUTION IN NEXT CELL:"
   ]
  },
  {
   "cell_type": "code",
   "execution_count": null,
   "id": "1da18efc",
   "metadata": {},
   "outputs": [],
   "source": [
    "import pyinputplus as pyip\n",
    "\n",
    "def Arith_op(oper, num1, num2):\n",
    "    if oper == \"Addition\":\n",
    "        result = num1 + num2\n",
    "    else:\n",
    "        result = num1/num2\n",
    "    return result\n",
    "\n",
    "inp1 = pyip.inputNum(prompt=\"Enter the first number\")\n",
    "inp2 = pyip.inputNum(prompt=\"Enter the second number\")\n",
    "operation = pyip.inputMenu([\"Addition\", \"Division\"],\n",
    "                          prompt=\"What operation to perform[Enter 1 or 2]\\n\",\n",
    "                          numbered=True)\n",
    "\n",
    "res = Arith_op(operation, inp1, inp2)\n",
    "print(\"The result {} between {} and {} is {}\".format(operation, inp1, inp2,res))"
   ]
  },
  {
   "cell_type": "markdown",
   "id": "8e31558b",
   "metadata": {},
   "source": [
    "**Q3. Write a Python program to find the area of a triangle?**\n",
    "\n",
    "SOLUTION IN NEXT CELL:"
   ]
  },
  {
   "cell_type": "code",
   "execution_count": null,
   "id": "d28873af",
   "metadata": {},
   "outputs": [],
   "source": [
    "import math\n",
    "import pyinputplus as pyip\n",
    "\n",
    "def area_triangle(s1, s2, s3):\n",
    "    s = (s1 + s2 + s3)/2\n",
    "    temp = s*(s-s1)*(s-s2)*(s-s3)\n",
    "    return math.sqrt(temp)\n",
    "\n",
    "side1 = pyip.inputNum(prompt=\"Enter length of first side ot triangle\")\n",
    "side2 = pyip.inputNum(prompt=\"Enter length of second side ot triangle\")\n",
    "side3 = pyip.inputNum(prompt=\"Enter length of third side ot triangle\")\n",
    "\n",
    "area = area_triangle(side1, side2, side3)\n",
    "\n",
    "print(\"The area of triangle with sides {}m, {}m and {}m is {}m^2\".format(side1, side2, side3, area))"
   ]
  },
  {
   "cell_type": "markdown",
   "id": "78894eca",
   "metadata": {},
   "source": [
    "**Q4. Write a Python program to swap two variables?**\n",
    "\n",
    "SOLUTION IN NEXT CELL:"
   ]
  },
  {
   "cell_type": "code",
   "execution_count": null,
   "id": "d8f0a80c",
   "metadata": {},
   "outputs": [],
   "source": [
    "import pyinputplus as pyip\n",
    "\n",
    "def swap(a, b):\n",
    "    temp = a\n",
    "    a = b\n",
    "    b = temp\n",
    "    return a, b\n",
    "\n",
    "inp1 = pyip.inputNum(prompt=\"Enter the first number\")\n",
    "inp2 = pyip.inputNum(prompt=\"Enter the second number\")\n",
    "\n",
    "print(\"Before Swapping \\n inp1 = {} and inp2 = {}\".format(inp1, inp2))\n",
    "\n",
    "inp1, inp2 = swap(inp1, inp2)\n",
    "\n",
    "print(\"After Swapping \\n inp1 = {} and inp2 = {}\".format(inp1, inp2))"
   ]
  },
  {
   "cell_type": "markdown",
   "id": "5c0a8448",
   "metadata": {},
   "source": [
    "**Q5. Write a Python program to generate a random number?**\n",
    "\n",
    "SOLUTION IN NEXT CELL:"
   ]
  },
  {
   "cell_type": "code",
   "execution_count": null,
   "id": "70c9a8f2",
   "metadata": {},
   "outputs": [],
   "source": [
    "import random\n",
    "\n",
    "print(\"The random Number is {}\". format(random.random()))"
   ]
  },
  {
   "cell_type": "code",
   "execution_count": null,
   "id": "69122dfd",
   "metadata": {},
   "outputs": [],
   "source": []
  }
 ],
 "metadata": {
  "kernelspec": {
   "display_name": "Python 3 (ipykernel)",
   "language": "python",
   "name": "python3"
  },
  "language_info": {
   "codemirror_mode": {
    "name": "ipython",
    "version": 3
   },
   "file_extension": ".py",
   "mimetype": "text/x-python",
   "name": "python",
   "nbconvert_exporter": "python",
   "pygments_lexer": "ipython3",
   "version": "3.9.0"
  }
 },
 "nbformat": 4,
 "nbformat_minor": 5
}
