{
 "cells": [
  {
   "cell_type": "markdown",
   "id": "c4fdcc76",
   "metadata": {},
   "source": [
    "Q1. Write a Python program to find words which are greater than given length k?\n",
    "\n",
    "SOLUTION IN NEXT CELL:"
   ]
  },
  {
   "cell_type": "code",
   "execution_count": null,
   "id": "92ccff32",
   "metadata": {},
   "outputs": [],
   "source": [
    "import pyinputplus as pyip\n",
    "\n",
    "val = pyip.inputStr(\"Enter a string\")\n",
    "length = pyip.inputInt(\"Enter the min length of words to display\")\n",
    "\n",
    "words_list = val.split()\n",
    "for word in words_list:\n",
    "    if len(word)> length:\n",
    "        print(word)"
   ]
  },
  {
   "cell_type": "markdown",
   "id": "fd408fd7",
   "metadata": {},
   "source": [
    "Q2. Write a Python program for removing i-th character from a string?\n",
    "\n",
    "SOLUTION IN NEXT CELL:"
   ]
  },
  {
   "cell_type": "code",
   "execution_count": null,
   "id": "f398c22b",
   "metadata": {},
   "outputs": [],
   "source": [
    "import pyinputplus as pyip\n",
    "\n",
    "val = pyip.inputStr(\"Enter a string\")\n",
    "index = pyip.inputInt(\"Enter the index of string to remove\")\n",
    "\n",
    "new_val = val[:index] + val[index+1:]\n",
    "print(\"before removing:{}\".format(val))\n",
    "print(\"after removing:{}\".format(new_val))"
   ]
  },
  {
   "cell_type": "markdown",
   "id": "fc49efc5",
   "metadata": {},
   "source": [
    "Q3. Write a Python program to split and join a string?\n",
    "\n",
    "SOLUTION IN NEXT CELL:"
   ]
  },
  {
   "cell_type": "code",
   "execution_count": null,
   "id": "945a5bf4",
   "metadata": {},
   "outputs": [],
   "source": [
    "import pyinputplus as pyip\n",
    "\n",
    "val = pyip.inputStr(\"Enter a string\")\n",
    "\n",
    "words_list = val.split()\n",
    "\n",
    "new_val = \"*\".join(words_list)\n",
    "print(\"before : {}\".format(val))\n",
    "print(\"after : {}\".format(new_val))"
   ]
  },
  {
   "cell_type": "markdown",
   "id": "eff1b279",
   "metadata": {},
   "source": [
    "Q4. Write a Python to check if a given string is binary string or not?\n",
    "\n",
    "SOLUTION IN NEXT CELL:"
   ]
  },
  {
   "cell_type": "code",
   "execution_count": null,
   "id": "fa0b0088",
   "metadata": {},
   "outputs": [],
   "source": [
    "def check(string) :\n",
    "    b = set(string)\n",
    "    s = {'0', '1'}\n",
    "    if s == b or b == {'0'} or b == {'1'}:\n",
    "        print(\"Binary String\")\n",
    "    else :\n",
    "        print(\"Non Binary String\")\n",
    "        \n",
    "s1= \"00110101\"\n",
    "\n",
    "check(s1)\n",
    "s2 = \"1010100200111\"\n",
    "check(s2)"
   ]
  },
  {
   "cell_type": "markdown",
   "id": "c706ed49",
   "metadata": {},
   "source": [
    "Q5. Write a Python program to find uncommon words from two Strings?\n",
    "\n",
    "SOLUTION IN NEXT CELL:"
   ]
  },
  {
   "cell_type": "code",
   "execution_count": null,
   "id": "0bd527b3",
   "metadata": {},
   "outputs": [],
   "source": [
    "import pyinputplus as pyip\n",
    "\n",
    "string1 = pyip.inputStr(\"Enter First string\")\n",
    "string2 = pyip.inputStr(\"Enter Second string\")\n",
    "\n",
    "set1 = set(string1.split())\n",
    "set2 = set(string2.split())\n",
    "\n",
    "set3 = (set1.union(set2)).difference(set1.intersection(set2))\n",
    "\n",
    "print(set3)\n",
    "                                     "
   ]
  },
  {
   "cell_type": "markdown",
   "id": "b0310b57",
   "metadata": {},
   "source": [
    "Q6. Write a Python to find all duplicate characters in string?\n",
    "\n",
    "SOLUTION IN NEXT CELL:"
   ]
  },
  {
   "cell_type": "code",
   "execution_count": null,
   "id": "2f57a236",
   "metadata": {},
   "outputs": [],
   "source": [
    "import pyinputplus as pyip\n",
    "\n",
    "string = pyip.inputStr(\"Enter First string\")\n",
    "\n",
    "duplicates = {}\n",
    "for char in string:\n",
    "   \n",
    "    if char in duplicates:\n",
    "      \n",
    "      duplicates[char] += 1\n",
    "    else:\n",
    "      \n",
    "      duplicates[char] = 1\n",
    "        \n",
    "for key, value in duplicates.items():\n",
    "    if value > 1:\n",
    "        print(key, end = \" \")\n",
    "print()"
   ]
  },
  {
   "cell_type": "markdown",
   "id": "ab82236b",
   "metadata": {},
   "source": [
    "Q7. Write a Python Program to check if a string contains any special character?\n",
    "\n",
    "SOLUTION IN NEXT CELL:"
   ]
  },
  {
   "cell_type": "code",
   "execution_count": null,
   "id": "2e117fa5",
   "metadata": {},
   "outputs": [],
   "source": [
    "import pyinputplus as pyip\n",
    "import re\n",
    "\n",
    "string = pyip.inputStr(\"Enter First string\")\n",
    "regex = re.compile('[@_!#$%^&*()<>?/\\|}{~:]')\n",
    "\n",
    "if(regex.search(string) == None):\n",
    "    print(\"String has special characters\")\n",
    "else:\n",
    "    print(\"String does not have special characters\")"
   ]
  }
 ],
 "metadata": {
  "kernelspec": {
   "display_name": "Python 3 (ipykernel)",
   "language": "python",
   "name": "python3"
  },
  "language_info": {
   "codemirror_mode": {
    "name": "ipython",
    "version": 3
   },
   "file_extension": ".py",
   "mimetype": "text/x-python",
   "name": "python",
   "nbconvert_exporter": "python",
   "pygments_lexer": "ipython3",
   "version": "3.9.0"
  }
 },
 "nbformat": 4,
 "nbformat_minor": 5
}
