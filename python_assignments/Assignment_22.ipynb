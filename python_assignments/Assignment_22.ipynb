{
 "cells": [
  {
   "cell_type": "raw",
   "id": "d2e46889",
   "metadata": {},
   "source": [
    "Q1. What is the result of the code, and explain?\n",
    "\n",
    ">>> X = 'iNeuron'\n",
    ">>> def func():\n",
    "print(X)\n",
    "\n",
    ">>> func()\n",
    "\n",
    "SOLUTION:\n",
    "\n",
    "The above code will display 'iNeuron' as the output. This is because\n",
    "    * variable X is a global variable and within the function when printing the value of X will be 'iNeuron'"
   ]
  },
  {
   "cell_type": "raw",
   "id": "521a6624",
   "metadata": {},
   "source": [
    "Q2. What is the result of the code, and explain?\n",
    "\n",
    ">>> X = 'iNeuron'\n",
    ">>> def func():\n",
    "X = 'NI!'\n",
    "\n",
    ">>> func()\n",
    ">>> print(X)\n",
    "\n",
    "SOLUTION:\n",
    "\n",
    "The above code will display 'iNeuron' as the output. This is because:\n",
    "    * Only within the function will value of X be 'NI' because only in the local scope of this function will the value of X be overwritten. Outside of func() value will remain as 'iNeuron'."
   ]
  },
  {
   "cell_type": "raw",
   "id": "8af8d3b5",
   "metadata": {},
   "source": [
    "Q3. What does this code print, and why?\n",
    "\n",
    ">>> X = 'iNeuron'\n",
    ">>> def func():\n",
    "X = 'NI'\n",
    "print(X)\n",
    "\n",
    ">>> func()\n",
    ">>> print(X)\n",
    "\n",
    "SOLUTION:\n",
    "\n",
    "The above code will display 'NI' in first line and in the second line display 'iNeuron' as the output. This is because:\n",
    "    * Within func() value of X in the print() is 'NI' as variable Xis overwritten in the local scope.\n",
    "    * the second print() is outside the func() where value of X is 'iNeuron' in the global scope"
   ]
  },
  {
   "cell_type": "raw",
   "id": "9103d9f2",
   "metadata": {},
   "source": [
    "Q4. What output does this code produce? Why?\n",
    "\n",
    ">>> X = 'iNeuron'\n",
    ">>> def func():\n",
    "global X\n",
    "X = 'NI'\n",
    "\n",
    ">>> func()\n",
    ">>> print(X)\n",
    "\n",
    "SOLUTION:\n",
    "\n",
    "The above code will display 'BI' as the output. This is because:\n",
    "    * Within the function func() the variable X is made global by the keyword \"global\". this means that any change in variable X within the func() will persist or carried to global scope as well."
   ]
  },
  {
   "cell_type": "raw",
   "id": "2a418429",
   "metadata": {},
   "source": [
    "Q5. What about this code—what’s the output, and why?\n",
    "\n",
    ">>> X = 'iNeuron'\n",
    ">>> def func():\n",
    "X = 'NI'\n",
    "def nested():\n",
    "print(X)\n",
    "nested()\n",
    "\n",
    ">>> func()\n",
    ">>> X\n",
    "\n",
    "SOLUTION:\n",
    "\n",
    "The result for func() will be 'iNeuron'.\n",
    "    * this is because within the nested() no variable X is defined so it will obtain the global value that is 'iNeuron'.\n",
    "    \n",
    "The result of X is 'NI'. "
   ]
  },
  {
   "cell_type": "raw",
   "id": "e79e02a7",
   "metadata": {},
   "source": [
    "Q6. How about this code: what is its output in Python 3, and explain?\n",
    "\n",
    ">>> def func():\n",
    "X = 'NI'\n",
    "def nested():\n",
    "nonlocal X\n",
    "X = 'Spam'\n",
    "nested()\n",
    "print(X)\n",
    "\n",
    ">>> func()\n",
    "\n",
    "SOLUTION:\n",
    "\n",
    "The result will be 'Spam'. This is because:\n",
    "\n",
    "    * The variable X within the nested() is declared as nonlocal which ensures it utilizes the variable from the outer function, so any changes made in nested() will be reflected to the outer function where the print function is called."
   ]
  }
 ],
 "metadata": {
  "kernelspec": {
   "display_name": "Python 3 (ipykernel)",
   "language": "python",
   "name": "python3"
  },
  "language_info": {
   "codemirror_mode": {
    "name": "ipython",
    "version": 3
   },
   "file_extension": ".py",
   "mimetype": "text/x-python",
   "name": "python",
   "nbconvert_exporter": "python",
   "pygments_lexer": "ipython3",
   "version": "3.9.0"
  }
 },
 "nbformat": 4,
 "nbformat_minor": 5
}
