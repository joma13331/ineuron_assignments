{
 "cells": [
  {
   "cell_type": "markdown",
   "id": "752975bf",
   "metadata": {},
   "source": [
    "**Q1. Make a class called Thing with no contents and print it. Then, create an object called example from this class and also print it. Are the printed values the same or different?**\n",
    "\n",
    "SOLUTION IN TWO NEXT CELL"
   ]
  },
  {
   "cell_type": "code",
   "execution_count": null,
   "id": "55e0d9b0",
   "metadata": {},
   "outputs": [],
   "source": [
    "class Thing:\n",
    "    pass\n",
    "\n",
    "\n",
    "print(Thing)\n",
    "\n",
    "example = Thing()\n",
    "\n",
    "print(example)"
   ]
  },
  {
   "cell_type": "markdown",
   "id": "fb07b735",
   "metadata": {},
   "source": [
    "**The Printed values are different**"
   ]
  },
  {
   "cell_type": "markdown",
   "id": "b3a948f5",
   "metadata": {},
   "source": [
    "**Q2. Create a new class called Thing2 and add the value 'abc' to the letters class attribute. Letters should be printed.**\n",
    "\n",
    "SOLUTION IN NEXT CELL"
   ]
  },
  {
   "cell_type": "code",
   "execution_count": null,
   "id": "5c493d63",
   "metadata": {},
   "outputs": [],
   "source": [
    "class Thing2:\n",
    "    letters = \"abc\"\n",
    "    \n",
    "\n",
    "print(Thing2.letters)"
   ]
  },
  {
   "cell_type": "markdown",
   "id": "def26c82",
   "metadata": {},
   "source": [
    "**Q3. Make yet another class called, of course, Thing3. This time, assign the value 'xyz' to an instance (object) attribute called letters. Print letters. Do you need to make an object from the class to do this?**\n",
    "\n",
    "SOLUTION IN NEXT CELL"
   ]
  },
  {
   "cell_type": "code",
   "execution_count": null,
   "id": "d75a1998",
   "metadata": {},
   "outputs": [],
   "source": [
    "class Thing3:\n",
    "    \n",
    "    def __init__(self):\n",
    "        self.letters = \"xyz\"\n",
    "\n",
    "obj = Thing3()\n",
    "\n",
    "print(obj.letters)"
   ]
  },
  {
   "cell_type": "markdown",
   "id": "eb83647f",
   "metadata": {},
   "source": [
    "**Q4. Create an Element class with the instance attributes name, symbol, and number. Create a class object with the values 'Hydrogen,' 'H,' and 1.**\n",
    "\n",
    "SOLUTION IN NEXT CELL"
   ]
  },
  {
   "cell_type": "code",
   "execution_count": null,
   "id": "80aa0270",
   "metadata": {},
   "outputs": [],
   "source": [
    "class Element:\n",
    "    \n",
    "    def __init__(self, name, symbol, number):\n",
    "        self.name = name\n",
    "        self.symbol = symbol\n",
    "        self.number = number\n",
    "        \n",
    "obj = Element('Hydrogen', 'H', 1)"
   ]
  },
  {
   "cell_type": "markdown",
   "id": "460c38b6",
   "metadata": {},
   "source": [
    "**Q5. Make a dictionary with these keys and values: 'name': 'Hydrogen', 'symbol': 'H', 'number': 1. Then, create an object called hydrogen from class Element using this dictionary.**\n",
    "\n",
    "SOLUTION IN NEXT CELL"
   ]
  },
  {
   "cell_type": "code",
   "execution_count": null,
   "id": "87cdb38f",
   "metadata": {},
   "outputs": [],
   "source": [
    "dictionary = {'name': 'Hydrogen', 'symbol': 'H', 'number': 1}\n",
    "\n",
    "class Element:\n",
    "    \n",
    "    def __init__(self, name, symbol, number):\n",
    "        self.name = name\n",
    "        self.symbol = symbol\n",
    "        self.number = number\n",
    "        \n",
    "hydrogen = Element(dictionary[\"name\"], dictionary[\"symbol\"], dictionary[\"number\"])"
   ]
  },
  {
   "cell_type": "markdown",
   "id": "d433eee5",
   "metadata": {},
   "source": [
    "**Q6. For the Element class, define a method called dump() that prints the values of the object’s attributes (name, symbol, and number). Create the hydrogen object from this new definition and use dump() to print its attributes.**\n",
    "\n",
    "SOLUTION IN NEXT CELL"
   ]
  },
  {
   "cell_type": "code",
   "execution_count": null,
   "id": "bd9cb284",
   "metadata": {},
   "outputs": [],
   "source": [
    "dictionary = {'name': 'Hydrogen', 'symbol': 'H', 'number': 1}\n",
    "\n",
    "class Element:\n",
    "    \n",
    "    def __init__(self, name, symbol, number):\n",
    "        self.name = name\n",
    "        self.symbol = symbol\n",
    "        self.number = number\n",
    "        \n",
    "    def dump(self):\n",
    "        print(\"The attributes of the element are:\\nname: {}\\nsymbol: {}\\nnumber: {}\".format(self.name, self.symbol, self.number))\n",
    "        \n",
    "hydrogen = Element(dictionary[\"name\"], dictionary[\"symbol\"], dictionary[\"number\"])\n",
    "hydrogen.dump()"
   ]
  },
  {
   "cell_type": "markdown",
   "id": "5579da0a",
   "metadata": {},
   "source": [
    "**Q7. Call print(hydrogen). In the definition of Element, change the name of method dump to __str__, create a new hydrogen object, and call print(hydrogen) again.**\n",
    "\n",
    "SOLUTION IN NEXT CELL"
   ]
  },
  {
   "cell_type": "code",
   "execution_count": null,
   "id": "9a7fa232",
   "metadata": {},
   "outputs": [],
   "source": [
    "dictionary = {'name': 'Hydrogen', 'symbol': 'H', 'number': 1}\n",
    "\n",
    "class Element:\n",
    "    \n",
    "    def __init__(self, name, symbol, number):\n",
    "        self.name = name\n",
    "        self.symbol = symbol\n",
    "        self.number = number\n",
    "        \n",
    "    def dump(self):\n",
    "        print(\"The attributes of the element are:\\nname: {}\\nsymbol: {}\\nnumber: {}\".format(self.name, self.symbol, self.number))\n",
    "        \n",
    "hydrogen = Element(dictionary[\"name\"], dictionary[\"symbol\"], dictionary[\"number\"])\n",
    "print(hydrogen)\n",
    "\n",
    "class Element:\n",
    "    \n",
    "    def __init__(self, name, symbol, number):\n",
    "        self.name = name\n",
    "        self.symbol = symbol\n",
    "        self.number = number\n",
    "        \n",
    "    def str(self):\n",
    "        print(\"The attributes of the element are:\\nname: {}\\nsymbol: {}\\nnumber: {}\".format(self.name, self.symbol, self.number))\n",
    "        \n",
    "hydrogen = Element(dictionary[\"name\"], dictionary[\"symbol\"], dictionary[\"number\"])\n",
    "print(hydrogen)"
   ]
  },
  {
   "cell_type": "markdown",
   "id": "0a6f02da",
   "metadata": {},
   "source": [
    "**Q8.Modify Element to make the attributes name, symbol, and number private. Define a getter property for each to return its value.**\n",
    "\n",
    "SOLUTION IN NEXT CELL"
   ]
  },
  {
   "cell_type": "code",
   "execution_count": null,
   "id": "fd215c88",
   "metadata": {},
   "outputs": [],
   "source": [
    "class Element:\n",
    "    \n",
    "    def __init__(self, name, symbol, number):\n",
    "        self.__name = name\n",
    "        self.__symbol = symbol\n",
    "        self.__number = number\n",
    "        \n",
    "    def get_name(self):\n",
    "        return self.__name\n",
    "    \n",
    "    def get_symbol(self):\n",
    "        return self.__symbol\n",
    "    \n",
    "    def get_number(self):\n",
    "        return self.__number\n",
    "    \n",
    "        \n",
    "    def str(self):\n",
    "        print(\"The attributes of the element are:\\nname: {}\\nsymbol: {}\\nnumber: {}\".format(self.get_name(), self.get_symbol(), self.get_number()))\n",
    "        \n",
    "hydrogen = Element(dictionary[\"name\"], dictionary[\"symbol\"], dictionary[\"number\"])\n",
    "hydrogen.str()"
   ]
  },
  {
   "cell_type": "markdown",
   "id": "93eaa288",
   "metadata": {},
   "source": [
    "**Q9. Define three classes: Bear, Rabbit, and Octothorpe. For each, define only one method: eats(). This should return 'berries' (Bear), 'clover' (Rabbit), or 'campers' (Octothorpe). Create one object from each and print what it eats.**\n",
    "\n",
    "SOLUTION IN NEXT CELL"
   ]
  },
  {
   "cell_type": "code",
   "execution_count": null,
   "id": "7dfddb8e",
   "metadata": {},
   "outputs": [],
   "source": [
    "class Bear:\n",
    "    \n",
    "    def eats(self):\n",
    "        return \"berries\"\n",
    "    \n",
    "    \n",
    "class Rabbit:\n",
    "    \n",
    "    def eats(self):\n",
    "        return \"clover\"\n",
    "    \n",
    "    \n",
    "class Octothorpe:\n",
    "    \n",
    "    def eats(self):\n",
    "        return \"camper\"\n",
    "\n",
    "    \n",
    "obj1 = Bear()\n",
    "obj2 = Rabbit()\n",
    "obj3 = Octothorpe()\n",
    "\n",
    "print(\"Bear Object eats \" + obj1.eats())\n",
    "print(\"Rabbit Object eats \" + obj2.eats())\n",
    "print(\"Octothorpe Object eats \" + obj3.eats())"
   ]
  },
  {
   "cell_type": "markdown",
   "id": "acda8261",
   "metadata": {},
   "source": [
    "**Q10. Define these classes: Laser, Claw, and SmartPhone. Each has only one method: does(). This returns 'disintegrate' (Laser), &'crush' (Claw), or 'ring' (SmartPhone). Then, define the class Robot that has one instance (object) of each of these. Define a does() method for the Robot that prints what its component objects do.**\n",
    "\n",
    "SOLUTION IN NEXT CELL"
   ]
  },
  {
   "cell_type": "code",
   "execution_count": null,
   "id": "27cd73e9",
   "metadata": {},
   "outputs": [],
   "source": [
    "class Lazer:\n",
    "    def does(self):\n",
    "        return \"disintegrate\"\n",
    "    \n",
    "    \n",
    "class Claw:\n",
    "    def does(self):\n",
    "        return \"crush\"\n",
    "    \n",
    "    \n",
    "class SmartPhone:\n",
    "    def does(self):\n",
    "        return \"ring\"\n",
    "    \n",
    "class Robot:\n",
    "    \n",
    "    def __init__(self):\n",
    "        self.lazer = Lazer()\n",
    "        self.claw = Claw()\n",
    "        self.smartphone = SmartPhone()\n",
    "        \n",
    "    def does(self):\n",
    "        print(\"Lazer does {}\\nClaw does {}\\nSmartPhone does {}\".format(self.lazer.does(), self.claw.does(), self.smartphone.does()))\n",
    "        \n",
    "\n",
    "obj = Robot()\n",
    "obj.does()"
   ]
  },
  {
   "cell_type": "code",
   "execution_count": null,
   "id": "294fe173",
   "metadata": {},
   "outputs": [],
   "source": []
  }
 ],
 "metadata": {
  "kernelspec": {
   "display_name": "Python 3 (ipykernel)",
   "language": "python",
   "name": "python3"
  },
  "language_info": {
   "codemirror_mode": {
    "name": "ipython",
    "version": 3
   },
   "file_extension": ".py",
   "mimetype": "text/x-python",
   "name": "python",
   "nbconvert_exporter": "python",
   "pygments_lexer": "ipython3",
   "version": "3.9.0"
  }
 },
 "nbformat": 4,
 "nbformat_minor": 5
}
