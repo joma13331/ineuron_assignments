{
 "cells": [
  {
   "cell_type": "markdown",
   "id": "0ef3033c",
   "metadata": {},
   "source": [
    "**Q1. Set the variable test1 to the string 'This is a test of the emergency text system,' and save test1 to a file named test.txt.**\n",
    "\n",
    "SOLUTION IS IN THE NEXT CELL:"
   ]
  },
  {
   "cell_type": "code",
   "execution_count": 1,
   "id": "97595c46",
   "metadata": {},
   "outputs": [],
   "source": [
    "test1 = 'This is a test of the emergency text system,'\n",
    "file = open(\"text.txt\", \"w\")\n",
    "file.write(test1)\n",
    "file.close()"
   ]
  },
  {
   "cell_type": "markdown",
   "id": "5fac51d8",
   "metadata": {},
   "source": [
    "**Q2. Read the contents of the file test.txt into the variable test2. Is there a difference between test 1 and test 2?**\n",
    "\n",
    "SOLUTION IS IN THE NEXT TWO CELL:"
   ]
  },
  {
   "cell_type": "code",
   "execution_count": 3,
   "id": "714168fb",
   "metadata": {},
   "outputs": [
    {
     "name": "stdout",
     "output_type": "stream",
     "text": [
      "This is a test of the emergency text system,\n",
      "True\n"
     ]
    }
   ],
   "source": [
    "file = open(\"text.txt\", \"r\")\n",
    "test2 = file.read()\n",
    "file.close()\n",
    "print(test2)\n",
    "print(test1==test2)"
   ]
  },
  {
   "cell_type": "markdown",
   "id": "d0d72674",
   "metadata": {},
   "source": [
    "* No difference between test1 and test2"
   ]
  },
  {
   "cell_type": "markdown",
   "id": "34b9b4d0",
   "metadata": {},
   "source": [
    "**Q3. Create a CSV file called books.csv by using these lines:**\n",
    "\n",
    "* title,author,year\n",
    "* The Weirdstone of Brisingamen,Alan Garner,1960\n",
    "* Perdido Street Station,China Miéville,2000\n",
    "* Thud!,Terry Pratchett,2005\n",
    "* The Spellman Files,Lisa Lutz,2007\n",
    "* Small Gods,Terry Pratchett,1992\n",
    "\n",
    "\n",
    "SOLUTION IS IN THE NEXT CELL:"
   ]
  },
  {
   "cell_type": "code",
   "execution_count": 5,
   "id": "4b597e42",
   "metadata": {},
   "outputs": [],
   "source": [
    "import csv\n",
    "output_file = open(\"books.csv\", \"w\", newline=\"\")\n",
    "output_writer = csv.writer(output_file)\n",
    "\n",
    "output_writer.writerow(['title','author','year'])\n",
    "output_writer.writerow(['The Weirdstone of Brisingamen','Alan Garner',1960])\n",
    "output_writer.writerow(['Perdido Street Station','China Miéville',2000])\n",
    "output_writer.writerow(['Thud!','Terry Pratchett',2005])\n",
    "output_writer.writerow(['The Spellman Files','Lisa Lutz',2007])\n",
    "output_writer.writerow(['Small Gods','Terry Pratchett',1992])\n",
    "\n",
    "output_file.close()"
   ]
  },
  {
   "cell_type": "markdown",
   "id": "5fc4811f",
   "metadata": {},
   "source": [
    "**Q4. Use the sqlite3 module to create a SQLite database called books.db, and a table called books with these fields: title (text), author (text), and year (integer).**\n",
    "\n",
    "SOLUTION IS IN THE NEXT CELL:"
   ]
  },
  {
   "cell_type": "code",
   "execution_count": 6,
   "id": "ca0d0883",
   "metadata": {},
   "outputs": [
    {
     "data": {
      "text/plain": [
       "<sqlite3.Cursor at 0x1c27a999b90>"
      ]
     },
     "execution_count": 6,
     "metadata": {},
     "output_type": "execute_result"
    }
   ],
   "source": [
    "import sqlite3\n",
    "\n",
    "db = sqlite3.connect(\"books.db\")\n",
    "cursor = db.cursor()\n",
    "cursor.execute(\"\"\"CREATE TABLE books(\n",
    "                    title text, author text, year integer)\"\"\")\n",
    "db.commit()\n",
    "db.close()"
   ]
  },
  {
   "cell_type": "markdown",
   "id": "f03da1d2",
   "metadata": {},
   "source": [
    "**Q5. Read books.csv and insert its data into the book table.**\n",
    "\n",
    "SOLUTION IS IN THE NEXT CELL:"
   ]
  },
  {
   "cell_type": "code",
   "execution_count": 19,
   "id": "5146d4b4",
   "metadata": {},
   "outputs": [],
   "source": [
    "import csv \n",
    "import sqlite3\n",
    "\n",
    "books_file = open(\"books.csv\")\n",
    "books_reader = csv.reader(books_file)\n",
    "\n",
    "books_data = list(books_reader)\n",
    "count=0\n",
    "\n",
    "db = sqlite3.connect(\"books.db\")\n",
    "cursor = db.cursor()\n",
    "\n",
    "for book in books_data:\n",
    "    if count ==0:\n",
    "        count += 1\n",
    "    else:\n",
    "        cursor.execute(\"INSERT INTO books VALUES('{}', '{}', {})\".format(book[0], book[1], book[2]))\n",
    "        \n",
    "db.commit()\n",
    "db.close()"
   ]
  },
  {
   "cell_type": "markdown",
   "id": "48af5e45",
   "metadata": {},
   "source": [
    "**Q6. Select and print the title column from the book table in alphabetical order.**\n",
    "\n",
    "SOLUTION IS IN THE NEXT CELL:"
   ]
  },
  {
   "cell_type": "code",
   "execution_count": 20,
   "id": "277f7bd6",
   "metadata": {},
   "outputs": [
    {
     "name": "stdout",
     "output_type": "stream",
     "text": [
      "('Perdido Street Station',)\n",
      "('Small Gods',)\n",
      "('The Spellman Files',)\n",
      "('The Weirdstone of Brisingamen',)\n",
      "('Thud!',)\n"
     ]
    }
   ],
   "source": [
    "db = sqlite3.connect(\"books.db\")\n",
    "cursor = db.cursor()\n",
    "\n",
    "data = cursor.execute(\"SELECT title FROM books ORDER BY title ASC\")\n",
    "\n",
    "for i in data:\n",
    "    print(i)\n",
    "    \n",
    "\n",
    "db.close()"
   ]
  },
  {
   "cell_type": "markdown",
   "id": "a759ea78",
   "metadata": {},
   "source": [
    "**Q7. From the book table, select and print all columns in the order of publication.**\n",
    "\n",
    "SOLUTION IS IN THE NEXT CELL:"
   ]
  },
  {
   "cell_type": "code",
   "execution_count": 16,
   "id": "bbe01a51",
   "metadata": {},
   "outputs": [
    {
     "name": "stdout",
     "output_type": "stream",
     "text": [
      "('The Weirdstone of Brisingamen', 'Alan Garner', 1960)\n",
      "('Small Gods', 'Terry Pratchett', 1992)\n",
      "('Perdido Street Station', 'China Miéville', 2000)\n",
      "('Thud!', 'Terry Pratchett', 2005)\n",
      "('The Spellman Files', 'Lisa Lutz', 2007)\n"
     ]
    }
   ],
   "source": [
    "db = sqlite3.connect(\"books.db\")\n",
    "cursor = db.cursor()\n",
    "\n",
    "data = cursor.execute(\"SELECT * FROM books ORDER BY year ASC\")\n",
    "\n",
    "for i in data:\n",
    "    print(i)\n",
    "    \n",
    "db.close()"
   ]
  },
  {
   "cell_type": "markdown",
   "id": "9b73ed41",
   "metadata": {},
   "source": [
    "**Q8. Use the sqlalchemy module to connect to the sqlite3 database books.db that you just made in exercise 6.**"
   ]
  },
  {
   "cell_type": "markdown",
   "id": "3eb00c85",
   "metadata": {},
   "source": [
    "**Q9. Install the Redis server and the Python redis library (pip install redis) on your computer. Create a Redis hash called test with the fields count (1) and name ('Fester Bestertester'). Print all the fields for\n",
    "test.**"
   ]
  },
  {
   "cell_type": "markdown",
   "id": "9aeb3eda",
   "metadata": {},
   "source": [
    "**Q10. Increment the count field of test and print it.**"
   ]
  }
 ],
 "metadata": {
  "kernelspec": {
   "display_name": "Python 3 (ipykernel)",
   "language": "python",
   "name": "python3"
  },
  "language_info": {
   "codemirror_mode": {
    "name": "ipython",
    "version": 3
   },
   "file_extension": ".py",
   "mimetype": "text/x-python",
   "name": "python",
   "nbconvert_exporter": "python",
   "pygments_lexer": "ipython3",
   "version": "3.9.0"
  }
 },
 "nbformat": 4,
 "nbformat_minor": 5
}
