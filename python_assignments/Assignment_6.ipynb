{
 "cells": [
  {
   "cell_type": "raw",
   "id": "54b8ac9c",
   "metadata": {},
   "source": [
    " Q1. What are escape characters, and how do you use them?\n",
    " \n",
    " SOLUTION:\n",
    " \n",
    "    1. To insert characters that are illegal in a string, we use an escape character. eg. \", ', \\, \\n, \\r, \\t, \\b, \\f, etc \n",
    "    2. An escape character is a backslash \\ followed by the character you want to insert."
   ]
  },
  {
   "cell_type": "raw",
   "id": "11a834d8",
   "metadata": {},
   "source": [
    " Q2. What do the escape characters n and t stand for?\n",
    " \n",
    " SOLUTION: \n",
    "     \\n : newline\n",
    "     \\t : Tab"
   ]
  },
  {
   "cell_type": "raw",
   "id": "7668804e",
   "metadata": {},
   "source": [
    " Q3. What is the way to include backslash characters in a string?\n",
    " \n",
    " SOLUTION:  '\\\\'"
   ]
  },
  {
   "cell_type": "raw",
   "id": "8e16a5f0",
   "metadata": {},
   "source": [
    " Q4. The string \"Howl's Moving Castle\"; is a correct value. Why isn't the single quote character in the word Howl's not escaped a problem?\n",
    " \n",
    " SOLUTION: \n",
    "     The single quote in Howl's is fine because you’ve used double quotes to mark the beginning and end of the string."
   ]
  },
  {
   "cell_type": "raw",
   "id": "dbd17353",
   "metadata": {},
   "source": [
    " Q5. WHow do you write a string of newlines if you don't want to use the n character?\n",
    " \n",
    " SOLUTION: \n",
    "     Multiline strings allow you to use newlines in strings without the \\n escape character"
   ]
  },
  {
   "cell_type": "raw",
   "id": "938c499f",
   "metadata": {},
   "source": [
    " Q6. What are the values of the given expressions?\n",
    "    1. 'Hello, world!'[1]\n",
    "    2. 'Hello, world!'[0:5]\n",
    "    3. 'Hello, world!'[:5]\n",
    "    4. 'Hello, world!'[3:]\n",
    " \n",
    " SOLUTION: \n",
    " \n",
    "     1. 'e\n",
    "     2. 'Hello'\n",
    "     3. 'Hello'\n",
    "     4. 'lo, world!'"
   ]
  },
  {
   "cell_type": "raw",
   "id": "b74eb6e7",
   "metadata": {},
   "source": [
    " Q7. What are the values of the following expressions?\n",
    "    1. 'Hello'.upper()\n",
    "    2. 'Hello'.upper().isupper()\n",
    "    3. 'Hello'.upper().lower()\n",
    " \n",
    " SOLUTION: \n",
    " \n",
    "     1. 'HELLO'\n",
    "     2. True\n",
    "     3. 'hello'"
   ]
  },
  {
   "cell_type": "raw",
   "id": "e8e5a8fb",
   "metadata": {},
   "source": [
    " Q8. What are the values of the following expressions?\n",
    " \n",
    "    1. 'Remember, remember, the fifth of July.'.split()\n",
    "    2. '-'.join('There can only one.'.split())\n",
    " \n",
    " SOLUTION: \n",
    " \n",
    "     1. ['Remember,', 'remember,', 'the', 'fifth', 'of', 'July.']\n",
    "     2. 'There-can-only-one.'"
   ]
  },
  {
   "cell_type": "code",
   "execution_count": 1,
   "id": "3cf9f5d4",
   "metadata": {},
   "outputs": [
    {
     "data": {
      "text/plain": [
       "'There-can-only-one.'"
      ]
     },
     "execution_count": 1,
     "metadata": {},
     "output_type": "execute_result"
    }
   ],
   "source": [
    "'-'.join('There can only one.'.split())"
   ]
  },
  {
   "cell_type": "raw",
   "id": "21e5de9d",
   "metadata": {},
   "source": [
    " Q9. What are the methods for right-justifying, left-justifying, and centering a string?\n",
    " \n",
    " SOLUTION: \n",
    "     \n",
    "     right-justifying: rjust()\n",
    "     left-justifying: ljust()\n",
    "     centering: center()"
   ]
  },
  {
   "cell_type": "raw",
   "id": "766e2290",
   "metadata": {},
   "source": [
    " Q10. What is the best way to remove whitespace characters from the start or end?\n",
    " \n",
    " SOLUTION: string_var.strip()\n",
    "     "
   ]
  }
 ],
 "metadata": {
  "kernelspec": {
   "display_name": "Python 3 (ipykernel)",
   "language": "python",
   "name": "python3"
  },
  "language_info": {
   "codemirror_mode": {
    "name": "ipython",
    "version": 3
   },
   "file_extension": ".py",
   "mimetype": "text/x-python",
   "name": "python",
   "nbconvert_exporter": "python",
   "pygments_lexer": "ipython3",
   "version": "3.9.0"
  }
 },
 "nbformat": 4,
 "nbformat_minor": 5
}
