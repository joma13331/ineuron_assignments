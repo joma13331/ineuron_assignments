{
 "cells": [
  {
   "cell_type": "markdown",
   "id": "ab2d6cac",
   "metadata": {},
   "source": [
    "**Q1. What does RGBA stand for?**\n",
    "\n",
    "SOLUTION:\n",
    "\n",
    "An RGBA value is a tuple of 4 integers, each ranging from 0 to 255.\n",
    "* R corresponds to Red of the pixel color\n",
    "* G corresponds to Green of the pixel color\n",
    "* B corresponds to Blue of the pixel color\n",
    "* A corresponds to Alpha i.e. transparency of the pixel color"
   ]
  },
  {
   "cell_type": "markdown",
   "id": "8e1d2b11",
   "metadata": {},
   "source": [
    "**Q2. From the Pillow module, how do you get the RGBA value of any images?**\n",
    "\n",
    "SOLUTION IS IN NEXT CELL:"
   ]
  },
  {
   "cell_type": "code",
   "execution_count": null,
   "id": "16779b2f",
   "metadata": {},
   "outputs": [],
   "source": [
    "from PIL import Image\n",
    "import numpy as np\n",
    "\n",
    "lotus = Image.open(\"lotus-1.jpg\")\n",
    "lotus_array = np.array(lotus)\n",
    "print(lotus_array)"
   ]
  },
  {
   "cell_type": "markdown",
   "id": "b5aa9ce2",
   "metadata": {},
   "source": [
    "**Q3. What is a box tuple, and how does it work?**\n",
    "\n",
    "SOLUTION:\n",
    "\n",
    "A box tuple is a tuple value of four integers: \n",
    "* the left-edge x-coordinate \n",
    "* the top-edge y-coordinate \n",
    "* the width\n",
    "* the height\n",
    "\n",
    "(the left-edge x-coordinate, the top-edge y-coordinate, the width, the height)"
   ]
  },
  {
   "cell_type": "markdown",
   "id": "0cf095fa",
   "metadata": {},
   "source": [
    "**Q4. Use your image and load in notebook then, How can you find out the width and height of an Image object?**\n",
    "\n",
    "SOLUTION IS IN NEXT CELL:"
   ]
  },
  {
   "cell_type": "code",
   "execution_count": null,
   "id": "cc7a6043",
   "metadata": {},
   "outputs": [],
   "source": [
    "from PIL import Image\n",
    "\n",
    "lotus = Image.open(\"lotus-1.jpg\")\n",
    "width, height = lotus.size\n",
    "print(\"The width of the image is {} and the height of image is {}\".format(width,height))"
   ]
  },
  {
   "cell_type": "markdown",
   "id": "c0a803ba",
   "metadata": {},
   "source": [
    "**Q5. What method would you call to get Image object for a 100×100 image, excluding the lower-left quarter of it?**\n",
    "\n",
    "SOLUTION:\n",
    "\n",
    "```imageObj.crop((0, 50, 50, 50))```"
   ]
  },
  {
   "cell_type": "markdown",
   "id": "abdc986f",
   "metadata": {},
   "source": [
    "**Q6. After making changes to an Image object, how could you save it as an image file?**\n",
    "\n",
    "SOLUTION:\n",
    "\n",
    "```image_object.save('filename of image')```"
   ]
  },
  {
   "cell_type": "markdown",
   "id": "fabafc77",
   "metadata": {},
   "source": [
    "**Q7. What module contains Pillow’s shape-drawing code?**\n",
    "\n",
    "SOLUTION:\n",
    "\n",
    "ImageDraw"
   ]
  },
  {
   "cell_type": "markdown",
   "id": "d65440b4",
   "metadata": {},
   "source": [
    "**Q8. Image objects do not have drawing methods. What kind of object does? How do you get this kind of object?**\n",
    "\n",
    "SOLUTION:\n",
    "\n",
    "* ImageDraw objects have the drawing methds\n",
    "* They are obtained by passing the Image object to the ImageDraw.Draw() function."
   ]
  }
 ],
 "metadata": {
  "kernelspec": {
   "display_name": "Python 3 (ipykernel)",
   "language": "python",
   "name": "python3"
  },
  "language_info": {
   "codemirror_mode": {
    "name": "ipython",
    "version": 3
   },
   "file_extension": ".py",
   "mimetype": "text/x-python",
   "name": "python",
   "nbconvert_exporter": "python",
   "pygments_lexer": "ipython3",
   "version": "3.9.0"
  }
 },
 "nbformat": 4,
 "nbformat_minor": 5
}
