{
 "cells": [
  {
   "cell_type": "markdown",
   "id": "f254e977",
   "metadata": {},
   "source": [
    "**Q1. What is the name of the feature responsible for generating Regex objects?**\n",
    "\n",
    "SOLUTION:\n",
    "\n",
    "   The re.compile() function returns Regex objects."
   ]
  },
  {
   "cell_type": "markdown",
   "id": "60ae7f62",
   "metadata": {},
   "source": [
    "**Q2. Why do raw strings often appear in Regex objects?**\n",
    "\n",
    "SOLUTION:\n",
    "    \n",
    "   * Raw strings are used so that backslashes do not have to be escaped. \n",
    "   * Backlashes are used to represent character classes when creating regex objects\n",
    "   "
   ]
  },
  {
   "cell_type": "markdown",
   "id": "8a5ac8b2",
   "metadata": {},
   "source": [
    "**Q3. What is the return value of the search() method?**\n",
    "\n",
    "SOLUTION:\n",
    "    \n",
    "   The search() method returns Match objects."
   ]
  },
  {
   "cell_type": "markdown",
   "id": "5d5f62b9",
   "metadata": {},
   "source": [
    "**Q4. From a Match item, how do you get the actual strings that match the pattern?**\n",
    "\n",
    "SOLUTION:\n",
    "\n",
    "The group() method returns strings of the matched text."
   ]
  },
  {
   "cell_type": "markdown",
   "id": "13265004",
   "metadata": {},
   "source": [
    "**Q5. In the regex which created from the r'(\\d\\d\\d)-(\\d\\d\\d-\\d\\d\\d\\d)', what does group zero cover?Group 2? Group 1?**\n",
    "\n",
    "SOLUTION:\n",
    "\n",
    "* Group 0 is the entire match. \n",
    "* group 2 covers the second set of parentheses.\n",
    "* group 1 covers the first set of parentheses."
   ]
  },
  {
   "cell_type": "markdown",
   "id": "3068aaf2",
   "metadata": {},
   "source": [
    "**Q6. In standard expression syntax, parentheses and intervals have distinct meanings. How can you tell a regex that you want it to fit real parentheses and periods?**\n",
    "\n",
    "SOLUTION:\n",
    "\n",
    "Periods and parentheses can be escaped with a backslash: \\\\., \\\\\\(, and \\\\ \\)."
   ]
  },
  {
   "cell_type": "markdown",
   "id": "0e25edfd",
   "metadata": {},
   "source": [
    "**Q7. The findall() method returns a string list or a list of string tuples. What causes it to return one of the two options?**\n",
    "\n",
    "SOLUTION:\n",
    "\n",
    "If the regex has no groups, a list of strings is returned. If the regex has groups, a list of tuples of strings is returned."
   ]
  },
  {
   "cell_type": "markdown",
   "id": "5a3a235d",
   "metadata": {},
   "source": [
    "**Q8. In standard expressions, what does the | character mean?**\n",
    "\n",
    "SOLUTION:\n",
    "\n",
    "The | character signifies matching “either, or” between two groups."
   ]
  },
  {
   "cell_type": "markdown",
   "id": "6ad3c65a",
   "metadata": {},
   "source": [
    "**Q9. In regular expressions, what does the character stand for?**\n",
    "\n",
    "SOLUTION:\n",
    "\n",
    "The ? character can either mean “match zero or one of the preceding group” or be used to signify non-greedy matching."
   ]
  },
  {
   "cell_type": "markdown",
   "id": "4c030633",
   "metadata": {},
   "source": [
    "**Q10. In regular expressions, what is the difference between the + and * characters?**\n",
    "\n",
    "SOLUTION:\n",
    "\n",
    "The + matches one or more. The * matches zero or more."
   ]
  },
  {
   "cell_type": "markdown",
   "id": "ee83a600",
   "metadata": {},
   "source": [
    "**Q11. What is the difference between {4} and {4,5} in regular expression?**\n",
    "\n",
    "SOLUTION:\n",
    "\n",
    "The {4} matches exactly four instances of the preceding group. The {4,5} matches either four or five instances."
   ]
  },
  {
   "cell_type": "markdown",
   "id": "e7931db6",
   "metadata": {},
   "source": [
    "**Q12. What do you mean by the \\d, \\w, and \\s shorthand character classes signify in regular expressions?**\n",
    "\n",
    "SOLUTION:\n",
    "\n",
    "* '\\d' - digit characters\n",
    "* '\\w' - word characters\n",
    "* '\\s' - space character"
   ]
  },
  {
   "cell_type": "markdown",
   "id": "8032b37c",
   "metadata": {},
   "source": [
    "**Q13. What do means by \\D, \\W, and \\S shorthand character classes signify in regular expressions?**\n",
    "\n",
    "SOLUTION:\n",
    "\n",
    "* '\\D' - Not a digit characters\n",
    "* '\\W' - Not a word characters\n",
    "* '\\S' - Not a space character"
   ]
  },
  {
   "cell_type": "raw",
   "id": "647c39a5",
   "metadata": {},
   "source": [
    "Q14. What is the difference between .*? and .*?\n",
    "\n",
    "SOLUTION:\n",
    "\n",
    "'.*?' represents a Non Greedy approach of match any character except space i.e. smallest match which is satisfied.\n",
    "'.*' represents a Greedy approach of match any character except space i.e. longest match which is satisfied."
   ]
  },
  {
   "cell_type": "markdown",
   "id": "24b5df15",
   "metadata": {},
   "source": [
    "**Q15. What is the syntax for matching both numbers and lowercase letters with a character class?**\n",
    "\n",
    "SOLUTION:\n",
    "\n",
    "1. [0-9a-z] \n",
    "2. [a-z0-9]"
   ]
  },
  {
   "cell_type": "markdown",
   "id": "099a402c",
   "metadata": {},
   "source": [
    "**Q16. What is the procedure for making a normal expression in regax case insensitive?**\n",
    "\n",
    "SOLUTION:\n",
    "\n",
    "Passing re.I or re.IGNORECASE as the second argument to re.compile() will make the matching case insensitive."
   ]
  },
  {
   "cell_type": "markdown",
   "id": "15d828d6",
   "metadata": {},
   "source": [
    "**Q17. What does the . character normally match? What does it match if re.DOTALL is passed as 2nd argument in re.compile()?**\n",
    "\n",
    "SOLUTION:\n",
    "* The . character normally matches any character except the newline character. \n",
    "* If re.DOTALL is passed as the second argument to re.compile(), then the dot will also match newline characters."
   ]
  },
  {
   "cell_type": "markdown",
   "id": "5522d63d",
   "metadata": {},
   "source": [
    "**Q18. If numReg = re.compile(r'\\d+'), what will numRegex.sub('X', '11 drummers, 10 pipers, five rings, 4 hen') return?**\n",
    "\n",
    "SOLUTION:\n",
    "numReg.sub('X', '11 drummers, 10 pipers, five rings, 4 hen') will return 'X drummers, X pipers, five rings, X hen'"
   ]
  },
  {
   "cell_type": "code",
   "execution_count": 2,
   "id": "625e6eac",
   "metadata": {},
   "outputs": [
    {
     "data": {
      "text/plain": [
       "'X drummers, X pipers, five rings, X hen'"
      ]
     },
     "execution_count": 2,
     "metadata": {},
     "output_type": "execute_result"
    }
   ],
   "source": [
    "import re\n",
    "numReg = re.compile(r'\\d+')\n",
    "numReg.sub('X', '11 drummers, 10 pipers, five rings, 4 hen')"
   ]
  },
  {
   "cell_type": "markdown",
   "id": "a9473ecc",
   "metadata": {},
   "source": [
    "**Q19. What does passing re.VERBOSE as the 2nd argument to re.compile() allow to do?**\n",
    "\n",
    "SOLUTION:\n",
    "\n",
    "The re.VERBOSE argument allows you to add whitespace and comments to the string passed to re.compile()."
   ]
  },
  {
   "cell_type": "markdown",
   "id": "8547ffde",
   "metadata": {},
   "source": [
    "**Q20. How would you write a regex that match a number with comma for every three digits? It must match the given following:\n",
    "    (1) '42' (2)'1,234'  (3)'6,368,745'\n",
    "but not the following:\n",
    "    (a)'12,34,567' (which has only two digits between the commas)\n",
    "    (b)'1234' (which lacks commas)**\n",
    "    \n",
    "SOLUTION:\n",
    "\n",
    "re.compile(r'^\\d{1,3}(,\\d{3})*$')"
   ]
  },
  {
   "cell_type": "raw",
   "id": "a01755b9",
   "metadata": {},
   "source": [
    "Q21. How would you write a regex that matches the full name of someone whose last name is Watanabe? You can assume that the first name that comes before it will always be one word that begins with a capital letter. The regex must match the following:\n",
    "\n",
    "(1) 'Haruto Watanabe'\n",
    "(2) 'Alice Watanabe'\n",
    "(3) 'RoboCop Watanabe'\n",
    "\n",
    "but not the following:\n",
    "\n",
    "(a) 'haruto Watanabe' (where the first name is not capitalized)\n",
    "(b) 'Mr. Watanabe' (where the preceding word has a nonletter character)\n",
    "(c) 'Watanabe' (which has no first name)\n",
    "(d) 'Haruto watanabe' (where Watanabe is not capitalized)\n",
    "\n",
    "SOLUTION:\n",
    "\n",
    "re.compile(r'[A-Z][a-z]*\\sWatanabe')"
   ]
  },
  {
   "cell_type": "markdown",
   "id": "158e6dae",
   "metadata": {},
   "source": [
    "**Q22. How would you write a regex that matches a sentence where the first word is either Alice, Bob, or Carol; the second word is either eats, pets, or throws; the third word is apples, cats, or baseballs;\n",
    "and the sentence ends with a period? This regex should be case-insensitive. It must match the following:**\n",
    "\n",
    "**(1) 'Alice eats apples.'\n",
    "(2) 'Bob pets cats.'\n",
    "(3) 'Carol throws baseballs.'\n",
    "(4) 'Alice throws Apples.'\n",
    "(5) 'BOB EATS CATS.'**\n",
    "\n",
    "**but not the following:**\n",
    "\n",
    "**(a) 'RoboCop eats apples.'\n",
    "(b) 'ALICE THROWS FOOTBALLS.'\n",
    "(c) 'Carol eats 7 cats.'**\n",
    "\n",
    "SOLUTION:\n",
    "\n",
    "re.compile(r'(Alice|Bob|Carol)\\s(eats|pets|throws)\\s(apples|cats|baseballs)\\.', re.IGNORECASE)"
   ]
  }
 ],
 "metadata": {
  "kernelspec": {
   "display_name": "Python 3 (ipykernel)",
   "language": "python",
   "name": "python3"
  },
  "language_info": {
   "codemirror_mode": {
    "name": "ipython",
    "version": 3
   },
   "file_extension": ".py",
   "mimetype": "text/x-python",
   "name": "python",
   "nbconvert_exporter": "python",
   "pygments_lexer": "ipython3",
   "version": "3.9.0"
  }
 },
 "nbformat": 4,
 "nbformat_minor": 5
}
