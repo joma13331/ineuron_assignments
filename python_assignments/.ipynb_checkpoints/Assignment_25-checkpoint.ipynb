{
 "cells": [
  {
   "cell_type": "markdown",
   "id": "8de7e38d",
   "metadata": {},
   "source": [
    "**Q1. What is the difference between enclosing a list comprehension in square brackets and parentheses?**\n",
    "\n",
    "SOLUTION:\n",
    "\n",
    "* The difference between the two kinds of expressions is that the List comprehension is enclosed in square brackets [] while the Generator  expression is enclosed in plain parentheses ()."
   ]
  },
  {
   "cell_type": "markdown",
   "id": "3f2ebaf4",
   "metadata": {},
   "source": [
    "**Q2. What is the relationship between generators and iterators?**\n",
    "\n",
    "SOLUTION:\n",
    "\n",
    "|Iterator|Generator|\n",
    "|--------|---------|\n",
    "|Every iterator is not a generator|Every generator is an iterator|\n",
    "|Iterators are used mostly to iterate or convert other objects to an iterator using iter() function.|Generators are mostly used in loops to generate an iterator by returning all the values in the loop without affecting the iteration of the loop|\n",
    "|Iterator uses iter() and next() functions |Generator uses yield keyword|\n",
    "|Local Variables aren’t used here. |All the local variables before the yield function are stored. |\n",
    "|Class is used to implement an iterator|Function is used to implement a generator.|"
   ]
  },
  {
   "cell_type": "markdown",
   "id": "b882bceb",
   "metadata": {},
   "source": [
    "**Q3. What are the signs that a function is a generator function?**\n",
    "\n",
    "SOLUTION:\n",
    "\n",
    "* Instead of return keyword a generator function has the yield keyword"
   ]
  },
  {
   "cell_type": "markdown",
   "id": "70ae7a69",
   "metadata": {},
   "source": [
    "**Q4. What is the purpose of a yield statement?**\n",
    "\n",
    "SOLUTION:\n",
    "* Yield is a keyword in Python that is used to return from a function without destroying the states of its local variable and when the function is called, the execution starts from the last yield statement. \n",
    "* Any function that contains a yield keyword is termed a generator.\n",
    "* yield is what makes a generator."
   ]
  },
  {
   "cell_type": "markdown",
   "id": "fc1dd262",
   "metadata": {},
   "source": [
    "**Q5. What is the relationship between map calls and list comprehensions? Make a comparison and contrast between the two.**\n",
    "\n",
    "SOLUTION:\n",
    "\n",
    "* List Comprehension is a substitute for the lambda function, map(), filter() and reduce()\n",
    "\n",
    "* List comprehension is more concise and easier to read as compared to map.\n",
    "* List comprehension are used when a list of results is required as map only returns a map object and does not return any list.\n",
    "* List comprehension is faster than map when we need to evaluate expressions that are too long or complicated to express\n",
    "* Map is faster in case of calling an already defined function (as no lambda is required)"
   ]
  },
  {
   "cell_type": "code",
   "execution_count": null,
   "id": "9d092aac",
   "metadata": {},
   "outputs": [],
   "source": []
  }
 ],
 "metadata": {
  "kernelspec": {
   "display_name": "Python 3 (ipykernel)",
   "language": "python",
   "name": "python3"
  },
  "language_info": {
   "codemirror_mode": {
    "name": "ipython",
    "version": 3
   },
   "file_extension": ".py",
   "mimetype": "text/x-python",
   "name": "python",
   "nbconvert_exporter": "python",
   "pygments_lexer": "ipython3",
   "version": "3.9.0"
  }
 },
 "nbformat": 4,
 "nbformat_minor": 5
}
