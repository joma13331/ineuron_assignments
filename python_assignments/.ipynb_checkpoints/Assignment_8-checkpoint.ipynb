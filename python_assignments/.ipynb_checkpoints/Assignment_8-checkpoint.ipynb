{
 "cells": [
  {
   "cell_type": "markdown",
   "id": "8e875a3e",
   "metadata": {},
   "source": [
    "**Q1. Is the Python Standard Library included with PyInputPlus?**\n",
    "\n",
    "SOLUTION:\n",
    "\n",
    "No. PyInputPlus is a third-party module and doesn’t come with the Python Standard Library."
   ]
  },
  {
   "cell_type": "markdown",
   "id": "e6480e22",
   "metadata": {},
   "source": [
    "**Q2. Why is PyInputPlus commonly imported with import pyinputplus as pypi?**\n",
    "\n",
    "SOLUTION:\n",
    "\n",
    "This makes your code shorter to type: you can type pyip.inputStr() instead of pyinputplus.inputStr()."
   ]
  },
  {
   "cell_type": "markdown",
   "id": "b8b6886d",
   "metadata": {},
   "source": [
    "**Q3. How do you distinguish between inputInt() and inputFloat()?**\n",
    "\n",
    "SOLUTION:\n",
    "\n",
    "* The inputInt() function takes only integers as input and returns an int value\n",
    "* While the inputFloat() function takes all numerical values integers or decimal and returns a float value."
   ]
  },
  {
   "cell_type": "markdown",
   "id": "f5b29f16",
   "metadata": {},
   "source": [
    "**Q4. Using PyInputPlus, how do you ensure that the user enters a whole number between 0 and 99?**\n",
    "\n",
    "SOLUTION:\n",
    "\n",
    "```import pyinputplus as pyip\n",
    "num = pyip.inputInt(min=0, max=99)```"
   ]
  },
  {
   "cell_type": "markdown",
   "id": "e38e68db",
   "metadata": {},
   "source": [
    "**Q5. What is transferred to the keyword arguments allowRegexes and blockRegexes?**\n",
    "\n",
    "SOLUTION:\n",
    "\n",
    "A list of regex strings that are either explicitly allowed or denied"
   ]
  },
  {
   "cell_type": "markdown",
   "id": "454b4644",
   "metadata": {},
   "source": [
    "**Q6. If a blank input is entered three times, what does inputStr(limit=3) do?**\n",
    "\n",
    "SOLUTION:\n",
    "\n",
    "A list of regex strings that are either explicitly allowed or denied"
   ]
  },
  {
   "cell_type": "markdown",
   "id": "0a10f2a8",
   "metadata": {},
   "source": [
    "**Q7. If blank input is entered three times, what does inputStr(limit=3, default='hello') do?**\n",
    "\n",
    "SOLUTION:\n",
    "\n",
    "The function returns the value 'hello'."
   ]
  }
 ],
 "metadata": {
  "kernelspec": {
   "display_name": "Python 3 (ipykernel)",
   "language": "python",
   "name": "python3"
  },
  "language_info": {
   "codemirror_mode": {
    "name": "ipython",
    "version": 3
   },
   "file_extension": ".py",
   "mimetype": "text/x-python",
   "name": "python",
   "nbconvert_exporter": "python",
   "pygments_lexer": "ipython3",
   "version": "3.9.0"
  }
 },
 "nbformat": 4,
 "nbformat_minor": 5
}
