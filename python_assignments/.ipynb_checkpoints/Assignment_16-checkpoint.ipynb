{
 "cells": [
  {
   "cell_type": "markdown",
   "id": "69228143",
   "metadata": {},
   "source": [
    "**Q1. Create a list called years_list, starting with the year of your birth, and each year thereafter until the year of your fifth birthday. For example, if you were born in 1980. the list would be years_list = [1980, 1981, 1982, 1983, 1984, 1985].**\n",
    "\n",
    "SOLUTION IS IN NEXT CELL"
   ]
  },
  {
   "cell_type": "code",
   "execution_count": 2,
   "id": "245fc4d8",
   "metadata": {},
   "outputs": [
    {
     "name": "stdout",
     "output_type": "stream",
     "text": [
      "[1992, 1993, 1994, 1995, 1996, 1997]\n"
     ]
    }
   ],
   "source": [
    "years_list = list(range(1992, 1998))\n",
    "print(years_list)"
   ]
  },
  {
   "cell_type": "markdown",
   "id": "b06845b9",
   "metadata": {},
   "source": [
    "**Q2. In which year in years_list was your third birthday? Remember, you were 0 years of age for your first year.**\n",
    "\n",
    "SOLUTION IS IN NEXT CELL"
   ]
  },
  {
   "cell_type": "code",
   "execution_count": 3,
   "id": "c7c60857",
   "metadata": {},
   "outputs": [
    {
     "data": {
      "text/plain": [
       "1995"
      ]
     },
     "execution_count": 3,
     "metadata": {},
     "output_type": "execute_result"
    }
   ],
   "source": [
    "years_list[3]"
   ]
  },
  {
   "cell_type": "markdown",
   "id": "601c81b0",
   "metadata": {},
   "source": [
    "**Q3. In the years list, which year were you the oldest?**\n",
    "\n",
    "SOLUTION IS IN NEXT CELL"
   ]
  },
  {
   "cell_type": "code",
   "execution_count": 4,
   "id": "dd40eb31",
   "metadata": {},
   "outputs": [
    {
     "data": {
      "text/plain": [
       "1997"
      ]
     },
     "execution_count": 4,
     "metadata": {},
     "output_type": "execute_result"
    }
   ],
   "source": [
    "years_list[-1]"
   ]
  },
  {
   "cell_type": "markdown",
   "id": "4c61dd7a",
   "metadata": {},
   "source": [
    "**Q4. Make a list called things with these three strings as elements: \"mozzarella\", \"cinderella\", \"salmonella\".**\n",
    "\n",
    "SOLUTION IS IN NEXT CELL"
   ]
  },
  {
   "cell_type": "code",
   "execution_count": 5,
   "id": "f30b6eb7",
   "metadata": {},
   "outputs": [],
   "source": [
    "things = [\"mozzarella\", \"cinderella\", \"salmonella\"]"
   ]
  },
  {
   "cell_type": "markdown",
   "id": "f0a10065",
   "metadata": {},
   "source": [
    "**Q5. Capitalize the element in things that refers to a person and then print the list. Did it change the element in the list?**\n",
    "\n",
    "SOLUTION IS IN NEXT CELL"
   ]
  },
  {
   "cell_type": "code",
   "execution_count": 7,
   "id": "471862fc",
   "metadata": {},
   "outputs": [
    {
     "name": "stdout",
     "output_type": "stream",
     "text": [
      "Cinderella\n",
      "['mozzarella', 'cinderella', 'salmonella']\n"
     ]
    }
   ],
   "source": [
    "print(things[1].capitalize())\n",
    "print(things)"
   ]
  },
  {
   "cell_type": "markdown",
   "id": "bb5e7868",
   "metadata": {},
   "source": [
    "**Q6. Make a surprise list with the elements \"Groucho,\" \"Chico,\" and \"Harpo.\"**\n",
    "\n",
    "SOLUTION IS IN NEXT CELL"
   ]
  },
  {
   "cell_type": "code",
   "execution_count": 8,
   "id": "ef4b35ce",
   "metadata": {},
   "outputs": [],
   "source": [
    "surprise = [\"Groucho\", \"Chico\",  \"Harpo\"]"
   ]
  },
  {
   "cell_type": "markdown",
   "id": "a11a8647",
   "metadata": {},
   "source": [
    "**Q7. Lowercase the last element of the surprise list, reverse it, and then capitalize it.**\n",
    "\n",
    "SOLUTION IS IN NEXT CELL"
   ]
  },
  {
   "cell_type": "code",
   "execution_count": 9,
   "id": "cdd5f685",
   "metadata": {},
   "outputs": [
    {
     "data": {
      "text/plain": [
       "'Oprah'"
      ]
     },
     "execution_count": 9,
     "metadata": {},
     "output_type": "execute_result"
    }
   ],
   "source": [
    "surprise[-1].lower()[::-1].capitalize()"
   ]
  },
  {
   "cell_type": "markdown",
   "id": "26a2cc89",
   "metadata": {},
   "source": [
    "**Q8. Make an English-to-French dictionary called e2f and print it. Here are your starter words: dog is chien, cat is chat, and walrus is morse.**\n",
    "\n",
    "SOLUTION IS IN NEXT CELL"
   ]
  },
  {
   "cell_type": "code",
   "execution_count": 10,
   "id": "64ed44b0",
   "metadata": {},
   "outputs": [],
   "source": [
    "e2f = {\"dog\" : \"chien\", \"cat\" : \"chat\", \"walrus\" : \"morse\"}"
   ]
  },
  {
   "cell_type": "markdown",
   "id": "097d18ae",
   "metadata": {},
   "source": [
    "**Q9. Write the French word for walrus in your three-word dictionary e2f.**\n",
    "\n",
    "SOLUTION IS IN NEXT CELL"
   ]
  },
  {
   "cell_type": "code",
   "execution_count": 11,
   "id": "4a7ceaf8",
   "metadata": {},
   "outputs": [
    {
     "data": {
      "text/plain": [
       "'morse'"
      ]
     },
     "execution_count": 11,
     "metadata": {},
     "output_type": "execute_result"
    }
   ],
   "source": [
    "e2f[\"walrus\"]"
   ]
  },
  {
   "cell_type": "markdown",
   "id": "c35f052e",
   "metadata": {},
   "source": [
    "**Q10. Make a French-to-English dictionary called f2e from e2f. Use the items method.**\n",
    "\n",
    "SOLUTION IS IN NEXT CELL"
   ]
  },
  {
   "cell_type": "code",
   "execution_count": 12,
   "id": "969d7a57",
   "metadata": {},
   "outputs": [
    {
     "data": {
      "text/plain": [
       "dict_items([('dog', 'chien'), ('cat', 'chat'), ('walrus', 'morse')])"
      ]
     },
     "execution_count": 12,
     "metadata": {},
     "output_type": "execute_result"
    }
   ],
   "source": [
    "e2f.items()"
   ]
  },
  {
   "cell_type": "code",
   "execution_count": 14,
   "id": "6eab9eb9",
   "metadata": {},
   "outputs": [
    {
     "name": "stdout",
     "output_type": "stream",
     "text": [
      "{'chien': 'dog', 'chat': 'cat', 'morse': 'walrus'}\n"
     ]
    }
   ],
   "source": [
    "f2e = {}\n",
    "for key, value in e2f.items():\n",
    "    f2e[value] = key\n",
    "print(f2e)"
   ]
  },
  {
   "cell_type": "markdown",
   "id": "84327994",
   "metadata": {},
   "source": [
    "**Q11. Print the English version of the French word chien using f2e.**\n",
    "\n",
    "SOLUTION IS IN NEXT CELL"
   ]
  },
  {
   "cell_type": "code",
   "execution_count": 15,
   "id": "954eeec1",
   "metadata": {},
   "outputs": [
    {
     "data": {
      "text/plain": [
       "'dog'"
      ]
     },
     "execution_count": 15,
     "metadata": {},
     "output_type": "execute_result"
    }
   ],
   "source": [
    "f2e[\"chien\"]"
   ]
  },
  {
   "cell_type": "markdown",
   "id": "f38abe6f",
   "metadata": {},
   "source": [
    "**Q12. Make and print a set of English words from the keys in e2f.**\n",
    "\n",
    "SOLUTION IS IN NEXT CELL"
   ]
  },
  {
   "cell_type": "code",
   "execution_count": 18,
   "id": "a24c9202",
   "metadata": {},
   "outputs": [
    {
     "data": {
      "text/plain": [
       "{'cat', 'dog', 'walrus'}"
      ]
     },
     "execution_count": 18,
     "metadata": {},
     "output_type": "execute_result"
    }
   ],
   "source": [
    "set(e2f.keys())"
   ]
  },
  {
   "cell_type": "markdown",
   "id": "8e466039",
   "metadata": {},
   "source": [
    "**Q13. Make a multilevel dictionary called life. Use these strings for the topmost keys: 'animals', 'plants', and 'other'. Make the 'animals' key refer to another dictionary with the keys 'cats', 'octopi', and 'emus'. Make the 'cats' key refer to a list of strings with the values 'Henri', 'Grumpy', and 'Lucy'. Make all the other keys refer to empty dictionaries.**\n",
    "\n",
    "SOLUTION IS IN NEXT CELL"
   ]
  },
  {
   "cell_type": "code",
   "execution_count": 19,
   "id": "32ec4ec4",
   "metadata": {},
   "outputs": [],
   "source": [
    "life = {\"animals\":{\"cats\":[\"Henri\", \"Grumpy\", \"Lucy\"], \"octopi\": {}, \"emus\": {}}, \"plants\": {}, \"other\": {}}"
   ]
  },
  {
   "cell_type": "markdown",
   "id": "2e557189",
   "metadata": {},
   "source": [
    "**Q14. Print the top-level keys of life.**\n",
    "\n",
    "SOLUTION IS IN NEXT CELL"
   ]
  },
  {
   "cell_type": "code",
   "execution_count": 20,
   "id": "97d51eee",
   "metadata": {},
   "outputs": [
    {
     "name": "stdout",
     "output_type": "stream",
     "text": [
      "dict_keys(['animals', 'plants', 'other'])\n"
     ]
    }
   ],
   "source": [
    "print(life.keys())"
   ]
  },
  {
   "cell_type": "markdown",
   "id": "c072b4e7",
   "metadata": {},
   "source": [
    "**Q15. Print the keys for life['animals'].**\n",
    "\n",
    "SOLUTION IS IN NEXT CELL"
   ]
  },
  {
   "cell_type": "code",
   "execution_count": 21,
   "id": "261e7d5f",
   "metadata": {},
   "outputs": [
    {
     "name": "stdout",
     "output_type": "stream",
     "text": [
      "dict_keys(['cats', 'octopi', 'emus'])\n"
     ]
    }
   ],
   "source": [
    "print(life[\"animals\"].keys())"
   ]
  },
  {
   "cell_type": "markdown",
   "id": "ff84d7ba",
   "metadata": {},
   "source": [
    "**Q16. Print the values for life['animals']['cats']**\n",
    "\n",
    "SOLUTION IS IN NEXT CELL"
   ]
  },
  {
   "cell_type": "code",
   "execution_count": 22,
   "id": "244eac96",
   "metadata": {},
   "outputs": [
    {
     "name": "stdout",
     "output_type": "stream",
     "text": [
      "['Henri', 'Grumpy', 'Lucy']\n"
     ]
    }
   ],
   "source": [
    "print(life[\"animals\"][\"cats\"])"
   ]
  }
 ],
 "metadata": {
  "kernelspec": {
   "display_name": "Python 3 (ipykernel)",
   "language": "python",
   "name": "python3"
  },
  "language_info": {
   "codemirror_mode": {
    "name": "ipython",
    "version": 3
   },
   "file_extension": ".py",
   "mimetype": "text/x-python",
   "name": "python",
   "nbconvert_exporter": "python",
   "pygments_lexer": "ipython3",
   "version": "3.9.0"
  }
 },
 "nbformat": 4,
 "nbformat_minor": 5
}
