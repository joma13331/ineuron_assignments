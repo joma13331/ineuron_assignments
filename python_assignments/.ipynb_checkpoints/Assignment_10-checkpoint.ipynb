{
 "cells": [
  {
   "cell_type": "markdown",
   "id": "e1b7d781",
   "metadata": {},
   "source": [
    "Q1. How do you distinguish between shutil.copy() and shutil.copytree()?\n",
    "\n",
    "SOLUTION:\n",
    "\n",
    "* The shutil.copy() function will copy a single file\n",
    "* While shutil.copytree() will copy an entire folder, along with all its contents."
   ]
  },
  {
   "cell_type": "markdown",
   "id": "d8bb0a4a",
   "metadata": {},
   "source": [
    "Q2. What function is used to rename files??\n",
    "\n",
    "SOLUTION:\n",
    "\n",
    "The shutil.move() function is used for renaming files as well as moving them."
   ]
  },
  {
   "cell_type": "markdown",
   "id": "f03b931a",
   "metadata": {},
   "source": [
    "Q3. What is the difference between the delete functions in the send2trash and shutil modules?\n",
    "\n",
    "SOLUTION:\n",
    "\n",
    "* The send2trash functions will move a file or folder to the recycle bin\n",
    "* While shutil functions will permanently delete files and folders."
   ]
  },
  {
   "cell_type": "markdown",
   "id": "6c75ebd2",
   "metadata": {},
   "source": [
    "Q4. ZipFile objects have a close() method just like File objects’ close() method. What ZipFile method is equivalent to File objects’ open() method?\n",
    "\n",
    "SOLUTION:\n",
    "\n",
    "* The zipfile.ZipFile() function "
   ]
  },
  {
   "cell_type": "markdown",
   "id": "c982cedc",
   "metadata": {},
   "source": [
    "Q5. Create a programme that searches a folder tree for files with a certain file extension (such as .pdf or .jpg). Copy these files from whatever location they are in to a new folder.\n",
    "\n",
    "SOLUTION:\n",
    "\n",
    "IN THE NEXT CELL"
   ]
  },
  {
   "cell_type": "code",
   "execution_count": 1,
   "id": "83325c3a",
   "metadata": {},
   "outputs": [],
   "source": [
    "def fileMover(file_extension, source_folder, destination_folder):\n",
    "    \"\"\"\n",
    "    This function copies all files of a particular extension in a folder tree to a destination folder.\n",
    "    \n",
    "    Function argument: \n",
    "    1. file_extension: file extension to search for.\n",
    "    2. source_folder: Folder tree to search in.\n",
    "    3. destination_folder: Folder to copy all the relevantfiles into.\n",
    "    \"\"\"\n",
    "    import os\n",
    "    import shutil\n",
    "    \n",
    "    try:\n",
    "        for folder, subfolders, filenames in os.walk(source_folder):\n",
    "            for filename in filenames:\n",
    "                if filename.endswith(file_extension):\n",
    "                    source = os.path.join(folder, filename)\n",
    "                    destination = os.path.join(destination_folder,filename)\n",
    "                    shutil.move(source, destination)\n",
    "    except Exception as e:\n",
    "        print(\"Error: \" + e)\n",
    "\n",
    "        \n",
    "        \n",
    "fileMover(\".tgz\", \"D:\\\\Downloads\", \"D:\\\\Downloads\\\\compressed\")"
   ]
  }
 ],
 "metadata": {
  "kernelspec": {
   "display_name": "Python 3 (ipykernel)",
   "language": "python",
   "name": "python3"
  },
  "language_info": {
   "codemirror_mode": {
    "name": "ipython",
    "version": 3
   },
   "file_extension": ".py",
   "mimetype": "text/x-python",
   "name": "python",
   "nbconvert_exporter": "python",
   "pygments_lexer": "ipython3",
   "version": "3.9.0"
  }
 },
 "nbformat": 4,
 "nbformat_minor": 5
}
