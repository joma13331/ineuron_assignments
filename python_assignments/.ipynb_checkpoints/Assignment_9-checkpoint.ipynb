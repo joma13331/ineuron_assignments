{
 "cells": [
  {
   "cell_type": "markdown",
   "id": "143c14a2",
   "metadata": {},
   "source": [
    "Q1. To what does a relative path refer?\n",
    "\n",
    "SOLUTION:\n",
    "\n",
    "Relative paths are relative to the current working directory."
   ]
  },
  {
   "cell_type": "markdown",
   "id": "5356e80c",
   "metadata": {},
   "source": [
    "Q2. What does an absolute path start with your operating system?\n",
    "\n",
    "SOLUTION:\n",
    "\n",
    "Absolute paths start with the root folder C:\\ or D:\\."
   ]
  },
  {
   "cell_type": "markdown",
   "id": "b99d8758",
   "metadata": {},
   "source": [
    "Q3. What do the functions os.getcwd() and os.chdir() do?\n",
    "\n",
    "SOLUTION:\n",
    "\n",
    "The os.getcwd() function returns the current working directory. The os.chdir() function changes the current working directory."
   ]
  },
  {
   "cell_type": "markdown",
   "id": "c6ac112e",
   "metadata": {},
   "source": [
    "Q4. What are the . and .. folders?\n",
    "\n",
    "SOLUTION:\n",
    "\n",
    "The . folder is the current folder, and .. is the parent folder."
   ]
  },
  {
   "cell_type": "markdown",
   "id": "b1334fa8",
   "metadata": {},
   "source": [
    "Q5. In C:\\bacon\\eggs\\spam.txt, which part is the dir name, and which part is the base name?\n",
    "\n",
    "SOLUTION:\n",
    "\n",
    "C:\\bacon\\eggs is the dir name, while spam.txt is the base name."
   ]
  },
  {
   "cell_type": "markdown",
   "id": "2f2192c9",
   "metadata": {},
   "source": [
    "Q6. What are the three “mode” arguments that can be passed to the open() function?\n",
    "\n",
    "SOLUTION:\n",
    "\n",
    "The string 'r' for read mode, 'w' for write mode, and 'a' for append mode"
   ]
  },
  {
   "cell_type": "markdown",
   "id": "1aece4c5",
   "metadata": {},
   "source": [
    "Q7. What happens if an existing file is opened in write mode?\n",
    "\n",
    "SOLUTION:\n",
    "\n",
    "An existing file opened in write mode is erased and completely overwritten."
   ]
  },
  {
   "cell_type": "markdown",
   "id": "6ba77f36",
   "metadata": {},
   "source": [
    "Q8. How do you tell the difference between read() and readlines()?\n",
    "\n",
    "SOLUTION:\n",
    "\n",
    "* The read() method returns the file’s entire contents as a single string value. \n",
    "* The readlines() method returns a list of strings, where each string is a line from the file’s contents."
   ]
  },
  {
   "cell_type": "markdown",
   "id": "2c922c4d",
   "metadata": {},
   "source": [
    "Q9. What data structure does a shelf value resemble?\n",
    "\n",
    "SOLUTION:\n",
    "\n",
    "* A shelf value resembles a dictionary value.\n",
    "* It has keys and values, along with keys() and values() methods that work similarly to the dictionary methods of the same names."
   ]
  }
 ],
 "metadata": {
  "kernelspec": {
   "display_name": "Python 3 (ipykernel)",
   "language": "python",
   "name": "python3"
  },
  "language_info": {
   "codemirror_mode": {
    "name": "ipython",
    "version": 3
   },
   "file_extension": ".py",
   "mimetype": "text/x-python",
   "name": "python",
   "nbconvert_exporter": "python",
   "pygments_lexer": "ipython3",
   "version": "3.9.0"
  }
 },
 "nbformat": 4,
 "nbformat_minor": 5
}
