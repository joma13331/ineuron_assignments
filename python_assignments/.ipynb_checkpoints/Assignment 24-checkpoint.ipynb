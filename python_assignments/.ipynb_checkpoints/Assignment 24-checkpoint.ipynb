{
 "cells": [
  {
   "cell_type": "markdown",
   "id": "f2d184ce",
   "metadata": {},
   "source": [
    "**Q1. What is the relationship between def statements and lambda expressions ?**\n",
    "\n",
    "SOLUTION:\n",
    "\n",
    "* Both def statements and lambda expressions are used to create function.\n",
    "* Whereas functions created using def do not have to return anything functions using lambda expressions always return something\n",
    "* The def functions must be declared in the namespace.The lambda functions can be used without any declaration in the namespace.\n",
    "* The lambda functions defined above are like single-line functions."
   ]
  },
  {
   "cell_type": "markdown",
   "id": "fec291c7",
   "metadata": {},
   "source": [
    "**Q2. What is the benefit of lambda?**\n",
    "\n",
    "SOLUTION:\n",
    "\n",
    "* The lambda keyword in Python provides a shortcut for declaring small anonymous functions.\n",
    "* A lambda expression can be anonymous, you don’t even need to assign it to a name.\n"
   ]
  },
  {
   "cell_type": "markdown",
   "id": "1b212db4",
   "metadata": {},
   "source": [
    "**Q3. Compare and contrast map, filter, and reduce.**\n",
    "\n",
    "SOLUTION:\n",
    "\n",
    "|Map|Filter|Reduce|\n",
    "|---|------|------|\n",
    "|If you already have a list of values and you want to do the exact same operation on each of the elements in the array and return the same amount of items in the list, in these type of situations it is better to use the map method.|If you already have list of values but you only want to have items in the array that match certain criteria, in these type of situations it is better to use the filter method.|If you already have list of values, but you want to use the values in that list to create something completely new, in these type of situations it is better to use the reduce method.|\n",
    "|Map operation takes a mapping function and a vector of data as arguments and returns a new vector, which is the result of applying the mapping function on each element of the vector independently.|The filter function operates on a list and returns a subset of that list after applying the filtering rule.|The reduce function will transform a given list into a single value by applying a given function continuously to all the elements.|"
   ]
  },
  {
   "cell_type": "markdown",
   "id": "71575426",
   "metadata": {},
   "source": [
    "**Q4. What are function annotations, and how are they used?**\n",
    "\n",
    "SOLUTION:\n",
    "\n",
    "* Function annotations provide a way of associating various parts of a function with arbitrary python expressions at compile time.\n",
    "* Function annotations are completely optional both for parameters and return value.\n",
    "* The benefits from function annotations can only be reaped via third party libraries.\n",
    "\n",
    "They are used in foloowing ways:\n",
    "1. Annotations for simple parameters\n",
    "    ```def foobar(a: expression, b: expression = 5):```\n",
    "2. Annotations for excess parameters \n",
    "    ```def foobar(*args: expression, *kwargs: expression):```\n",
    "3. Annotations for nested parameters\n",
    "    ```def foobar((a: expression, b: expression), (c: expression, d: expression)):```\n",
    "4. Annotations for return type\n",
    "    ```def foobar(a: expression)->expression:```"
   ]
  },
  {
   "cell_type": "markdown",
   "id": "8abf61ec",
   "metadata": {},
   "source": [
    "**Q5. What are recursive functions, and how are they used?**\n",
    "\n",
    "SOLUTION:\n",
    "\n",
    "* A recursive function is a function in code that refers to itself for execution. \n",
    "* Recursive functions can be simple or elaborate. \n",
    "* They allow for more efficient code writing, for instance, in the listing or compiling of sets of numbers, strings or other variables through a single reiterated process.\n",
    "\n",
    "* Recursive function are implemeted by checking a condition, if that condition is true the same function is called with new parameters.\n",
    "This continues till the function reaches base value or simplest value which results in a chain of returns till we get a final result"
   ]
  },
  {
   "cell_type": "markdown",
   "id": "28ba01c1",
   "metadata": {},
   "source": [
    "**Q6. What are some general design guidelines for coding functions?**\n",
    "\n",
    "SOLUTION:\n",
    "\n",
    "Some general design guidelines for coding functions:\n",
    "* Wheneve possible use generators so that memory consumption is less.\n",
    "* Always provide a description to help other understand about the function\n",
    "* Encapsulate the code with try and except to protect against runtime error.\n",
    "* Use lambdas whenever possible.\n",
    "* A function should complete only one task,\n",
    "* contain code with the same level of abstraction\n",
    "* have no duplication\n",
    "* use descriptive name"
   ]
  },
  {
   "cell_type": "markdown",
   "id": "f5c2f554",
   "metadata": {},
   "source": [
    "**Q7. Name three or more ways that functions can communicate results to a caller.**\n",
    "\n",
    "SOLUTION:\n",
    "* By displaying the result using print function\n",
    "* By returning values to the caller\n",
    "* By using global variables\n",
    "* Using the logging module"
   ]
  }
 ],
 "metadata": {
  "kernelspec": {
   "display_name": "Python 3 (ipykernel)",
   "language": "python",
   "name": "python3"
  },
  "language_info": {
   "codemirror_mode": {
    "name": "ipython",
    "version": 3
   },
   "file_extension": ".py",
   "mimetype": "text/x-python",
   "name": "python",
   "nbconvert_exporter": "python",
   "pygments_lexer": "ipython3",
   "version": "3.9.0"
  }
 },
 "nbformat": 4,
 "nbformat_minor": 5
}
