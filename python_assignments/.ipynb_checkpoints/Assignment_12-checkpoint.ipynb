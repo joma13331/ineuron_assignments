{
 "cells": [
  {
   "cell_type": "markdown",
   "id": "e590f7e0",
   "metadata": {},
   "source": [
    "**Q1. In what modes should the PdfFileReader() and PdfFileWriter() File objects will be opened?**\n",
    "\n",
    "SOLUTION:\n",
    "\n",
    "1. PdfFileReader() should be opened in 'rb' mode i.e. read-binary\n",
    "2. PdfFileWriter() should be opened in 'wb' mode i.e. write-binary"
   ]
  },
  {
   "cell_type": "markdown",
   "id": "fa43e92f",
   "metadata": {},
   "source": [
    "**Q2. From a PdfFileReader object, how do you get a Page object for page 5?**\n",
    "\n",
    "SOLUTION:\n",
    "\n",
    "Using the method getPage() and passing 4 as the argument i.e. getPage(4)."
   ]
  },
  {
   "cell_type": "markdown",
   "id": "c23cec0b",
   "metadata": {},
   "source": [
    "**Q3. What PdfFileReader variable stores the number of pages in the PDF document?**\n",
    "\n",
    "SOLUTION:\n",
    "\n",
    "The numPages variable stores an integer of the number of pages in the PdfFileReader object."
   ]
  },
  {
   "cell_type": "markdown",
   "id": "f29b2f0e",
   "metadata": {},
   "source": [
    "**Q4. If a PdfFileReader object’s PDF is encrypted with the password swordfish, what must you do before you can obtain Page objects from it?**\n",
    "\n",
    "SOLUTION:\n",
    "\n",
    "Call method decrypt('swordfish')."
   ]
  },
  {
   "cell_type": "markdown",
   "id": "21ace52d",
   "metadata": {},
   "source": [
    "**Q5. What methods do you use to rotate a page?**\n",
    "\n",
    "SOLUTION:\n",
    "\n",
    "1. The rotateClockwise() and rotateCounterClockwise() methods. \n",
    "2. The degrees to rotate is passed as an integer argument.\n",
    "3. The possiblevalues of degrees are 90, 180, 270."
   ]
  },
  {
   "cell_type": "markdown",
   "id": "335ce021",
   "metadata": {},
   "source": [
    "**Q6. What is the difference between a Run object and a Paragraph object?**\n",
    "\n",
    "SOLUTION:\n",
    "\n",
    "1. Runs are contiguous groups of characters within a paragraph.\n",
    "2. A document contains multiple paragraphs. \n",
    "    A paragraph begins on a new line and contains multiple runs."
   ]
  },
  {
   "cell_type": "markdown",
   "id": "822f722c",
   "metadata": {},
   "source": [
    "**Q7. How do you obtain a list of Paragraph objects for a Document object that’s stored in a variable named doc?**\n",
    "\n",
    "SOLUTION:\n",
    "\n",
    "Use statement ```doc.paragraphs```"
   ]
  },
  {
   "cell_type": "markdown",
   "id": "1356a344",
   "metadata": {},
   "source": [
    "**Q8. What type of object has bold, underline, italic, strike, and outline variables?**\n",
    "\n",
    "SOLUTION:\n",
    "\n",
    "A Run Object"
   ]
  },
  {
   "cell_type": "markdown",
   "id": "16150e96",
   "metadata": {},
   "source": [
    "**Q9. What is the difference between False, True, and None for the bold variable?**\n",
    "\n",
    "SOLUTION:\n",
    "\n",
    "1. True always makes the Run object bolded\n",
    "2. False makes it always not bolded, no matter what the style’s bold setting is. \n",
    "3. None will make the Run object just use the style’s bold setting."
   ]
  },
  {
   "cell_type": "markdown",
   "id": "4d5744f6",
   "metadata": {},
   "source": [
    "**Q10. How do you create a Document object for a new Word document?**\n",
    "\n",
    "SOLUTION:\n",
    "\n",
    "Call the docx.Document() function"
   ]
  },
  {
   "cell_type": "markdown",
   "id": "c9ab4f25",
   "metadata": {},
   "source": [
    "**Q11. How do you add a paragraph with the text 'Hello, there!' to a Document object stored in a variable named doc?**\n",
    "\n",
    "SOLUTION:\n",
    "\n",
    "```doc.add_paragraph('Hello there!')```"
   ]
  },
  {
   "cell_type": "markdown",
   "id": "4044d01c",
   "metadata": {},
   "source": [
    "**Q12. What integers represent the levels of headings available in Word documents?**\n",
    "\n",
    "SOLUTION:\n",
    "\n",
    "0, 1, 2, 3, and 4"
   ]
  }
 ],
 "metadata": {
  "kernelspec": {
   "display_name": "Python 3 (ipykernel)",
   "language": "python",
   "name": "python3"
  },
  "language_info": {
   "codemirror_mode": {
    "name": "ipython",
    "version": 3
   },
   "file_extension": ".py",
   "mimetype": "text/x-python",
   "name": "python",
   "nbconvert_exporter": "python",
   "pygments_lexer": "ipython3",
   "version": "3.9.0"
  }
 },
 "nbformat": 4,
 "nbformat_minor": 5
}
