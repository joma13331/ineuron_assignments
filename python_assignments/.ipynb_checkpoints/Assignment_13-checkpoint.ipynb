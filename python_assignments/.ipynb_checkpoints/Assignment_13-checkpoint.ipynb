{
 "cells": [
  {
   "cell_type": "markdown",
   "id": "cd803fbf",
   "metadata": {},
   "source": [
    "**Q1. What advantages do Excel spreadsheets have over CSV spreadsheets?**\n",
    "\n",
    "SOLUTION:\n",
    "\n",
    "Advantages of Excel over CSV:\n",
    "1. Spreadsheets can have values of data types other than strings\n",
    "2. Cells can have different fonts, sizes, or color settings\n",
    "3. Cells can have varying widths and heights\n",
    "4. Adjacent cells can be merged\n",
    "5. You can embed images and charts"
   ]
  },
  {
   "cell_type": "markdown",
   "id": "deab5f80",
   "metadata": {},
   "source": [
    "**Q2. What do you pass to csv.reader() and csv.writer() to create reader and writer objects?**\n",
    "\n",
    "SOLUTION:\n",
    "\n",
    "You pass a File object, obtained from a call to open()."
   ]
  },
  {
   "cell_type": "markdown",
   "id": "9fb131a1",
   "metadata": {},
   "source": [
    "**Q3. What modes do File objects for reader and writer objects need to be opened in?**\n",
    "\n",
    "SOLUTION:\n",
    "\n",
    "1. read-binary ('rb') mode for reader objects and \n",
    "2. write-binary ('wb') mode for writer objects."
   ]
  },
  {
   "cell_type": "markdown",
   "id": "06cfd5f5",
   "metadata": {},
   "source": [
    "**Q4. What method takes a list argument and writes it to a CSV file?**\n",
    "\n",
    "SOLUTION:\n",
    "\n",
    "```writerow()```"
   ]
  },
  {
   "cell_type": "markdown",
   "id": "22564836",
   "metadata": {},
   "source": [
    "**Q5. What do the keyword arguments delimiter and line terminator do?**\n",
    "\n",
    "SOLUTION:\n",
    "\n",
    "1. The delimiter argument changes the string used to separate cells in a row.\n",
    "2. The lineterminator argument changes the string used to separate rows."
   ]
  },
  {
   "cell_type": "markdown",
   "id": "5d9781a1",
   "metadata": {},
   "source": [
    "**Q6. What function takes a string of JSON data and returns a Python data structure?**\n",
    "\n",
    "SOLUTION:\n",
    "\n",
    "```json.loads()```"
   ]
  },
  {
   "cell_type": "markdown",
   "id": "c5c53283",
   "metadata": {},
   "source": [
    "**Q7. What function takes a Python data structure and returns a string of JSON data?**\n",
    "\n",
    "SOLUTION:\n",
    "\n",
    "```json.dumps()```"
   ]
  }
 ],
 "metadata": {
  "kernelspec": {
   "display_name": "Python 3 (ipykernel)",
   "language": "python",
   "name": "python3"
  },
  "language_info": {
   "codemirror_mode": {
    "name": "ipython",
    "version": 3
   },
   "file_extension": ".py",
   "mimetype": "text/x-python",
   "name": "python",
   "nbconvert_exporter": "python",
   "pygments_lexer": "ipython3",
   "version": "3.9.0"
  }
 },
 "nbformat": 4,
 "nbformat_minor": 5
}
