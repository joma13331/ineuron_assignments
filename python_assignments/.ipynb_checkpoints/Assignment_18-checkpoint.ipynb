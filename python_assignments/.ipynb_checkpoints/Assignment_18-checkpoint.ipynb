{
 "cells": [
  {
   "cell_type": "markdown",
   "id": "5fb4b02c",
   "metadata": {},
   "source": [
    "**Q1. Create a zoo.py file first. Define the hours() function, which prints the string 'Open 9-5 daily'. Then, use the interactive interpreter to import the zoo module and call its hours() function.**\n",
    "\n",
    "SOLUTION IS IN NEXT CELL:"
   ]
  },
  {
   "cell_type": "code",
   "execution_count": null,
   "id": "27b578cd",
   "metadata": {},
   "outputs": [],
   "source": [
    "import zoo\n",
    "\n",
    "zoo.hours()"
   ]
  },
  {
   "cell_type": "markdown",
   "id": "701a2d23",
   "metadata": {},
   "source": [
    "**Q2. In the interactive interpreter, import the zoo module as menagerie and call its hours() function.**\n",
    "\n",
    "SOLUTION IS IN NEXT CELL:"
   ]
  },
  {
   "cell_type": "code",
   "execution_count": null,
   "id": "e921bf74",
   "metadata": {},
   "outputs": [],
   "source": [
    "import zoo as menagerie\n",
    "menagerie.hours()"
   ]
  },
  {
   "cell_type": "markdown",
   "id": "0c5b0b42",
   "metadata": {},
   "source": [
    "**Q3. Using the interpreter, explicitly import and call the hours() function from zoo.**\n",
    "\n",
    "SOLUTION IS IN NEXT CELL:"
   ]
  },
  {
   "cell_type": "code",
   "execution_count": null,
   "id": "29467071",
   "metadata": {},
   "outputs": [],
   "source": [
    "from zoo import hours\n",
    "\n",
    "hours()"
   ]
  },
  {
   "cell_type": "markdown",
   "id": "0f9b1e15",
   "metadata": {},
   "source": [
    "**Q4. Import the hours() function as info and call it.**\n",
    "\n",
    "SOLUTION IS IN NEXT CELL:"
   ]
  },
  {
   "cell_type": "code",
   "execution_count": null,
   "id": "3c1eb0c1",
   "metadata": {},
   "outputs": [],
   "source": [
    "from zoo import hours as info\n",
    "\n",
    "info()"
   ]
  },
  {
   "cell_type": "markdown",
   "id": "9ce12884",
   "metadata": {},
   "source": [
    "**Q5. Create a plain dictionary with the key-value pairs 'a': 1, 'b': 2, and 'c': 3, and print it out.**\n",
    "\n",
    "SOLUTION IS IN NEXT CELL:"
   ]
  },
  {
   "cell_type": "code",
   "execution_count": null,
   "id": "9294ba8f",
   "metadata": {},
   "outputs": [],
   "source": [
    "plain = {'a': 1, 'b': 2, 'c': 3}\n",
    "print(plain)"
   ]
  },
  {
   "cell_type": "markdown",
   "id": "94f254c0",
   "metadata": {},
   "source": [
    "**Q6. Make an OrderedDict called fancy from the same pairs listed in 5 and print it. Did it print in the same order as plain?**\n",
    "\n",
    "SOLUTION IS IN NEXT TWO CELL:"
   ]
  },
  {
   "cell_type": "code",
   "execution_count": null,
   "id": "a67d9427",
   "metadata": {},
   "outputs": [],
   "source": [
    "from collections import OrderedDict\n",
    "fancy = OrderedDict({'a': 1, 'b': 2, 'c': 3})\n",
    "print(fancy)"
   ]
  },
  {
   "cell_type": "markdown",
   "id": "76ff1f4e",
   "metadata": {},
   "source": [
    "**Yes, it did print in the same order as plain.**"
   ]
  },
  {
   "cell_type": "markdown",
   "id": "6fc202f0",
   "metadata": {},
   "source": [
    "**Q7. Make a default dictionary called dict_of_lists and pass it the argument list. Make the list dict_of_lists['a'] and append the value 'something for a' to it in one assignment. Print dict_of_lists['a'].**\n",
    "\n",
    "SOLUTION IS IN NEXT CELL:"
   ]
  },
  {
   "cell_type": "code",
   "execution_count": null,
   "id": "322738e0",
   "metadata": {},
   "outputs": [],
   "source": [
    "dict_of_lists = {}\n",
    "dict_of_lists[\"a\"] = []\n",
    "dict_of_lists['a'].append('something for a' )\n",
    "\n",
    "print(dict_of_lists['a'])"
   ]
  },
  {
   "cell_type": "code",
   "execution_count": null,
   "id": "6d370446",
   "metadata": {},
   "outputs": [],
   "source": []
  }
 ],
 "metadata": {
  "kernelspec": {
   "display_name": "Python 3 (ipykernel)",
   "language": "python",
   "name": "python3"
  },
  "language_info": {
   "codemirror_mode": {
    "name": "ipython",
    "version": 3
   },
   "file_extension": ".py",
   "mimetype": "text/x-python",
   "name": "python",
   "nbconvert_exporter": "python",
   "pygments_lexer": "ipython3",
   "version": "3.9.0"
  }
 },
 "nbformat": 4,
 "nbformat_minor": 5
}
