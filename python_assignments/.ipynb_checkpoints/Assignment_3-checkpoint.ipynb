{
 "cells": [
  {
   "cell_type": "raw",
   "id": "ccea9610",
   "metadata": {},
   "source": [
    "Q1. Why are functions advantageous to have in your programs?\n",
    "\n",
    "SOLUTION: \n",
    "\n",
    "The advantages of using functions are:\n",
    "\n",
    "    1. Avoid repetition of codes.\n",
    "    2. Increases program readability.\n",
    "    3. Divide a complex problem into simpler ones.\n",
    "    4. Reduces chances of error.\n",
    "    5. Modifying a program becomes easier by using function."
   ]
  },
  {
   "cell_type": "raw",
   "id": "02aa64d5",
   "metadata": {},
   "source": [
    "Q2. When does the code in a function run: when it's specified or when it's called?\n",
    "\n",
    "SOLUTION: The code in a function executes when the function is called"
   ]
  },
  {
   "cell_type": "raw",
   "id": "00d2bd11",
   "metadata": {},
   "source": [
    "Q3. What statement creates a function?\n",
    "\n",
    "SOLUTION: def statement"
   ]
  },
  {
   "cell_type": "raw",
   "id": "b3b69565",
   "metadata": {},
   "source": [
    "Q4. What is the difference between a function and a function call?\n",
    "\n",
    "SOLUTION:\n",
    "    \n",
    "    A function consists of the def statement and the code in its def clause but a function call consists of only the function name along with the parameters passed, invoked in the part of the program where we want the code in the function to be executed. "
   ]
  },
  {
   "cell_type": "raw",
   "id": "006877c3",
   "metadata": {},
   "source": [
    "Q5. How many global scopes are there in a Python program? How many local scopes?\n",
    "\n",
    "SOLUTION: Global Scope : 1\n",
    "          Local scope : As many as no. of functions in the program. "
   ]
  },
  {
   "cell_type": "raw",
   "id": "4aeea2b0",
   "metadata": {},
   "source": [
    "Q6. What happens to variables in a local scope when the function call returns?\n",
    "\n",
    "SOLUTION: When a function returns, the local scope is destroyed, and all the variables in it are forgotten."
   ]
  },
  {
   "cell_type": "raw",
   "id": "f85b9741",
   "metadata": {},
   "source": [
    "Q7. What is the concept of a return value? Is it possible to have a return value in an expression?\n",
    "\n",
    "SOLUTION:\n",
    "    A return value is the value that a function call evaluates to. \n",
    "    A return value can be used as part of an expression."
   ]
  },
  {
   "cell_type": "raw",
   "id": "227e68fd",
   "metadata": {},
   "source": [
    "Q8. If a function does not have a return statement, what is the return value of a call to that function?\n",
    "\n",
    "SOLUTION: None"
   ]
  },
  {
   "cell_type": "raw",
   "id": "1bb84a3e",
   "metadata": {},
   "source": [
    "Q9. How do you make a function variable refer to the global variable?\n",
    "\n",
    "SOLUTION: \n",
    "    A global statement will force a variable in a function to refer to the global variable.\n",
    "    eg. global var"
   ]
  },
  {
   "cell_type": "raw",
   "id": "da9491b0",
   "metadata": {},
   "source": [
    "Q10. What is the data type of None?\n",
    "\n",
    "SOLUTION: NoneType"
   ]
  },
  {
   "cell_type": "raw",
   "id": "7b054692",
   "metadata": {},
   "source": [
    "Q11. What does the sentence import areallyourpetsnamederic do?\n",
    "\n",
    "SOLUTION: Import the library areallyourpetsnamederic from the system to your program."
   ]
  },
  {
   "cell_type": "raw",
   "id": "f8add974",
   "metadata": {},
   "source": [
    "Q12. If you had a bacon() feature in a spam module, what would you call it after importing spam?\n",
    "\n",
    "SOLUTION: spam.bacon()"
   ]
  },
  {
   "cell_type": "raw",
   "id": "582ed9e8",
   "metadata": {},
   "source": [
    "Q13. What can you do to save a programme from crashing if it encounters an error?\n",
    "\n",
    "SOLUTION:\n",
    "    Place the code which is causing run-time error inside the try clause and handle that error inside the except clause."
   ]
  },
  {
   "cell_type": "raw",
   "id": "414ba908",
   "metadata": {},
   "source": [
    "Q14. What is the purpose of the try clause? What is the purpose of the except clause?\n",
    "\n",
    "SOLUTION:\n",
    "    try: Ensure that any run time error does not crash the program and continue executing the remaining code in the try clasue\n",
    "    except: it contains the code that is ececuted if a runtime error occurs inside the try clause."
   ]
  }
 ],
 "metadata": {
  "kernelspec": {
   "display_name": "Python 3 (ipykernel)",
   "language": "python",
   "name": "python3"
  },
  "language_info": {
   "codemirror_mode": {
    "name": "ipython",
    "version": 3
   },
   "file_extension": ".py",
   "mimetype": "text/x-python",
   "name": "python",
   "nbconvert_exporter": "python",
   "pygments_lexer": "ipython3",
   "version": "3.9.0"
  }
 },
 "nbformat": 4,
 "nbformat_minor": 5
}
