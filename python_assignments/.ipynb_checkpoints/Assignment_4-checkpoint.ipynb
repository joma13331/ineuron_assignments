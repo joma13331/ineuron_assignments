{
 "cells": [
  {
   "cell_type": "raw",
   "id": "43fee5cc",
   "metadata": {},
   "source": [
    "Q1. What exactly is []?\n",
    "\n",
    "SOLUTION:\n",
    "    The square brackets can be used to create list with the list elements inside [] separated by commas.\n",
    "    '[]' is also returned as the result if the list is empty i.e. the list has no items."
   ]
  },
  {
   "cell_type": "raw",
   "id": "b1efd0b2",
   "metadata": {},
   "source": [
    "Q2. In a list of values stored in a variable called spam, how would you assign the value 'hello' as the third value? (Assume [2, 4, 6, 8, 10] are in spam.)\n",
    "\n",
    "SOLUTION: spam[2] = 'hello"
   ]
  },
  {
   "cell_type": "raw",
   "id": "033f672b",
   "metadata": {},
   "source": [
    "Let's pretend the spam includes the list ['a', 'b', 'c', 'd'] for the next three queries.\n",
    "\n",
    "Q3. What is the value of spam[int(int('3' * 2) / 11)]?\n",
    "\n",
    "SOLUTION: 'd'\n",
    "\n",
    "Q4. What is the value of spam[-1]?\n",
    "\n",
    "SOLUTION: 'd'\n",
    "\n",
    "Q5. What is the value of spam[:2]?\n",
    "\n",
    "SOLUTION: ['a', 'b']"
   ]
  },
  {
   "cell_type": "raw",
   "id": "3c4b4c2b",
   "metadata": {},
   "source": [
    "Let's pretend bacon has the list [3.14, 'cat', 11, 'cat', True] for the next three questions.\n",
    "\n",
    "Q6. What is the value of bacon.index('cat')?\n",
    "\n",
    "SOLUTION: 1\n",
    "\n",
    "Q7. How does bacon.append(99) change the look of the list value in bacon?\n",
    "\n",
    "SOLUTION: [3.14, 'cat', 11, 'cat', True, 99]\n",
    "\n",
    "Q8. How does bacon.remove('cat') change the look of the list in bacon?\n",
    "\n",
    "SOLUTION: [3.14, 11, 'cat', True]"
   ]
  },
  {
   "cell_type": "raw",
   "id": "d6a9e370",
   "metadata": {},
   "source": [
    "Q9. What are the list concatenation and list replication operators?\n",
    "\n",
    "SOLUTION:\n",
    "\n",
    "    list concatenation: +\n",
    "    list replication: *"
   ]
  },
  {
   "cell_type": "raw",
   "id": "c4cf22ee",
   "metadata": {},
   "source": [
    "Q10. What is difference between the list methods append() and insert()?\n",
    "\n",
    "SOLUTION:\n",
    "\n",
    "    append() add the element given as an argument at the end of the list.\n",
    "    insert() adds the element to the specified position, both given as arguments, in the list."
   ]
  },
  {
   "cell_type": "raw",
   "id": "1afa7dc7",
   "metadata": {},
   "source": [
    "Q11. What are the two methods for removing items from a list?\n",
    "\n",
    "SOLUTION: \n",
    "\n",
    "    del() : It takes the specified index and removes the value at that index.\n",
    "    remove(): It takes a value and removes the first occurrence of that value."
   ]
  },
  {
   "cell_type": "raw",
   "id": "50c10cf7",
   "metadata": {},
   "source": [
    "Q12. Describe how list values and string values are identical.\n",
    "\n",
    "SOLUTION:\n",
    "\n",
    "    1. Both lists and strings can be passed to len()\n",
    "    2. Both lists and strings have indexes and slices\n",
    "    3. Both lists and strings can be used in for loops\n",
    "    4. Both lists and strings can be concatenated or replicated\n",
    "    5. Both lists and strings can be used with the in and not in operators."
   ]
  },
  {
   "cell_type": "raw",
   "id": "b11532f7",
   "metadata": {},
   "source": [
    "Q13. What's the difference between tuples and lists?\n",
    "\n",
    "SOLUTION:\n",
    "\n",
    "    1. Lists are mutable while tuples are immutable\n",
    "    2. Lists can have values added, removed, or changed but Tuples can't .\n",
    "    3. Tuples are written using parentheses, (), while lists use the square brackets []."
   ]
  },
  {
   "cell_type": "raw",
   "id": "7ac7725d",
   "metadata": {},
   "source": [
    "Q14. How do you type a tuple value that only contains the integer 42?\n",
    "\n",
    "SOLUTION: (42,)"
   ]
  },
  {
   "cell_type": "raw",
   "id": "fde5c6b3",
   "metadata": {},
   "source": [
    "Q15. How do you get a list value's tuple form? How do you get a tuple value's list form?\n",
    "\n",
    "SOLUTION:\n",
    "    List to Tuple: tuple()\n",
    "    Tuple to List: List()"
   ]
  },
  {
   "cell_type": "raw",
   "id": "10c8f4a7",
   "metadata": {},
   "source": [
    "Q16. Variables that 'contain' list values are not necessarily lists themselves. Instead, what do they contain?\n",
    "\n",
    "SOLUTION: They contain references to list values."
   ]
  },
  {
   "cell_type": "raw",
   "id": "f922dfe9",
   "metadata": {},
   "source": [
    "Q17. How do you distinguish between copy.copy() and copy.deepcopy()?\n",
    "\n",
    "SOLUTION:\n",
    "\n",
    "    1. The copy.copy() function will do a shallow copy of a list i.e. the new list is populated with references to child objects found in the original.\n",
    "    Any change in the new or original will affect changes in the other as well.\n",
    "    \n",
    "    2. The copy.deepcopy() function will do a deep copy of a list i.e. The new copy will be independent of the original.\n",
    "    Any change in the new or original will not affect changes in the other.\n",
    "    \n",
    "    "
   ]
  }
 ],
 "metadata": {
  "kernelspec": {
   "display_name": "Python 3 (ipykernel)",
   "language": "python",
   "name": "python3"
  },
  "language_info": {
   "codemirror_mode": {
    "name": "ipython",
    "version": 3
   },
   "file_extension": ".py",
   "mimetype": "text/x-python",
   "name": "python",
   "nbconvert_exporter": "python",
   "pygments_lexer": "ipython3",
   "version": "3.9.0"
  }
 },
 "nbformat": 4,
 "nbformat_minor": 5
}
