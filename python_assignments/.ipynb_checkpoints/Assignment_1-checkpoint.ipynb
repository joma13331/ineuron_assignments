{
 "cells": [
  {
   "cell_type": "raw",
   "id": "39ac5d18",
   "metadata": {},
   "source": [
    "Q1. In the below elements which of them are values or an expression?\n",
    "\n",
    "SOLUTION\n",
    "    \n",
    "1. *        : **expression**\n",
    "2. 'hello   : **values**\n",
    "3. -87.8    : **values**\n",
    "4. -        : **expression**\n",
    "5. /        : **expression**\n",
    "6. +        : **expression**\n",
    "7. 6        : **values**"
   ]
  },
  {
   "cell_type": "raw",
   "id": "5d12bd6e",
   "metadata": {},
   "source": [
    "Q2. What is the difference between string and variable?\n",
    "\n",
    "SOLUTION:\n",
    "    Strings is a data type for a a sequence of characters.\n",
    "    A string is a collection of one or more characters put in a single quote, double-quote or triple quote.\n",
    "    \n",
    "    But variables are references to memory locations that you create to refer to other values in your program later.\n",
    "    "
   ]
  },
  {
   "cell_type": "raw",
   "id": "e9c293ec",
   "metadata": {},
   "source": [
    "Q3. Describe three different data types.\n",
    "\n",
    "SOLUTION:\n",
    "\n",
    "    int: This datatype represents Integers and is used to store or represent whole numbers. eg 10, 0, -99\n",
    "    \n",
    "    float: This datatype represents Floating Point numbers.\n",
    "            floating point numbers (float) are positive and negative real numbers with a fractional part denoted by the decimal symbol . or the scientific notation E or e\n",
    "            eg. 1e3, 1.025, -5.26\n",
    "            \n",
    "    str: In Python, Strings are arrays of bytes representing Unicode characters.\n",
    "         A string is a collection of one or more characters put in a single quote, double-quote or triple quote.\n",
    "         eg. \"abs\", \"v\", \"90\"\n",
    "    \n",
    "    "
   ]
  },
  {
   "cell_type": "raw",
   "id": "656281c0",
   "metadata": {},
   "source": [
    "Q4. What is an expression made up of? What do all expressions do?\n",
    "\n",
    "SOLUTION:\n",
    "\n",
    "    An expression is a construct made up of values, variables, operators, and method invocations, which are constructed according to the syntax of the language, that evaluates to a single value.\n",
    "    \n",
    "    All Expressions evaluate to a value."
   ]
  },
  {
   "cell_type": "raw",
   "id": "3f5e33b1",
   "metadata": {},
   "source": [
    "Q5. This assignment statements, like spam = 10. What is the difference between an expression and a statement?\n",
    "\n",
    "SOLUTION:\n",
    "    The following points highlight the differences between expressions and statements:\n",
    "    \n",
    "    1. An expression evaluates to a value while a statement executes something.\n",
    "    \n",
    "    2. The evaluation of a expression does not changes state but the execution of a statement changes state\n",
    "    \n",
    "    3. Evaluation of an expression always Produces or returns a result value. but execution of a statement may or may not produces or displays a result value, it only does whatever the statement says.\n",
    "    \n",
    "    eg. Expression: a+2\n",
    "        statement: a = 123"
   ]
  },
  {
   "cell_type": "raw",
   "id": "f5df9843",
   "metadata": {},
   "source": [
    "Q6. After running the following code, what does the variable bacon contain?\n",
    "        bacon = 22\n",
    "        bacon + 1\n",
    "        \n",
    "SOLUTION: \n",
    "    \n",
    "    1. The variable bacon contains the value 22.\n",
    "    2. The increment of one is not stored in the variable bacon."
   ]
  },
  {
   "cell_type": "raw",
   "id": "80103e04",
   "metadata": {},
   "source": [
    "Q7. What should the values of the following two terms be?\n",
    "            1. 'spam' + 'spamspam'\n",
    "            2. 'spam'*3\n",
    "SOLUTION:\n",
    "    \n",
    "    RESULTS OF THE TWO TERMS ARE:\n",
    "        1. 'spamspamspam'\n",
    "        2. 'spamspamspam'\n",
    "            "
   ]
  },
  {
   "cell_type": "raw",
   "id": "88f704d3",
   "metadata": {},
   "source": [
    "Q8. Why is eggs a valid variable name while 100 is invalid?\n",
    "\n",
    "SOLUTION:\n",
    "\n",
    "    Rules for Python variables:\n",
    "\n",
    "        1. A variable name must start with a letter or the underscore character\n",
    "        2. A variable name cannot start with a number\n",
    "        3. A variable name can only contain alpha-numeric characters and underscores (A-z, 0-9, and _ )\n",
    "        4. Variable names are case-sensitive (age, Age and AGE are three different variables)\n",
    "        \n",
    "        As we can see the variable name eggs follows all the mentioned rules, while valriable name 100 starts with a number violating rule no.2.\n",
    "    "
   ]
  },
  {
   "cell_type": "raw",
   "id": "e04e8c28",
   "metadata": {},
   "source": [
    "Q9. What three functions can be used to get the integer, floating-point number, or string version of a value?\n",
    "\n",
    "SOLUTION:\n",
    "\n",
    "    We can use the functions int(), float() and str() respectively to convert a value to its integer, floating-point number and string value."
   ]
  },
  {
   "cell_type": "raw",
   "id": "848d9cdd",
   "metadata": {},
   "source": [
    "Q10. Why does this expression cause an error? How can you fix it?\n",
    "        'I have eaten' + 99 + 'burritos'\n",
    "        \n",
    "SOLUTION:\n",
    "    \n",
    "    1. Operator such as '+' can only operate on values of same datatypes.\n",
    "    2. In the given expression we two values of string data type and one of int datatype.\n",
    "    3. The above expression will give an error 'TypeError: can only concatenate str (not \"int\") to str'\n",
    "    \n",
    "    4. There are exception to this rule such as multiplying a string with an int which returns the same string repeated the integer value of time.\n"
   ]
  },
  {
   "cell_type": "code",
   "execution_count": null,
   "id": "7d82d6cf",
   "metadata": {},
   "outputs": [],
   "source": []
  }
 ],
 "metadata": {
  "kernelspec": {
   "display_name": "Python 3 (ipykernel)",
   "language": "python",
   "name": "python3"
  },
  "language_info": {
   "codemirror_mode": {
    "name": "ipython",
    "version": 3
   },
   "file_extension": ".py",
   "mimetype": "text/x-python",
   "name": "python",
   "nbconvert_exporter": "python",
   "pygments_lexer": "ipython3",
   "version": "3.9.0"
  }
 },
 "nbformat": 4,
 "nbformat_minor": 5
}
