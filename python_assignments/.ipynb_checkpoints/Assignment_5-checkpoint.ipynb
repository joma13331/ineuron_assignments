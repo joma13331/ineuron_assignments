{
 "cells": [
  {
   "cell_type": "raw",
   "id": "b5725ee8",
   "metadata": {},
   "source": [
    "Q1. What does an empty dictionar's code look like?\n",
    "\n",
    "SOLUTION: {}"
   ]
  },
  {
   "cell_type": "raw",
   "id": "db76c822",
   "metadata": {},
   "source": [
    "Q2. What is the value of a dictionary value with the key 'foo' and the value 42?\n",
    "\n",
    "SOLUTION: {'foo': 42}"
   ]
  },
  {
   "cell_type": "raw",
   "id": "9abfbea4",
   "metadata": {},
   "source": [
    "Q3. What is the most significant distinction between a dictionary and a list?\n",
    "\n",
    "SOLUTION: The items stored in a dictionary are unordered, while the items in a list are ordered."
   ]
  },
  {
   "cell_type": "raw",
   "id": "6a3040e0",
   "metadata": {},
   "source": [
    "Q4. What happens if you try to access spam['foo'] if spam is {'bar': 100}?\n",
    "\n",
    "SOLUTION: KeyError error"
   ]
  },
  {
   "cell_type": "raw",
   "id": "a0723953",
   "metadata": {},
   "source": [
    "Q5. If a dictionary is stored in spam, what is the difference between the expressions 'cat' in spam and\n",
    "'cat' in spam.keys()?\n",
    "\n",
    "SOLUTION: no difference."
   ]
  },
  {
   "cell_type": "raw",
   "id": "d9ad07b8",
   "metadata": {},
   "source": [
    "'Q6. If a dictionary is stored in spam, what is the difference between the expressions 'cat' in spam and\n",
    "'cat' in spam.values()?\n",
    "\n",
    "SOLUTION: no difference."
   ]
  },
  {
   "cell_type": "raw",
   "id": "a586d11f",
   "metadata": {},
   "source": [
    "Q7.What is a shortcut for the following code?\n",
    "\n",
    "    if 'color' not in spam:\n",
    "        spam['color'] = 'black'\n",
    "\n",
    "SOLUTION: spam.setdefault('color', 'black')"
   ]
  },
  {
   "cell_type": "raw",
   "id": "fc4c8661",
   "metadata": {},
   "source": [
    "Q8. How do you \"pretty print\" dictionary values using which module and function?\n",
    "\n",
    "SOLUTION:\n",
    "    module: pprint\n",
    "    function: pprint()\n",
    "    \n",
    "    i.e. pprint.pprint(dict_var)"
   ]
  }
 ],
 "metadata": {
  "kernelspec": {
   "display_name": "Python 3 (ipykernel)",
   "language": "python",
   "name": "python3"
  },
  "language_info": {
   "codemirror_mode": {
    "name": "ipython",
    "version": 3
   },
   "file_extension": ".py",
   "mimetype": "text/x-python",
   "name": "python",
   "nbconvert_exporter": "python",
   "pygments_lexer": "ipython3",
   "version": "3.9.0"
  }
 },
 "nbformat": 4,
 "nbformat_minor": 5
}
