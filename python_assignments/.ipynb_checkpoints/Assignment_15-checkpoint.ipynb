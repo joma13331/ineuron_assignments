{
 "cells": [
  {
   "cell_type": "markdown",
   "id": "77579ff4",
   "metadata": {},
   "source": [
    "**Q1. How many seconds are in an hour? Use the interactive interpreter as a calculator and multiply the number of seconds in a minute (60) by the number of minutes in an hour (also 60).**\n",
    "\n",
    "SOLUTION IN NEXT CELL:"
   ]
  },
  {
   "cell_type": "code",
   "execution_count": null,
   "id": "d443d39a",
   "metadata": {},
   "outputs": [],
   "source": [
    "seconds_per_minute = 60\n",
    "minutes_per_hour = 60\n",
    "print(seconds_per_minute*minutes_per_hour)"
   ]
  },
  {
   "cell_type": "markdown",
   "id": "c56962cb",
   "metadata": {},
   "source": [
    "**Q2. Assign the result from the previous task (seconds in an hour) to a variable called seconds_per_hour.**\n",
    "\n",
    "SOLUTION IN NEXT CELL:"
   ]
  },
  {
   "cell_type": "code",
   "execution_count": null,
   "id": "268c2086",
   "metadata": {},
   "outputs": [],
   "source": [
    "seconds_per_hour = seconds_per_minute*minutes_per_hour\n",
    "seconds_per_hour"
   ]
  },
  {
   "cell_type": "markdown",
   "id": "e14fe69c",
   "metadata": {},
   "source": [
    "**Q3. How many seconds do you think there are in a day? Make use of the variables seconds per hour and minutes per hour.**\n",
    "\n",
    "SOLUTION IN NEXT CELL:"
   ]
  },
  {
   "cell_type": "code",
   "execution_count": null,
   "id": "655f2ec1",
   "metadata": {},
   "outputs": [],
   "source": [
    "hours_per_day = 24\n",
    "print(seconds_per_hour* hours_per_day)"
   ]
  },
  {
   "cell_type": "markdown",
   "id": "ed7dd199",
   "metadata": {},
   "source": [
    "**Q4. Calculate seconds per day again, but this time save the result in a variable called seconds_per_day**\n",
    "\n",
    "SOLUTION IN NEXT CELL:"
   ]
  },
  {
   "cell_type": "code",
   "execution_count": null,
   "id": "0d7a7d69",
   "metadata": {},
   "outputs": [],
   "source": [
    "seconds_per_day = seconds_per_hour* hours_per_day\n",
    "seconds_per_day"
   ]
  },
  {
   "cell_type": "markdown",
   "id": "7ef2fc8c",
   "metadata": {},
   "source": [
    "**Q5. Divide seconds_per_day by seconds_per_hour. Use floating-point (/) division.**\n",
    "\n",
    "SOLUTION IN NEXT CELL:"
   ]
  },
  {
   "cell_type": "code",
   "execution_count": null,
   "id": "eec26679",
   "metadata": {},
   "outputs": [],
   "source": [
    "seconds_per_day/seconds_per_hour"
   ]
  },
  {
   "cell_type": "markdown",
   "id": "a317d17f",
   "metadata": {},
   "source": [
    "**Q6. Divide seconds_per_day by seconds_per_hour, using integer (//) division. Did this number agree with the floating-point value from the previous question, aside from the final .0?**\n",
    "\n",
    "SOLUTION IN NEXT CELL:"
   ]
  },
  {
   "cell_type": "code",
   "execution_count": null,
   "id": "128630db",
   "metadata": {},
   "outputs": [],
   "source": [
    "seconds_per_day//seconds_per_hour"
   ]
  },
  {
   "cell_type": "markdown",
   "id": "c5a2bddf",
   "metadata": {},
   "source": [
    "**This number agrees with the floating-point value from the previous question**"
   ]
  },
  {
   "cell_type": "markdown",
   "id": "a1828ff1",
   "metadata": {},
   "source": [
    "**Q7. Write a generator, genPrimes, that returns the sequence of prime numbers on successive calls to its next() method: 2, 3, 5, 7, 11, ...**\n",
    "\n",
    "SOLUTION IN NEXT TWO CELLS:"
   ]
  },
  {
   "cell_type": "code",
   "execution_count": null,
   "id": "b7e76815",
   "metadata": {},
   "outputs": [],
   "source": [
    "def genPrimes():\n",
    "    \n",
    "    i=2;\n",
    "    while True:\n",
    "        check = 0\n",
    "        for j in range(2,i):\n",
    "            if i%j == 0:\n",
    "                check = 1\n",
    "                break\n",
    "                \n",
    "        if check==0:\n",
    "            yield i\n",
    "            \n",
    "        i += 1\n",
    "        \n",
    "gen_primes_iter = iter(genPrimes())"
   ]
  },
  {
   "cell_type": "code",
   "execution_count": null,
   "id": "1d12d17e",
   "metadata": {},
   "outputs": [],
   "source": [
    "next(gen_primes_iter)"
   ]
  }
 ],
 "metadata": {
  "kernelspec": {
   "display_name": "Python 3 (ipykernel)",
   "language": "python",
   "name": "python3"
  },
  "language_info": {
   "codemirror_mode": {
    "name": "ipython",
    "version": 3
   },
   "file_extension": ".py",
   "mimetype": "text/x-python",
   "name": "python",
   "nbconvert_exporter": "python",
   "pygments_lexer": "ipython3",
   "version": "3.9.0"
  }
 },
 "nbformat": 4,
 "nbformat_minor": 5
}
