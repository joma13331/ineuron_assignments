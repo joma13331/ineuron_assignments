{
 "cells": [
  {
   "cell_type": "markdown",
   "id": "ee65a281",
   "metadata": {},
   "source": [
    "**Q1. Create an assert statement that throws an AssertionError if the variable spam is a negative integer.**\n",
    "\n",
    "SOLUTION IS IN NEXT CELL:\n"
   ]
  },
  {
   "cell_type": "code",
   "execution_count": null,
   "id": "0eeab850",
   "metadata": {},
   "outputs": [],
   "source": [
    "spam = -25\n",
    "assert spam>=0, \"The Number is Negative \""
   ]
  },
  {
   "cell_type": "markdown",
   "id": "92781940",
   "metadata": {},
   "source": [
    "**Q2. Write an assert statement that triggers an AssertionError if the variables eggs and bacon contain strings that are the same as each other, even if their cases are different (that is, 'hello' and 'hello' are considered the same, and 'goodbye' and 'GOODbye' are also considered the same).**\n",
    "\n",
    "SOLUTION IS IN NEXT CELL:\n"
   ]
  },
  {
   "cell_type": "code",
   "execution_count": null,
   "id": "840af62c",
   "metadata": {},
   "outputs": [],
   "source": [
    "eggs, bacon = 'goodbye', 'GOODbye'\n",
    "assert eggs.lower() != bacon.lower(), \"Variabes eggs and bacon have the same string\""
   ]
  },
  {
   "cell_type": "markdown",
   "id": "9ab07c71",
   "metadata": {},
   "source": [
    "**Q3. Create an assert statement that throws an AssertionError every time.**\n",
    "\n",
    "SOLUTION IS IN NEXT CELL:"
   ]
  },
  {
   "cell_type": "code",
   "execution_count": null,
   "id": "f91648c1",
   "metadata": {},
   "outputs": [],
   "source": [
    "assert False, \"Always active assertion Error\""
   ]
  },
  {
   "cell_type": "markdown",
   "id": "4ae01970",
   "metadata": {},
   "source": [
    "**Q4. What are the two lines that must be present in your software in order to call logging.debug()?**\n",
    "\n",
    "SOLUTION IS IN NEXT CELL"
   ]
  },
  {
   "cell_type": "code",
   "execution_count": null,
   "id": "cfe8da63",
   "metadata": {},
   "outputs": [],
   "source": [
    "import logging\n",
    "\n",
    "logging.basicConfig(level=logging.DEBUG, format=' %(asctime)s- %(levelname)s -%(message)s')"
   ]
  },
  {
   "cell_type": "markdown",
   "id": "b7befac2",
   "metadata": {},
   "source": [
    "**Q5. What are the two lines that your program must have in order to have logging.debug() send a logging message to a file named programLog.txt?**\n",
    "\n",
    "SOLUTION IS IN NEXT CELL"
   ]
  },
  {
   "cell_type": "code",
   "execution_count": null,
   "id": "cd59c26a",
   "metadata": {},
   "outputs": [],
   "source": [
    "import logging\n",
    "\n",
    "logging.basicConfig(filename='programLog.txt', level=logging.DEBUG, format=' %(asctime)s- %(levelname)s -%(message)s')"
   ]
  },
  {
   "cell_type": "markdown",
   "id": "424f5753",
   "metadata": {},
   "source": [
    "**Q6. What are the five levels of logging?**\n",
    "\n",
    "SOLUTION:\n",
    "\n",
    "Five levels of logging in increasing importance:\n",
    "1. DEBUG\n",
    "2. INFO\n",
    "3. WARNING\n",
    "4. ERROR\n",
    "5. CRITICAL"
   ]
  },
  {
   "cell_type": "markdown",
   "id": "4fef161a",
   "metadata": {},
   "source": [
    "**Q7. What line of code would you add to your software to disable all logging messages?**\n",
    "\n",
    "SOLUTION IS IN NEXT CELL:"
   ]
  },
  {
   "cell_type": "code",
   "execution_count": null,
   "id": "2894efd7",
   "metadata": {},
   "outputs": [],
   "source": [
    "logging.disable(logging.CRITICAL)"
   ]
  },
  {
   "cell_type": "markdown",
   "id": "837fbcc9",
   "metadata": {},
   "source": [
    "**Q8. Why is using logging messages better than using print() to display the same message?**\n",
    "\n",
    "SOLUTION:\n",
    "\n",
    "1. You can disable logging messages without removing the logging function calls. \n",
    "2. You can selectively disable lower-level logging messages. \n",
    "3. You can create logging messages. Logging messages provides a timestamp."
   ]
  },
  {
   "cell_type": "markdown",
   "id": "704d3f4c",
   "metadata": {},
   "source": [
    "**Q9. What are the differences between the Step Over, Step In, and Step Out buttons in the debugger?**\n",
    "\n",
    "SOLUTION:\n",
    "\n",
    "1. The Step In button will move the debugger into a function call.\n",
    "2. The Step Over button will quickly execute the function call without stepping into it.\n",
    "3. The Step Out button will quickly execute the rest of the code until it steps out of the function it currently is in."
   ]
  },
  {
   "cell_type": "markdown",
   "id": "5ceaf6d8",
   "metadata": {},
   "source": [
    "**Q10. After you click Continue, when will the debugger stop ?**\n",
    "\n",
    "SOLUTION:\n",
    "\n",
    "After you click Continue, the debugger will stop when it has reached the end of the program or a line with a breakpoint."
   ]
  },
  {
   "cell_type": "markdown",
   "id": "e3e0b839",
   "metadata": {},
   "source": [
    "**Q11. What is the concept of a breakpoint?**\n",
    "\n",
    "SOLUTION:\n",
    "\n",
    "A breakpoint is a setting on a line of code that causes the debugger to pause when the program execution reaches the line."
   ]
  },
  {
   "cell_type": "code",
   "execution_count": null,
   "id": "88fa7308",
   "metadata": {},
   "outputs": [],
   "source": []
  }
 ],
 "metadata": {
  "kernelspec": {
   "display_name": "Python 3 (ipykernel)",
   "language": "python",
   "name": "python3"
  },
  "language_info": {
   "codemirror_mode": {
    "name": "ipython",
    "version": 3
   },
   "file_extension": ".py",
   "mimetype": "text/x-python",
   "name": "python",
   "nbconvert_exporter": "python",
   "pygments_lexer": "ipython3",
   "version": "3.9.0"
  }
 },
 "nbformat": 4,
 "nbformat_minor": 5
}
