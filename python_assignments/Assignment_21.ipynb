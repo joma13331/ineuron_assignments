{
 "cells": [
  {
   "cell_type": "markdown",
   "id": "b4bbe421",
   "metadata": {},
   "source": [
    "**Q1. Add the current date to the text file today.txt as a string.**\n",
    "\n",
    "SOLUTION IN NEXT CELL"
   ]
  },
  {
   "cell_type": "code",
   "execution_count": null,
   "id": "3d03bf7c",
   "metadata": {},
   "outputs": [],
   "source": [
    "import datetime\n",
    "\n",
    "current_date = datetime.datetime.now()\n",
    "file = open(\"today.txt\", \"w\")\n",
    "file.write(current_date.strftime('%d/%m/%Y'))\n",
    "file.close()"
   ]
  },
  {
   "cell_type": "markdown",
   "id": "4f416d92",
   "metadata": {},
   "source": [
    "**Q2. Read the text file today.txt into the string today_string**\n",
    "\n",
    "SOLUTION IN NEXT CELL"
   ]
  },
  {
   "cell_type": "code",
   "execution_count": null,
   "id": "bceff1ca",
   "metadata": {},
   "outputs": [],
   "source": [
    "file = open(\"today.txt\")\n",
    "today_string = file.read()\n",
    "file.close()\n",
    "print(today_string)"
   ]
  },
  {
   "cell_type": "markdown",
   "id": "a346e28f",
   "metadata": {},
   "source": [
    "**Q3. Parse the date from today_string.**\n",
    "\n",
    "SOLUTION IN NEXT CELL"
   ]
  },
  {
   "cell_type": "code",
   "execution_count": null,
   "id": "10c98a90",
   "metadata": {},
   "outputs": [],
   "source": [
    "today_date = datetime.datetime.strptime(today_string, \"%d/%m/%Y\")\n",
    "print(today_date)"
   ]
  },
  {
   "cell_type": "markdown",
   "id": "fa348721",
   "metadata": {},
   "source": [
    "**Q4. List the files in your current directory**\n",
    "\n",
    "SOLUTION IN NEXT CELL"
   ]
  },
  {
   "cell_type": "code",
   "execution_count": null,
   "id": "6d2d49c2",
   "metadata": {},
   "outputs": [],
   "source": [
    "import os\n",
    "\n",
    "for item in os.listdir():\n",
    "    print(item)"
   ]
  },
  {
   "cell_type": "markdown",
   "id": "05dcb8ce",
   "metadata": {},
   "source": [
    "**Q5. Create a list of all of the files in your parent directory (minimum five files should be available).**\n",
    "\n",
    "SOLUTION IN NEXT CELL"
   ]
  },
  {
   "cell_type": "code",
   "execution_count": null,
   "id": "4c019623",
   "metadata": {},
   "outputs": [],
   "source": [
    "import os\n",
    "\n",
    "parent_dir = os.getcwd().split('\\\\')[0]+\"\\\\\"\n",
    "files = os.listdir(parent_dir)\n",
    "path_all = [os.path.join(parent_dir, x) for x in files]\n",
    "path_files = [x for x in path_all if os.path.isfile(x)]\n",
    "print(path_files)"
   ]
  },
  {
   "cell_type": "markdown",
   "id": "9794d077",
   "metadata": {},
   "source": [
    "**Q6. Use multiprocessing to create three separate processes. Make each one wait a random number of seconds between one and five, print the current time, and then exit.**\n",
    "\n",
    "SOLUTION IN NEXT CELL"
   ]
  },
  {
   "cell_type": "code",
   "execution_count": null,
   "id": "214fa160",
   "metadata": {},
   "outputs": [],
   "source": [
    "import time\n",
    "import threading\n",
    "import numpy as np\n",
    "\n",
    "def process1():\n",
    "    time.sleep(np.random.randint(1,6))\n",
    "    print(\"process1:\" + str(time.ctime()))\n",
    "    \n",
    "def process2():\n",
    "    time.sleep(np.random.randint(1,6))\n",
    "    print(\"process2:\" + str(time.ctime()))\n",
    "    \n",
    "def process3():\n",
    "    time.sleep(np.random.randint(1,6))\n",
    "    print(\"process3:\" + str(time.ctime()))\n",
    "    \n",
    "threading_obj1 = threading.Thread(target=process1)\n",
    "threading_obj2 = threading.Thread(target=process2)\n",
    "threading_obj3 = threading.Thread(target=process3)\n",
    "\n",
    "threading_obj1.start()\n",
    "threading_obj2.start()\n",
    "threading_obj3.start()"
   ]
  },
  {
   "cell_type": "markdown",
   "id": "dd3fff48",
   "metadata": {},
   "source": [
    "**Q7. Create a date object of your day of birth.**\n",
    "\n",
    "SOLUTION IN NEXT CELL"
   ]
  },
  {
   "cell_type": "code",
   "execution_count": null,
   "id": "f3ad93dd",
   "metadata": {},
   "outputs": [],
   "source": [
    "import datetime\n",
    "\n",
    "birthday = datetime.datetime(1992, 5,28,0,0,0)\n",
    "print(birthday)"
   ]
  },
  {
   "cell_type": "markdown",
   "id": "e7c6e1f3",
   "metadata": {},
   "source": [
    "**Q8. What day of the week was your day of birth?**\n",
    "\n",
    "SOLUTION IN NEXT CELL"
   ]
  },
  {
   "cell_type": "code",
   "execution_count": null,
   "id": "7caf9a54",
   "metadata": {},
   "outputs": [],
   "source": [
    "import datetime\n",
    "\n",
    "birthday = datetime.datetime(1992, 5,28,0,0,0)\n",
    "print(birthday.strftime(\"%A\"))"
   ]
  },
  {
   "cell_type": "markdown",
   "id": "5fa9fe57",
   "metadata": {},
   "source": [
    "**Q9. When will you be (or when were you) 10,000 days old?**\n",
    "\n",
    "SOLUTION IN NEXT CELL"
   ]
  },
  {
   "cell_type": "code",
   "execution_count": null,
   "id": "e9da792c",
   "metadata": {},
   "outputs": [],
   "source": [
    "import datetime\n",
    "\n",
    "birthday = datetime.datetime(1992, 5,28,0,0,0)\n",
    "\n",
    "days = datetime.timedelta(days=10000)\n",
    "final_date = birthday+days\n",
    "print(final_date)"
   ]
  },
  {
   "cell_type": "code",
   "execution_count": null,
   "id": "434e975e",
   "metadata": {},
   "outputs": [],
   "source": []
  }
 ],
 "metadata": {
  "kernelspec": {
   "display_name": "Python 3 (ipykernel)",
   "language": "python",
   "name": "python3"
  },
  "language_info": {
   "codemirror_mode": {
    "name": "ipython",
    "version": 3
   },
   "file_extension": ".py",
   "mimetype": "text/x-python",
   "name": "python",
   "nbconvert_exporter": "python",
   "pygments_lexer": "ipython3",
   "version": "3.9.0"
  }
 },
 "nbformat": 4,
 "nbformat_minor": 5
}
