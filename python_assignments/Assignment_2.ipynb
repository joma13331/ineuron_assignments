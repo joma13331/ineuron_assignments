{
 "cells": [
  {
   "cell_type": "raw",
   "id": "c41c9778",
   "metadata": {},
   "source": [
    "Q1. What are the two values of the Boolean data type? How do you write them?\n",
    "\n",
    "SOLUTION:\n",
    "    \n",
    "    The two values of Boolean data type are:\n",
    "        1. True\n",
    "        2. False\n",
    "        \n",
    "    They are written as shown above in Title case."
   ]
  },
  {
   "cell_type": "raw",
   "id": "1e456944",
   "metadata": {},
   "source": [
    "Q2. What are the three different types of Boolean operators?\n",
    "\n",
    "SOLUTION:\n",
    "    The three different types of Boolean operators are:\n",
    "        1. and - Only if both the two values 'and' is operating on is True then the result of the expression will be true \n",
    "        2. or - if any or both of the two values 'or' is operating on is True then the result of the expression will be true\n",
    "        3. not - This operator return the opposite of the value it has operated on\n"
   ]
  },
  {
   "cell_type": "raw",
   "id": "164e638a",
   "metadata": {},
   "source": [
    "Q3. Make a list of each Boolean operator's truth tables (i.e. every possible combination of Boolean values for the operator and what it evaluate ).\n",
    "\n",
    "SOLUTION:\n",
    "\n",
    "    and: Inputs are X and Y:\n",
    "        X  Y  and\n",
    "        0  0   0\n",
    "        0  1   0\n",
    "        1  0   0\n",
    "        1  1   1\n",
    "        \n",
    "    or: Inputs are X and Y:\n",
    "        X  Y  or\n",
    "        0  0   0\n",
    "        0  1   1\n",
    "        1  0   1\n",
    "        1  1   1\n",
    "        \n",
    "    not: Input is X:\n",
    "        X  not\n",
    "        0   1\n",
    "        1   0\n",
    "        "
   ]
  },
  {
   "cell_type": "raw",
   "id": "21106b96",
   "metadata": {},
   "source": [
    "Q4. What are the values of the following expressions?\n",
    "\n",
    "1. (5 > 4) and (3 == 5)\n",
    "2. not (5 > 4)\n",
    "3. (5 > 4) or (3 == 5)\n",
    "4. not ((5 > 4) or (3 == 5))\n",
    "5. (True and True) and (True == False)\n",
    "6. (not False) or (not True)\n",
    "\n",
    "SOLUTION:\n",
    "\n",
    "1. False\n",
    "2. False\n",
    "3. True\n",
    "4. False\n",
    "5. False\n",
    "6. True"
   ]
  },
  {
   "cell_type": "raw",
   "id": "102c1eb9",
   "metadata": {},
   "source": [
    "Q5. What are the six comparison operators?\n",
    "\n",
    "SOLUTION:\n",
    "    \n",
    "    The six comparison operators in python are:\n",
    "\n",
    "       1. Less than ( < )\n",
    "       2. Less than or equal to (<=)\n",
    "       3. Greater than (>)\n",
    "       4. Greater than or equal to (>=)\n",
    "       5. Equal to ( == )\n",
    "       6. Not equal to ( != )"
   ]
  },
  {
   "cell_type": "raw",
   "id": "eeefe611",
   "metadata": {},
   "source": [
    "Q6. How do you tell the difference between the equal to and assignment operators?Describe a condition and when you would use one.\n",
    "\n",
    "SOLUTION:\n",
    "\n",
    "    1. The Equal to operator is '==' but the assignment operator is '='.\n",
    "    2. '==' is used for comparing two values. It returns 1 if both the values are equal otherwise returns 0 but\n",
    "    '='  is used for assigning the value to a variable.\n",
    "    \n",
    "    \n",
    "    A condtition is any expression which returns a Boolean Value on its execution. \n",
    "    We usually use conditions when we want to control the flow of statements through If, else, elif, for and when statements.   "
   ]
  },
  {
   "cell_type": "raw",
   "id": "a8526a7b",
   "metadata": {},
   "source": [
    "Q7. Identify the three blocks in this code:\n",
    "spam = 0\n",
    "if spam == 10:\n",
    "print('eggs')\n",
    "if spam > 5:\n",
    "print('bacon')\n",
    "else:\n",
    "print('ham')\n",
    "print('spam')\n",
    "print('spam')\n",
    "\n",
    "SOLUTION:\n",
    "    The three blocks will be shown through indentation:\n",
    "    \n",
    "    spam = 0\n",
    "    if spam == 10:\n",
    "        print('eggs')      **BLOCK 1**\n",
    "    if spam > 5:\n",
    "        print('bacon')     **BLOCK 2**\n",
    "    else:\n",
    "        print('ham')       **BLOCK 3**\n",
    "        print('spam')\n",
    "        print('spam')"
   ]
  },
  {
   "cell_type": "raw",
   "id": "f00f1237",
   "metadata": {},
   "source": [
    "Q8. Write code that prints Hello if 1 is stored in spam, prints Howdy if 2 is stored in spam, and prints\n",
    "Greetings! if anything else is stored in spam.\n",
    "\n",
    "SOLUTION:\n",
    "\n",
    "    if spam == 1:\n",
    "        print('Hello')\n",
    "    elif spam == 2:\n",
    "        print('Howdy')\n",
    "    else:\n",
    "        print('Greetings!')"
   ]
  },
  {
   "cell_type": "raw",
   "id": "5377a6a6",
   "metadata": {},
   "source": [
    "Q9. If your programme is stuck in an endless loop, what keys you’ll press?\n",
    "\n",
    "SOLUTION:\n",
    "    \n",
    "    ctrl + c"
   ]
  },
  {
   "cell_type": "raw",
   "id": "82f6da9b",
   "metadata": {},
   "source": [
    "Q10. How can you tell the difference between break and continue?\n",
    "\n",
    "SOLUTION:\n",
    "    \n",
    "    The keyword break is called to go out of the for/ while loop in which it is called but the keyword continue is called to go out of the current iteration and on to the next iteration in the same for/ while loop."
   ]
  },
  {
   "cell_type": "raw",
   "id": "dc856f62",
   "metadata": {},
   "source": [
    "Q11. In a for loop, what is the difference between range(10), range(0, 10), and range(0, 10, 1)?\n",
    "\n",
    "SOLUTION:\n",
    "    In terms of output there is no difference between range(10), range(0, 10), and range(0, 10, 1).\n",
    "    The syntax of range is range(start, stop, step size)\n",
    "    \n",
    "    In range(10) it is implicit that start is 0 and step size is 1,\n",
    "    \n",
    "    range(0, 10) it is implicit that step size is 1, and \n",
    "    \n",
    "    range(0, 10, 1) all the terms are explicitly stated"
   ]
  },
  {
   "cell_type": "raw",
   "id": "4508ac89",
   "metadata": {},
   "source": [
    "Q12. Write a short program that prints the numbers 1 to 10 using a for loop. Then write an equivalent program that prints the numbers 1 to 10 using a while loop.\n",
    "\n",
    "SOLUTION:\n",
    "    Please find the solution in the code blocks below:"
   ]
  },
  {
   "cell_type": "code",
   "execution_count": null,
   "id": "bba85949",
   "metadata": {},
   "outputs": [],
   "source": [
    "for i in range(1, 11, 1):\n",
    "    print(i)"
   ]
  },
  {
   "cell_type": "code",
   "execution_count": null,
   "id": "f5fa9e8a",
   "metadata": {},
   "outputs": [],
   "source": [
    "i = 1\n",
    "while i<=10:\n",
    "    print(i)\n",
    "    i += 1"
   ]
  },
  {
   "cell_type": "raw",
   "id": "fcfe6850",
   "metadata": {},
   "source": [
    "Q13. If you had a function named bacon() inside a module named spam, how would you call it after importing spam?\n",
    "\n",
    "SOLUTION: spam.bacon()"
   ]
  }
 ],
 "metadata": {
  "kernelspec": {
   "display_name": "Python 3 (ipykernel)",
   "language": "python",
   "name": "python3"
  },
  "language_info": {
   "codemirror_mode": {
    "name": "ipython",
    "version": 3
   },
   "file_extension": ".py",
   "mimetype": "text/x-python",
   "name": "python",
   "nbconvert_exporter": "python",
   "pygments_lexer": "ipython3",
   "version": "3.9.0"
  }
 },
 "nbformat": 4,
 "nbformat_minor": 5
}
