{
 "cells": [
  {
   "cell_type": "raw",
   "id": "f375f4df",
   "metadata": {},
   "source": [
    "Q1. What is the result of the code, and why?\n",
    "\n",
    ">>> def func(a, b=6, c=8):\n",
    "print(a, b, c)\n",
    ">>> func(1, 2)\n",
    "\n",
    "SOLUTION:\n",
    "\n",
    "The result will be '1 2 8'. This is because\n",
    "    * Value of a will be 1 asit is passed in \n",
    "    * value of b will be 2 as it overides the default value of 6\n",
    "    * value of c will be 8 as no value of c is passed in function call, so it will take the default value"
   ]
  },
  {
   "cell_type": "raw",
   "id": "4700b14e",
   "metadata": {},
   "source": [
    "Q2. What is the result of this code, and why?\n",
    "\n",
    ">>> def func(a, b, c=5):\n",
    "print(a, b, c)\n",
    ">>> func(1, c=3, b=2)\n",
    "\n",
    "SOLUTION:\n",
    "\n",
    "The result will be '1 2 3'. This is because all the values for the variables are passed during the function call so any default value will be overridden. "
   ]
  },
  {
   "cell_type": "raw",
   "id": "5eb8a512",
   "metadata": {},
   "source": [
    "Q3. How about this code: what is its result, and why?\n",
    "\n",
    ">>> def func(a, *pargs):\n",
    "print(a, pargs)\n",
    ">>> func(1, 2, 3)\n",
    "\n",
    "SOLUTION\n",
    "\n",
    "The result will be '1 (2, 3)'. This is because one variable a is explicitly mentioned while any other variable will be collected as a tuple and assigned to pargs."
   ]
  },
  {
   "cell_type": "raw",
   "id": "befacd00",
   "metadata": {},
   "source": [
    "Q4. What does this code print, and why?\n",
    "\n",
    ">>> def func(a, **kargs):\n",
    "print(a, kargs)\n",
    ">>> func(a=1, c=3, b=2)\n",
    "\n",
    "SOLUTION:\n",
    "\n",
    "The result will be '1 {'c': 3, 'b': 2}'. This is because only variable a is explicitly defined in the function creation and any other key value pair will be assigned as a dictionary to kargs variable. "
   ]
  },
  {
   "cell_type": "raw",
   "id": "2dbb6241",
   "metadata": {},
   "source": [
    "Q5. What gets printed by this, and explain?\n",
    "\n",
    ">>> def func(a, b, c=8, d=5): print(a, b, c, d)\n",
    ">>> func(1, *(5, 6))\n",
    "\n",
    "SOLUTION:\n",
    "\n",
    "The result will be '1 5 6 5'. This is because *(5,6) causes the arguments to be repeated till all the remaining variables in the function definition have a value passed into it."
   ]
  },
  {
   "cell_type": "raw",
   "id": "979bc3e9",
   "metadata": {},
   "source": [
    "6. what is the result of this, and explain?\n",
    "\n",
    ">>> def func(a, b, c): a = 2; b[0] = 'x'; c['a'] = 'y'\n",
    ">>> l=1; m=[1]; n={'a':0}\n",
    ">>> func(l, m, n)\n",
    "\n",
    ">>> l, m, n\n",
    "\n",
    "SOLUTION:\n",
    "\n",
    "The result will be (1, ['x'], {'a': 'y'}). This is because:\n",
    "    * any changes in variable a is not reflected outside because of local scope\n",
    "    * changes to dictionary and list persist as their inividual elemnts are modified."
   ]
  }
 ],
 "metadata": {
  "kernelspec": {
   "display_name": "Python 3 (ipykernel)",
   "language": "python",
   "name": "python3"
  },
  "language_info": {
   "codemirror_mode": {
    "name": "ipython",
    "version": 3
   },
   "file_extension": ".py",
   "mimetype": "text/x-python",
   "name": "python",
   "nbconvert_exporter": "python",
   "pygments_lexer": "ipython3",
   "version": "3.9.0"
  }
 },
 "nbformat": 4,
 "nbformat_minor": 5
}
