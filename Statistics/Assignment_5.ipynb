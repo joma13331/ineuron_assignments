{
 "cells": [
  {
   "cell_type": "markdown",
   "id": "b6c74c26",
   "metadata": {},
   "source": [
    "**Q1. Give an example of 3 events A, B, C which are pairwise independent but not independent. Hint: find an example where whether C occurs is completely determined if we know whether A occurred and whether B occurred, but completely undetermined if we know only one of these things.**\n",
    "\n",
    "SOLUTION:\n",
    "\n",
    "**For two events A and B to be mutually independent: P(A∩B) = P(A) ∩ P(B) \n",
    "For three events A, B and C to be mutually dependent: P(A∩B∩C) != P(A)P(B)P(C)**\n",
    "\n",
    "Example:\n",
    "\n",
    "Toss a fair coin twice, let\n",
    "\n",
    "    A = Both tosses give the same outcome (HH or TT).\n",
    "\n",
    "    B = The first toss is a heads (HT, HH).\n",
    "\n",
    "    C = The second toss is heads (TH, HH).\n",
    "    \n",
    "    The Sample Spacefor the experiment is (HH, HT, TH, TT)\n",
    "    \n",
    "    \n",
    "    P(A∩B) = P(A∩C) = P(B∩C) = 1/4\n",
    "    \n",
    "    Thus, all the three events are pairwise independent.\n",
    "    \n",
    "    However,\n",
    "        \n",
    "        P(A∩B∩C) means both tosses are heads = 1/4\n",
    "    But,\n",
    "        P(A)P(B)P(C) = 1/2 * 1/2 * 1/2 = 1/8\n",
    "        \n",
    "    Clearly,\n",
    "        P(A∩B∩C) != P(A)P(B)P(C)\n",
    "        \n",
    "    Thus, the three events A, B and C are mutually dependent."
   ]
  },
  {
   "cell_type": "markdown",
   "id": "4e772829",
   "metadata": {},
   "source": [
    "**Q2. A bag contains one marble which is either green or blue, with equal probabilities. A green marble is put in the bag (so there are 2 marbles now), and then a random marble is taken out. The marble taken out is green. What is the probability that the remaining marble is also green?**\n",
    "\n",
    "SOLUTION:\n",
    "    \n",
    "Let: \n",
    "     \n",
    "     A = original marble was green (Ac = original marble was blue),\n",
    "\n",
    "     B = green marble was drawn,\n",
    "     \n",
    "     We need to determine P(A|B) which according to Bayes Rule = P(B|A)P(A)/(P(B|A)P(A) + P(B|Ac)P(Ac))\n",
    "     \n",
    "     P(A) = 1/2 , P(Ac) = 1/2\n",
    "     \n",
    "     P(B|A) (the drawn marble is green if initial marble is green) = 1\n",
    "     \n",
    "     P(B|Ac) (The drawn marble is green if initial marble is blue) = 1/2\n",
    "     \n",
    "     \n",
    "     substituting the values in equation for P(A|B)\n",
    "     \n",
    "                                     P(A|B) = 1/2/(1/2 + 1/2*1/2)\n",
    "                                            = 1/2/(3/4)\n",
    "                                            = 2/3\n",
    "                                            \n",
    "Hence the probability that the remaining marble is also green is 2/3."
   ]
  }
 ],
 "metadata": {
  "kernelspec": {
   "display_name": "Python 3 (ipykernel)",
   "language": "python",
   "name": "python3"
  },
  "language_info": {
   "codemirror_mode": {
    "name": "ipython",
    "version": 3
   },
   "file_extension": ".py",
   "mimetype": "text/x-python",
   "name": "python",
   "nbconvert_exporter": "python",
   "pygments_lexer": "ipython3",
   "version": "3.9.0"
  }
 },
 "nbformat": 4,
 "nbformat_minor": 5
}
