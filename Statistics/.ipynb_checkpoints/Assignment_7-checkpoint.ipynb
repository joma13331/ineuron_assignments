{
 "cells": [
  {
   "cell_type": "markdown",
   "id": "3b88d232",
   "metadata": {},
   "source": [
    "**Q1. A spam filter is designed by looking at commonly occurring phrases in spam. Suppose that 10% of email is spam. In 10% of the spam emails, the phrase “free money” is used, whereas this phrase is only used in 1% of non-spam emails. A new email has just arrived, which does mention “free money”. What is the probability that it is spam?**\n",
    "\n",
    "SOLUTION:\n",
    "\n",
    "Let:\n",
    "    \n",
    "    A = Spam Email , Ac = Non-Spam Emails\n",
    "    \n",
    "    B = Email with \"free money\"\n",
    "    \n",
    "    We need to determine what is the probability an email is spam if it has \"free money\" in it i.e P(A|B).\n",
    "    \n",
    "    Where using Bayes Theorem  P(A|B) = P(B|A)P(A)/(P(B|A)P(A) + P(B|Ac)P(Ac))\n",
    "    \n",
    "    P(A) = 0.8 , P(Ac) = 0.2\n",
    "    \n",
    "    P(B|A) = 0.1\n",
    "    \n",
    "    P(B|Ac) = 0.01\n",
    "    \n",
    "    Substituting the values in equation for P(A|B)\n",
    "    \n",
    "                                     P(A|B) = 0.1*0.8 / (0.1*0.8 + 0.01*0.2)\n",
    "                                            = 0.08/(0.08 + 0.002)\n",
    "                                            = 0.976\n",
    "    "
   ]
  }
 ],
 "metadata": {
  "kernelspec": {
   "display_name": "Python 3 (ipykernel)",
   "language": "python",
   "name": "python3"
  },
  "language_info": {
   "codemirror_mode": {
    "name": "ipython",
    "version": 3
   },
   "file_extension": ".py",
   "mimetype": "text/x-python",
   "name": "python",
   "nbconvert_exporter": "python",
   "pygments_lexer": "ipython3",
   "version": "3.9.0"
  }
 },
 "nbformat": 4,
 "nbformat_minor": 5
}
