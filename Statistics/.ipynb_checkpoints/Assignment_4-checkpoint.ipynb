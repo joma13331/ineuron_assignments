{
 "cells": [
  {
   "cell_type": "markdown",
   "id": "0308ea01",
   "metadata": {},
   "source": [
    "**Q1. Is it possible that an event is independent of itself? If so, when?**\n",
    "\n",
    "SOLUTION:\n",
    "\n",
    "Suppose X is an event from a sample space S, and suppose that X is independent of itself.\n",
    "\n",
    "                    This means that P(X/X)=P(X)\n",
    "But by definition,\n",
    "\n",
    "                    P(X∩X)=P(X)P(X/X)= P(X)P(X)=P(X)^2\n",
    "                    \n",
    "                but P(X∩X)=P(X), since X∩X=X\n",
    "                \n",
    "         Therefore, P(X)=P(X/X)=P(X)P(X)=P(X)^2.\n",
    "         \n",
    "This result only can occur when **P(X)=1 or P(X)=0**. In conclusion, an event X from a sample space S can be independent of itself only if P(X)=1 or P(X)=0."
   ]
  },
  {
   "cell_type": "markdown",
   "id": "8b9672e6",
   "metadata": {},
   "source": [
    "**Q2. Is it always true that if A and B are independent events, then A<sup>c</sup> and B<sup>c</sup> are independent events? \n",
    "Show that it is, or give a counterexample.**\n",
    "\n",
    "SOLUTION:\n",
    "Assume A and B are independent. Then\n",
    "                \n",
    "   P(A<sup>c</sup>∩B<sup>c</sup>)= 1−P(A∪B)    (Using inclusion-exclusion principle)\n",
    "                                 \n",
    "                                 = 1−P(A)−P(B)+P(A∩B)\n",
    "                                 \n",
    "                                 = 1−P(A)−P(B)+P(A)P(B)\n",
    "                                 \n",
    "                                 = (1−P(A))(1−P(B))\n",
    "                                 \n",
    "                                 = P(Ac)P(Bc)\n",
    "                                 \n",
    "Hence Proved.\n"
   ]
  }
 ],
 "metadata": {
  "kernelspec": {
   "display_name": "Python 3 (ipykernel)",
   "language": "python",
   "name": "python3"
  },
  "language_info": {
   "codemirror_mode": {
    "name": "ipython",
    "version": 3
   },
   "file_extension": ".py",
   "mimetype": "text/x-python",
   "name": "python",
   "nbconvert_exporter": "python",
   "pygments_lexer": "ipython3",
   "version": "3.9.0"
  }
 },
 "nbformat": 4,
 "nbformat_minor": 5
}
