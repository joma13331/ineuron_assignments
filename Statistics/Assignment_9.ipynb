{
 "cells": [
  {
   "cell_type": "markdown",
   "id": "23b35e30",
   "metadata": {},
   "source": [
    "**Q1. You are going to play 2 games of chess with an opponent whom you have never played against before (for the sake of this problem). Your opponent is equally likely to be a beginner, intermediate, or a master. Depending on *which, your chances of winning an individual game are 90%, 50%, or 30%, respectively***.\n",
    "\n",
    "**(a) What is your probability of winning the first game?**\n",
    "\n",
    "SOLUTION:\n",
    "\n",
    "Let \n",
    "    B: represent a beginner opponent\n",
    "    I: represent a Intermediate opponent\n",
    "    M: represent a master opponent\n",
    "    \n",
    "    P(B) = P(I) = P(M) = 1/3\n",
    "    \n",
    "    P(WB) = Probability of winning against a beginner opponent = 0.9\n",
    "    \n",
    "    P(WI) = Probability of winning against a Intermediate opponent = 0.5\n",
    "    \n",
    "    P(WM) = Probability of winning against a Master opponent = 0.3\n",
    "    \n",
    "    Total probability of Winning = P(B)*P(WB) + P(I)*P(WI) + P(M)P(WM) = 1/3*0.9 + 1/3*0.5 + 1/3*0.3 = 1/3*(1.7) = 0.567\n",
    "    \n",
    "**(b) Congratulations: you won the first game! Given this information, what is the probability that you will also win the second game**\n",
    "\n",
    "SOLUTION:\n",
    "\n",
    "    Here we will have to calculate the probabilities of whether player is beginner, intermediate or master based on the fact that first match was Won.\n",
    "    \n",
    "    P(B|W) = P(W|B)*P(B)/P(W) = 0.9 * 1/3 / 0.567 = 0.529 \n",
    "    \n",
    "    P(I|W) = P(W|I)*P(I)/P(W) = 0.5 * 1/3 / 0.567 = 0.294\n",
    "    \n",
    "    P(M|W) = P(W|M)*P(M)/P(W) = 0.3 * 1/3 / 0.567 = 0.176\n",
    "    \n",
    "    Probability of Winning Second game  = P(B|W)*P(WB) + P(B|W)*P(WI) + P(B|W)P(WM)\n",
    "                                        = 0.529*0.9 + 0.294*0.5 + 0.176*0.3\n",
    "                                        = 0.676\n",
    "    \n",
    "**(c) Explain the distinction between assuming that the outcomes of the games are independent and assuming that they are conditionally independent given the opponent’s skill level. Which of these assumptions seems more reasonable, and why?**\n",
    "\n",
    "SOLUTION:\n",
    "\n",
    "1. Taking the example of the question given, Independance means that outcome of one game is completely independent of the result of the previous game.\n",
    "2. Meanwhile conditionally Independance means that based on result of the previous game we can estimate that what are the probabilities of who we are playing. \n",
    "However this does not mean that individual probabilities of wining against different types of players changes.\n",
    "3. The second assumtion seems more reasonable as winning the game can give information about the rank of the opponent."
   ]
  },
  {
   "cell_type": "code",
   "execution_count": null,
   "id": "9ddb7859",
   "metadata": {},
   "outputs": [],
   "source": []
  }
 ],
 "metadata": {
  "kernelspec": {
   "display_name": "Python 3 (ipykernel)",
   "language": "python",
   "name": "python3"
  },
  "language_info": {
   "codemirror_mode": {
    "name": "ipython",
    "version": 3
   },
   "file_extension": ".py",
   "mimetype": "text/x-python",
   "name": "python",
   "nbconvert_exporter": "python",
   "pygments_lexer": "ipython3",
   "version": "3.9.0"
  }
 },
 "nbformat": 4,
 "nbformat_minor": 5
}
