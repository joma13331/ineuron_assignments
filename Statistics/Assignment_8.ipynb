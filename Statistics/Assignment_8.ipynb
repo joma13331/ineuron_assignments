{
 "cells": [
  {
   "cell_type": "markdown",
   "id": "33716a81",
   "metadata": {},
   "source": [
    "**Q1. A crime is committed by one of two suspects, A and B. Initially, there is equal evidence against both of them. In further investigation at the crime scene, it is found that the guilty party had a blood type found in 10% of the population. Suspect A does match this blood type, whereas the blood type of Suspect B is unknown.** \n",
    "\n",
    "**(a) Given this new information, what is the probability that A is the guilty party?** \n",
    "\n",
    "SOLUTION:\n",
    "\n",
    "Let:\n",
    "    \n",
    "    X = Suspect A is guilty,    Xc = Suspect B is guilty\n",
    "    Y = Blood type matches A    Z = Blood type matches B\n",
    "    \n",
    "    P(X) = 0.5 , P(Xc) = 0.5\n",
    "    P(Y|X) = 1 (Already known)\n",
    "    P(Y|Xc) = 0.1\n",
    "    \n",
    "    P(X|Y) = P(Y|X)P(X)/(P(Y|X)P(X) + P(Y|Xc)P(Xc))\n",
    "           = 1*0.5/(1*0.5 + 0.1*0.5\n",
    "           = 0.5/(0.55)\n",
    "           = 10/11\n",
    "    \n",
    "\n",
    "**(b) Given this new information, what is the probability that B’s blood type matches that found at the crime scene?**\n",
    "\n",
    "SOLUTION:\n",
    "    \n",
    "    After the information about blood type in part (a) of this question:\n",
    "        P(X|Y) = 10/11\n",
    "        P(Xc|Y) = 1/11 \n",
    "        \n",
    "    The probability that B’s blood type matches that found at the crime scene depends on two cases:\n",
    "    \n",
    "    1. Blood type matches and X|Y is satisfied\n",
    "    2. Blood type matches and Xc|Y is satisfied\n",
    "    \n",
    "    Adding the probablilty for both the cases = 1/10*10/11 + 1*1/11 = 1/11 + 1/11 = 2/11\n",
    "        \n",
    "    The probability that B’s blood type matches that found at the crime scene is 2/11"
   ]
  }
 ],
 "metadata": {
  "kernelspec": {
   "display_name": "Python 3 (ipykernel)",
   "language": "python",
   "name": "python3"
  },
  "language_info": {
   "codemirror_mode": {
    "name": "ipython",
    "version": 3
   },
   "file_extension": ".py",
   "mimetype": "text/x-python",
   "name": "python",
   "nbconvert_exporter": "python",
   "pygments_lexer": "ipython3",
   "version": "3.9.0"
  }
 },
 "nbformat": 4,
 "nbformat_minor": 5
}
