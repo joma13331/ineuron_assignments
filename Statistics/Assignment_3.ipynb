{
 "cells": [
  {
   "cell_type": "markdown",
   "id": "52e74632",
   "metadata": {},
   "source": [
    "**Q1. For a group of 7 people, find the probability that all 4 seasons (winter, spring, summer, fall) occur at least once each among their birthdays, assuming that all seasons are equally likely.**\n",
    "\n",
    "SOLUTION:\n",
    "\n",
    "![Solution to 1](File_031.png)"
   ]
  },
  {
   "cell_type": "markdown",
   "id": "12f13b72",
   "metadata": {},
   "source": [
    "**Q2. Alice attends a small college in which each class meets only once a week. She is deciding between 30 non-overlapping classes. \n",
    "There are 6 classes to choose from for each day of the week, Monday through Friday. \n",
    "Trusting in the benevolence of randomness, Alice decides to register for 7 randomly selected classes out of the 30, with all choices equally likely. \n",
    "What is the probability that she will have classes every day, Monday through Friday?**\n",
    "\n",
    "SOLUTION:\n",
    "\n",
    "![Solution to 1](File_032.png)"
   ]
  }
 ],
 "metadata": {
  "kernelspec": {
   "display_name": "Python 3 (ipykernel)",
   "language": "python",
   "name": "python3"
  },
  "language_info": {
   "codemirror_mode": {
    "name": "ipython",
    "version": 3
   },
   "file_extension": ".py",
   "mimetype": "text/x-python",
   "name": "python",
   "nbconvert_exporter": "python",
   "pygments_lexer": "ipython3",
   "version": "3.9.0"
  }
 },
 "nbformat": 4,
 "nbformat_minor": 5
}
