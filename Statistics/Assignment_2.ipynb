{
 "cells": [
  {
   "cell_type": "markdown",
   "id": "a81eb384",
   "metadata": {},
   "source": [
    "**Q1. Raindrops are falling at an average rate of 20 drops per square inch per minute. What would be a reasonable distribution to use for the number of raindrops hitting a particular region measuring 5 inches2 in t minutes? Why? Using your chosen distribution, compute the probability that the region has no rain drops in a given 3 second time interval. A reasonable choice of distribution is P.**\n",
    "\n",
    "SOLUTION:\n",
    "\n",
    "In our question an average rate of an event happening per unit per time is given and we asked to determine the probability of another event in another duration of time. **In such cases Poisson Distribution will be a suitable distribution**.\n",
    "\n",
    "Let X be the Random Variable representing no of raindrops.\n",
    "\n",
    "\n",
    "```\n",
    "            lambda = 20 drops per square inch per minute\n",
    "            lambda for 5 square inch in t minutes = 20*5*t\n",
    "                                                  = 100t\n",
    "            lambda for 5 square inch in 3 seconds = 100*3/60 = 5\n",
    "            \n",
    "            p(X=0) = (lambda^X)*e^(-lamda)/x!\n",
    "                   = 5^0 * e^-5 /0!\n",
    "                   = e^-5\n",
    "            \n",
    "```"
   ]
  },
  {
   "cell_type": "markdown",
   "id": "9cf25205",
   "metadata": {},
   "source": [
    "**Q2. Let X be a random day of the week, coded so that Monday is 1, Tuesday is 2, etc. (so X takes values 1, 2,..., 7, with equal probabilities). \n",
    "Let Y be the next day after X (again represented as an integer between 1 and 7). \n",
    "Do X and Y have the same distribution? What is P(X)?**\n",
    "\n",
    "SOLUTION:\n",
    "\n",
    "Random Variable representation of days along with their probabilities are displayed in a tablular for below:\n",
    "\n",
    "\n",
    "|X    |Y    |P(X) | P(Y)|\n",
    "|-----|-----|-----|-----|\n",
    "|1    |2    |1/7  |1/7  |\n",
    "|2    |3    |1/7  |1/7  |\n",
    "|3    |4    |1/7  |1/7  |\n",
    "|4    |5    |1/7  |1/7  |\n",
    "|5    |6    |1/7  |1/7  |\n",
    "|6    |7    |1/7  |1/7  |\n",
    "|7    |1    |1/7  |1/7  |\n",
    "\n",
    "From the table it is clear that X and Y have the same distribution.\n",
    "P(X) is also visible in the table."
   ]
  }
 ],
 "metadata": {
  "kernelspec": {
   "display_name": "Python 3 (ipykernel)",
   "language": "python",
   "name": "python3"
  },
  "language_info": {
   "codemirror_mode": {
    "name": "ipython",
    "version": 3
   },
   "file_extension": ".py",
   "mimetype": "text/x-python",
   "name": "python",
   "nbconvert_exporter": "python",
   "pygments_lexer": "ipython3",
   "version": "3.9.0"
  }
 },
 "nbformat": 4,
 "nbformat_minor": 5
}
