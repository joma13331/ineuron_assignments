{
 "cells": [
  {
   "cell_type": "markdown",
   "id": "fc654c18",
   "metadata": {},
   "source": [
    "**Q1. What does one mean by the term 'machine learning'?**\n",
    "\n",
    "SOLUTION IN NEXT CELL:"
   ]
  },
  {
   "cell_type": "markdown",
   "id": "393d0669",
   "metadata": {},
   "source": [
    "* Machine learning is a subset of artificial intelligence (AI).\n",
    "* It is focused on teaching computers to learn from data and to improve with experience – instead of being explicitly programmed to do so.\n",
    "* In machine learning, algorithms are trained to find patterns and correlations in large data sets and to make the best decisions and predictions based on that analysis."
   ]
  },
  {
   "cell_type": "markdown",
   "id": "6c26972c",
   "metadata": {},
   "source": [
    "**Q2. Can you think of 4 distinct types of issues where it shines?**\n",
    "\n",
    "SOLUTION IN NEXT CELL:"
   ]
  },
  {
   "cell_type": "markdown",
   "id": "b15feeed",
   "metadata": {},
   "source": [
    "1. **Image Recognition**: Image recognition is one of the most common applications of machine learning. \n",
    "    * It is used to identify objects, persons, places, digital images, etc. \n",
    "    * The popular use case of image recognition and face detection is Automatic friend tagging suggestion.\n",
    " \n",
    "2. **Speech Recognition**: Speech recognition is a process of converting voice instructions into text, and it is also known as Speech to text, or Computer based speech recognition. \n",
    "    * Google assistant, Siri, Cortana, and Alexa are using speech recognition technology to follow the voice instructions.\n",
    "\n",
    "3. **Product recommendations**: Machine learning is widely used by various e-commerce and entertainment companies such as Amazon, Netflix, etc., for product recommendation to the user.\n",
    "\n",
    "4. **Self-driving cars**: Using Reinforecement Learning we can teach computers to respond correctly to various traffic situation."
   ]
  },
  {
   "cell_type": "markdown",
   "id": "09178dd2",
   "metadata": {},
   "source": [
    "**Q3. What is a labeled training set, and how does it work?**\n",
    "\n",
    "SOLUTION IN NEXT CELL:"
   ]
  },
  {
   "cell_type": "markdown",
   "id": "63ee037d",
   "metadata": {},
   "source": [
    "In order to train models which predict solutions to our problems using Supervised Machine Learning Algorithms, we need data having same distribution as the inputs that will be provided during application run-time as well the expected outputs for those inputs. This dataset which has 'labels' along with the input 'features' is call the training **label training set**."
   ]
  },
  {
   "cell_type": "markdown",
   "id": "166425e1",
   "metadata": {},
   "source": [
    "**Q4. What are the two most important tasks that are supervised?**\n",
    "\n",
    "SOLUTION IN NEXT CELL:"
   ]
  },
  {
   "cell_type": "markdown",
   "id": "40876abf",
   "metadata": {},
   "source": [
    "**Regression and Classification.**"
   ]
  },
  {
   "cell_type": "markdown",
   "id": "47c6167a",
   "metadata": {},
   "source": [
    "**Q5. Can you think of four examples of unsupervised tasks?**\n",
    "\n",
    "SOLUTION IN NEXT CELL:"
   ]
  },
  {
   "cell_type": "markdown",
   "id": "b5c3afb9",
   "metadata": {},
   "source": [
    "1. **Clustering**\n",
    "2. **Anomaly Detection**\n",
    "3. **Dimensionality Reduction**\n",
    "4. **Visualization**"
   ]
  },
  {
   "cell_type": "markdown",
   "id": "5b7efff6",
   "metadata": {},
   "source": [
    "**Q6. State the machine learning model that would be best to make a robot walk through various unfamiliar terrains?**\n",
    "\n",
    "SOLUTION IN NEXT CELL:"
   ]
  },
  {
   "cell_type": "markdown",
   "id": "139c4a93",
   "metadata": {},
   "source": [
    "**Reinforcement Learning**"
   ]
  },
  {
   "cell_type": "markdown",
   "id": "c874ca51",
   "metadata": {},
   "source": [
    "**Q7. Which algorithm will you use to divide your customers into different groups?**\n",
    "\n",
    "SOLUTION IN NEXT CELL:"
   ]
  },
  {
   "cell_type": "markdown",
   "id": "780b3862",
   "metadata": {},
   "source": [
    "The Best Algorithm to Segment Customers into different groups is either\n",
    "* Supervised Learning (if the groups have known labels) or \n",
    "* Unsupervised Learning (if there are no group labels)."
   ]
  },
  {
   "cell_type": "markdown",
   "id": "a092c0fd",
   "metadata": {},
   "source": [
    "**Q8. Will you consider the problem of spam detection to be a supervised or unsupervised learning problem?**\n",
    "\n",
    "SOLUTION IN NEXT CELL:"
   ]
  },
  {
   "cell_type": "markdown",
   "id": "e6db563f",
   "metadata": {},
   "source": [
    " Spam detection is a **Supervised Machine** Learning problem because the **labels are known (spam or no spam)**."
   ]
  },
  {
   "cell_type": "markdown",
   "id": "ff9dd265",
   "metadata": {},
   "source": [
    "**Q9. What is the concept of an online learning system?**\n",
    "\n",
    "SOLUTION IN NEXT CELL:"
   ]
  },
  {
   "cell_type": "markdown",
   "id": "692227db",
   "metadata": {},
   "source": [
    "Online learning system is a learning system in which the machine learns continously, as data is given in small streams continuously."
   ]
  },
  {
   "cell_type": "markdown",
   "id": "af46f760",
   "metadata": {},
   "source": [
    "**Q10. What is out-of-core learning, and how does it differ from core learning?**\n",
    "\n",
    "SOLUTION IN NEXT CELL:"
   ]
  },
  {
   "cell_type": "markdown",
   "id": "67d67854",
   "metadata": {},
   "source": [
    " Out-of-core learning system is a system that can handle data that cannot fit into your computer memory. It uses online learning system to feed data in small bits."
   ]
  },
  {
   "cell_type": "markdown",
   "id": "e88004b5",
   "metadata": {},
   "source": [
    "**Q11. What kind of learning algorithm makes predictions using a similarity measure?**\n",
    "\n",
    "SOLUTION IN NEXT CELL:"
   ]
  },
  {
   "cell_type": "markdown",
   "id": "addc5390",
   "metadata": {},
   "source": [
    "**Instance Based Algorithm**"
   ]
  },
  {
   "cell_type": "markdown",
   "id": "103162ca",
   "metadata": {},
   "source": [
    "**Q12. What's the difference between a model parameter and a hyperparameter in a learning algorithm?**\n",
    "\n",
    "SOLUTION IN NEXT CELL:"
   ]
  },
  {
   "cell_type": "markdown",
   "id": "b7846ca2",
   "metadata": {},
   "source": [
    "* **Model parameters are trainable** i.e. the are usually initialized randomly and based on their performance on the training dataset they are incrementally changed so that they attain values that can predict the labels correctly.\n",
    "* **Meanwhile Hyperpameters are not obtained through training** but by using hit and trial methods or calculated guesses by performing multiple passes of training and seeing which hyperparameters achieve better performance on validation data"
   ]
  },
  {
   "cell_type": "markdown",
   "id": "f60f47a2",
   "metadata": {},
   "source": [
    "**Q13. What are the criteria that model-based learning algorithms look for? What is the most popular method they use to achieve success? What method do they use to make predictions?**\n",
    "\n",
    "SOLUTION IN NEXT CELL:"
   ]
  },
  {
   "cell_type": "markdown",
   "id": "8e267c66",
   "metadata": {},
   "source": [
    "1. Model based learning algorithm search for the optimal value of parameters in a model that will give the best results for the new instances. \n",
    "2. We often use a cost function or similarity function to determine what the parameter value has to be in order to minimize the function.\n",
    "3. The model makes prediction by using the value of the new instance and the parameters in its function."
   ]
  },
  {
   "cell_type": "markdown",
   "id": "452472d6",
   "metadata": {},
   "source": [
    "**Q14. Can you name four of the most important Machine Learning challenges?**\n",
    "\n",
    "SOLUTION IN NEXT CELL:"
   ]
  },
  {
   "cell_type": "markdown",
   "id": "c5e94353",
   "metadata": {},
   "source": [
    "1. **Overfitting the Data (using a model too complicated)**\n",
    "2. **Underfitting the data (using a simple model)**\n",
    "3. **Lacking in Data**\n",
    "4. **Non Representative Data.**"
   ]
  },
  {
   "cell_type": "markdown",
   "id": "fe9807b2",
   "metadata": {},
   "source": [
    "**Q15.What happens if the model performs well on the training data but fails to generalize the results to new situations? Can you think of three different options?**\n",
    "\n",
    "SOLUTION IN NEXT CELL:"
   ]
  },
  {
   "cell_type": "markdown",
   "id": "ca7d3d40",
   "metadata": {},
   "source": [
    "* If the model performs poorly to new instances, then it has overfitted on the training data. \n",
    "* Three didderent options to solve this are:\n",
    "\n",
    "    1. Get more data\n",
    "    2. Implement a simpler model\n",
    "    3. Eliminate outliers or noise from the existing data set.\n"
   ]
  },
  {
   "cell_type": "markdown",
   "id": "4c59e8a0",
   "metadata": {},
   "source": [
    "**Q16. What exactly is a test set, and why would you need one?**\n",
    "\n",
    "SOLUTION IN NEXT CELL:"
   ]
  },
  {
   "cell_type": "markdown",
   "id": "58a9030e",
   "metadata": {},
   "source": [
    "Test set is a set to test your model (fit using training data) to see how it performs.Test set is necessary to determine how good (or bad) a model performs."
   ]
  },
  {
   "cell_type": "markdown",
   "id": "b5b3d5dd",
   "metadata": {},
   "source": [
    "**Q17. What is a validation set's purpose?**\n",
    "\n",
    "SOLUTION IN NEXT CELL:"
   ]
  },
  {
   "cell_type": "markdown",
   "id": "de8125c6",
   "metadata": {},
   "source": [
    "Validation set is a set used to compare between different training models."
   ]
  },
  {
   "cell_type": "markdown",
   "id": "b1723142",
   "metadata": {},
   "source": [
    "**Q18. What precisely is the train-dev kit, when will you need it, how do you put it to use?**\n",
    "\n",
    "SOLUTION IN NEXT CELL:"
   ]
  },
  {
   "cell_type": "markdown",
   "id": "b1b1c840",
   "metadata": {},
   "source": [
    "Cross-validation is a tool to compare models without needing a separate validation set. It is preferred over validation set because we can save from breaking of part of the training set to create a validation set, as having more data is valuable regardless."
   ]
  },
  {
   "cell_type": "markdown",
   "id": "002a4a3a",
   "metadata": {},
   "source": [
    "**Q19. What could go wrong if you use the test set to tune hyperparameters?**\n",
    "\n",
    "SOLUTION IN NEXT CELL:"
   ]
  },
  {
   "cell_type": "markdown",
   "id": "13173186",
   "metadata": {},
   "source": [
    "If you tune hyperparameters using the test sets, then it may not perform well on the out-of-sample data because the model is tuned just for that specific set."
   ]
  }
 ],
 "metadata": {
  "kernelspec": {
   "display_name": "Python 3 (ipykernel)",
   "language": "python",
   "name": "python3"
  },
  "language_info": {
   "codemirror_mode": {
    "name": "ipython",
    "version": 3
   },
   "file_extension": ".py",
   "mimetype": "text/x-python",
   "name": "python",
   "nbconvert_exporter": "python",
   "pygments_lexer": "ipython3",
   "version": "3.9.0"
  }
 },
 "nbformat": 4,
 "nbformat_minor": 5
}
