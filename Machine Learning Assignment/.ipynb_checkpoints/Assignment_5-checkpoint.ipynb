{
 "cells": [
  {
   "cell_type": "markdown",
   "id": "ba505d87",
   "metadata": {},
   "source": [
    "**Q1. What are the key tasks that machine learning entails? What does data pre-processing imply?**"
   ]
  },
  {
   "cell_type": "markdown",
   "id": "bb1e154a",
   "metadata": {},
   "source": [
    "1. Five core tasks in the common ML workflow:\n",
    "    1. Get Data: The first step in the Machine Learning process is getting data.\n",
    "    2. Cleaning, Preparing & Manipulating Data: Real-world data often has unorganized, missing, or noisy elements.\n",
    "    3. Train Model: This step is where the magic happens!\n",
    "    4. Testing Model.\n",
    "    5. Improving model.\n",
    "\n",
    "2. Data preprocessing involves transforming raw data to well-formed data sets so that data mining analytics can be applied.Preprocessing involves both data validation and data imputation\n",
    "    1. The Goal of Data Validation is to assess whether the data in question is both complete and accurate.\n",
    "    2. The Goal of Data Imputation is to correct errors and input missing values, Either Manually or Automatically through business process automation (BPA) programming."
   ]
  },
  {
   "cell_type": "markdown",
   "id": "9b1cb5d0",
   "metadata": {},
   "source": [
    "**Q2. Describe quantitative and qualitative data in depth. Make a distinction between the two.**"
   ]
  },
  {
   "cell_type": "markdown",
   "id": "b147c62e",
   "metadata": {},
   "source": [
    "1. **Quantitative Data Type**: This Type Of Data Type Consists Of Numerical Values. Anything Which Is Measured By Numbers. E.G., Profit, Quantity Sold, Height, Weight, Temperature, Etc. This Is Again Of Two Types\n",
    "      1. Discrete Data Type: – The Numeric Data Which Have Discrete Values Or Whole Numbers. This Type Of Variable Value If Expressed In Decimal Format Will Have No Proper Meaning. Their Values Can Be Counted. E.G.: – No. Of Cars You Have, No. Of Marbles In Containers, Students In A Class, Etc.\n",
    "      2. Continuous Data Type: – The Numerical Measures Which Can Take The Value Within A Certain Range. This Type Of Variable Value If Expressed In Decimal Format Has True Meaning. Their Values Can Not Be Counted But Measured. The Value Can Be Infinite E.G.: Height, Weight, Time, Area, Distance, Measurement Of Rainfall, Etc.\n",
    "\n",
    "2. **Qualitative Data Type**: These Are The Data Types That Cannot Be Expressed In Numbers. This Describes Categories Or Groups And Is Hence Known As The Categorical Data Type. This Can Be Divided Into:-\n",
    "      1. Structured Data: This Type Of Data Is Either Number Or Words. This Can Take Numerical Values But Mathematical Operations Cannot Be Performed On It. This Type Of Data Is Expressed In Tabular Format. E.G.) Sunny=1, Cloudy=2, Windy=3 Or Binary Form Data Like 0 Or1, Good Or Bad, Etc.\n",
    "      2.  Unstructured Data: This Type Of Data Does Not Have The Proper Format And Therefore Known As Unstructured Data.This Comprises Textual Data, Sounds, Images, Videos, Etc.\n"
   ]
  },
  {
   "cell_type": "markdown",
   "id": "3e90e39c",
   "metadata": {},
   "source": [
    "**Q3. Create a basic data collection that includes some sample records. Have at least one attribute from each of the machine learning data types.**"
   ]
  },
  {
   "cell_type": "markdown",
   "id": "0051d6f5",
   "metadata": {},
   "source": [
    "|PassengerId|Survived|Pclass|Name|Sex|Age|SibSp|Parch|Ticket|Fare|Cabin|Embarked|\n",
    "|-----------|--------|------|----|---|---|-----|-----|------|----|-----|--------|\n",
    "|1|0|3|\"Braund| Mr. Owen Harris\"|male|22|1|0|A/5 21171,7.25||S|\n",
    "|2|1|1|\"Cumings| Mrs. John Bradley (Florence Briggs |Thayer)\"|female|38|1|0|PC 17599|71.2833|C85|C|\n",
    "|3|1|3|\"Heikkinen| Miss. Laina\"|female|26|0|0|STON/O2. 3101282,7.925||S|\n",
    "|4|1|1|\"Futrelle| Mrs. Jacques Heath (Lily May |Peel)\"|female|35|1|0|113803|53.1|C123|S|\n",
    "|5|0|3|\"Allen| Mr. William Henry\"|male|35|0|0|373450|8.05||S|\n",
    "|6|0|3|\"Moran| Mr. James\"|male||0|0|330877|8.4583||Q|\n",
    "|7|0|1|\"McCarthy| Mr. Timothy J\"|male|54|0|0|17463|51.8625|E46|S|\n",
    "|8|0|3|\"Palsson| Master. Gosta Leonard\"|male|2|3|1|349909|21.075||S|\n",
    "|9|1|3|\"Johnson| Mrs. Oscar W (Elisabeth Vilhelmina Berg)\"|female|27|0|2|347742|11.1333||S|\n",
    "|10|1|2|\"Nasser| Mrs. Nicholas (Adele Achem)\"|female|14|1|0|237736|30.0708||C|\n",
    "|11|1|3|\"Sandstrom| Miss. Marguerite Rut\"|female|4|1|1|PP 9549|16.7|G6|S|"
   ]
  },
  {
   "cell_type": "markdown",
   "id": "705adff4",
   "metadata": {},
   "source": [
    "**Q4. What are the various causes of machine learning data issues? What are the ramifications?**"
   ]
  },
  {
   "cell_type": "markdown",
   "id": "c6cd264a",
   "metadata": {},
   "source": [
    "1. Noisy data, dirty data, and incomplete data are the quintessential enemies of ideal Machine Learning. The solution to this conundrum is to take the time to evaluate and scope data with meticulous data governance, data integration, and data exploration until you get clear data.\n",
    "2. Ramifications or major issues in machine learning are:\n",
    "\n",
    "    * Machine learning systems rely on data.\n",
    "    * The complexity and quality trade-off.\n",
    "    * Sampling bias in data.\n",
    "    * Changing expectations and concept drift.\n",
    "    * Monitoring and maintenance.\n"
   ]
  },
  {
   "cell_type": "markdown",
   "id": "bfd4859f",
   "metadata": {},
   "source": [
    "**Q5. Demonstrate various approaches to categorical data exploration with appropriate examples.**"
   ]
  },
  {
   "cell_type": "markdown",
   "id": "c5652202",
   "metadata": {},
   "source": [
    "1. **Unique value count**: One of the first things which can be useful during data exploration is to see how many unique values are there in categorical columns.\n",
    "2. **Frequency Count**: Frequency count is finding how frequent individual values occur in column."
   ]
  },
  {
   "cell_type": "markdown",
   "id": "213c237f",
   "metadata": {},
   "source": [
    "**Q6. How would the learning activity be affected if certain variables have missing values? Having said that, what can be done about it?**"
   ]
  },
  {
   "cell_type": "markdown",
   "id": "37866015",
   "metadata": {},
   "source": [
    "* Real-world data collection has its own set of problems, It is often very messy which includes missing data, presence of outliers, unstructured manner, etc.\n",
    "* Before looking for any insights from the data, we have to first perform preprocessing tasks which then only allow us to use that data for further observation and train our machine learning model.\n",
    "* Missing value in a dataset is a very common phenomenon in the reality.\n",
    "* Missing value correction is required to reduce bias and to produce powerful suitable models.\n",
    "* Most of the algorithms can’t handle missing data, thus you need to act in some way to simply not let your code crash. So, let’s begin with the methods to solve the problem.\n",
    "*  Methods for dealing with missing values. The popular methods which are used by the machine learning community to handle the missing value for categorical variables in the dataset are as follows: Delete the observations: If there is a large number of observations in the dataset, where all the classes to be predicted are sufficiently represented in the training data, then try deleting the missing value observations, which would not bring significant change in your feed to your model.\n"
   ]
  },
  {
   "cell_type": "markdown",
   "id": "97cc189e",
   "metadata": {},
   "source": [
    "**Q7. Describe the various methods for dealing with missing data values in depth.**"
   ]
  },
  {
   "cell_type": "markdown",
   "id": "b619c453",
   "metadata": {},
   "source": [
    "The Various Methods for dealing with missing data values are:\n",
    "\n",
    "1. Delete the observations: If there is a large number of observations in the dataset, where all the classes to be predicted are sufficiently represented in the training data, then try deleting the missing value observations, which would not bring significant change in your feed to your model. For Example Implement this method in a given dataset, we can delete the entire row which contains missing values.\n",
    "2. Replace missing values with the most frequent value: You can always impute them based on Mode in the case of categorical variables, just make sure you don’t have highly skewed class distributions.\n",
    "3. Develop a model to predict missing values: One smart way of doing this could be training a classifier over your columns with missing values as a dependent variable against other features of your data set and trying to impute based on the newly trained classifier.\n"
   ]
  },
  {
   "cell_type": "markdown",
   "id": "2d01ac56",
   "metadata": {},
   "source": [
    "**Q8. What are the various data pre-processing techniques? Explain dimensionality reduction and function selection in a few words.**"
   ]
  },
  {
   "cell_type": "markdown",
   "id": "26cdec7d",
   "metadata": {},
   "source": [
    "The Various Data Pre-Processing Techniques are:\n",
    "\n",
    "1. Data Cleaning: The data can have many irrelevant and missing parts. To handle this part, data cleaning is done. It involves handling of missing data, noisy data etc.\n",
    "      1. Missing Data: This situation arises when some data is missing in the data. It can be handled in various ways. Some of them are:\n",
    "      2. Ignore the tuples: This approach is suitable only when the dataset we have is quite large and multiple values are missing within a tuple.\n",
    "      3. Fill the Missing values: There are various ways to do this task. You can choose to fill the missing values manually, by attribute mean or the most probable value.\n",
    "2. Noisy Data: Noisy data is a meaningless data that can’t be interpreted by machines.It can be generated due to faulty data collection, data entry errors etc. It can be handled in following ways :\n",
    "      1.  Binning Method: This method works on sorted data in order to smooth it. The whole data is divided into segments of equal size and then various methods are performed to complete the task. Each segmented is handled separately. One can replace all data in a segment by its mean or boundary values can be used to complete the task.\n",
    "      2. Regression: Here data can be made smooth by fitting it to a regression function.The regression used may be linear (having one independent variable) or multiple (having multiple independent variables).\n",
    "      3. Clustering: This approach groups the similar data in a cluster. The outliers may be undetected or it will fall outside the clusters.\n",
    "\n",
    "3. Data Reduction: Since data mining is a technique that is used to handle huge amount of data. While working with huge volume of data, analysis became harder in such cases. In order to get rid of this, we uses data reduction technique. It aims to increase the storage efficiency and reduce data storage and analysis costs. The various steps to data reduction are:\n",
    "      1. Data Cube Aggregation: Aggregation operation is applied to data for the construction of the data cube.\n",
    "      2. Attribute Subset Selection: The highly relevant attributes should be used, rest all can be discarded. For performing attribute selection, one can use level of significance and p- value of the attribute.the attribute having p-value greater than significance level can be discarded.\n",
    "      3. Numerosity Reduction: This enable to store the model of data instead of whole data, for example: Regression Models.\n",
    "      4. Dimensionality Reduction: This reduce the size of data by encoding mechanisms.It can be lossy or lossless. If after reconstruction from compressed data, original data can be retrieved, such reduction are called lossless reduction else it is called lossy reduction. The two effective methods of dimensionality reduction are:Wavelet transforms and PCA (Principal Component Analysis).\n",
    "\n",
    "4. Feature selection is simply selecting and excluding given features without changing them. Dimensionality reduction transforms features into a lower dimension."
   ]
  },
  {
   "cell_type": "markdown",
   "id": "28a66ef8",
   "metadata": {},
   "source": [
    "**Q9**.\n",
    "\n",
    "1. **What is the IQR? What criteria are used to assess it?**\n",
    "\n",
    "2. . **Describe the various components of a box plot in detail? When will the lower whisker surpass the upper whisker in length? How can box plots be used to identify outliers?**"
   ]
  },
  {
   "cell_type": "markdown",
   "id": "9874cd59",
   "metadata": {},
   "source": [
    "1. \n",
    "    1. Q1 is the first quartile of the data, i.e., to say 25% of the data lies between minimum and Q1.\n",
    "    2. Q3 is the third quartile of the data, i.e., to say 75% of the data lies between minimum and Q3.\n",
    "    3. The difference between Q3 and Q1 is called the Inter-Quartile Range or IQR.\n",
    "\n",
    "2. \n",
    "    1. minimum is the minimum value in the dataset\n",
    "    2. maximum is the maximum value in the dataset.\n",
    "    3. So the difference between the two tells us about the range of dataset.\n",
    "    4. The median is the median (or centre point), also called second quartile, of the data (resulting from the fact that the data is ordered).\n",
    "    5. Q1 is the first quartile of the data, i.e., to say 25% of the data lies between minimum and Q1.\n",
    "    6.  Q3 is the third quartile of the data, i.e., to say 75%\n",
    "    7. When the data is left skewed, lower whisker will be longer than upper whisker.\n",
    "    8. To detect the outliers this method is used, we define a new range, let’s call it decision range, and any data point lying outside this range is considered as outlier and is accordingly dealt with. The range is as given below: Lower Bound: (Q1 - 1.5 * IQR)Upper Bound: (Q3 + 1.5 * IQR)\n",
    "    9. The difference between Q3 and Q1 is called the Inter-Quartile Range or IQR.\n"
   ]
  },
  {
   "cell_type": "markdown",
   "id": "dcf0dbc9",
   "metadata": {},
   "source": [
    "**Q10. Make brief notes on any two of the following:**\n",
    "\n",
    "1. **Data collected at regular intervals**\n",
    "\n",
    "2. **The gap between the quartiles**\n",
    "\n",
    "3. **Use a cross-tab**"
   ]
  },
  {
   "cell_type": "markdown",
   "id": "4055abc6",
   "metadata": {},
   "source": [
    "1. Data collected at regular intervals:\n",
    "     1. Interval data is one of the two types of discrete data.\n",
    "     2. An example of interval data is the data collected on a thermometer—its gradation or markings are equidistant.\n",
    "     3. Unlike ordinal data, interval data always take numerical values where the distance between two points on the scale is standardised and equal.\n",
    "\n",
    "\n",
    "2. The gap between the quartiles:\n",
    "      1. Q1 is the first quartile of the data, i.e., to say 25% of the data lies between minimum and Q1.\n",
    "      2. Q3 is the third quartile of the data, i.e., to say 75% of the data lies between minimum and Q3.\n",
    "      3. The difference between Q3 and Q1 is called the Inter-Quartile Range or IQR.\n"
   ]
  },
  {
   "cell_type": "markdown",
   "id": "010ba16c",
   "metadata": {},
   "source": [
    "**Q11.  Make a comparison between:**\n",
    "\n",
    "    1. **Data with nominal and ordinal values**\n",
    "\n",
    "    2. **Histogram and box plot**\n",
    "\n",
    "    3. **The average and median**"
   ]
  },
  {
   "cell_type": "markdown",
   "id": "238df257",
   "metadata": {},
   "source": [
    "* The average and median:\n",
    "        The mean (informally, the “average“) is found by adding all of the numbers together and dividing by the number of items in the set: 10 + 10 + 20 + 40 + 70 / 5 = 30. The median is found by ordering the set from lowest to highest and finding the exact middle. The median is just the middle number: 20\n",
    "        \n",
    "\n",
    "* Histogram and barplot:\n",
    "        Histograms and box plots are very similar in that they both help to visualize and describe numeric data. Although histograms are better in determining the underlying distribution of the data, box plots allow you to compare multiple data sets better than histograms as they are less detailed and take up less space.\n",
    "        \n"
   ]
  }
 ],
 "metadata": {
  "kernelspec": {
   "display_name": "Python 3 (ipykernel)",
   "language": "python",
   "name": "python3"
  },
  "language_info": {
   "codemirror_mode": {
    "name": "ipython",
    "version": 3
   },
   "file_extension": ".py",
   "mimetype": "text/x-python",
   "name": "python",
   "nbconvert_exporter": "python",
   "pygments_lexer": "ipython3",
   "version": "3.9.0"
  }
 },
 "nbformat": 4,
 "nbformat_minor": 5
}
