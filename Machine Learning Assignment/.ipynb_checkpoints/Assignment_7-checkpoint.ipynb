{
 "cells": [
  {
   "cell_type": "markdown",
   "id": "ee65fb54",
   "metadata": {},
   "source": [
    "**Q1. What is the definition of a target function? In the sense of a real-life example, express the target function. How is a target function&#39;s fitness assessed?**\n",
    "\n",
    "SOLUTION IN NEXT CELL:"
   ]
  },
  {
   "cell_type": "markdown",
   "id": "670c49fe",
   "metadata": {},
   "source": [
    " A target function, in machine learning, is a method for solving a problem that an AI algorithm parses its training data to find.The target function is essentially the formula that an algorithm feeds data to in order to calculate predictions.\n",
    "\n",
    "Analyzing the massive amounts of data related to its given problem, an AI derives understanding of previously unspecified rules by detecting consistencies in the data. The observations of inherent rules about how the studied subject operates inform the AI on how to process future data that does not include an output by applying this previously unknown function."
   ]
  },
  {
   "cell_type": "markdown",
   "id": "23308e3a",
   "metadata": {},
   "source": [
    "**Q2. What are predictive models, and how do they work? What are descriptive types, and how do you use them? Examples of both types of models should be provided. Distinguish between these two forms of models.**\n",
    "\n",
    "SOLUTION IN NEXT CELL:"
   ]
  },
  {
   "cell_type": "markdown",
   "id": "00bb9d48",
   "metadata": {},
   "source": [
    "1. Predictive modeling is usually practiced statistical technique to foretell future outcomes, these are solutions in terms of data mining technology to analyze past and recent data and produce a model to identify future behavior from data.\n",
    "    Predictive Modeling employs different regression algorithms and analytics or statistics to estimate the probability of an event using detection theory and largely employed in the field of Machine Learning(ML), and Artificial Intelligence(AI).\n",
    "    \n",
    "2. A descriptive model is used for tasks that would benefit from the insight gained from summarizing data in new and interesting ways. As opposed to predictive models that predict a target of interest, in a descriptive model, no single feature is more important than any other. In fact, because there is no target to learn, the process of training a descriptive model is called unsupervised learning.\n",
    "\n",
    "3. As opposed to predictive models that predict a target of interest, in a descriptive model, no single feature is more important than any other.\n",
    "    Predictive models have labels while descriptive models don't have labels"
   ]
  },
  {
   "cell_type": "markdown",
   "id": "f7c4d863",
   "metadata": {},
   "source": [
    "**Q3. Describe the method of assessing a classification model&#39;s efficiency in detail. Describe the various measurement parameters.**\n",
    "\n",
    "SOLUTION IN NEXT CELL:"
   ]
  },
  {
   "cell_type": "markdown",
   "id": "6165a1b2",
   "metadata": {},
   "source": [
    "1. Accuracy\n",
    "    Calculates what is the prediction accuracy of our model.\n",
    "```\n",
    "accuracy = No. of correct predictions/ Total no of predictions\n",
    "```\n",
    "\n",
    "2. Confusion Matrix:\n",
    "    It is a 2x2 matrix which has Actual and Predicted as Rows and Columns respectively.\n",
    "    ![confusion matrix](https://miro.medium.com/max/1068/1*DMto2jyxhZ8w-HGx14YMUg.png)\n",
    "3. Precision, Recall\n",
    "    Precision is the measure which states, among all the predicted positive class, how many are actually positive\n",
    "```\n",
    "Precision = True Positive/(True Positive + False Positive)\n",
    "```\n",
    "    Recall is the measure which states, among all the Positive classes how many are actually predicted correctly\n",
    "```\n",
    "Recall = True Positive/(True Positive + False Negative)\n",
    "```\n",
    "4. F1-score\n",
    "    F1 score is the harmonic mean of the precision and recall, where an F1 score reaches its best value at 1 (perfect precision and recall)\n",
    "```\n",
    "F1 Score = 2*Precision*Recall/(Precision+Recall)\n",
    "```\n",
    "5. AU-ROC\n",
    "    AU-ROC is the Area Under the Receiver Operating Curve, is a graph showing performance of a model, for all the values considered as threshold.\n",
    "    As AUROC is a graph it has its own X-axis and Y-axis, whereas X-axis is FPR and Y-axis is TPR\n",
    "\n",
    "    TPR = True Positive / (True Positive + False Negative)\n",
    "\n",
    "    FPR = False Positive / (False Positive + True Negative)\n",
    "    \n",
    "    ![AU-ROC Sample Curve](https://miro.medium.com/max/1400/1*6ZlYHml964gUztSEBJ9pCg.png)"
   ]
  },
  {
   "cell_type": "markdown",
   "id": "b4930f77",
   "metadata": {},
   "source": [
    "**Q4.**\n",
    "1. **In the sense of machine learning models, what is underfitting? What is the most common reason for underfitting?**\n",
    "2. **What does it mean to overfit? When is it going to happen?**\n",
    "3. **In the sense of model fitting, explain the bias-variance trade-off.**\n",
    "\n",
    "SOLUTION IN NEXT CELL:"
   ]
  },
  {
   "cell_type": "markdown",
   "id": "d916d773",
   "metadata": {},
   "source": [
    "1. Underfitting is a scenario in data science where a data model is unable to capture the relationship between the input and output variables accurately, generating a high error rate on both the training set and unseen data.\n",
    "2. Overfitting happens when a model learns the detail and noise in the training data to the extent that it negatively impacts the performance of the model on new data. This means that the noise or random fluctuations in the training data is picked up and learned as concepts by the model.\n",
    "3. The bias is known as the difference between the prediction of the values by the ML model and the correct value. Being high in biasing gives a large error in training as well as testing data. By high bias, the data predicted is in a straight line format, thus not fitting accurately in the data in the data set."
   ]
  },
  {
   "cell_type": "markdown",
   "id": "90ee571d",
   "metadata": {},
   "source": [
    "**Q5. Is it possible to boost the efficiency of a learning model? If so, please clarify how.**\n",
    "\n",
    "SOLUTION IN NEXT CELL:"
   ]
  },
  {
   "cell_type": "markdown",
   "id": "d2f43206",
   "metadata": {},
   "source": [
    "Efficiency of a Learning Model can be boosted in following ways:\n",
    "1. Add more data\n",
    "    * More data is always useful. It helps us capture all the variance that the data has.\n",
    "2. Feature engineering\n",
    "    * Adding new feature decreases bias on the expense of variance of the model. New features can help algorithms to explain variance of the model in more effective way.\n",
    "3. Feature selection\n",
    "    * This is one of the most important aspects of predictive modelling. it’s always advisable to choose important features in the model and build the model again only with important and significant features.\n",
    "4. Missing value and Outlier Treatment\n",
    "    * Outliers can deflect your model so badly that sometimes it becomes essential to treat these outliers.\n",
    "    * Missing values treatment can play a role in boosting performance\n",
    "5. Ensemble Models\n",
    "    * Ensemble modelling is one of the popular techniques in improving modelling outcomes. Bagging (Bootstrap Aggregating) and Boosting are some of the ways which can be used.\n",
    "6. Using the suitable Machine learning algorithm\n",
    "    * Choosing the right algorithm is a crucial step in building a better model.\n",
    "    * Some algorithms are just better suited to some data sets than others. Identifying the right type of algorithms is an iterative process though\n",
    "7. Data distribution and Parameter Tuning\n",
    "    * It is always better to explore the data efficiently. The data distribution might suggest transformation. \n",
    "    * The data might be following the gaussian function or some other family of function, in that case, we can apply algorithm with a little transformation to have better predictions."
   ]
  },
  {
   "cell_type": "markdown",
   "id": "1cd99abb",
   "metadata": {},
   "source": [
    "**Q6. How would you rate an unsupervised learning model&#39;s success? What are the most common success indicators for an unsupervised learning model?**\n",
    "\n",
    "SOLUTION IN NEXT CELL:"
   ]
  },
  {
   "cell_type": "markdown",
   "id": "e3ba3093",
   "metadata": {},
   "source": [
    "**Q7. Is it possible to use a classification model for numerical data or a regression model for categorical data with a classification model? Explain your answer.**\n",
    "\n",
    "SOLUTION IN NEXT CELL:"
   ]
  },
  {
   "cell_type": "markdown",
   "id": "84bacaec",
   "metadata": {},
   "source": [
    "**Q8. Describe the predictive modeling method for numerical values. What distinguishes it from categorical predictive modeling?**\n",
    "\n",
    "SOLUTION IN NEXT CELL:"
   ]
  },
  {
   "cell_type": "markdown",
   "id": "47ebefc2",
   "metadata": {},
   "source": [
    "* Predictive modeling is a statistical technique using machine learning and data mining to predict and forecast likely future outcomes with the aid of historical and existing data. It works by analyzing current and historical data and projecting what it learns on a model generated to forecast likely outcomes.\n",
    "\n",
    "* Classification is the process of identifying the category or class label of the new observation to which it belongs.Predication is the process of identifying the missing or unavailable numerical data for a new observation. That is the key difference between classification and prediction."
   ]
  },
  {
   "cell_type": "markdown",
   "id": "76030338",
   "metadata": {},
   "source": [
    "**Q9. The following data were collected when using a classification model to predict the malignancy of a group of patients&#39; tumors:**\n",
    "1. **Accurate estimates – 15 cancerous, 75 benign**\n",
    "2. **Wrong predictions – 3 cancerous, 7 benign**\n",
    "**Determine the model&#39;s error rate, Kappa value, sensitivity, precision, and F-measure.**\n",
    "\n",
    "SOLUTION IN NEXT CELL:"
   ]
  },
  {
   "cell_type": "markdown",
   "id": "5900e052",
   "metadata": {},
   "source": [
    "For the given example:\n",
    "<br>\n",
    "|headings       |Predicted Postitive|Predicted Negative|\n",
    "|---------------|-------------------|------------------|\n",
    "|Actual Positive|15                 |7                 |\n",
    "|Actual Negative|3                  |75                |\n",
    "\n",
    "1. Error Rate = Incorrect Predictions/Total predictions<br>\n",
    "              = 10/100\n",
    "              = 0.1\n",
    "2. Kappa value\n",
    "    When the true standard is unknown, kappa value is given by :\n",
    "```\n",
    "kappa = (po - pe)/(1-pe)\n",
    "        where\n",
    "        po is the observed proportion of agreement\n",
    "        pe is the expected proportion of times k appraisers agree\n",
    "```\n"
   ]
  },
  {
   "cell_type": "markdown",
   "id": "aa209e0a",
   "metadata": {},
   "source": [
    "**Q10. Make quick notes on:**\n",
    "1. **The process of holding out**\n",
    "2. **Cross-validation by tenfold**\n",
    "3. **Adjusting the parameters**\n",
    "\n",
    "SOLUTION IN NEXT CELL:"
   ]
  },
  {
   "cell_type": "markdown",
   "id": "78f7136c",
   "metadata": {},
   "source": [
    "* The process of holding out:\n",
    "    The hold-out method for training machine learning model is the process of splitting the data in different splits and using one split for training the model and other splits for validating and testing the models. The hold-out method is used for both model evaluation and model selection.\n",
    "\n",
    "* Cross-validation by tenfold: 10-fold cross validation would perform the fitting procedure a total of ten times, with each fit being performed on a training set consisting of 90% of the total training set selected at random, with the remaining 10% used as a hold out set for validation.\n",
    "\n",
    "* Adjusting the parameters:\n",
    "    A fancy name for training: the selection of parameter values, which are optimal in some desired sense (eg. minimize an objective function you choose over a dataset you choose). The parameters are the weights and biases of the network\n"
   ]
  },
  {
   "cell_type": "markdown",
   "id": "d9aefbcf",
   "metadata": {},
   "source": [
    "**Q11. Define the following terms:**\n",
    "1. **Purity vs. Silhouette width**\n",
    "2. **Boosting vs. Bagging**\n",
    "3. **The eager learner vs. the lazy learner**\n",
    "\n",
    "SOLUTION IN NEXT CELL:"
   ]
  },
  {
   "cell_type": "markdown",
   "id": "0130809f",
   "metadata": {},
   "source": [
    "* Purity vs Silhouette width:\n",
    "      Purity is a measure of the extent to which clusters contain a single class. Its calculation can be thought of as follows: For each cluster, count the number of data points from the most common class in said cluster.\n",
    "      The silhouette width is also an estimate of the average distance between clusters. Its value is comprised between 1 and -1 with a value of 1 indicating a very good cluster.\n",
    "\n",
    "* Boosting vs. Bagging:\n",
    "      Bagging is a way to decrease the variance in the prediction by generating additional data for training from dataset using combinations with repetitions to produce multi-sets of the original data.\n",
    "        Boosting is an iterative technique which adjusts the weight of an observation based on the last classification.\n",
    "\n",
    "* The eager learner vs. the lazy learner:\n",
    "      A lazy learner delays abstracting from the data until it is asked to make a prediction.\n",
    "      while an eager learner abstracts away from the data during training and uses this abstraction to make predictions rather than directly compare queries with instances in the dataset.\n"
   ]
  }
 ],
 "metadata": {
  "kernelspec": {
   "display_name": "Python 3 (ipykernel)",
   "language": "python",
   "name": "python3"
  },
  "language_info": {
   "codemirror_mode": {
    "name": "ipython",
    "version": 3
   },
   "file_extension": ".py",
   "mimetype": "text/x-python",
   "name": "python",
   "nbconvert_exporter": "python",
   "pygments_lexer": "ipython3",
   "version": "3.9.0"
  }
 },
 "nbformat": 4,
 "nbformat_minor": 5
}
