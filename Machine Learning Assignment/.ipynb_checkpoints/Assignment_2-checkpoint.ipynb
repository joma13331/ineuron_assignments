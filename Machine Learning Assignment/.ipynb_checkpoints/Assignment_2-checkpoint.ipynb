{
 "cells": [
  {
   "cell_type": "markdown",
   "id": "7ce79baa",
   "metadata": {},
   "source": [
    "**Q1. What is the concept of human learning? Please give two examples.**\n",
    "\n",
    "SOLUTION IN NEXT CELL:"
   ]
  },
  {
   "cell_type": "markdown",
   "id": "af674465",
   "metadata": {},
   "source": [
    "* Human learning is the form of learning which requires higher order mental processes like thinking, reasoning, intelligence, etc.\n",
    "* We learn different concepts from childhood. For example:\n",
    "\n",
    "    1. Learning through Association - Classical Conditioning.\n",
    "    2. Learning through consequences – Operant Conditioning.\n",
    "    3. Learning through observation – Modeling/Observational Learning.\n"
   ]
  },
  {
   "cell_type": "markdown",
   "id": "488f8c2e",
   "metadata": {},
   "source": [
    "**Q2. What different forms of human learning are there? Are there any machine learning equivalents?**\n",
    "\n",
    "SOLUTION IN NEXT CELL:"
   ]
  },
  {
   "cell_type": "markdown",
   "id": "770693d5",
   "metadata": {},
   "source": [
    "1. Learning through Association - Classical Conditioning. **ML equivalent Unsupervised Learning**\n",
    "2. Learning through consequences – Operant Conditioning. **ML equivalentSupervised Learning**\n",
    "3. Learning through observation – Modeling/Observational Learning. **ML equivalent Reinforcement Learning**"
   ]
  },
  {
   "cell_type": "markdown",
   "id": "ff250295",
   "metadata": {},
   "source": [
    "**Q3. What is machine learning, and how does it work? What are the key responsibilities of machine learning?**\n",
    "\n",
    "SOLUTION IN NEXT CELL:"
   ]
  },
  {
   "cell_type": "markdown",
   "id": "f4b9dfc3",
   "metadata": {},
   "source": [
    "* Machine learning is a subset of artificial intelligence (AI).\n",
    "* It is focused on teaching computers to learn from data and to improve with experience – instead of being explicitly programmed to do so.\n",
    "* In machine learning, algorithms are trained to find patterns and correlations in large data sets and to make the best decisions and predictions based on that analysis.\n",
    "\n",
    "* It works by exploring data and identifying patterns, and involves minimal human intervention. \n",
    "\n",
    "* Roles and responsibilities of a machine learning engineer are:\n",
    "\n",
    "    1. Designing ML systems.\n",
    "    2. Researching and implementing ML algorithms and tools. Selecting appropriate data sets.\n",
    "    3. Picking appropriate data representation methods. Identifying differences in data distribution that affects model performance. Verifying data quality.\n"
   ]
  },
  {
   "cell_type": "markdown",
   "id": "56fa95b4",
   "metadata": {},
   "source": [
    "**Q4. Define the terms &quot;penalty&quot; and &quot;reward&quot; in the context of reinforcement learning.**\n",
    "\n",
    "SOLUTION IN NEXT CELL:"
   ]
  },
  {
   "cell_type": "markdown",
   "id": "5b7ed1ac",
   "metadata": {},
   "source": [
    "* A Reinforcement Learning Algorithm, which may also be referred to as an agent, learns by interacting with its environment.\n",
    "* The agent receives rewards by performing correctly and penalties for performing incorrectly.\n",
    "* The agent learns without intervention from a human by maximizing its reward and minimizing its penalty."
   ]
  },
  {
   "cell_type": "markdown",
   "id": "c2279a2d",
   "metadata": {},
   "source": [
    "**Q5. Explain the term &quot;learning as a search&quot;?**\n",
    "\n",
    "SOLUTION IN NEXT CELL:"
   ]
  },
  {
   "cell_type": "markdown",
   "id": "8bb56178",
   "metadata": {},
   "source": [
    "Learning can be viewed as a search through the space of all sentences in a concept description language for a sentence that best describes the data. Alternatively, it can be viewed as a search through all hypotheses in a hypothesis space."
   ]
  },
  {
   "cell_type": "markdown",
   "id": "b6c8f4f1",
   "metadata": {},
   "source": [
    "**Q6. What are the various goals of machine learning? What is the relationship between these and human learning?**\n",
    "\n",
    "SOLUTION IN NEXT CELL:"
   ]
  },
  {
   "cell_type": "markdown",
   "id": "6f111475",
   "metadata": {},
   "source": [
    "1. The Goal of machine learning, closely coupled with the goal of AI, is to achieve a through understanding about the nature of learning process (both human learning and other forms of learning), about the computational aspects of learning behaviors, and to implant the learning capability in computer systems.\n",
    "\n",
    "2. Humans have the ability to learn, however with the progress in artificial intelligence, machine learning has become a resource which can augment or even replace human learning. Learning does not happen all at once, but it builds upon and is shaped by previous knowledge."
   ]
  },
  {
   "cell_type": "markdown",
   "id": "7ff76aaa",
   "metadata": {},
   "source": [
    "**Q7. Illustrate the various elements of machine learning using a real-life illustration.**\n",
    "\n",
    "SOLUTION IN NEXT CELL:"
   ]
  },
  {
   "cell_type": "markdown",
   "id": "6851a204",
   "metadata": {},
   "source": [
    "In order to understand the various elements of Machine Learning we will look at the case study of Spam Detection.\n",
    "1. Task - Before starting any ML solution we should first take into consideration what the output of our task is, whether it is easier to achieve the solution using traditional means or not. In our case study writing all the rules for spam using traditional programming wont't be realistic hence ML solution is the right way to go.\n",
    "2. Data - In order to create a ML model which can solve our problem we nee the datasets which is optimal for our problem. In our case study this will be a collection of emails classifed as spam or not.\n",
    "3. Model - The Machine Learning Model which we will train to have parameters which can classify spam or not.\n",
    "4. Loss Function - This is the function which is generated from tha actual classification(spam or not) and the predicted classsification. Weaim to reduce this function to ensure that our model predicts well\n",
    "5. Learning Algorithm - The algorithm which is used to create the ML model.\n",
    "6. Evaluation - We need to obtain some score which will inform whether our model performs as per our expectations or to ompare different models and select the better one"
   ]
  },
  {
   "cell_type": "markdown",
   "id": "dc58bf31",
   "metadata": {},
   "source": [
    "**Q8. Provide an example of the abstraction method.**\n",
    "\n",
    "SOLUTION IN NEXT CELL:"
   ]
  },
  {
   "cell_type": "markdown",
   "id": "baf30a3a",
   "metadata": {},
   "source": [
    "In Machine Learning, Abstraction is supported primarily at the level of modules. This can be justified in two ways: first, Data abstraction is mostly a question of program interfaces and therefore it arises naturally at the point where we have to consider program composition and modules."
   ]
  },
  {
   "cell_type": "markdown",
   "id": "1e002b97",
   "metadata": {},
   "source": [
    "**Q9. What is the concept of generalization? What function does it play in the machine learning process?**\n",
    "\n",
    "SOLUTION IN NEXT CELL:"
   ]
  },
  {
   "cell_type": "markdown",
   "id": "2273b45a",
   "metadata": {},
   "source": [
    "Generalization refers to your model's ability to adapt properly to new, previously unseen data, drawn from the same distribution as the one used to create the model.\n",
    "\n",
    "In machine learning, generalization is a definition to demonstrate how well is a trained model to classify or forecast unseen data.This issue can result to classify an actual dog image as a cat from the unseen dataset. Therefore, data diversity is very important factor in order to make a good prediction."
   ]
  },
  {
   "cell_type": "markdown",
   "id": "6618ba3e",
   "metadata": {},
   "source": [
    "**Q10. What is classification, exactly? What are the main distinctions between classification and regression?**\n",
    "\n",
    "SOLUTION IN NEXT CELL:"
   ]
  },
  {
   "cell_type": "markdown",
   "id": "f5bb61b3",
   "metadata": {},
   "source": [
    "In Machine Learning, Classification refers to a predictive modeling problem where a class label is predicted for a given example of input data.Classification is the task of predicting a discrete class label. Whereas Regression is the task of predicting a continuous quantity."
   ]
  },
  {
   "cell_type": "markdown",
   "id": "3c7e14f6",
   "metadata": {},
   "source": [
    "**Q11. What is regression, and how does it work? Give an example of a real-world problem that was solved using regression.**\n",
    "\n",
    "SOLUTION IN NEXT CELL:"
   ]
  },
  {
   "cell_type": "markdown",
   "id": "aa4acef6",
   "metadata": {},
   "source": [
    "Regression is a Supervised Machine Learning technique which is used to predict continuous values. The ultimate goal of a regression algorithm is to plot a best-fit line or a curve between the data.\n",
    "\n",
    "The three main metrics that are used for evaluating the trained regression model are Variance, Bias and Error.\n",
    "\n",
    "A simple linear regression real life example could mean you finding a relationship between the revenue and temperature, with a sample size for revenue as the dependent variable. In case of multiple variable regression, you can find the relationship between temperature, pricing and number of workers to the revenue."
   ]
  },
  {
   "cell_type": "markdown",
   "id": "18de9c16",
   "metadata": {},
   "source": [
    "**Q12. Describe the clustering mechanism in detail.**\n",
    "\n",
    "SOLUTION IN NEXT CELL:"
   ]
  },
  {
   "cell_type": "markdown",
   "id": "5c03c87f",
   "metadata": {},
   "source": [
    "Clustering is the task of dividing the population or data points into a number of groups such that data points in the same groups are more similar to other data points in the same group than those in other groups. In simple words, the aim is to segregate groups with similar traits and assign them into clusters."
   ]
  },
  {
   "cell_type": "markdown",
   "id": "b9d0041a",
   "metadata": {},
   "source": [
    "**Q13. Make brief observations on two of the following topics:**\n",
    "\n",
    "1. **Machine learning algorithms are used**\n",
    "2. **Studying under supervision**\n",
    "3. **Studying without supervision**\n",
    "4. **Reinforcement learning is a form of learning based on positive reinforcement.**\n",
    "\n",
    "SOLUTION IN NEXT CELL:"
   ]
  },
  {
   "cell_type": "markdown",
   "id": "98d2d0de",
   "metadata": {},
   "source": [
    "1. **Machine learning algorithms are used**: At its Most basic, Machine Learning uses programmed algorithms that receive and analyse input data to predict output values within an acceptable range. As new data is fed to these algorithms, they learn and optimise their operations to improve performance, developing intelligence over time.\n",
    "\n",
    "2. **Studying Under Supervision**: In machine learning, there are two important categories- Supervised and Unsupervised learning.Supervised learning, an algorithm learns from a training dataset. We know the correct answers or desired output, the algorithm makes predictions using the given dataset and is corrected by the “supervisor”."
   ]
  }
 ],
 "metadata": {
  "kernelspec": {
   "display_name": "Python 3 (ipykernel)",
   "language": "python",
   "name": "python3"
  },
  "language_info": {
   "codemirror_mode": {
    "name": "ipython",
    "version": 3
   },
   "file_extension": ".py",
   "mimetype": "text/x-python",
   "name": "python",
   "nbconvert_exporter": "python",
   "pygments_lexer": "ipython3",
   "version": "3.9.0"
  }
 },
 "nbformat": 4,
 "nbformat_minor": 5
}
